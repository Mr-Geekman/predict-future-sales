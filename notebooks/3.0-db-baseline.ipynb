{
 "cells": [
  {
   "cell_type": "code",
   "execution_count": 1,
   "metadata": {
    "ExecuteTime": {
     "end_time": "2020-08-27T08:29:46.974998Z",
     "start_time": "2020-08-27T08:29:45.257430Z"
    }
   },
   "outputs": [],
   "source": [
    "import numpy as np\n",
    "import pandas as pd\n",
    "import scipy.stats as sps\n",
    "\n",
    "import matplotlib.pyplot as plt\n",
    "import seaborn as sns\n",
    "from tqdm.notebook import tqdm\n",
    "\n",
    "sns.set(font_scale=1.2)\n",
    "%matplotlib inline"
   ]
  },
  {
   "cell_type": "markdown",
   "metadata": {},
   "source": [
    "# Baseline"
   ]
  },
  {
   "cell_type": "markdown",
   "metadata": {},
   "source": [
    "In this notebook I will provide a baseline solution according to advice 1, 2 in the course.\n",
    "\n",
    "Advice 1:\n",
    "> Competition data is rather challenging, so the sooner you get yourself familiar with it - the better. You can start with submitting sample_submission.csv from \"Data\" page on Kaggle and try submitting different constants.\n",
    "\n",
    "Advice 2:\n",
    "\n",
    "> A good exercise is to reproduce previous_value_benchmark. As the name suggest - in this benchmark for the each shop/item pair our predictions are just monthly sales from the previous month, i.e. October 2015.\n",
    "\n",
    "> The most important step at reproducing this score is correctly aggregating daily data and constructing monthly sales data frame. You need to get [lagged](https://en.wikipedia.org/wiki/Lag_operator) values, fill NaNs with zeros and clip the values into [0,20] range. If you do it correctly, you'll get precisely 1.16777 on the public leaderboard.\n",
    "\n",
    "> Generating features like this is a necessary basis for more complex models. Also, if you decide to fit some model, don't forget to clip the target into [0,20] range, it makes a big difference."
   ]
  },
  {
   "cell_type": "markdown",
   "metadata": {},
   "source": [
    "## Sample submission"
   ]
  },
  {
   "cell_type": "markdown",
   "metadata": {},
   "source": [
    "According to advice 1 just send sample submission."
   ]
  },
  {
   "cell_type": "code",
   "execution_count": 2,
   "metadata": {
    "ExecuteTime": {
     "end_time": "2020-08-27T08:34:34.877199Z",
     "start_time": "2020-08-27T08:34:34.802446Z"
    }
   },
   "outputs": [],
   "source": [
    "submission = pd.read_csv('../data/raw/sample_submission.csv')"
   ]
  },
  {
   "cell_type": "code",
   "execution_count": 3,
   "metadata": {
    "ExecuteTime": {
     "end_time": "2020-08-27T08:34:39.410276Z",
     "start_time": "2020-08-27T08:34:39.388612Z"
    }
   },
   "outputs": [
    {
     "data": {
      "text/html": [
       "<div>\n",
       "<style scoped>\n",
       "    .dataframe tbody tr th:only-of-type {\n",
       "        vertical-align: middle;\n",
       "    }\n",
       "\n",
       "    .dataframe tbody tr th {\n",
       "        vertical-align: top;\n",
       "    }\n",
       "\n",
       "    .dataframe thead th {\n",
       "        text-align: right;\n",
       "    }\n",
       "</style>\n",
       "<table border=\"1\" class=\"dataframe\">\n",
       "  <thead>\n",
       "    <tr style=\"text-align: right;\">\n",
       "      <th></th>\n",
       "      <th>ID</th>\n",
       "      <th>item_cnt_month</th>\n",
       "    </tr>\n",
       "  </thead>\n",
       "  <tbody>\n",
       "    <tr>\n",
       "      <th>0</th>\n",
       "      <td>0</td>\n",
       "      <td>0.5</td>\n",
       "    </tr>\n",
       "    <tr>\n",
       "      <th>1</th>\n",
       "      <td>1</td>\n",
       "      <td>0.5</td>\n",
       "    </tr>\n",
       "    <tr>\n",
       "      <th>2</th>\n",
       "      <td>2</td>\n",
       "      <td>0.5</td>\n",
       "    </tr>\n",
       "    <tr>\n",
       "      <th>3</th>\n",
       "      <td>3</td>\n",
       "      <td>0.5</td>\n",
       "    </tr>\n",
       "    <tr>\n",
       "      <th>4</th>\n",
       "      <td>4</td>\n",
       "      <td>0.5</td>\n",
       "    </tr>\n",
       "  </tbody>\n",
       "</table>\n",
       "</div>"
      ],
      "text/plain": [
       "   ID  item_cnt_month\n",
       "0   0             0.5\n",
       "1   1             0.5\n",
       "2   2             0.5\n",
       "3   3             0.5\n",
       "4   4             0.5"
      ]
     },
     "execution_count": 3,
     "metadata": {},
     "output_type": "execute_result"
    }
   ],
   "source": [
    "submission.head()"
   ]
  },
  {
   "cell_type": "markdown",
   "metadata": {},
   "source": [
    "Check values of `item_cnt_month`."
   ]
  },
  {
   "cell_type": "code",
   "execution_count": 4,
   "metadata": {
    "ExecuteTime": {
     "end_time": "2020-08-27T08:35:11.280125Z",
     "start_time": "2020-08-27T08:35:11.268022Z"
    }
   },
   "outputs": [
    {
     "data": {
      "text/plain": [
       "array([0.5])"
      ]
     },
     "execution_count": 4,
     "metadata": {},
     "output_type": "execute_result"
    }
   ],
   "source": [
    "submission.item_cnt_month.unique()"
   ]
  },
  {
   "cell_type": "markdown",
   "metadata": {},
   "source": [
    "As we can see, we predict just one constant value. Send it to the system using `kaggle` utility."
   ]
  },
  {
   "cell_type": "code",
   "execution_count": 6,
   "metadata": {
    "ExecuteTime": {
     "end_time": "2020-08-27T08:37:41.988756Z",
     "start_time": "2020-08-27T08:37:35.752737Z"
    }
   },
   "outputs": [
    {
     "name": "stdout",
     "output_type": "stream",
     "text": [
      "100%|███████████████████████████████████████| 2.14M/2.14M [00:04<00:00, 457kB/s]\n",
      "Successfully submitted to Predict Future Sales"
     ]
    }
   ],
   "source": [
    "!kaggle competitions submit competitive-data-science-predict-future-sales -f ../data/raw/sample_submission.csv -m \"Sample submission\""
   ]
  },
  {
   "cell_type": "code",
   "execution_count": 7,
   "metadata": {
    "ExecuteTime": {
     "end_time": "2020-08-27T08:38:22.094412Z",
     "start_time": "2020-08-27T08:38:21.433769Z"
    }
   },
   "outputs": [
    {
     "name": "stdout",
     "output_type": "stream",
     "text": [
      "fileName               date                 description        status    publicScore  privateScore  \r\n",
      "---------------------  -------------------  -----------------  --------  -----------  ------------  \r\n",
      "sample_submission.csv  2020-08-27 08:38:17  Sample submission  complete  1.23646      None          \r\n"
     ]
    }
   ],
   "source": [
    "!kaggle competitions submissions competitive-data-science-predict-future-sales"
   ]
  },
  {
   "cell_type": "markdown",
   "metadata": {},
   "source": [
    "We got $1.23646$ on the liderboard."
   ]
  },
  {
   "cell_type": "markdown",
   "metadata": {},
   "source": [
    "## Previous value benchmark"
   ]
  },
  {
   "cell_type": "markdown",
   "metadata": {},
   "source": [
    "According to advice 2 for each `item_id`, `shop_id` send prediction for the previous month and clip the value within [0, 20]."
   ]
  },
  {
   "cell_type": "code",
   "execution_count": 8,
   "metadata": {
    "ExecuteTime": {
     "end_time": "2020-08-27T08:42:18.036978Z",
     "start_time": "2020-08-27T08:41:06.319676Z"
    }
   },
   "outputs": [
    {
     "data": {
      "text/html": [
       "<div>\n",
       "<style scoped>\n",
       "    .dataframe tbody tr th:only-of-type {\n",
       "        vertical-align: middle;\n",
       "    }\n",
       "\n",
       "    .dataframe tbody tr th {\n",
       "        vertical-align: top;\n",
       "    }\n",
       "\n",
       "    .dataframe thead th {\n",
       "        text-align: right;\n",
       "    }\n",
       "</style>\n",
       "<table border=\"1\" class=\"dataframe\">\n",
       "  <thead>\n",
       "    <tr style=\"text-align: right;\">\n",
       "      <th></th>\n",
       "      <th>num_days</th>\n",
       "      <th>month</th>\n",
       "      <th>year</th>\n",
       "      <th>num_holidays</th>\n",
       "      <th>num_not_working_days</th>\n",
       "      <th>longest_sequence_without_holidays</th>\n",
       "      <th>fraction_non_even_mean_lag_1</th>\n",
       "      <th>price_mean_lag_1</th>\n",
       "      <th>price_nunique_lag_1</th>\n",
       "      <th>price_std_lag_1</th>\n",
       "      <th>...</th>\n",
       "      <th>target_lag_12</th>\n",
       "      <th>target_item_lag_12</th>\n",
       "      <th>target_shop_lag_12</th>\n",
       "      <th>item_name</th>\n",
       "      <th>item_full_category_name</th>\n",
       "      <th>item_category_name</th>\n",
       "      <th>item_subcategory_name</th>\n",
       "      <th>shop_name</th>\n",
       "      <th>city</th>\n",
       "      <th>num_residents</th>\n",
       "    </tr>\n",
       "  </thead>\n",
       "  <tbody>\n",
       "    <tr>\n",
       "      <th>0</th>\n",
       "      <td>31</td>\n",
       "      <td>1</td>\n",
       "      <td>2014</td>\n",
       "      <td>8</td>\n",
       "      <td>14</td>\n",
       "      <td>23</td>\n",
       "      <td>0.066409</td>\n",
       "      <td>741.5607</td>\n",
       "      <td>3.0</td>\n",
       "      <td>42.685207</td>\n",
       "      <td>...</td>\n",
       "      <td>0.0</td>\n",
       "      <td>0.0</td>\n",
       "      <td>0.0</td>\n",
       "      <td>ГАДКИЙ Я 1-2 (BD)</td>\n",
       "      <td>Кино - Blu-Ray</td>\n",
       "      <td>Кино</td>\n",
       "      <td>Blu-Ray</td>\n",
       "      <td>Химки ТЦ \"Мега\"</td>\n",
       "      <td>Химки</td>\n",
       "      <td>259550.0</td>\n",
       "    </tr>\n",
       "    <tr>\n",
       "      <th>1</th>\n",
       "      <td>31</td>\n",
       "      <td>1</td>\n",
       "      <td>2014</td>\n",
       "      <td>8</td>\n",
       "      <td>14</td>\n",
       "      <td>23</td>\n",
       "      <td>0.374609</td>\n",
       "      <td>1599.0000</td>\n",
       "      <td>1.0</td>\n",
       "      <td>0.000000</td>\n",
       "      <td>...</td>\n",
       "      <td>0.0</td>\n",
       "      <td>0.0</td>\n",
       "      <td>0.0</td>\n",
       "      <td>ГАДКИЙ Я 1-2 (3D BD)</td>\n",
       "      <td>Кино - Blu-Ray 3D</td>\n",
       "      <td>Кино</td>\n",
       "      <td>Blu-Ray 3D</td>\n",
       "      <td>Химки ТЦ \"Мега\"</td>\n",
       "      <td>Химки</td>\n",
       "      <td>259550.0</td>\n",
       "    </tr>\n",
       "    <tr>\n",
       "      <th>2</th>\n",
       "      <td>31</td>\n",
       "      <td>1</td>\n",
       "      <td>2014</td>\n",
       "      <td>8</td>\n",
       "      <td>14</td>\n",
       "      <td>23</td>\n",
       "      <td>0.247979</td>\n",
       "      <td>392.3475</td>\n",
       "      <td>2.0</td>\n",
       "      <td>29.158052</td>\n",
       "      <td>...</td>\n",
       "      <td>0.0</td>\n",
       "      <td>0.0</td>\n",
       "      <td>0.0</td>\n",
       "      <td>ГАДКИЙ Я 2</td>\n",
       "      <td>Кино - DVD</td>\n",
       "      <td>Кино</td>\n",
       "      <td>DVD</td>\n",
       "      <td>Химки ТЦ \"Мега\"</td>\n",
       "      <td>Химки</td>\n",
       "      <td>259550.0</td>\n",
       "    </tr>\n",
       "    <tr>\n",
       "      <th>3</th>\n",
       "      <td>31</td>\n",
       "      <td>1</td>\n",
       "      <td>2014</td>\n",
       "      <td>8</td>\n",
       "      <td>14</td>\n",
       "      <td>23</td>\n",
       "      <td>0.136028</td>\n",
       "      <td>682.0333</td>\n",
       "      <td>4.0</td>\n",
       "      <td>63.386723</td>\n",
       "      <td>...</td>\n",
       "      <td>0.0</td>\n",
       "      <td>0.0</td>\n",
       "      <td>0.0</td>\n",
       "      <td>ГАДКИЙ Я 2 (BD)</td>\n",
       "      <td>Кино - Blu-Ray</td>\n",
       "      <td>Кино</td>\n",
       "      <td>Blu-Ray</td>\n",
       "      <td>Химки ТЦ \"Мега\"</td>\n",
       "      <td>Химки</td>\n",
       "      <td>259550.0</td>\n",
       "    </tr>\n",
       "    <tr>\n",
       "      <th>4</th>\n",
       "      <td>31</td>\n",
       "      <td>1</td>\n",
       "      <td>2014</td>\n",
       "      <td>8</td>\n",
       "      <td>14</td>\n",
       "      <td>23</td>\n",
       "      <td>0.348627</td>\n",
       "      <td>266.0000</td>\n",
       "      <td>2.0</td>\n",
       "      <td>66.000000</td>\n",
       "      <td>...</td>\n",
       "      <td>0.0</td>\n",
       "      <td>0.0</td>\n",
       "      <td>0.0</td>\n",
       "      <td>Высоцкий Владимир  Спасибо, что живой (mp3-CD)...</td>\n",
       "      <td>Музыка - MP3</td>\n",
       "      <td>Музыка</td>\n",
       "      <td>MP3</td>\n",
       "      <td>Химки ТЦ \"Мега\"</td>\n",
       "      <td>Химки</td>\n",
       "      <td>259550.0</td>\n",
       "    </tr>\n",
       "  </tbody>\n",
       "</table>\n",
       "<p>5 rows × 55 columns</p>\n",
       "</div>"
      ],
      "text/plain": [
       "   num_days  month  year  num_holidays  num_not_working_days  \\\n",
       "0        31      1  2014             8                    14   \n",
       "1        31      1  2014             8                    14   \n",
       "2        31      1  2014             8                    14   \n",
       "3        31      1  2014             8                    14   \n",
       "4        31      1  2014             8                    14   \n",
       "\n",
       "   longest_sequence_without_holidays  fraction_non_even_mean_lag_1  \\\n",
       "0                                 23                      0.066409   \n",
       "1                                 23                      0.374609   \n",
       "2                                 23                      0.247979   \n",
       "3                                 23                      0.136028   \n",
       "4                                 23                      0.348627   \n",
       "\n",
       "   price_mean_lag_1  price_nunique_lag_1  price_std_lag_1  ...  target_lag_12  \\\n",
       "0          741.5607                  3.0        42.685207  ...            0.0   \n",
       "1         1599.0000                  1.0         0.000000  ...            0.0   \n",
       "2          392.3475                  2.0        29.158052  ...            0.0   \n",
       "3          682.0333                  4.0        63.386723  ...            0.0   \n",
       "4          266.0000                  2.0        66.000000  ...            0.0   \n",
       "\n",
       "   target_item_lag_12  target_shop_lag_12  \\\n",
       "0                 0.0                 0.0   \n",
       "1                 0.0                 0.0   \n",
       "2                 0.0                 0.0   \n",
       "3                 0.0                 0.0   \n",
       "4                 0.0                 0.0   \n",
       "\n",
       "                                           item_name  item_full_category_name  \\\n",
       "0                                  ГАДКИЙ Я 1-2 (BD)           Кино - Blu-Ray   \n",
       "1                               ГАДКИЙ Я 1-2 (3D BD)        Кино - Blu-Ray 3D   \n",
       "2                                         ГАДКИЙ Я 2               Кино - DVD   \n",
       "3                                    ГАДКИЙ Я 2 (BD)           Кино - Blu-Ray   \n",
       "4  Высоцкий Владимир  Спасибо, что живой (mp3-CD)...             Музыка - MP3   \n",
       "\n",
       "   item_category_name  item_subcategory_name        shop_name   city  \\\n",
       "0                Кино                Blu-Ray  Химки ТЦ \"Мега\"  Химки   \n",
       "1                Кино             Blu-Ray 3D  Химки ТЦ \"Мега\"  Химки   \n",
       "2                Кино                    DVD  Химки ТЦ \"Мега\"  Химки   \n",
       "3                Кино                Blu-Ray  Химки ТЦ \"Мега\"  Химки   \n",
       "4              Музыка                    MP3  Химки ТЦ \"Мега\"  Химки   \n",
       "\n",
       "   num_residents  \n",
       "0       259550.0  \n",
       "1       259550.0  \n",
       "2       259550.0  \n",
       "3       259550.0  \n",
       "4       259550.0  \n",
       "\n",
       "[5 rows x 55 columns]"
      ]
     },
     "execution_count": 8,
     "metadata": {},
     "output_type": "execute_result"
    }
   ],
   "source": [
    "train = pd.read_csv('../data/processed/train.csv')\n",
    "train.head()"
   ]
  },
  {
   "cell_type": "code",
   "execution_count": null,
   "metadata": {},
   "outputs": [],
   "source": []
  }
 ],
 "metadata": {
  "kernelspec": {
   "display_name": "Python 3",
   "language": "python",
   "name": "python3"
  },
  "language_info": {
   "codemirror_mode": {
    "name": "ipython",
    "version": 3
   },
   "file_extension": ".py",
   "mimetype": "text/x-python",
   "name": "python",
   "nbconvert_exporter": "python",
   "pygments_lexer": "ipython3",
   "version": "3.8.5"
  }
 },
 "nbformat": 4,
 "nbformat_minor": 4
}
