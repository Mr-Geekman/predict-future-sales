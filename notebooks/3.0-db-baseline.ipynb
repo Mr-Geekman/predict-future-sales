{
 "cells": [
  {
   "cell_type": "code",
   "execution_count": 1,
   "metadata": {
    "ExecuteTime": {
     "end_time": "2020-08-27T11:01:12.566908Z",
     "start_time": "2020-08-27T11:01:11.407523Z"
    }
   },
   "outputs": [],
   "source": [
    "import numpy as np\n",
    "import pandas as pd\n",
    "import scipy.stats as sps\n",
    "\n",
    "import matplotlib.pyplot as plt\n",
    "import seaborn as sns\n",
    "from tqdm.notebook import tqdm\n",
    "\n",
    "sns.set(font_scale=1.2)\n",
    "%matplotlib inline"
   ]
  },
  {
   "cell_type": "markdown",
   "metadata": {},
   "source": [
    "# Baseline"
   ]
  },
  {
   "cell_type": "markdown",
   "metadata": {},
   "source": [
    "In this notebook I will provide a baseline solution according to advice 1, 2 in the course.\n",
    "\n",
    "Advice 1:\n",
    "> Competition data is rather challenging, so the sooner you get yourself familiar with it - the better. You can start with submitting sample_submission.csv from \"Data\" page on Kaggle and try submitting different constants.\n",
    "\n",
    "Advice 2:\n",
    "\n",
    "> A good exercise is to reproduce previous_value_benchmark. As the name suggest - in this benchmark for the each shop/item pair our predictions are just monthly sales from the previous month, i.e. October 2015.\n",
    "\n",
    "> The most important step at reproducing this score is correctly aggregating daily data and constructing monthly sales data frame. You need to get [lagged](https://en.wikipedia.org/wiki/Lag_operator) values, fill NaNs with zeros and clip the values into [0,20] range. If you do it correctly, you'll get precisely 1.16777 on the public leaderboard.\n",
    "\n",
    "> Generating features like this is a necessary basis for more complex models. Also, if you decide to fit some model, don't forget to clip the target into [0,20] range, it makes a big difference."
   ]
  },
  {
   "cell_type": "markdown",
   "metadata": {},
   "source": [
    "## Sample submission"
   ]
  },
  {
   "cell_type": "markdown",
   "metadata": {},
   "source": [
    "According to advice 1 just send sample submission."
   ]
  },
  {
   "cell_type": "code",
   "execution_count": 2,
   "metadata": {
    "ExecuteTime": {
     "end_time": "2020-08-27T11:01:12.610834Z",
     "start_time": "2020-08-27T11:01:12.569148Z"
    }
   },
   "outputs": [],
   "source": [
    "submission = pd.read_csv('../data/raw/sample_submission.csv')"
   ]
  },
  {
   "cell_type": "code",
   "execution_count": 3,
   "metadata": {
    "ExecuteTime": {
     "end_time": "2020-08-27T11:01:12.629371Z",
     "start_time": "2020-08-27T11:01:12.613710Z"
    }
   },
   "outputs": [
    {
     "data": {
      "text/html": [
       "<div>\n",
       "<style scoped>\n",
       "    .dataframe tbody tr th:only-of-type {\n",
       "        vertical-align: middle;\n",
       "    }\n",
       "\n",
       "    .dataframe tbody tr th {\n",
       "        vertical-align: top;\n",
       "    }\n",
       "\n",
       "    .dataframe thead th {\n",
       "        text-align: right;\n",
       "    }\n",
       "</style>\n",
       "<table border=\"1\" class=\"dataframe\">\n",
       "  <thead>\n",
       "    <tr style=\"text-align: right;\">\n",
       "      <th></th>\n",
       "      <th>ID</th>\n",
       "      <th>item_cnt_month</th>\n",
       "    </tr>\n",
       "  </thead>\n",
       "  <tbody>\n",
       "    <tr>\n",
       "      <th>0</th>\n",
       "      <td>0</td>\n",
       "      <td>0.5</td>\n",
       "    </tr>\n",
       "    <tr>\n",
       "      <th>1</th>\n",
       "      <td>1</td>\n",
       "      <td>0.5</td>\n",
       "    </tr>\n",
       "    <tr>\n",
       "      <th>2</th>\n",
       "      <td>2</td>\n",
       "      <td>0.5</td>\n",
       "    </tr>\n",
       "    <tr>\n",
       "      <th>3</th>\n",
       "      <td>3</td>\n",
       "      <td>0.5</td>\n",
       "    </tr>\n",
       "    <tr>\n",
       "      <th>4</th>\n",
       "      <td>4</td>\n",
       "      <td>0.5</td>\n",
       "    </tr>\n",
       "  </tbody>\n",
       "</table>\n",
       "</div>"
      ],
      "text/plain": [
       "   ID  item_cnt_month\n",
       "0   0             0.5\n",
       "1   1             0.5\n",
       "2   2             0.5\n",
       "3   3             0.5\n",
       "4   4             0.5"
      ]
     },
     "execution_count": 3,
     "metadata": {},
     "output_type": "execute_result"
    }
   ],
   "source": [
    "submission.head()"
   ]
  },
  {
   "cell_type": "markdown",
   "metadata": {},
   "source": [
    "Check values of `item_cnt_month`."
   ]
  },
  {
   "cell_type": "code",
   "execution_count": 4,
   "metadata": {
    "ExecuteTime": {
     "end_time": "2020-08-27T11:01:12.640085Z",
     "start_time": "2020-08-27T11:01:12.632034Z"
    }
   },
   "outputs": [
    {
     "data": {
      "text/plain": [
       "array([0.5])"
      ]
     },
     "execution_count": 4,
     "metadata": {},
     "output_type": "execute_result"
    }
   ],
   "source": [
    "submission.item_cnt_month.unique()"
   ]
  },
  {
   "cell_type": "code",
   "execution_count": 5,
   "metadata": {
    "ExecuteTime": {
     "end_time": "2020-08-27T11:01:13.164056Z",
     "start_time": "2020-08-27T11:01:12.643786Z"
    }
   },
   "outputs": [],
   "source": [
    "submission.to_csv('../models/constants/0.5.csv', index=False)"
   ]
  },
  {
   "cell_type": "markdown",
   "metadata": {},
   "source": [
    "As we can see, we predict just one constant value. Send it to the system using `kaggle` utility."
   ]
  },
  {
   "cell_type": "raw",
   "metadata": {
    "ExecuteTime": {
     "end_time": "2020-08-27T08:37:41.988756Z",
     "start_time": "2020-08-27T08:37:35.752737Z"
    }
   },
   "source": [
    "!kaggle competitions submit competitive-data-science-predict-future-sales -f ../data/raw/sample_submission.csv -m \"Sample submission\""
   ]
  },
  {
   "cell_type": "raw",
   "metadata": {
    "ExecuteTime": {
     "end_time": "2020-08-27T08:38:22.094412Z",
     "start_time": "2020-08-27T08:38:21.433769Z"
    }
   },
   "source": [
    "!kaggle competitions submissions competitive-data-science-predict-future-sales"
   ]
  },
  {
   "cell_type": "markdown",
   "metadata": {},
   "source": [
    "We got $1.23646$ on the liderboard."
   ]
  },
  {
   "cell_type": "markdown",
   "metadata": {},
   "source": [
    "## Different constants"
   ]
  },
  {
   "cell_type": "markdown",
   "metadata": {},
   "source": [
    "In this section we will try another constants and find the optima."
   ]
  },
  {
   "cell_type": "code",
   "execution_count": 6,
   "metadata": {
    "ExecuteTime": {
     "end_time": "2020-08-27T11:01:13.654810Z",
     "start_time": "2020-08-27T11:01:13.166118Z"
    }
   },
   "outputs": [],
   "source": [
    "submission.item_cnt_month = 1.0\n",
    "submission.to_csv('../models/constants/1.0.csv', index=False)"
   ]
  },
  {
   "cell_type": "raw",
   "metadata": {
    "ExecuteTime": {
     "end_time": "2020-08-27T10:37:30.523613Z",
     "start_time": "2020-08-27T10:37:25.324482Z"
    }
   },
   "source": [
    "!kaggle competitions submit competitive-data-science-predict-future-sales -f ../models/constants/1.0.csv -m \"Constant prediction 1.0\""
   ]
  },
  {
   "cell_type": "raw",
   "metadata": {
    "ExecuteTime": {
     "end_time": "2020-08-27T10:38:00.635484Z",
     "start_time": "2020-08-27T10:37:59.910847Z"
    }
   },
   "source": [
    "!kaggle competitions submissions competitive-data-science-predict-future-sales"
   ]
  },
  {
   "cell_type": "markdown",
   "metadata": {},
   "source": [
    "We got $1.41241$ on the liderboard."
   ]
  },
  {
   "cell_type": "code",
   "execution_count": 7,
   "metadata": {
    "ExecuteTime": {
     "end_time": "2020-08-27T11:01:14.121914Z",
     "start_time": "2020-08-27T11:01:13.656843Z"
    }
   },
   "outputs": [],
   "source": [
    "submission.item_cnt_month = 0.0\n",
    "submission.to_csv('../models/constants/0.0.csv', index=False)"
   ]
  },
  {
   "cell_type": "raw",
   "metadata": {
    "ExecuteTime": {
     "end_time": "2020-08-27T10:38:48.905872Z",
     "start_time": "2020-08-27T10:38:42.246746Z"
    }
   },
   "source": [
    "!kaggle competitions submit competitive-data-science-predict-future-sales -f ../models/constants/0.0.csv -m \"Constant prediction 0.0\""
   ]
  },
  {
   "cell_type": "raw",
   "metadata": {
    "ExecuteTime": {
     "end_time": "2020-08-27T10:38:52.144007Z",
     "start_time": "2020-08-27T10:38:51.461436Z"
    }
   },
   "source": [
    "!kaggle competitions submissions competitive-data-science-predict-future-sales"
   ]
  },
  {
   "cell_type": "markdown",
   "metadata": {},
   "source": [
    "We got $1.25011$ on the liderboard."
   ]
  },
  {
   "cell_type": "markdown",
   "metadata": {},
   "source": [
    "Now we can easily calculate the best constant for MSE. Assume that we have predictions $y_1, y_2$ and their scores $\\alpha, \\beta$. It is known, that we can represent MSE in that case as\n",
    "\n",
    "$$\n",
    "MSE = (y - \\overline{y})^2 + m, \n",
    "$$\n",
    "ther $m$ is the lowest possible constant error.\n",
    "\n",
    "If we have two submissions, then we can get the system of equations. By substracting it we can get a formula:\n",
    "\n",
    "$$\n",
    "\\overline{y} = \\frac{1}{2} \\left( y_1 + y_2 - \\frac{\\alpha - \\beta}{y_1 - y_2} \\right)\n",
    "$$\n",
    "\n",
    "If you take into account, that LB tells us RMSE, you get: $\\overline{y} = 0.2839$.\n",
    "\n",
    "Let's submit this prediction."
   ]
  },
  {
   "cell_type": "code",
   "execution_count": 8,
   "metadata": {
    "ExecuteTime": {
     "end_time": "2020-08-27T11:01:14.644883Z",
     "start_time": "2020-08-27T11:01:14.126256Z"
    }
   },
   "outputs": [],
   "source": [
    "submission.item_cnt_month = 0.2839\n",
    "submission.to_csv('../models/constants/0.2839', index=False)"
   ]
  },
  {
   "cell_type": "raw",
   "metadata": {
    "ExecuteTime": {
     "end_time": "2020-08-27T10:50:08.940562Z",
     "start_time": "2020-08-27T10:50:01.511239Z"
    }
   },
   "source": [
    "!kaggle competitions submit competitive-data-science-predict-future-sales -f ../models/constants/0.2839.csv -m \"Constant prediction 0.2839\""
   ]
  },
  {
   "cell_type": "raw",
   "metadata": {
    "ExecuteTime": {
     "end_time": "2020-08-27T10:50:25.120321Z",
     "start_time": "2020-08-27T10:50:24.385765Z"
    }
   },
   "source": [
    "!kaggle competitions submissions competitive-data-science-predict-future-sales"
   ]
  },
  {
   "cell_type": "markdown",
   "metadata": {},
   "source": [
    "We got $$ on the liderboard."
   ]
  },
  {
   "cell_type": "markdown",
   "metadata": {},
   "source": [
    "## Previous value benchmark"
   ]
  },
  {
   "cell_type": "markdown",
   "metadata": {},
   "source": [
    "According to advice 2 for each `item_id`, `shop_id` send prediction for the previous month and clip the value within [0, 20]."
   ]
  },
  {
   "cell_type": "code",
   "execution_count": 9,
   "metadata": {
    "ExecuteTime": {
     "end_time": "2020-08-27T11:01:15.076005Z",
     "start_time": "2020-08-27T11:01:14.647405Z"
    }
   },
   "outputs": [
    {
     "data": {
      "text/html": [
       "<div>\n",
       "<style scoped>\n",
       "    .dataframe tbody tr th:only-of-type {\n",
       "        vertical-align: middle;\n",
       "    }\n",
       "\n",
       "    .dataframe tbody tr th {\n",
       "        vertical-align: top;\n",
       "    }\n",
       "\n",
       "    .dataframe thead th {\n",
       "        text-align: right;\n",
       "    }\n",
       "</style>\n",
       "<table border=\"1\" class=\"dataframe\">\n",
       "  <thead>\n",
       "    <tr style=\"text-align: right;\">\n",
       "      <th></th>\n",
       "      <th>shop_id</th>\n",
       "      <th>item_id</th>\n",
       "      <th>num_days</th>\n",
       "      <th>month</th>\n",
       "      <th>year</th>\n",
       "      <th>num_holidays</th>\n",
       "      <th>num_not_working_days</th>\n",
       "      <th>longest_sequence_without_holidays</th>\n",
       "      <th>fraction_non_even_mean_lag_1</th>\n",
       "      <th>price_mean_lag_1</th>\n",
       "      <th>...</th>\n",
       "      <th>target_lag_12</th>\n",
       "      <th>target_item_lag_12</th>\n",
       "      <th>target_shop_lag_12</th>\n",
       "      <th>item_name</th>\n",
       "      <th>item_full_category_name</th>\n",
       "      <th>item_category_name</th>\n",
       "      <th>item_subcategory_name</th>\n",
       "      <th>shop_name</th>\n",
       "      <th>city</th>\n",
       "      <th>num_residents</th>\n",
       "    </tr>\n",
       "  </thead>\n",
       "  <tbody>\n",
       "    <tr>\n",
       "      <th>6332358</th>\n",
       "      <td>5</td>\n",
       "      <td>5037</td>\n",
       "      <td>30</td>\n",
       "      <td>11</td>\n",
       "      <td>2015</td>\n",
       "      <td>1</td>\n",
       "      <td>10</td>\n",
       "      <td>144</td>\n",
       "      <td>0.332889</td>\n",
       "      <td>1499.00000</td>\n",
       "      <td>...</td>\n",
       "      <td>1.0</td>\n",
       "      <td>65.0</td>\n",
       "      <td>1445.0</td>\n",
       "      <td>NHL 15 [PS3, русские субтитры]</td>\n",
       "      <td>Игры - PS3</td>\n",
       "      <td>Игры</td>\n",
       "      <td>PS3</td>\n",
       "      <td>Вологда ТРЦ \"Мармелад\"</td>\n",
       "      <td>Вологда</td>\n",
       "      <td>310302.0</td>\n",
       "    </tr>\n",
       "    <tr>\n",
       "      <th>6332359</th>\n",
       "      <td>5</td>\n",
       "      <td>5320</td>\n",
       "      <td>30</td>\n",
       "      <td>11</td>\n",
       "      <td>2015</td>\n",
       "      <td>1</td>\n",
       "      <td>10</td>\n",
       "      <td>144</td>\n",
       "      <td>0.000000</td>\n",
       "      <td>0.00000</td>\n",
       "      <td>...</td>\n",
       "      <td>0.0</td>\n",
       "      <td>0.0</td>\n",
       "      <td>0.0</td>\n",
       "      <td>ONE DIRECTION  Made In The A.M.</td>\n",
       "      <td>Музыка - CD локального производства</td>\n",
       "      <td>Музыка</td>\n",
       "      <td>CD локального производства</td>\n",
       "      <td>Вологда ТРЦ \"Мармелад\"</td>\n",
       "      <td>Вологда</td>\n",
       "      <td>310302.0</td>\n",
       "    </tr>\n",
       "    <tr>\n",
       "      <th>6332360</th>\n",
       "      <td>5</td>\n",
       "      <td>5233</td>\n",
       "      <td>30</td>\n",
       "      <td>11</td>\n",
       "      <td>2015</td>\n",
       "      <td>1</td>\n",
       "      <td>10</td>\n",
       "      <td>144</td>\n",
       "      <td>0.165972</td>\n",
       "      <td>1199.00000</td>\n",
       "      <td>...</td>\n",
       "      <td>0.0</td>\n",
       "      <td>0.0</td>\n",
       "      <td>0.0</td>\n",
       "      <td>Need for Speed Rivals (Essentials) [PS3, русск...</td>\n",
       "      <td>Игры - PS3</td>\n",
       "      <td>Игры</td>\n",
       "      <td>PS3</td>\n",
       "      <td>Вологда ТРЦ \"Мармелад\"</td>\n",
       "      <td>Вологда</td>\n",
       "      <td>310302.0</td>\n",
       "    </tr>\n",
       "    <tr>\n",
       "      <th>6332361</th>\n",
       "      <td>5</td>\n",
       "      <td>5232</td>\n",
       "      <td>30</td>\n",
       "      <td>11</td>\n",
       "      <td>2015</td>\n",
       "      <td>1</td>\n",
       "      <td>10</td>\n",
       "      <td>144</td>\n",
       "      <td>0.161925</td>\n",
       "      <td>1190.43335</td>\n",
       "      <td>...</td>\n",
       "      <td>0.0</td>\n",
       "      <td>0.0</td>\n",
       "      <td>0.0</td>\n",
       "      <td>Need for Speed Rivals (Classics) [Xbox 360, ру...</td>\n",
       "      <td>Игры - XBOX 360</td>\n",
       "      <td>Игры</td>\n",
       "      <td>XBOX 360</td>\n",
       "      <td>Вологда ТРЦ \"Мармелад\"</td>\n",
       "      <td>Вологда</td>\n",
       "      <td>310302.0</td>\n",
       "    </tr>\n",
       "    <tr>\n",
       "      <th>6332362</th>\n",
       "      <td>5</td>\n",
       "      <td>5268</td>\n",
       "      <td>30</td>\n",
       "      <td>11</td>\n",
       "      <td>2015</td>\n",
       "      <td>1</td>\n",
       "      <td>10</td>\n",
       "      <td>144</td>\n",
       "      <td>0.000000</td>\n",
       "      <td>0.00000</td>\n",
       "      <td>...</td>\n",
       "      <td>0.0</td>\n",
       "      <td>0.0</td>\n",
       "      <td>0.0</td>\n",
       "      <td>Need for Speed [PS4, русская версия]</td>\n",
       "      <td>Игры - PS4</td>\n",
       "      <td>Игры</td>\n",
       "      <td>PS4</td>\n",
       "      <td>Вологда ТРЦ \"Мармелад\"</td>\n",
       "      <td>Вологда</td>\n",
       "      <td>310302.0</td>\n",
       "    </tr>\n",
       "  </tbody>\n",
       "</table>\n",
       "<p>5 rows × 57 columns</p>\n",
       "</div>"
      ],
      "text/plain": [
       "         shop_id  item_id  num_days  month  year  num_holidays  \\\n",
       "6332358        5     5037        30     11  2015             1   \n",
       "6332359        5     5320        30     11  2015             1   \n",
       "6332360        5     5233        30     11  2015             1   \n",
       "6332361        5     5232        30     11  2015             1   \n",
       "6332362        5     5268        30     11  2015             1   \n",
       "\n",
       "         num_not_working_days  longest_sequence_without_holidays  \\\n",
       "6332358                    10                                144   \n",
       "6332359                    10                                144   \n",
       "6332360                    10                                144   \n",
       "6332361                    10                                144   \n",
       "6332362                    10                                144   \n",
       "\n",
       "         fraction_non_even_mean_lag_1  price_mean_lag_1  ...  target_lag_12  \\\n",
       "6332358                      0.332889        1499.00000  ...            1.0   \n",
       "6332359                      0.000000           0.00000  ...            0.0   \n",
       "6332360                      0.165972        1199.00000  ...            0.0   \n",
       "6332361                      0.161925        1190.43335  ...            0.0   \n",
       "6332362                      0.000000           0.00000  ...            0.0   \n",
       "\n",
       "         target_item_lag_12  target_shop_lag_12  \\\n",
       "6332358                65.0              1445.0   \n",
       "6332359                 0.0                 0.0   \n",
       "6332360                 0.0                 0.0   \n",
       "6332361                 0.0                 0.0   \n",
       "6332362                 0.0                 0.0   \n",
       "\n",
       "                                                 item_name  \\\n",
       "6332358                     NHL 15 [PS3, русские субтитры]   \n",
       "6332359                    ONE DIRECTION  Made In The A.M.   \n",
       "6332360  Need for Speed Rivals (Essentials) [PS3, русск...   \n",
       "6332361  Need for Speed Rivals (Classics) [Xbox 360, ру...   \n",
       "6332362               Need for Speed [PS4, русская версия]   \n",
       "\n",
       "                     item_full_category_name  item_category_name  \\\n",
       "6332358                           Игры - PS3                Игры   \n",
       "6332359  Музыка - CD локального производства              Музыка   \n",
       "6332360                           Игры - PS3                Игры   \n",
       "6332361                      Игры - XBOX 360                Игры   \n",
       "6332362                           Игры - PS4                Игры   \n",
       "\n",
       "              item_subcategory_name               shop_name     city  \\\n",
       "6332358                         PS3  Вологда ТРЦ \"Мармелад\"  Вологда   \n",
       "6332359  CD локального производства  Вологда ТРЦ \"Мармелад\"  Вологда   \n",
       "6332360                         PS3  Вологда ТРЦ \"Мармелад\"  Вологда   \n",
       "6332361                    XBOX 360  Вологда ТРЦ \"Мармелад\"  Вологда   \n",
       "6332362                         PS4  Вологда ТРЦ \"Мармелад\"  Вологда   \n",
       "\n",
       "         num_residents  \n",
       "6332358       310302.0  \n",
       "6332359       310302.0  \n",
       "6332360       310302.0  \n",
       "6332361       310302.0  \n",
       "6332362       310302.0  \n",
       "\n",
       "[5 rows x 57 columns]"
      ]
     },
     "execution_count": 9,
     "metadata": {},
     "output_type": "execute_result"
    }
   ],
   "source": [
    "test = pd.read_hdf('../data/processed/test.h5', 'test')\n",
    "test.head()"
   ]
  },
  {
   "cell_type": "code",
   "execution_count": 10,
   "metadata": {
    "ExecuteTime": {
     "end_time": "2020-08-27T11:01:15.090097Z",
     "start_time": "2020-08-27T11:01:15.078562Z"
    }
   },
   "outputs": [
    {
     "data": {
      "text/html": [
       "<div>\n",
       "<style scoped>\n",
       "    .dataframe tbody tr th:only-of-type {\n",
       "        vertical-align: middle;\n",
       "    }\n",
       "\n",
       "    .dataframe tbody tr th {\n",
       "        vertical-align: top;\n",
       "    }\n",
       "\n",
       "    .dataframe thead th {\n",
       "        text-align: right;\n",
       "    }\n",
       "</style>\n",
       "<table border=\"1\" class=\"dataframe\">\n",
       "  <thead>\n",
       "    <tr style=\"text-align: right;\">\n",
       "      <th></th>\n",
       "      <th>ID</th>\n",
       "      <th>item_cnt_month</th>\n",
       "    </tr>\n",
       "  </thead>\n",
       "  <tbody>\n",
       "    <tr>\n",
       "      <th>0</th>\n",
       "      <td>0</td>\n",
       "      <td>0.2839</td>\n",
       "    </tr>\n",
       "    <tr>\n",
       "      <th>1</th>\n",
       "      <td>1</td>\n",
       "      <td>0.2839</td>\n",
       "    </tr>\n",
       "    <tr>\n",
       "      <th>2</th>\n",
       "      <td>2</td>\n",
       "      <td>0.2839</td>\n",
       "    </tr>\n",
       "    <tr>\n",
       "      <th>3</th>\n",
       "      <td>3</td>\n",
       "      <td>0.2839</td>\n",
       "    </tr>\n",
       "    <tr>\n",
       "      <th>4</th>\n",
       "      <td>4</td>\n",
       "      <td>0.2839</td>\n",
       "    </tr>\n",
       "  </tbody>\n",
       "</table>\n",
       "</div>"
      ],
      "text/plain": [
       "   ID  item_cnt_month\n",
       "0   0          0.2839\n",
       "1   1          0.2839\n",
       "2   2          0.2839\n",
       "3   3          0.2839\n",
       "4   4          0.2839"
      ]
     },
     "execution_count": 10,
     "metadata": {},
     "output_type": "execute_result"
    }
   ],
   "source": [
    "submission.head()"
   ]
  },
  {
   "cell_type": "code",
   "execution_count": 11,
   "metadata": {
    "ExecuteTime": {
     "end_time": "2020-08-27T11:01:15.098863Z",
     "start_time": "2020-08-27T11:01:15.092750Z"
    }
   },
   "outputs": [],
   "source": [
    "submission['item_cnt_month'] = np.clip(test['target_lag_1'].values, 0, 20)"
   ]
  },
  {
   "cell_type": "code",
   "execution_count": 12,
   "metadata": {
    "ExecuteTime": {
     "end_time": "2020-08-27T11:01:15.640234Z",
     "start_time": "2020-08-27T11:01:15.101329Z"
    }
   },
   "outputs": [],
   "source": [
    "submission.to_csv('../models/previous_value/submission.csv', index=False)"
   ]
  },
  {
   "cell_type": "markdown",
   "metadata": {},
   "source": [
    "As we can see, we predict just one constant value. Send it to the system using `kaggle` utility."
   ]
  },
  {
   "cell_type": "raw",
   "metadata": {
    "ExecuteTime": {
     "end_time": "2020-08-27T10:21:09.917649Z",
     "start_time": "2020-08-27T10:21:02.978270Z"
    }
   },
   "source": [
    "!kaggle competitions submit competitive-data-science-predict-future-sales -f ../models/previous_value/submission.csv -m \"Previous value benchmark\""
   ]
  },
  {
   "cell_type": "raw",
   "metadata": {
    "ExecuteTime": {
     "end_time": "2020-08-27T10:21:17.339269Z",
     "start_time": "2020-08-27T10:21:16.665844Z"
    }
   },
   "source": [
    "!kaggle competitions submissions competitive-data-science-predict-future-sales"
   ]
  },
  {
   "cell_type": "markdown",
   "metadata": {},
   "source": [
    "We got $1.16777$ on the liderboard as was predicted by advice."
   ]
  }
 ],
 "metadata": {
  "kernelspec": {
   "display_name": "Python 3",
   "language": "python",
   "name": "python3"
  },
  "language_info": {
   "codemirror_mode": {
    "name": "ipython",
    "version": 3
   },
   "file_extension": ".py",
   "mimetype": "text/x-python",
   "name": "python",
   "nbconvert_exporter": "python",
   "pygments_lexer": "ipython3",
   "version": "3.8.5"
  }
 },
 "nbformat": 4,
 "nbformat_minor": 4
}
