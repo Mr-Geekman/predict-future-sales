{
 "cells": [
  {
   "cell_type": "code",
   "execution_count": 1,
   "metadata": {
    "ExecuteTime": {
     "end_time": "2020-09-01T16:18:38.484737Z",
     "start_time": "2020-09-01T16:18:36.487860Z"
    }
   },
   "outputs": [],
   "source": [
    "import numpy as np\n",
    "import pandas as pd\n",
    "import scipy.stats as sps\n",
    "\n",
    "import matplotlib.pyplot as plt\n",
    "import seaborn as sns\n",
    "from tqdm.notebook import tqdm\n",
    "\n",
    "sns.set(font_scale=1.2)\n",
    "%matplotlib inline"
   ]
  },
  {
   "cell_type": "markdown",
   "metadata": {},
   "source": [
    "# EDA"
   ]
  },
  {
   "cell_type": "markdown",
   "metadata": {},
   "source": [
    "In this notebook I will investigate data."
   ]
  },
  {
   "cell_type": "markdown",
   "metadata": {},
   "source": [
    "Load data."
   ]
  },
  {
   "cell_type": "code",
   "execution_count": 2,
   "metadata": {
    "ExecuteTime": {
     "end_time": "2020-09-01T16:18:40.581257Z",
     "start_time": "2020-09-01T16:18:38.487369Z"
    }
   },
   "outputs": [],
   "source": [
    "items = pd.read_csv('../data/raw/items.csv')\n",
    "item_categories = pd.read_csv('../data/raw/item_categories.csv')\n",
    "shops = pd.read_csv('../data/raw/shops.csv')\n",
    "sales_train = pd.read_csv('../data/raw/sales_train.csv')\n",
    "test = pd.read_csv('../data/raw/test.csv')"
   ]
  },
  {
   "cell_type": "markdown",
   "metadata": {},
   "source": [
    "## Item categories"
   ]
  },
  {
   "cell_type": "markdown",
   "metadata": {},
   "source": [
    "Let's start exploring with item categories (because it has no dependency on other tables)."
   ]
  },
  {
   "cell_type": "code",
   "execution_count": 3,
   "metadata": {
    "ExecuteTime": {
     "end_time": "2020-09-01T16:18:40.605324Z",
     "start_time": "2020-09-01T16:18:40.584951Z"
    }
   },
   "outputs": [
    {
     "data": {
      "text/html": [
       "<div>\n",
       "<style scoped>\n",
       "    .dataframe tbody tr th:only-of-type {\n",
       "        vertical-align: middle;\n",
       "    }\n",
       "\n",
       "    .dataframe tbody tr th {\n",
       "        vertical-align: top;\n",
       "    }\n",
       "\n",
       "    .dataframe thead th {\n",
       "        text-align: right;\n",
       "    }\n",
       "</style>\n",
       "<table border=\"1\" class=\"dataframe\">\n",
       "  <thead>\n",
       "    <tr style=\"text-align: right;\">\n",
       "      <th></th>\n",
       "      <th>item_category_name</th>\n",
       "      <th>item_category_id</th>\n",
       "    </tr>\n",
       "  </thead>\n",
       "  <tbody>\n",
       "    <tr>\n",
       "      <th>0</th>\n",
       "      <td>PC - Гарнитуры/Наушники</td>\n",
       "      <td>0</td>\n",
       "    </tr>\n",
       "    <tr>\n",
       "      <th>1</th>\n",
       "      <td>Аксессуары - PS2</td>\n",
       "      <td>1</td>\n",
       "    </tr>\n",
       "    <tr>\n",
       "      <th>2</th>\n",
       "      <td>Аксессуары - PS3</td>\n",
       "      <td>2</td>\n",
       "    </tr>\n",
       "    <tr>\n",
       "      <th>3</th>\n",
       "      <td>Аксессуары - PS4</td>\n",
       "      <td>3</td>\n",
       "    </tr>\n",
       "    <tr>\n",
       "      <th>4</th>\n",
       "      <td>Аксессуары - PSP</td>\n",
       "      <td>4</td>\n",
       "    </tr>\n",
       "  </tbody>\n",
       "</table>\n",
       "</div>"
      ],
      "text/plain": [
       "        item_category_name  item_category_id\n",
       "0  PC - Гарнитуры/Наушники                 0\n",
       "1         Аксессуары - PS2                 1\n",
       "2         Аксессуары - PS3                 2\n",
       "3         Аксессуары - PS4                 3\n",
       "4         Аксессуары - PSP                 4"
      ]
     },
     "execution_count": 3,
     "metadata": {},
     "output_type": "execute_result"
    }
   ],
   "source": [
    "item_categories.head()"
   ]
  },
  {
   "cell_type": "code",
   "execution_count": 4,
   "metadata": {
    "ExecuteTime": {
     "end_time": "2020-09-01T16:18:40.615481Z",
     "start_time": "2020-09-01T16:18:40.608897Z"
    }
   },
   "outputs": [
    {
     "data": {
      "text/plain": [
       "(84, 2)"
      ]
     },
     "execution_count": 4,
     "metadata": {},
     "output_type": "execute_result"
    }
   ],
   "source": [
    "item_categories.shape"
   ]
  },
  {
   "cell_type": "markdown",
   "metadata": {},
   "source": [
    "Table is pretty small. We can look at all values."
   ]
  },
  {
   "cell_type": "markdown",
   "metadata": {},
   "source": [
    "### item_category_name"
   ]
  },
  {
   "cell_type": "code",
   "execution_count": 5,
   "metadata": {
    "ExecuteTime": {
     "end_time": "2020-09-01T16:18:40.632865Z",
     "start_time": "2020-09-01T16:18:40.618472Z"
    }
   },
   "outputs": [
    {
     "data": {
      "text/plain": [
       "['PC - Гарнитуры/Наушники',\n",
       " 'Аксессуары - PS2',\n",
       " 'Аксессуары - PS3',\n",
       " 'Аксессуары - PS4',\n",
       " 'Аксессуары - PSP',\n",
       " 'Аксессуары - PSVita',\n",
       " 'Аксессуары - XBOX 360',\n",
       " 'Аксессуары - XBOX ONE',\n",
       " 'Билеты (Цифра)',\n",
       " 'Доставка товара',\n",
       " 'Игровые консоли - PS2',\n",
       " 'Игровые консоли - PS3',\n",
       " 'Игровые консоли - PS4',\n",
       " 'Игровые консоли - PSP',\n",
       " 'Игровые консоли - PSVita',\n",
       " 'Игровые консоли - XBOX 360',\n",
       " 'Игровые консоли - XBOX ONE',\n",
       " 'Игровые консоли - Прочие',\n",
       " 'Игры - PS2',\n",
       " 'Игры - PS3',\n",
       " 'Игры - PS4',\n",
       " 'Игры - PSP',\n",
       " 'Игры - PSVita',\n",
       " 'Игры - XBOX 360',\n",
       " 'Игры - XBOX ONE',\n",
       " 'Игры - Аксессуары для игр',\n",
       " 'Игры Android - Цифра',\n",
       " 'Игры MAC - Цифра',\n",
       " 'Игры PC - Дополнительные издания',\n",
       " 'Игры PC - Коллекционные издания',\n",
       " 'Игры PC - Стандартные издания',\n",
       " 'Игры PC - Цифра',\n",
       " 'Карты оплаты (Кино, Музыка, Игры)',\n",
       " 'Карты оплаты - Live!',\n",
       " 'Карты оплаты - Live! (Цифра)',\n",
       " 'Карты оплаты - PSN',\n",
       " 'Карты оплаты - Windows (Цифра)',\n",
       " 'Кино - Blu-Ray',\n",
       " 'Кино - Blu-Ray 3D',\n",
       " 'Кино - Blu-Ray 4K',\n",
       " 'Кино - DVD',\n",
       " 'Кино - Коллекционное',\n",
       " 'Книги - Артбуки, энциклопедии',\n",
       " 'Книги - Аудиокниги',\n",
       " 'Книги - Аудиокниги (Цифра)',\n",
       " 'Книги - Аудиокниги 1С',\n",
       " 'Книги - Бизнес литература',\n",
       " 'Книги - Комиксы, манга',\n",
       " 'Книги - Компьютерная литература',\n",
       " 'Книги - Методические материалы 1С',\n",
       " 'Книги - Открытки',\n",
       " 'Книги - Познавательная литература',\n",
       " 'Книги - Путеводители',\n",
       " 'Книги - Художественная литература',\n",
       " 'Книги - Цифра',\n",
       " 'Музыка - CD локального производства',\n",
       " 'Музыка - CD фирменного производства',\n",
       " 'Музыка - MP3',\n",
       " 'Музыка - Винил',\n",
       " 'Музыка - Музыкальное видео',\n",
       " 'Музыка - Подарочные издания',\n",
       " 'Подарки - Атрибутика',\n",
       " 'Подарки - Гаджеты, роботы, спорт',\n",
       " 'Подарки - Мягкие игрушки',\n",
       " 'Подарки - Настольные игры',\n",
       " 'Подарки - Настольные игры (компактные)',\n",
       " 'Подарки - Открытки, наклейки',\n",
       " 'Подарки - Развитие',\n",
       " 'Подарки - Сертификаты, услуги',\n",
       " 'Подарки - Сувениры',\n",
       " 'Подарки - Сувениры (в навеску)',\n",
       " 'Подарки - Сумки, Альбомы, Коврики д/мыши',\n",
       " 'Подарки - Фигурки',\n",
       " 'Программы - 1С:Предприятие 8',\n",
       " 'Программы - MAC (Цифра)',\n",
       " 'Программы - Для дома и офиса',\n",
       " 'Программы - Для дома и офиса (Цифра)',\n",
       " 'Программы - Обучающие',\n",
       " 'Программы - Обучающие (Цифра)',\n",
       " 'Служебные',\n",
       " 'Служебные - Билеты',\n",
       " 'Чистые носители (шпиль)',\n",
       " 'Чистые носители (штучные)',\n",
       " 'Элементы питания']"
      ]
     },
     "execution_count": 5,
     "metadata": {},
     "output_type": "execute_result"
    }
   ],
   "source": [
    "item_categories.item_category_name.to_list()"
   ]
  },
  {
   "cell_type": "markdown",
   "metadata": {},
   "source": [
    "We can immediately notice, that for most of categories there is bigger category. We will call first part a category, second part -- subcategory."
   ]
  },
  {
   "cell_type": "markdown",
   "metadata": {},
   "source": [
    "### item_cagegory_id"
   ]
  },
  {
   "cell_type": "markdown",
   "metadata": {},
   "source": [
    "Check `item_category_id`."
   ]
  },
  {
   "cell_type": "code",
   "execution_count": 6,
   "metadata": {
    "ExecuteTime": {
     "end_time": "2020-09-01T16:18:40.649020Z",
     "start_time": "2020-09-01T16:18:40.635550Z"
    }
   },
   "outputs": [
    {
     "data": {
      "text/plain": [
       "count    84.000000\n",
       "mean     41.500000\n",
       "std      24.392622\n",
       "min       0.000000\n",
       "25%      20.750000\n",
       "50%      41.500000\n",
       "75%      62.250000\n",
       "max      83.000000\n",
       "Name: item_category_id, dtype: float64"
      ]
     },
     "execution_count": 6,
     "metadata": {},
     "output_type": "execute_result"
    }
   ],
   "source": [
    "item_categories.item_category_id.describe()"
   ]
  },
  {
   "cell_type": "markdown",
   "metadata": {},
   "source": [
    "There is no jumps."
   ]
  },
  {
   "cell_type": "markdown",
   "metadata": {},
   "source": [
    "### Feature engineering ideas\n",
    "1. Add category as a feature if possible. If it is not possible just duplicate original category.\n",
    "2. There is some similar subcategories in a categories. For example, `Игры - PS4`, `Аксессуары - PS4`, `Игровые консоли - PS4`. We can use subcategory as a new feature and delete original field.\n",
    "3. There is two versions of one category: `Программы - Для дома и офиса`, `Программы - Обучающие (Цифра)`. May be we should somehow utilize this similarity:\n",
    "    * Add new feature, that indicates this `Цифра` token -- binary feature\n",
    "    * Add text features like BOW or TFiDF -- it will notice the same word\n",
    "    * Add text features like word2vec, GloVe -- it will notice similar words"
   ]
  },
  {
   "cell_type": "markdown",
   "metadata": {},
   "source": [
    "## Shops"
   ]
  },
  {
   "cell_type": "code",
   "execution_count": 7,
   "metadata": {
    "ExecuteTime": {
     "end_time": "2020-09-01T16:18:40.667205Z",
     "start_time": "2020-09-01T16:18:40.651772Z"
    }
   },
   "outputs": [
    {
     "data": {
      "text/html": [
       "<div>\n",
       "<style scoped>\n",
       "    .dataframe tbody tr th:only-of-type {\n",
       "        vertical-align: middle;\n",
       "    }\n",
       "\n",
       "    .dataframe tbody tr th {\n",
       "        vertical-align: top;\n",
       "    }\n",
       "\n",
       "    .dataframe thead th {\n",
       "        text-align: right;\n",
       "    }\n",
       "</style>\n",
       "<table border=\"1\" class=\"dataframe\">\n",
       "  <thead>\n",
       "    <tr style=\"text-align: right;\">\n",
       "      <th></th>\n",
       "      <th>shop_name</th>\n",
       "      <th>shop_id</th>\n",
       "    </tr>\n",
       "  </thead>\n",
       "  <tbody>\n",
       "    <tr>\n",
       "      <th>0</th>\n",
       "      <td>!Якутск Орджоникидзе, 56 фран</td>\n",
       "      <td>0</td>\n",
       "    </tr>\n",
       "    <tr>\n",
       "      <th>1</th>\n",
       "      <td>!Якутск ТЦ \"Центральный\" фран</td>\n",
       "      <td>1</td>\n",
       "    </tr>\n",
       "    <tr>\n",
       "      <th>2</th>\n",
       "      <td>Адыгея ТЦ \"Мега\"</td>\n",
       "      <td>2</td>\n",
       "    </tr>\n",
       "    <tr>\n",
       "      <th>3</th>\n",
       "      <td>Балашиха ТРК \"Октябрь-Киномир\"</td>\n",
       "      <td>3</td>\n",
       "    </tr>\n",
       "    <tr>\n",
       "      <th>4</th>\n",
       "      <td>Волжский ТЦ \"Волга Молл\"</td>\n",
       "      <td>4</td>\n",
       "    </tr>\n",
       "  </tbody>\n",
       "</table>\n",
       "</div>"
      ],
      "text/plain": [
       "                        shop_name  shop_id\n",
       "0   !Якутск Орджоникидзе, 56 фран        0\n",
       "1   !Якутск ТЦ \"Центральный\" фран        1\n",
       "2                Адыгея ТЦ \"Мега\"        2\n",
       "3  Балашиха ТРК \"Октябрь-Киномир\"        3\n",
       "4        Волжский ТЦ \"Волга Молл\"        4"
      ]
     },
     "execution_count": 7,
     "metadata": {},
     "output_type": "execute_result"
    }
   ],
   "source": [
    "shops.head()"
   ]
  },
  {
   "cell_type": "code",
   "execution_count": 8,
   "metadata": {
    "ExecuteTime": {
     "end_time": "2020-09-01T16:18:40.679087Z",
     "start_time": "2020-09-01T16:18:40.672562Z"
    }
   },
   "outputs": [
    {
     "data": {
      "text/plain": [
       "(60, 2)"
      ]
     },
     "execution_count": 8,
     "metadata": {},
     "output_type": "execute_result"
    }
   ],
   "source": [
    "shops.shape"
   ]
  },
  {
   "cell_type": "markdown",
   "metadata": {},
   "source": [
    "This table is small too."
   ]
  },
  {
   "cell_type": "markdown",
   "metadata": {},
   "source": [
    "### shop_name"
   ]
  },
  {
   "cell_type": "code",
   "execution_count": 9,
   "metadata": {
    "ExecuteTime": {
     "end_time": "2020-09-01T16:18:40.702840Z",
     "start_time": "2020-09-01T16:18:40.685705Z"
    }
   },
   "outputs": [
    {
     "data": {
      "text/plain": [
       "['!Якутск Орджоникидзе, 56 фран',\n",
       " '!Якутск ТЦ \"Центральный\" фран',\n",
       " 'Адыгея ТЦ \"Мега\"',\n",
       " 'Балашиха ТРК \"Октябрь-Киномир\"',\n",
       " 'Волжский ТЦ \"Волга Молл\"',\n",
       " 'Вологда ТРЦ \"Мармелад\"',\n",
       " 'Воронеж (Плехановская, 13)',\n",
       " 'Воронеж ТРЦ \"Максимир\"',\n",
       " 'Воронеж ТРЦ Сити-Парк \"Град\"',\n",
       " 'Выездная Торговля',\n",
       " 'Жуковский ул. Чкалова 39м?',\n",
       " 'Жуковский ул. Чкалова 39м²',\n",
       " 'Интернет-магазин ЧС',\n",
       " 'Казань ТЦ \"Бехетле\"',\n",
       " 'Казань ТЦ \"ПаркХаус\" II',\n",
       " 'Калуга ТРЦ \"XXI век\"',\n",
       " 'Коломна ТЦ \"Рио\"',\n",
       " 'Красноярск ТЦ \"Взлетка Плаза\"',\n",
       " 'Красноярск ТЦ \"Июнь\"',\n",
       " 'Курск ТЦ \"Пушкинский\"',\n",
       " 'Москва \"Распродажа\"',\n",
       " 'Москва МТРЦ \"Афи Молл\"',\n",
       " 'Москва Магазин С21',\n",
       " 'Москва ТК \"Буденовский\" (пав.А2)',\n",
       " 'Москва ТК \"Буденовский\" (пав.К7)',\n",
       " 'Москва ТРК \"Атриум\"',\n",
       " 'Москва ТЦ \"Ареал\" (Беляево)',\n",
       " 'Москва ТЦ \"МЕГА Белая Дача II\"',\n",
       " 'Москва ТЦ \"МЕГА Теплый Стан\" II',\n",
       " 'Москва ТЦ \"Новый век\" (Новокосино)',\n",
       " 'Москва ТЦ \"Перловский\"',\n",
       " 'Москва ТЦ \"Семеновский\"',\n",
       " 'Москва ТЦ \"Серебряный Дом\"',\n",
       " 'Мытищи ТРК \"XL-3\"',\n",
       " 'Н.Новгород ТРЦ \"РИО\"',\n",
       " 'Н.Новгород ТРЦ \"Фантастика\"',\n",
       " 'Новосибирск ТРЦ \"Галерея Новосибирск\"',\n",
       " 'Новосибирск ТЦ \"Мега\"',\n",
       " 'Омск ТЦ \"Мега\"',\n",
       " 'РостовНаДону ТРК \"Мегацентр Горизонт\"',\n",
       " 'РостовНаДону ТРК \"Мегацентр Горизонт\" Островной',\n",
       " 'РостовНаДону ТЦ \"Мега\"',\n",
       " 'СПб ТК \"Невский Центр\"',\n",
       " 'СПб ТК \"Сенная\"',\n",
       " 'Самара ТЦ \"Мелодия\"',\n",
       " 'Самара ТЦ \"ПаркХаус\"',\n",
       " 'Сергиев Посад ТЦ \"7Я\"',\n",
       " 'Сургут ТРЦ \"Сити Молл\"',\n",
       " 'Томск ТРЦ \"Изумрудный Город\"',\n",
       " 'Тюмень ТРЦ \"Кристалл\"',\n",
       " 'Тюмень ТЦ \"Гудвин\"',\n",
       " 'Тюмень ТЦ \"Зеленый Берег\"',\n",
       " 'Уфа ТК \"Центральный\"',\n",
       " 'Уфа ТЦ \"Семья\" 2',\n",
       " 'Химки ТЦ \"Мега\"',\n",
       " 'Цифровой склад 1С-Онлайн',\n",
       " 'Чехов ТРЦ \"Карнавал\"',\n",
       " 'Якутск Орджоникидзе, 56',\n",
       " 'Якутск ТЦ \"Центральный\"',\n",
       " 'Ярославль ТЦ \"Альтаир\"']"
      ]
     },
     "execution_count": 9,
     "metadata": {},
     "output_type": "execute_result"
    }
   ],
   "source": [
    "shops.shop_name.to_list()"
   ]
  },
  {
   "cell_type": "markdown",
   "metadata": {},
   "source": [
    "We can notice some strangenesses:\n",
    "\n",
    "1. `!Якутск Орджоникидзе, 56 фран` is very similar to `Якутск Орджоникидзе, 56`. It looks like typo.\n",
    "2. `!Якутск ТЦ \"Центральный\" фран` is very similar to `Якутск ТЦ \"Центральный`. It looks like typo.\n",
    "3. `Жуковский ул. Чкалова 39м?` is very similar to `Жуковский ул. Чкалова 39м²`. It looks like typo.\n",
    "4. `РостовНаДону ТРК \"Мегацентр Горизонт\"` is very similar to `РостовНаДону ТРК \"Мегацентр Горизонт\" Островной`. It looks like typo.\n",
    "5. `Москва ТК \"Буденовский\" (пав.А2)` is very similar to `Москва ТК \"Буденовский\" (пав.К7)`. But it isn't looks like a mistake, just different pavilions.\n",
    "\n",
    "We can also find that there are two online shops and `Выездная Торговля`."
   ]
  },
  {
   "cell_type": "markdown",
   "metadata": {},
   "source": [
    "### shop_id"
   ]
  },
  {
   "cell_type": "code",
   "execution_count": 10,
   "metadata": {
    "ExecuteTime": {
     "end_time": "2020-09-01T16:18:40.720218Z",
     "start_time": "2020-09-01T16:18:40.706179Z"
    }
   },
   "outputs": [
    {
     "data": {
      "text/plain": [
       "count    60.000000\n",
       "mean     29.500000\n",
       "std      17.464249\n",
       "min       0.000000\n",
       "25%      14.750000\n",
       "50%      29.500000\n",
       "75%      44.250000\n",
       "max      59.000000\n",
       "Name: shop_id, dtype: float64"
      ]
     },
     "execution_count": 10,
     "metadata": {},
     "output_type": "execute_result"
    }
   ],
   "source": [
    "shops.shop_id.describe()"
   ]
  },
  {
   "cell_type": "markdown",
   "metadata": {},
   "source": [
    "There is no jumps."
   ]
  },
  {
   "cell_type": "markdown",
   "metadata": {},
   "source": [
    "### Feature engineering ideas\n",
    "1. Correct typos.\n",
    "2. Feature with city of a shop (may be problems with online entries).\n",
    "    * We can also add features, connected to city. For example, number of residents.\n",
    "3. Feature with mall of a shop.\n",
    "4. Feature with coordinates of a shop."
   ]
  },
  {
   "cell_type": "markdown",
   "metadata": {},
   "source": [
    "## Items"
   ]
  },
  {
   "cell_type": "code",
   "execution_count": 11,
   "metadata": {
    "ExecuteTime": {
     "end_time": "2020-09-01T16:18:40.741081Z",
     "start_time": "2020-09-01T16:18:40.725545Z"
    }
   },
   "outputs": [
    {
     "data": {
      "text/html": [
       "<div>\n",
       "<style scoped>\n",
       "    .dataframe tbody tr th:only-of-type {\n",
       "        vertical-align: middle;\n",
       "    }\n",
       "\n",
       "    .dataframe tbody tr th {\n",
       "        vertical-align: top;\n",
       "    }\n",
       "\n",
       "    .dataframe thead th {\n",
       "        text-align: right;\n",
       "    }\n",
       "</style>\n",
       "<table border=\"1\" class=\"dataframe\">\n",
       "  <thead>\n",
       "    <tr style=\"text-align: right;\">\n",
       "      <th></th>\n",
       "      <th>item_name</th>\n",
       "      <th>item_id</th>\n",
       "      <th>item_category_id</th>\n",
       "    </tr>\n",
       "  </thead>\n",
       "  <tbody>\n",
       "    <tr>\n",
       "      <th>0</th>\n",
       "      <td>! ВО ВЛАСТИ НАВАЖДЕНИЯ (ПЛАСТ.)         D</td>\n",
       "      <td>0</td>\n",
       "      <td>40</td>\n",
       "    </tr>\n",
       "    <tr>\n",
       "      <th>1</th>\n",
       "      <td>!ABBYY FineReader 12 Professional Edition Full...</td>\n",
       "      <td>1</td>\n",
       "      <td>76</td>\n",
       "    </tr>\n",
       "    <tr>\n",
       "      <th>2</th>\n",
       "      <td>***В ЛУЧАХ СЛАВЫ   (UNV)                    D</td>\n",
       "      <td>2</td>\n",
       "      <td>40</td>\n",
       "    </tr>\n",
       "    <tr>\n",
       "      <th>3</th>\n",
       "      <td>***ГОЛУБАЯ ВОЛНА  (Univ)                      D</td>\n",
       "      <td>3</td>\n",
       "      <td>40</td>\n",
       "    </tr>\n",
       "    <tr>\n",
       "      <th>4</th>\n",
       "      <td>***КОРОБКА (СТЕКЛО)                       D</td>\n",
       "      <td>4</td>\n",
       "      <td>40</td>\n",
       "    </tr>\n",
       "  </tbody>\n",
       "</table>\n",
       "</div>"
      ],
      "text/plain": [
       "                                           item_name  item_id  \\\n",
       "0          ! ВО ВЛАСТИ НАВАЖДЕНИЯ (ПЛАСТ.)         D        0   \n",
       "1  !ABBYY FineReader 12 Professional Edition Full...        1   \n",
       "2      ***В ЛУЧАХ СЛАВЫ   (UNV)                    D        2   \n",
       "3    ***ГОЛУБАЯ ВОЛНА  (Univ)                      D        3   \n",
       "4        ***КОРОБКА (СТЕКЛО)                       D        4   \n",
       "\n",
       "   item_category_id  \n",
       "0                40  \n",
       "1                76  \n",
       "2                40  \n",
       "3                40  \n",
       "4                40  "
      ]
     },
     "execution_count": 11,
     "metadata": {},
     "output_type": "execute_result"
    }
   ],
   "source": [
    "items.head()"
   ]
  },
  {
   "cell_type": "markdown",
   "metadata": {},
   "source": [
    "As we can see, there is a dependency on the table `item_categories`. We will explore it later."
   ]
  },
  {
   "cell_type": "code",
   "execution_count": 12,
   "metadata": {
    "ExecuteTime": {
     "end_time": "2020-09-01T16:18:40.750790Z",
     "start_time": "2020-09-01T16:18:40.744690Z"
    }
   },
   "outputs": [
    {
     "data": {
      "text/plain": [
       "(22170, 3)"
      ]
     },
     "execution_count": 12,
     "metadata": {},
     "output_type": "execute_result"
    }
   ],
   "source": [
    "items.shape"
   ]
  },
  {
   "cell_type": "markdown",
   "metadata": {},
   "source": [
    "This table is pretty big. It will be difficult to deal with it as with categorical feature."
   ]
  },
  {
   "cell_type": "markdown",
   "metadata": {},
   "source": [
    "### item_name"
   ]
  },
  {
   "cell_type": "markdown",
   "metadata": {},
   "source": [
    "Let's explore values of field `item_name`."
   ]
  },
  {
   "cell_type": "markdown",
   "metadata": {},
   "source": [
    "We can immediately notice, that some names begins with characters `!`, `*`. It is a potential possibility for duplicates. Check possible first characters if `item_name`."
   ]
  },
  {
   "cell_type": "code",
   "execution_count": 13,
   "metadata": {
    "ExecuteTime": {
     "end_time": "2020-09-01T16:18:40.780060Z",
     "start_time": "2020-09-01T16:18:40.753502Z"
    }
   },
   "outputs": [
    {
     "data": {
      "text/plain": [
       "array(['!', '*', '/', '0', '1', '2', '3', '4', '5', '6', '7', '8', '9',\n",
       "       'A', 'B', 'C', 'D', 'E', 'F', 'G', 'H', 'I', 'J', 'K', 'L', 'M',\n",
       "       'N', 'O', 'P', 'Q', 'R', 'S', 'T', 'U', 'V', 'W', 'X', 'Y', 'Z',\n",
       "       'i', 'o', 'Ё', 'А', 'Б', 'В', 'Г', 'Д', 'Е', 'Ж', 'З', 'И', 'Й',\n",
       "       'К', 'Л', 'М', 'Н', 'О', 'П', 'Р', 'С', 'Т', 'У', 'Ф', 'Х', 'Ц',\n",
       "       'Ч', 'Ш', 'Щ', 'Э', 'Ю', 'Я'], dtype=object)"
      ]
     },
     "execution_count": 13,
     "metadata": {},
     "output_type": "execute_result"
    }
   ],
   "source": [
    "first_character = items.item_name.apply(lambda x: x[0])\n",
    "first_character.unique()"
   ]
  },
  {
   "cell_type": "markdown",
   "metadata": {},
   "source": [
    "We should check `!`, `*`, `/`."
   ]
  },
  {
   "cell_type": "markdown",
   "metadata": {},
   "source": [
    "We can also notice that some items ends with `D`, we should check it too."
   ]
  },
  {
   "cell_type": "markdown",
   "metadata": {},
   "source": [
    "#### Checking `!`"
   ]
  },
  {
   "cell_type": "code",
   "execution_count": 14,
   "metadata": {
    "ExecuteTime": {
     "end_time": "2020-09-01T16:18:40.802608Z",
     "start_time": "2020-09-01T16:18:40.783193Z"
    }
   },
   "outputs": [
    {
     "data": {
      "text/plain": [
       "['! ВО ВЛАСТИ НАВАЖДЕНИЯ (ПЛАСТ.)         D',\n",
       " '!ABBYY FineReader 12 Professional Edition Full [PC, Цифровая версия]']"
      ]
     },
     "execution_count": 14,
     "metadata": {},
     "output_type": "execute_result"
    }
   ],
   "source": [
    "items[first_character == '!'].item_name.to_list()"
   ]
  },
  {
   "cell_type": "code",
   "execution_count": 15,
   "metadata": {
    "ExecuteTime": {
     "end_time": "2020-09-01T16:18:40.848740Z",
     "start_time": "2020-09-01T16:18:40.804896Z"
    }
   },
   "outputs": [
    {
     "data": {
      "text/html": [
       "<div>\n",
       "<style scoped>\n",
       "    .dataframe tbody tr th:only-of-type {\n",
       "        vertical-align: middle;\n",
       "    }\n",
       "\n",
       "    .dataframe tbody tr th {\n",
       "        vertical-align: top;\n",
       "    }\n",
       "\n",
       "    .dataframe thead th {\n",
       "        text-align: right;\n",
       "    }\n",
       "</style>\n",
       "<table border=\"1\" class=\"dataframe\">\n",
       "  <thead>\n",
       "    <tr style=\"text-align: right;\">\n",
       "      <th></th>\n",
       "      <th>item_name</th>\n",
       "      <th>item_id</th>\n",
       "      <th>item_category_id</th>\n",
       "    </tr>\n",
       "  </thead>\n",
       "  <tbody>\n",
       "    <tr>\n",
       "      <th>0</th>\n",
       "      <td>! ВО ВЛАСТИ НАВАЖДЕНИЯ (ПЛАСТ.)         D</td>\n",
       "      <td>0</td>\n",
       "      <td>40</td>\n",
       "    </tr>\n",
       "    <tr>\n",
       "      <th>9930</th>\n",
       "      <td>ВО ВСЕ ТЯЖКИЕ  Сезон 1  2DVD</td>\n",
       "      <td>9930</td>\n",
       "      <td>40</td>\n",
       "    </tr>\n",
       "    <tr>\n",
       "      <th>11464</th>\n",
       "      <td>ЖЕНА ПУТЕШЕСТВЕННИКА ВО ВРЕМЕНИ WB (регион)</td>\n",
       "      <td>11464</td>\n",
       "      <td>40</td>\n",
       "    </tr>\n",
       "  </tbody>\n",
       "</table>\n",
       "</div>"
      ],
      "text/plain": [
       "                                         item_name  item_id  item_category_id\n",
       "0        ! ВО ВЛАСТИ НАВАЖДЕНИЯ (ПЛАСТ.)         D        0                40\n",
       "9930                  ВО ВСЕ ТЯЖКИЕ  Сезон 1  2DVD     9930                40\n",
       "11464  ЖЕНА ПУТЕШЕСТВЕННИКА ВО ВРЕМЕНИ WB (регион)    11464                40"
      ]
     },
     "execution_count": 15,
     "metadata": {},
     "output_type": "execute_result"
    }
   ],
   "source": [
    "items[items.item_name.str.contains('ВО В')]"
   ]
  },
  {
   "cell_type": "markdown",
   "metadata": {},
   "source": [
    "In this case `!` looks like a typo. For working text features we should delete it, but remain it as a distinct item."
   ]
  },
  {
   "cell_type": "code",
   "execution_count": 16,
   "metadata": {
    "ExecuteTime": {
     "end_time": "2020-09-01T16:18:40.884404Z",
     "start_time": "2020-09-01T16:18:40.853094Z"
    }
   },
   "outputs": [
    {
     "data": {
      "text/plain": [
       "['!ABBYY FineReader 12 Professional Edition Full [PC, Цифровая версия]',\n",
       " 'ABBYY FineReader 12 Professional Edition Full (коробка)']"
      ]
     },
     "execution_count": 16,
     "metadata": {},
     "output_type": "execute_result"
    }
   ],
   "source": [
    "items[items.item_name.str.contains(\n",
    "    'ABBYY FineReader 12 Professional Edition Full'\n",
    ")].item_name.to_list()"
   ]
  },
  {
   "cell_type": "markdown",
   "metadata": {},
   "source": [
    "In this case `!` looks like a typo. For working text features we should delete it, but remain it as a distinct item."
   ]
  },
  {
   "cell_type": "markdown",
   "metadata": {},
   "source": [
    "#### Checking `*`"
   ]
  },
  {
   "cell_type": "code",
   "execution_count": 17,
   "metadata": {
    "ExecuteTime": {
     "end_time": "2020-09-01T16:18:40.899891Z",
     "start_time": "2020-09-01T16:18:40.887671Z"
    }
   },
   "outputs": [
    {
     "data": {
      "text/plain": [
       "['***В ЛУЧАХ СЛАВЫ   (UNV)                    D',\n",
       " '***ГОЛУБАЯ ВОЛНА  (Univ)                      D',\n",
       " '***КОРОБКА (СТЕКЛО)                       D',\n",
       " '***НОВЫЕ АМЕРИКАНСКИЕ ГРАФФИТИ  (UNI)             D',\n",
       " '***УДАР ПО ВОРОТАМ (UNI)               D',\n",
       " '***УДАР ПО ВОРОТАМ-2 (UNI)               D',\n",
       " '***ЧАЙ С МУССОЛИНИ                     D',\n",
       " '***ШУГАРЛЭНДСКИЙ ЭКСПРЕСС (UNI)             D',\n",
       " '*ЗА ГРАНЬЮ СМЕРТИ                       D',\n",
       " '*ЛИНИЯ СМЕРТИ                           D',\n",
       " '*МИХЕЙ И ДЖУМАНДЖИ  Сука любовь',\n",
       " '*СПАСАЯ ЭМИЛИ                           D',\n",
       " '*ЧОКНУТЫЙ ПРОФЕССОР /МАГИЯ/             D']"
      ]
     },
     "execution_count": 17,
     "metadata": {},
     "output_type": "execute_result"
    }
   ],
   "source": [
    "suspicious_list = items[first_character == '*'].item_name.to_list()\n",
    "suspicious_list"
   ]
  },
  {
   "cell_type": "code",
   "execution_count": 18,
   "metadata": {
    "ExecuteTime": {
     "end_time": "2020-09-01T16:18:41.152440Z",
     "start_time": "2020-09-01T16:18:40.903169Z"
    }
   },
   "outputs": [
    {
     "name": "stdout",
     "output_type": "stream",
     "text": [
      "В ЛУЧАХ СЛАВЫ   (UNV)                    D\n",
      "[]\n",
      "----------\n",
      "ГОЛУБАЯ ВОЛНА  (Univ)                      D\n",
      "['ГОЛУБАЯ БЕЗДНА  (BD)', 'ГОЛУБАЯ БЕЗДНА (регион)']\n",
      "----------\n",
      "КОРОБКА (СТЕКЛО)                       D\n",
      "[]\n",
      "----------\n",
      "НОВЫЕ АМЕРИКАНСКИЕ ГРАФФИТИ  (UNI)             D\n",
      "['НОВЫЕ МСТИТЕЛИ: ГЕРОИ ЗАВТРАШНЕГО ДНЯ  э (BD)', 'НОВЫЕ ПРИКЛЮЧЕНИЯ БАРОНА МЮНХГАУЗЕНА (регион)', 'НОВЫЕ ПРИКЛЮЧЕНИЯ ЗОЛУШКИ (регион)', 'НОВЫЕ ПРИКЛЮЧЕНИЯ СТИЧА (регион)']\n",
      "----------\n",
      "УДАР ПО ВОРОТАМ (UNI)               D\n",
      "[]\n",
      "----------\n",
      "УДАР ПО ВОРОТАМ-2 (UNI)               D\n",
      "[]\n",
      "----------\n",
      "ЧАЙ С МУССОЛИНИ                     D\n",
      "[]\n",
      "----------\n",
      "ШУГАРЛЭНДСКИЙ ЭКСПРЕСС (UNI)             D\n",
      "[]\n",
      "----------\n",
      "ЗА ГРАНЬЮ СМЕРТИ                       D\n",
      "['ЗА ГРАНЬЮ']\n",
      "----------\n",
      "ЛИНИЯ СМЕРТИ                           D\n",
      "[]\n",
      "----------\n",
      "МИХЕЙ И ДЖУМАНДЖИ  Сука любовь\n",
      "['МИХЕЙ И ДЖУМАНДЖИ  Сука любовь', 'МИХЕЙ И ДЖУМАНДЖИ  Сука любовь  LP']\n",
      "----------\n",
      "СПАСАЯ ЭМИЛИ                           D\n",
      "['СПАСАТЕЛИ', 'СПАСАТЕЛИ (3D BD)', 'СПАСАТЕЛИ (BD)', 'СПАСАТЕЛИ (регион)', 'СПАСАТЕЛИ В АВСТРАЛИИ (BD)', 'СПАСАТЕЛЬ']\n",
      "----------\n",
      "ЧОКНУТЫЙ ПРОФЕССОР /МАГИЯ/             D\n",
      "['ЧОКНУТЫЕ (rem)']\n",
      "----------\n"
     ]
    }
   ],
   "source": [
    "for element in suspicious_list:\n",
    "    count_star = element.count('*')\n",
    "    cut_element = element[count_star:]\n",
    "    found_list = items[items.item_name.str.startswith(\n",
    "        cut_element[:5]\n",
    "    )].item_name.to_list()\n",
    "    print(cut_element)\n",
    "    print(found_list)\n",
    "    print(10*'-')"
   ]
  },
  {
   "cell_type": "markdown",
   "metadata": {},
   "source": [
    "As we can see, duplicate item is only `МИХЕЙ И ДЖУМАНДЖИ  Сука любовь`. We should merge this two categories in the original dataset."
   ]
  },
  {
   "cell_type": "code",
   "execution_count": 19,
   "metadata": {
    "ExecuteTime": {
     "end_time": "2020-09-01T16:18:41.185419Z",
     "start_time": "2020-09-01T16:18:41.154545Z"
    }
   },
   "outputs": [
    {
     "data": {
      "text/html": [
       "<div>\n",
       "<style scoped>\n",
       "    .dataframe tbody tr th:only-of-type {\n",
       "        vertical-align: middle;\n",
       "    }\n",
       "\n",
       "    .dataframe tbody tr th {\n",
       "        vertical-align: top;\n",
       "    }\n",
       "\n",
       "    .dataframe thead th {\n",
       "        text-align: right;\n",
       "    }\n",
       "</style>\n",
       "<table border=\"1\" class=\"dataframe\">\n",
       "  <thead>\n",
       "    <tr style=\"text-align: right;\">\n",
       "      <th></th>\n",
       "      <th>item_name</th>\n",
       "      <th>item_id</th>\n",
       "      <th>item_category_id</th>\n",
       "    </tr>\n",
       "  </thead>\n",
       "  <tbody>\n",
       "    <tr>\n",
       "      <th>12</th>\n",
       "      <td>*МИХЕЙ И ДЖУМАНДЖИ  Сука любовь</td>\n",
       "      <td>12</td>\n",
       "      <td>55</td>\n",
       "    </tr>\n",
       "    <tr>\n",
       "      <th>14690</th>\n",
       "      <td>МИХЕЙ И ДЖУМАНДЖИ  Сука любовь</td>\n",
       "      <td>14690</td>\n",
       "      <td>55</td>\n",
       "    </tr>\n",
       "    <tr>\n",
       "      <th>14691</th>\n",
       "      <td>МИХЕЙ И ДЖУМАНДЖИ  Сука любовь  LP</td>\n",
       "      <td>14691</td>\n",
       "      <td>58</td>\n",
       "    </tr>\n",
       "  </tbody>\n",
       "</table>\n",
       "</div>"
      ],
      "text/plain": [
       "                                item_name  item_id  item_category_id\n",
       "12        *МИХЕЙ И ДЖУМАНДЖИ  Сука любовь       12                55\n",
       "14690      МИХЕЙ И ДЖУМАНДЖИ  Сука любовь    14690                55\n",
       "14691  МИХЕЙ И ДЖУМАНДЖИ  Сука любовь  LP    14691                58"
      ]
     },
     "execution_count": 19,
     "metadata": {},
     "output_type": "execute_result"
    }
   ],
   "source": [
    "items[items.item_name.str.contains('МИХЕЙ')]"
   ]
  },
  {
   "cell_type": "markdown",
   "metadata": {},
   "source": [
    "#### Checking `/`"
   ]
  },
  {
   "cell_type": "code",
   "execution_count": 20,
   "metadata": {
    "ExecuteTime": {
     "end_time": "2020-09-01T16:18:41.202605Z",
     "start_time": "2020-09-01T16:18:41.188176Z"
    }
   },
   "outputs": [
    {
     "data": {
      "text/plain": [
       "['//АДРЕНАЛИН: ОДИН ПРОТИВ ВСЕХ (Регион)',\n",
       " '//МОНГОЛ С.Бодров (Регион)',\n",
       " '//НЕ ОСТАВЛЯЮЩИЙ СЛЕДА (Регион)',\n",
       " '/БОМБА ДЛЯ НЕВЕСТЫ /2DVD/               D',\n",
       " '/ЗОЛОТАЯ КОЛЛЕКЦИЯ м/ф-72',\n",
       " '/ОДНАЖДЫ В КИТАЕ-2',\n",
       " '/ПОСЛЕДНИЙ ШАНС',\n",
       " '/ПРОКЛЯТЬЕ ЭЛЬ ЧАРРО',\n",
       " '/СЕВЕР И ЮГ /Ч.2/',\n",
       " '/СМЕРТЕЛЬНЫЙ РАСКЛАД',\n",
       " '/ТЫ  - ТРУП',\n",
       " '/УМНОЖАЮЩИЙ ПЕЧАЛЬ т.2 (сер.3-4)']"
      ]
     },
     "execution_count": 20,
     "metadata": {},
     "output_type": "execute_result"
    }
   ],
   "source": [
    "suspicious_list = items[first_character == '/'].item_name.to_list()\n",
    "suspicious_list"
   ]
  },
  {
   "cell_type": "code",
   "execution_count": 21,
   "metadata": {
    "ExecuteTime": {
     "end_time": "2020-09-01T16:18:41.387297Z",
     "start_time": "2020-09-01T16:18:41.205335Z"
    }
   },
   "outputs": [
    {
     "name": "stdout",
     "output_type": "stream",
     "text": [
      "АДРЕНАЛИН: ОДИН ПРОТИВ ВСЕХ (Регион)\n",
      "[]\n",
      "----------\n",
      "МОНГОЛ С.Бодров (Регион)\n",
      "[]\n",
      "----------\n",
      "НЕ ОСТАВЛЯЮЩИЙ СЛЕДА (Регион)\n",
      "[]\n",
      "----------\n",
      "МБА ДЛЯ НЕВЕСТЫ /2DVD/               D\n",
      "[]\n",
      "----------\n",
      "ОЛОТАЯ КОЛЛЕКЦИЯ м/ф-72\n",
      "[]\n",
      "----------\n",
      "ОДНАЖДЫ В КИТАЕ-2\n",
      "[]\n",
      "----------\n",
      "ПОСЛЕДНИЙ ШАНС\n",
      "['ПОСЛЕДНИЙ БОЙСКАУТ (регион)', 'ПОСЛЕДНИЙ БОЙСКАУТ WB (BD)', 'ПОСЛЕДНИЙ ДРАКОН. В ПОИСКАХ МАГИЧЕСКОЙ ЖЕМЧУЖИНЫ (регион)', 'ПОСЛЕДНИЙ КОРОЛЬ ШОТЛАНДИИ (BD)', 'ПОСЛЕДНИЙ НЕАНДЕРТАЛЕЦ', 'ПОСЛЕДНИЙ РЕЙС \"АЛЬБАТРОСА\" 1-2 серии а', 'ПОСЛЕДНИЙ РУБЕЖ', 'ПОСЛЕДНИЙ РУБЕЖ (BD)', 'ПОСЛЕДНИЙ САМУРАЙ WB', 'ПОСЛЕДНИЙ САМУРАЙ WB (BD)', 'ПОСЛЕДНИЙ САМУРАЙ WB (регион)']\n",
      "----------\n",
      "ПРОКЛЯТЬЕ ЭЛЬ ЧАРРО\n",
      "[]\n",
      "----------\n",
      "ВЕР И ЮГ /Ч.2/\n",
      "[]\n",
      "----------\n",
      "СМЕРТЕЛЬНЫЙ РАСКЛАД\n",
      "[]\n",
      "----------\n",
      "ТЫ  - ТРУП\n",
      "[]\n",
      "----------\n",
      "УМНОЖАЮЩИЙ ПЕЧАЛЬ т.2 (сер.3-4)\n",
      "[]\n",
      "----------\n"
     ]
    }
   ],
   "source": [
    "for element in suspicious_list:\n",
    "    count_star = element.count('/')\n",
    "    cut_element = element[count_star:]\n",
    "    found_list = items[items.item_name.str.startswith(\n",
    "        cut_element[:-5]\n",
    "    )].item_name.to_list()\n",
    "    print(cut_element)\n",
    "    print(found_list)\n",
    "    print(10*'-')"
   ]
  },
  {
   "cell_type": "markdown",
   "metadata": {},
   "source": [
    "As we can see, there is no duplicates."
   ]
  },
  {
   "cell_type": "markdown",
   "metadata": {},
   "source": [
    "#### Checking `D`"
   ]
  },
  {
   "cell_type": "code",
   "execution_count": 22,
   "metadata": {
    "ExecuteTime": {
     "end_time": "2020-09-01T16:18:41.412573Z",
     "start_time": "2020-09-01T16:18:41.389686Z"
    }
   },
   "outputs": [
    {
     "data": {
      "text/plain": [
       "['! ВО ВЛАСТИ НАВАЖДЕНИЯ (ПЛАСТ.)         D',\n",
       " '***В ЛУЧАХ СЛАВЫ   (UNV)                    D',\n",
       " '***ГОЛУБАЯ ВОЛНА  (Univ)                      D',\n",
       " '***КОРОБКА (СТЕКЛО)                       D',\n",
       " '***НОВЫЕ АМЕРИКАНСКИЕ ГРАФФИТИ  (UNI)             D',\n",
       " '***УДАР ПО ВОРОТАМ (UNI)               D',\n",
       " '***УДАР ПО ВОРОТАМ-2 (UNI)               D',\n",
       " '***ЧАЙ С МУССОЛИНИ                     D',\n",
       " '***ШУГАРЛЭНДСКИЙ ЭКСПРЕСС (UNI)             D',\n",
       " '*ЗА ГРАНЬЮ СМЕРТИ                       D',\n",
       " '*ЛИНИЯ СМЕРТИ                           D',\n",
       " '*СПАСАЯ ЭМИЛИ                           D',\n",
       " '*ЧОКНУТЫЙ ПРОФЕССОР /МАГИЯ/             D',\n",
       " '/БОМБА ДЛЯ НЕВЕСТЫ /2DVD/               D']"
      ]
     },
     "execution_count": 22,
     "metadata": {},
     "output_type": "execute_result"
    }
   ],
   "source": [
    "suspicious_list = items[items.item_name.str.endswith(\n",
    "    '    D'\n",
    ")].item_name.to_list()\n",
    "suspicious_list"
   ]
  },
  {
   "cell_type": "markdown",
   "metadata": {},
   "source": [
    "As we can see we have a complete overlap with already checked items."
   ]
  },
  {
   "cell_type": "markdown",
   "metadata": {},
   "source": [
    "### item_id"
   ]
  },
  {
   "cell_type": "code",
   "execution_count": 23,
   "metadata": {
    "ExecuteTime": {
     "end_time": "2020-09-01T16:18:41.437171Z",
     "start_time": "2020-09-01T16:18:41.422496Z"
    }
   },
   "outputs": [
    {
     "data": {
      "text/plain": [
       "count    22170.00000\n",
       "mean     11084.50000\n",
       "std       6400.07207\n",
       "min          0.00000\n",
       "25%       5542.25000\n",
       "50%      11084.50000\n",
       "75%      16626.75000\n",
       "max      22169.00000\n",
       "Name: item_id, dtype: float64"
      ]
     },
     "execution_count": 23,
     "metadata": {},
     "output_type": "execute_result"
    }
   ],
   "source": [
    "items.item_id.describe()"
   ]
  },
  {
   "cell_type": "markdown",
   "metadata": {},
   "source": [
    "There is no jumps."
   ]
  },
  {
   "cell_type": "markdown",
   "metadata": {},
   "source": [
    "### item_category_id"
   ]
  },
  {
   "cell_type": "markdown",
   "metadata": {},
   "source": [
    "Let's investigate connections between `items` and `item_categories`."
   ]
  },
  {
   "cell_type": "code",
   "execution_count": 24,
   "metadata": {
    "ExecuteTime": {
     "end_time": "2020-09-01T16:18:41.458035Z",
     "start_time": "2020-09-01T16:18:41.442411Z"
    }
   },
   "outputs": [
    {
     "data": {
      "text/plain": [
       "count      84.000000\n",
       "mean      263.928571\n",
       "std       642.834626\n",
       "min         1.000000\n",
       "25%         8.000000\n",
       "50%        43.500000\n",
       "75%       291.000000\n",
       "max      5035.000000\n",
       "Name: item_category_id, dtype: float64"
      ]
     },
     "execution_count": 24,
     "metadata": {},
     "output_type": "execute_result"
    }
   ],
   "source": [
    "categories_counts = items.item_category_id.value_counts()\n",
    "categories_counts.describe()"
   ]
  },
  {
   "cell_type": "markdown",
   "metadata": {},
   "source": [
    "There is no empty categories. As mean and median is very different, there should be extremely category."
   ]
  },
  {
   "cell_type": "code",
   "execution_count": 25,
   "metadata": {
    "ExecuteTime": {
     "end_time": "2020-09-01T16:18:41.953169Z",
     "start_time": "2020-09-01T16:18:41.460239Z"
    }
   },
   "outputs": [
    {
     "data": {
      "image/png": "[encoded data removed]",
      "text/plain": [
       "<Figure size 1152x648 with 1 Axes>"
      ]
     },
     "metadata": {
      "needs_background": "light"
     },
     "output_type": "display_data"
    }
   ],
   "source": [
    "plt.figure(figsize=(16, 9))\n",
    "plt.scatter(categories_counts.index, categories_counts)\n",
    "plt.xlabel('Index of category')\n",
    "plt.ylabel('Category count')\n",
    "plt.title('Num of elements in categories')\n",
    "plt.show()"
   ]
  },
  {
   "cell_type": "markdown",
   "metadata": {},
   "source": [
    "As we can see, there are some very big categories. Let's check them."
   ]
  },
  {
   "cell_type": "code",
   "execution_count": 26,
   "metadata": {
    "ExecuteTime": {
     "end_time": "2020-09-01T16:18:41.981243Z",
     "start_time": "2020-09-01T16:18:41.956196Z"
    }
   },
   "outputs": [
    {
     "data": {
      "text/plain": [
       "40    5035\n",
       "55    2365\n",
       "37    1780\n",
       "31    1125\n",
       "58     790\n",
       "30     756\n",
       "72     666\n",
       "19     628\n",
       "61     598\n",
       "23     501\n",
       "Name: item_category_id, dtype: int64"
      ]
     },
     "execution_count": 26,
     "metadata": {},
     "output_type": "execute_result"
    }
   ],
   "source": [
    "big_categories_counts = categories_counts[categories_counts > 500]\n",
    "big_categories_counts"
   ]
  },
  {
   "cell_type": "code",
   "execution_count": 27,
   "metadata": {
    "ExecuteTime": {
     "end_time": "2020-09-01T16:18:42.003839Z",
     "start_time": "2020-09-01T16:18:41.984430Z"
    },
    "scrolled": true
   },
   "outputs": [
    {
     "data": {
      "text/html": [
       "<div>\n",
       "<style scoped>\n",
       "    .dataframe tbody tr th:only-of-type {\n",
       "        vertical-align: middle;\n",
       "    }\n",
       "\n",
       "    .dataframe tbody tr th {\n",
       "        vertical-align: top;\n",
       "    }\n",
       "\n",
       "    .dataframe thead th {\n",
       "        text-align: right;\n",
       "    }\n",
       "</style>\n",
       "<table border=\"1\" class=\"dataframe\">\n",
       "  <thead>\n",
       "    <tr style=\"text-align: right;\">\n",
       "      <th></th>\n",
       "      <th>item_category_name</th>\n",
       "      <th>item_category_id</th>\n",
       "    </tr>\n",
       "  </thead>\n",
       "  <tbody>\n",
       "    <tr>\n",
       "      <th>19</th>\n",
       "      <td>Игры - PS3</td>\n",
       "      <td>19</td>\n",
       "    </tr>\n",
       "    <tr>\n",
       "      <th>23</th>\n",
       "      <td>Игры - XBOX 360</td>\n",
       "      <td>23</td>\n",
       "    </tr>\n",
       "    <tr>\n",
       "      <th>30</th>\n",
       "      <td>Игры PC - Стандартные издания</td>\n",
       "      <td>30</td>\n",
       "    </tr>\n",
       "    <tr>\n",
       "      <th>31</th>\n",
       "      <td>Игры PC - Цифра</td>\n",
       "      <td>31</td>\n",
       "    </tr>\n",
       "    <tr>\n",
       "      <th>37</th>\n",
       "      <td>Кино - Blu-Ray</td>\n",
       "      <td>37</td>\n",
       "    </tr>\n",
       "    <tr>\n",
       "      <th>40</th>\n",
       "      <td>Кино - DVD</td>\n",
       "      <td>40</td>\n",
       "    </tr>\n",
       "    <tr>\n",
       "      <th>55</th>\n",
       "      <td>Музыка - CD локального производства</td>\n",
       "      <td>55</td>\n",
       "    </tr>\n",
       "    <tr>\n",
       "      <th>58</th>\n",
       "      <td>Музыка - Винил</td>\n",
       "      <td>58</td>\n",
       "    </tr>\n",
       "    <tr>\n",
       "      <th>61</th>\n",
       "      <td>Подарки - Атрибутика</td>\n",
       "      <td>61</td>\n",
       "    </tr>\n",
       "    <tr>\n",
       "      <th>72</th>\n",
       "      <td>Подарки - Фигурки</td>\n",
       "      <td>72</td>\n",
       "    </tr>\n",
       "  </tbody>\n",
       "</table>\n",
       "</div>"
      ],
      "text/plain": [
       "                     item_category_name  item_category_id\n",
       "19                           Игры - PS3                19\n",
       "23                      Игры - XBOX 360                23\n",
       "30        Игры PC - Стандартные издания                30\n",
       "31                      Игры PC - Цифра                31\n",
       "37                       Кино - Blu-Ray                37\n",
       "40                           Кино - DVD                40\n",
       "55  Музыка - CD локального производства                55\n",
       "58                       Музыка - Винил                58\n",
       "61                 Подарки - Атрибутика                61\n",
       "72                    Подарки - Фигурки                72"
      ]
     },
     "execution_count": 27,
     "metadata": {},
     "output_type": "execute_result"
    }
   ],
   "source": [
    "item_categories[item_categories.item_category_id.isin(\n",
    "    big_categories_counts.index\n",
    ")]"
   ]
  },
  {
   "cell_type": "markdown",
   "metadata": {},
   "source": [
    "### Feature engineering ideas\n",
    "1. Correct typos with `!`, `*`, `/`, `D`.\n",
    "2. Create TFiDF features over `item_name`.\n",
    "3. Create word2vec or GloVe features over `item_name`.\n",
    "4. Num of items in a category (frequency encoding)."
   ]
  },
  {
   "cell_type": "markdown",
   "metadata": {},
   "source": [
    "## Sales"
   ]
  },
  {
   "cell_type": "code",
   "execution_count": 28,
   "metadata": {
    "ExecuteTime": {
     "end_time": "2020-09-01T16:18:42.024110Z",
     "start_time": "2020-09-01T16:18:42.008117Z"
    }
   },
   "outputs": [
    {
     "data": {
      "text/html": [
       "<div>\n",
       "<style scoped>\n",
       "    .dataframe tbody tr th:only-of-type {\n",
       "        vertical-align: middle;\n",
       "    }\n",
       "\n",
       "    .dataframe tbody tr th {\n",
       "        vertical-align: top;\n",
       "    }\n",
       "\n",
       "    .dataframe thead th {\n",
       "        text-align: right;\n",
       "    }\n",
       "</style>\n",
       "<table border=\"1\" class=\"dataframe\">\n",
       "  <thead>\n",
       "    <tr style=\"text-align: right;\">\n",
       "      <th></th>\n",
       "      <th>date</th>\n",
       "      <th>date_block_num</th>\n",
       "      <th>shop_id</th>\n",
       "      <th>item_id</th>\n",
       "      <th>item_price</th>\n",
       "      <th>item_cnt_day</th>\n",
       "    </tr>\n",
       "  </thead>\n",
       "  <tbody>\n",
       "    <tr>\n",
       "      <th>0</th>\n",
       "      <td>02.01.2013</td>\n",
       "      <td>0</td>\n",
       "      <td>59</td>\n",
       "      <td>22154</td>\n",
       "      <td>999.00</td>\n",
       "      <td>1.0</td>\n",
       "    </tr>\n",
       "    <tr>\n",
       "      <th>1</th>\n",
       "      <td>03.01.2013</td>\n",
       "      <td>0</td>\n",
       "      <td>25</td>\n",
       "      <td>2552</td>\n",
       "      <td>899.00</td>\n",
       "      <td>1.0</td>\n",
       "    </tr>\n",
       "    <tr>\n",
       "      <th>2</th>\n",
       "      <td>05.01.2013</td>\n",
       "      <td>0</td>\n",
       "      <td>25</td>\n",
       "      <td>2552</td>\n",
       "      <td>899.00</td>\n",
       "      <td>-1.0</td>\n",
       "    </tr>\n",
       "    <tr>\n",
       "      <th>3</th>\n",
       "      <td>06.01.2013</td>\n",
       "      <td>0</td>\n",
       "      <td>25</td>\n",
       "      <td>2554</td>\n",
       "      <td>1709.05</td>\n",
       "      <td>1.0</td>\n",
       "    </tr>\n",
       "    <tr>\n",
       "      <th>4</th>\n",
       "      <td>15.01.2013</td>\n",
       "      <td>0</td>\n",
       "      <td>25</td>\n",
       "      <td>2555</td>\n",
       "      <td>1099.00</td>\n",
       "      <td>1.0</td>\n",
       "    </tr>\n",
       "  </tbody>\n",
       "</table>\n",
       "</div>"
      ],
      "text/plain": [
       "         date  date_block_num  shop_id  item_id  item_price  item_cnt_day\n",
       "0  02.01.2013               0       59    22154      999.00           1.0\n",
       "1  03.01.2013               0       25     2552      899.00           1.0\n",
       "2  05.01.2013               0       25     2552      899.00          -1.0\n",
       "3  06.01.2013               0       25     2554     1709.05           1.0\n",
       "4  15.01.2013               0       25     2555     1099.00           1.0"
      ]
     },
     "execution_count": 28,
     "metadata": {},
     "output_type": "execute_result"
    }
   ],
   "source": [
    "sales_train.head()"
   ]
  },
  {
   "cell_type": "code",
   "execution_count": 29,
   "metadata": {
    "ExecuteTime": {
     "end_time": "2020-09-01T16:18:42.034293Z",
     "start_time": "2020-09-01T16:18:42.027645Z"
    }
   },
   "outputs": [
    {
     "data": {
      "text/plain": [
       "(2935849, 6)"
      ]
     },
     "execution_count": 29,
     "metadata": {},
     "output_type": "execute_result"
    }
   ],
   "source": [
    "sales_train.shape"
   ]
  },
  {
   "cell_type": "markdown",
   "metadata": {},
   "source": [
    "This is a large table. Fortunately, we will use this table in compressed way with monthly aggregated info in order to make our model more suitable for test."
   ]
  },
  {
   "cell_type": "code",
   "execution_count": 30,
   "metadata": {
    "ExecuteTime": {
     "end_time": "2020-09-01T16:18:42.054500Z",
     "start_time": "2020-09-01T16:18:42.037167Z"
    }
   },
   "outputs": [
    {
     "data": {
      "text/html": [
       "<div>\n",
       "<style scoped>\n",
       "    .dataframe tbody tr th:only-of-type {\n",
       "        vertical-align: middle;\n",
       "    }\n",
       "\n",
       "    .dataframe tbody tr th {\n",
       "        vertical-align: top;\n",
       "    }\n",
       "\n",
       "    .dataframe thead th {\n",
       "        text-align: right;\n",
       "    }\n",
       "</style>\n",
       "<table border=\"1\" class=\"dataframe\">\n",
       "  <thead>\n",
       "    <tr style=\"text-align: right;\">\n",
       "      <th></th>\n",
       "      <th>ID</th>\n",
       "      <th>shop_id</th>\n",
       "      <th>item_id</th>\n",
       "    </tr>\n",
       "  </thead>\n",
       "  <tbody>\n",
       "    <tr>\n",
       "      <th>0</th>\n",
       "      <td>0</td>\n",
       "      <td>5</td>\n",
       "      <td>5037</td>\n",
       "    </tr>\n",
       "    <tr>\n",
       "      <th>1</th>\n",
       "      <td>1</td>\n",
       "      <td>5</td>\n",
       "      <td>5320</td>\n",
       "    </tr>\n",
       "    <tr>\n",
       "      <th>2</th>\n",
       "      <td>2</td>\n",
       "      <td>5</td>\n",
       "      <td>5233</td>\n",
       "    </tr>\n",
       "    <tr>\n",
       "      <th>3</th>\n",
       "      <td>3</td>\n",
       "      <td>5</td>\n",
       "      <td>5232</td>\n",
       "    </tr>\n",
       "    <tr>\n",
       "      <th>4</th>\n",
       "      <td>4</td>\n",
       "      <td>5</td>\n",
       "      <td>5268</td>\n",
       "    </tr>\n",
       "  </tbody>\n",
       "</table>\n",
       "</div>"
      ],
      "text/plain": [
       "   ID  shop_id  item_id\n",
       "0   0        5     5037\n",
       "1   1        5     5320\n",
       "2   2        5     5233\n",
       "3   3        5     5232\n",
       "4   4        5     5268"
      ]
     },
     "execution_count": 30,
     "metadata": {},
     "output_type": "execute_result"
    }
   ],
   "source": [
    "test.head()"
   ]
  },
  {
   "cell_type": "code",
   "execution_count": 31,
   "metadata": {
    "ExecuteTime": {
     "end_time": "2020-09-01T16:18:42.067050Z",
     "start_time": "2020-09-01T16:18:42.058284Z"
    }
   },
   "outputs": [
    {
     "data": {
      "text/plain": [
       "(214200, 3)"
      ]
     },
     "execution_count": 31,
     "metadata": {},
     "output_type": "execute_result"
    }
   ],
   "source": [
    "test.shape"
   ]
  },
  {
   "cell_type": "markdown",
   "metadata": {},
   "source": [
    "Test data format differs from train_data format."
   ]
  },
  {
   "cell_type": "markdown",
   "metadata": {},
   "source": [
    "However, we should firstly explore original train data."
   ]
  },
  {
   "cell_type": "markdown",
   "metadata": {},
   "source": [
    "### sales_train"
   ]
  },
  {
   "cell_type": "markdown",
   "metadata": {},
   "source": [
    "#### date"
   ]
  },
  {
   "cell_type": "code",
   "execution_count": 32,
   "metadata": {
    "ExecuteTime": {
     "end_time": "2020-09-01T16:18:42.681557Z",
     "start_time": "2020-09-01T16:18:42.072550Z"
    }
   },
   "outputs": [],
   "source": [
    "date = pd.to_datetime(sales_train.date, format='%d.%m.%Y')"
   ]
  },
  {
   "cell_type": "markdown",
   "metadata": {},
   "source": [
    "Check that there are all days."
   ]
  },
  {
   "cell_type": "code",
   "execution_count": 33,
   "metadata": {
    "ExecuteTime": {
     "end_time": "2020-09-01T16:18:42.720051Z",
     "start_time": "2020-09-01T16:18:42.684211Z"
    }
   },
   "outputs": [
    {
     "data": {
      "text/plain": [
       "Timedelta('1033 days 00:00:00')"
      ]
     },
     "execution_count": 33,
     "metadata": {},
     "output_type": "execute_result"
    }
   ],
   "source": [
    "date.max() - date.min()"
   ]
  },
  {
   "cell_type": "code",
   "execution_count": 34,
   "metadata": {
    "ExecuteTime": {
     "end_time": "2020-09-01T16:18:42.753608Z",
     "start_time": "2020-09-01T16:18:42.729908Z"
    }
   },
   "outputs": [
    {
     "data": {
      "text/plain": [
       "(1034,)"
      ]
     },
     "execution_count": 34,
     "metadata": {},
     "output_type": "execute_result"
    }
   ],
   "source": [
    "date.unique().shape"
   ]
  },
  {
   "cell_type": "markdown",
   "metadata": {},
   "source": [
    "There is all days in the dataset."
   ]
  },
  {
   "cell_type": "markdown",
   "metadata": {},
   "source": [
    "Check, that first month begins with first day, last month ends with last day."
   ]
  },
  {
   "cell_type": "code",
   "execution_count": 35,
   "metadata": {
    "ExecuteTime": {
     "end_time": "2020-09-01T16:18:42.783904Z",
     "start_time": "2020-09-01T16:18:42.756056Z"
    }
   },
   "outputs": [
    {
     "data": {
      "text/plain": [
       "Timestamp('2013-01-01 00:00:00')"
      ]
     },
     "execution_count": 35,
     "metadata": {},
     "output_type": "execute_result"
    }
   ],
   "source": [
    "date.min()"
   ]
  },
  {
   "cell_type": "code",
   "execution_count": 36,
   "metadata": {
    "ExecuteTime": {
     "end_time": "2020-09-01T16:18:42.808200Z",
     "start_time": "2020-09-01T16:18:42.786498Z"
    }
   },
   "outputs": [
    {
     "data": {
      "text/plain": [
       "Timestamp('2015-10-31 00:00:00')"
      ]
     },
     "execution_count": 36,
     "metadata": {},
     "output_type": "execute_result"
    }
   ],
   "source": [
    "date.max()"
   ]
  },
  {
   "cell_type": "markdown",
   "metadata": {},
   "source": [
    "Everything is fine."
   ]
  },
  {
   "cell_type": "markdown",
   "metadata": {},
   "source": [
    "#### data_block_num"
   ]
  },
  {
   "cell_type": "markdown",
   "metadata": {},
   "source": [
    "According to competition page on Kaggle:\n",
    "> **date_block_num** - a consecutive month number, used for convenience. January 2013 is 0, February 2013 is 1,..., October 2015 is 33"
   ]
  },
  {
   "cell_type": "code",
   "execution_count": 37,
   "metadata": {
    "ExecuteTime": {
     "end_time": "2020-09-01T16:18:42.845819Z",
     "start_time": "2020-09-01T16:18:42.814648Z"
    }
   },
   "outputs": [
    {
     "data": {
      "text/plain": [
       "array([ 0,  1,  2,  3,  4,  5,  6,  7,  8,  9, 10, 11, 12, 13, 14, 15, 16,\n",
       "       17, 18, 19, 20, 21, 22, 23, 24, 25, 26, 27, 28, 29, 30, 31, 32, 33])"
      ]
     },
     "execution_count": 37,
     "metadata": {},
     "output_type": "execute_result"
    }
   ],
   "source": [
    "sales_train.date_block_num.unique()"
   ]
  },
  {
   "cell_type": "markdown",
   "metadata": {},
   "source": [
    "#### shop_id"
   ]
  },
  {
   "cell_type": "code",
   "execution_count": 38,
   "metadata": {
    "ExecuteTime": {
     "end_time": "2020-09-01T16:18:42.877157Z",
     "start_time": "2020-09-01T16:18:42.848618Z"
    }
   },
   "outputs": [
    {
     "data": {
      "text/plain": [
       "True"
      ]
     },
     "execution_count": 38,
     "metadata": {},
     "output_type": "execute_result"
    }
   ],
   "source": [
    "set(sales_train.shop_id.unique()) == set(shops.shop_id.to_list())"
   ]
  },
  {
   "cell_type": "markdown",
   "metadata": {},
   "source": [
    "There is no redundant shops."
   ]
  },
  {
   "cell_type": "markdown",
   "metadata": {},
   "source": [
    "#### item_id"
   ]
  },
  {
   "cell_type": "code",
   "execution_count": 39,
   "metadata": {
    "ExecuteTime": {
     "end_time": "2020-09-01T16:18:42.941674Z",
     "start_time": "2020-09-01T16:18:42.879816Z"
    }
   },
   "outputs": [
    {
     "data": {
      "text/plain": [
       "False"
      ]
     },
     "execution_count": 39,
     "metadata": {},
     "output_type": "execute_result"
    }
   ],
   "source": [
    "set_sales = set(sales_train.item_id.unique())\n",
    "set_items = set(items.item_id.to_list())\n",
    "set_sales == set_items"
   ]
  },
  {
   "cell_type": "markdown",
   "metadata": {},
   "source": [
    "These are different sets."
   ]
  },
  {
   "cell_type": "code",
   "execution_count": 40,
   "metadata": {
    "ExecuteTime": {
     "end_time": "2020-09-01T16:18:42.965667Z",
     "start_time": "2020-09-01T16:18:42.944785Z"
    }
   },
   "outputs": [
    {
     "data": {
      "text/plain": [
       "True"
      ]
     },
     "execution_count": 40,
     "metadata": {},
     "output_type": "execute_result"
    }
   ],
   "source": [
    "set_sales.issubset(set_items)"
   ]
  },
  {
   "cell_type": "code",
   "execution_count": 41,
   "metadata": {
    "ExecuteTime": {
     "end_time": "2020-09-01T16:18:42.994704Z",
     "start_time": "2020-09-01T16:18:42.969202Z"
    }
   },
   "outputs": [
    {
     "data": {
      "text/plain": [
       "363"
      ]
     },
     "execution_count": 41,
     "metadata": {},
     "output_type": "execute_result"
    }
   ],
   "source": [
    "extra_items = set_items.difference(set_sales)\n",
    "len(extra_items)"
   ]
  },
  {
   "cell_type": "markdown",
   "metadata": {},
   "source": [
    "As we can see, there is a list of items, that are not present in a `sales_train`. We should check them in a `test`."
   ]
  },
  {
   "cell_type": "markdown",
   "metadata": {},
   "source": [
    "#### item_price"
   ]
  },
  {
   "cell_type": "code",
   "execution_count": 42,
   "metadata": {
    "ExecuteTime": {
     "end_time": "2020-09-01T16:18:43.187109Z",
     "start_time": "2020-09-01T16:18:42.997441Z"
    }
   },
   "outputs": [
    {
     "data": {
      "text/plain": [
       "count    2.935849e+06\n",
       "mean     8.908532e+02\n",
       "std      1.729800e+03\n",
       "min     -1.000000e+00\n",
       "25%      2.490000e+02\n",
       "50%      3.990000e+02\n",
       "75%      9.990000e+02\n",
       "max      3.079800e+05\n",
       "Name: item_price, dtype: float64"
      ]
     },
     "execution_count": 42,
     "metadata": {},
     "output_type": "execute_result"
    }
   ],
   "source": [
    "sales_train.item_price.describe()"
   ]
  },
  {
   "cell_type": "markdown",
   "metadata": {},
   "source": [
    "As we can see, there is no nans, but there is negative value. Let's check it."
   ]
  },
  {
   "cell_type": "code",
   "execution_count": 43,
   "metadata": {
    "ExecuteTime": {
     "end_time": "2020-09-01T16:18:43.222431Z",
     "start_time": "2020-09-01T16:18:43.195761Z"
    }
   },
   "outputs": [
    {
     "data": {
      "text/html": [
       "<div>\n",
       "<style scoped>\n",
       "    .dataframe tbody tr th:only-of-type {\n",
       "        vertical-align: middle;\n",
       "    }\n",
       "\n",
       "    .dataframe tbody tr th {\n",
       "        vertical-align: top;\n",
       "    }\n",
       "\n",
       "    .dataframe thead th {\n",
       "        text-align: right;\n",
       "    }\n",
       "</style>\n",
       "<table border=\"1\" class=\"dataframe\">\n",
       "  <thead>\n",
       "    <tr style=\"text-align: right;\">\n",
       "      <th></th>\n",
       "      <th>date</th>\n",
       "      <th>date_block_num</th>\n",
       "      <th>shop_id</th>\n",
       "      <th>item_id</th>\n",
       "      <th>item_price</th>\n",
       "      <th>item_cnt_day</th>\n",
       "    </tr>\n",
       "  </thead>\n",
       "  <tbody>\n",
       "    <tr>\n",
       "      <th>484683</th>\n",
       "      <td>15.05.2013</td>\n",
       "      <td>4</td>\n",
       "      <td>32</td>\n",
       "      <td>2973</td>\n",
       "      <td>-1.0</td>\n",
       "      <td>1.0</td>\n",
       "    </tr>\n",
       "  </tbody>\n",
       "</table>\n",
       "</div>"
      ],
      "text/plain": [
       "              date  date_block_num  shop_id  item_id  item_price  item_cnt_day\n",
       "484683  15.05.2013               4       32     2973        -1.0           1.0"
      ]
     },
     "execution_count": 43,
     "metadata": {},
     "output_type": "execute_result"
    }
   ],
   "source": [
    "sales_train[sales_train.item_price <= 1e-9]"
   ]
  },
  {
   "cell_type": "markdown",
   "metadata": {},
   "source": [
    "There is just one such value. It looks like outlier, I think it will be better to delete this row."
   ]
  },
  {
   "cell_type": "code",
   "execution_count": 44,
   "metadata": {
    "ExecuteTime": {
     "end_time": "2020-09-01T16:18:43.380175Z",
     "start_time": "2020-09-01T16:18:43.225295Z"
    }
   },
   "outputs": [],
   "source": [
    "sales_train_cleaned = sales_train[sales_train.item_price > 0]"
   ]
  },
  {
   "cell_type": "markdown",
   "metadata": {},
   "source": [
    "Let's plot histogram to check other strange values. We will plot log1p, because of too big range of values."
   ]
  },
  {
   "cell_type": "code",
   "execution_count": 45,
   "metadata": {
    "ExecuteTime": {
     "end_time": "2020-09-01T16:19:10.959543Z",
     "start_time": "2020-09-01T16:18:43.382016Z"
    }
   },
   "outputs": [
    {
     "data": {
      "image/png": "[encoded data removed]",
      "text/plain": [
       "<Figure size 1152x648 with 1 Axes>"
      ]
     },
     "metadata": {
      "needs_background": "light"
     },
     "output_type": "display_data"
    }
   ],
   "source": [
    "plt.figure(figsize=(16, 9))\n",
    "plt.hist(np.log1p(sales_train_cleaned.item_price))\n",
    "plt.xlabel('$\\log(1 + price)$')\n",
    "plt.title('Histogram of log1p for price')\n",
    "plt.show()"
   ]
  },
  {
   "cell_type": "markdown",
   "metadata": {},
   "source": [
    "Looks fine for using in linear models (not too skewed)."
   ]
  },
  {
   "cell_type": "markdown",
   "metadata": {},
   "source": [
    "It can be very interesting to look at dynamic of prices for particular item."
   ]
  },
  {
   "cell_type": "code",
   "execution_count": 46,
   "metadata": {
    "ExecuteTime": {
     "end_time": "2020-09-01T16:19:10.981376Z",
     "start_time": "2020-09-01T16:19:10.963100Z"
    }
   },
   "outputs": [
    {
     "data": {
      "text/html": [
       "<div>\n",
       "<style scoped>\n",
       "    .dataframe tbody tr th:only-of-type {\n",
       "        vertical-align: middle;\n",
       "    }\n",
       "\n",
       "    .dataframe tbody tr th {\n",
       "        vertical-align: top;\n",
       "    }\n",
       "\n",
       "    .dataframe thead th {\n",
       "        text-align: right;\n",
       "    }\n",
       "</style>\n",
       "<table border=\"1\" class=\"dataframe\">\n",
       "  <thead>\n",
       "    <tr style=\"text-align: right;\">\n",
       "      <th></th>\n",
       "      <th>date</th>\n",
       "      <th>date_block_num</th>\n",
       "      <th>shop_id</th>\n",
       "      <th>item_id</th>\n",
       "      <th>item_price</th>\n",
       "      <th>item_cnt_day</th>\n",
       "    </tr>\n",
       "  </thead>\n",
       "  <tbody>\n",
       "    <tr>\n",
       "      <th>0</th>\n",
       "      <td>02.01.2013</td>\n",
       "      <td>0</td>\n",
       "      <td>59</td>\n",
       "      <td>22154</td>\n",
       "      <td>999.00</td>\n",
       "      <td>1.0</td>\n",
       "    </tr>\n",
       "    <tr>\n",
       "      <th>1</th>\n",
       "      <td>03.01.2013</td>\n",
       "      <td>0</td>\n",
       "      <td>25</td>\n",
       "      <td>2552</td>\n",
       "      <td>899.00</td>\n",
       "      <td>1.0</td>\n",
       "    </tr>\n",
       "    <tr>\n",
       "      <th>2</th>\n",
       "      <td>05.01.2013</td>\n",
       "      <td>0</td>\n",
       "      <td>25</td>\n",
       "      <td>2552</td>\n",
       "      <td>899.00</td>\n",
       "      <td>-1.0</td>\n",
       "    </tr>\n",
       "    <tr>\n",
       "      <th>3</th>\n",
       "      <td>06.01.2013</td>\n",
       "      <td>0</td>\n",
       "      <td>25</td>\n",
       "      <td>2554</td>\n",
       "      <td>1709.05</td>\n",
       "      <td>1.0</td>\n",
       "    </tr>\n",
       "    <tr>\n",
       "      <th>4</th>\n",
       "      <td>15.01.2013</td>\n",
       "      <td>0</td>\n",
       "      <td>25</td>\n",
       "      <td>2555</td>\n",
       "      <td>1099.00</td>\n",
       "      <td>1.0</td>\n",
       "    </tr>\n",
       "  </tbody>\n",
       "</table>\n",
       "</div>"
      ],
      "text/plain": [
       "         date  date_block_num  shop_id  item_id  item_price  item_cnt_day\n",
       "0  02.01.2013               0       59    22154      999.00           1.0\n",
       "1  03.01.2013               0       25     2552      899.00           1.0\n",
       "2  05.01.2013               0       25     2552      899.00          -1.0\n",
       "3  06.01.2013               0       25     2554     1709.05           1.0\n",
       "4  15.01.2013               0       25     2555     1099.00           1.0"
      ]
     },
     "execution_count": 46,
     "metadata": {},
     "output_type": "execute_result"
    }
   ],
   "source": [
    "sales_train_cleaned.head()"
   ]
  },
  {
   "cell_type": "code",
   "execution_count": 47,
   "metadata": {
    "ExecuteTime": {
     "end_time": "2020-09-01T16:19:12.036040Z",
     "start_time": "2020-09-01T16:19:10.984943Z"
    }
   },
   "outputs": [
    {
     "data": {
      "text/html": [
       "<div>\n",
       "<style scoped>\n",
       "    .dataframe tbody tr th:only-of-type {\n",
       "        vertical-align: middle;\n",
       "    }\n",
       "\n",
       "    .dataframe tbody tr th {\n",
       "        vertical-align: top;\n",
       "    }\n",
       "\n",
       "    .dataframe thead tr th {\n",
       "        text-align: left;\n",
       "    }\n",
       "</style>\n",
       "<table border=\"1\" class=\"dataframe\">\n",
       "  <thead>\n",
       "    <tr>\n",
       "      <th></th>\n",
       "      <th colspan=\"4\" halign=\"left\">item_price</th>\n",
       "    </tr>\n",
       "    <tr>\n",
       "      <th></th>\n",
       "      <th>mean</th>\n",
       "      <th>median</th>\n",
       "      <th>std</th>\n",
       "      <th>nunique</th>\n",
       "    </tr>\n",
       "  </thead>\n",
       "  <tbody>\n",
       "    <tr>\n",
       "      <th>count</th>\n",
       "      <td>21807.000000</td>\n",
       "      <td>21807.000000</td>\n",
       "      <td>19436.000000</td>\n",
       "      <td>21807.000000</td>\n",
       "    </tr>\n",
       "    <tr>\n",
       "      <th>mean</th>\n",
       "      <td>823.890533</td>\n",
       "      <td>831.707436</td>\n",
       "      <td>93.444046</td>\n",
       "      <td>5.512679</td>\n",
       "    </tr>\n",
       "    <tr>\n",
       "      <th>std</th>\n",
       "      <td>2784.195719</td>\n",
       "      <td>2787.845822</td>\n",
       "      <td>208.202289</td>\n",
       "      <td>14.814321</td>\n",
       "    </tr>\n",
       "    <tr>\n",
       "      <th>min</th>\n",
       "      <td>4.914856</td>\n",
       "      <td>0.100000</td>\n",
       "      <td>0.000000</td>\n",
       "      <td>1.000000</td>\n",
       "    </tr>\n",
       "    <tr>\n",
       "      <th>25%</th>\n",
       "      <td>186.541323</td>\n",
       "      <td>198.000000</td>\n",
       "      <td>14.616716</td>\n",
       "      <td>1.000000</td>\n",
       "    </tr>\n",
       "    <tr>\n",
       "      <th>50%</th>\n",
       "      <td>322.363636</td>\n",
       "      <td>349.000000</td>\n",
       "      <td>33.965593</td>\n",
       "      <td>3.000000</td>\n",
       "    </tr>\n",
       "    <tr>\n",
       "      <th>75%</th>\n",
       "      <td>850.000000</td>\n",
       "      <td>849.000000</td>\n",
       "      <td>93.517263</td>\n",
       "      <td>6.000000</td>\n",
       "    </tr>\n",
       "    <tr>\n",
       "      <th>max</th>\n",
       "      <td>307980.000000</td>\n",
       "      <td>307980.000000</td>\n",
       "      <td>5813.875386</td>\n",
       "      <td>1601.000000</td>\n",
       "    </tr>\n",
       "  </tbody>\n",
       "</table>\n",
       "</div>"
      ],
      "text/plain": [
       "          item_price                                           \n",
       "                mean         median           std       nunique\n",
       "count   21807.000000   21807.000000  19436.000000  21807.000000\n",
       "mean      823.890533     831.707436     93.444046      5.512679\n",
       "std      2784.195719    2787.845822    208.202289     14.814321\n",
       "min         4.914856       0.100000      0.000000      1.000000\n",
       "25%       186.541323     198.000000     14.616716      1.000000\n",
       "50%       322.363636     349.000000     33.965593      3.000000\n",
       "75%       850.000000     849.000000     93.517263      6.000000\n",
       "max    307980.000000  307980.000000   5813.875386   1601.000000"
      ]
     },
     "execution_count": 47,
     "metadata": {},
     "output_type": "execute_result"
    }
   ],
   "source": [
    "sales_train_cleaned.groupby('item_id').agg(\n",
    "    {'item_price': ['mean', 'median', 'std', 'nunique']}\n",
    ").describe()"
   ]
  },
  {
   "cell_type": "markdown",
   "metadata": {},
   "source": [
    "It can be reasonable to remove too expansive items, that are not present in test dataset."
   ]
  },
  {
   "cell_type": "code",
   "execution_count": 48,
   "metadata": {
    "ExecuteTime": {
     "end_time": "2020-09-01T16:19:12.204225Z",
     "start_time": "2020-09-01T16:19:12.038155Z"
    }
   },
   "outputs": [
    {
     "data": {
      "text/html": [
       "<div>\n",
       "<style scoped>\n",
       "    .dataframe tbody tr th:only-of-type {\n",
       "        vertical-align: middle;\n",
       "    }\n",
       "\n",
       "    .dataframe tbody tr th {\n",
       "        vertical-align: top;\n",
       "    }\n",
       "\n",
       "    .dataframe thead tr th {\n",
       "        text-align: left;\n",
       "    }\n",
       "\n",
       "    .dataframe thead tr:last-of-type th {\n",
       "        text-align: right;\n",
       "    }\n",
       "</style>\n",
       "<table border=\"1\" class=\"dataframe\">\n",
       "  <thead>\n",
       "    <tr>\n",
       "      <th></th>\n",
       "      <th colspan=\"3\" halign=\"left\">item_price</th>\n",
       "    </tr>\n",
       "    <tr>\n",
       "      <th></th>\n",
       "      <th>median</th>\n",
       "      <th>min</th>\n",
       "      <th>max</th>\n",
       "    </tr>\n",
       "    <tr>\n",
       "      <th>item_id</th>\n",
       "      <th></th>\n",
       "      <th></th>\n",
       "      <th></th>\n",
       "    </tr>\n",
       "  </thead>\n",
       "  <tbody>\n",
       "    <tr>\n",
       "      <th>6066</th>\n",
       "      <td>307980.0</td>\n",
       "      <td>307980.0</td>\n",
       "      <td>307980.0</td>\n",
       "    </tr>\n",
       "    <tr>\n",
       "      <th>13199</th>\n",
       "      <td>50999.0</td>\n",
       "      <td>50999.0</td>\n",
       "      <td>50999.0</td>\n",
       "    </tr>\n",
       "    <tr>\n",
       "      <th>7241</th>\n",
       "      <td>49782.0</td>\n",
       "      <td>49782.0</td>\n",
       "      <td>49782.0</td>\n",
       "    </tr>\n",
       "    <tr>\n",
       "      <th>7238</th>\n",
       "      <td>42000.0</td>\n",
       "      <td>42000.0</td>\n",
       "      <td>42000.0</td>\n",
       "    </tr>\n",
       "    <tr>\n",
       "      <th>13403</th>\n",
       "      <td>41990.0</td>\n",
       "      <td>28992.0</td>\n",
       "      <td>42990.0</td>\n",
       "    </tr>\n",
       "    <tr>\n",
       "      <th>14173</th>\n",
       "      <td>40900.0</td>\n",
       "      <td>40900.0</td>\n",
       "      <td>40900.0</td>\n",
       "    </tr>\n",
       "    <tr>\n",
       "      <th>5748</th>\n",
       "      <td>35990.0</td>\n",
       "      <td>32990.0</td>\n",
       "      <td>36990.0</td>\n",
       "    </tr>\n",
       "    <tr>\n",
       "      <th>13448</th>\n",
       "      <td>34990.0</td>\n",
       "      <td>33490.0</td>\n",
       "      <td>34990.0</td>\n",
       "    </tr>\n",
       "    <tr>\n",
       "      <th>13503</th>\n",
       "      <td>34990.0</td>\n",
       "      <td>34990.0</td>\n",
       "      <td>34990.0</td>\n",
       "    </tr>\n",
       "    <tr>\n",
       "      <th>2410</th>\n",
       "      <td>34713.5</td>\n",
       "      <td>32437.0</td>\n",
       "      <td>36990.0</td>\n",
       "    </tr>\n",
       "  </tbody>\n",
       "</table>\n",
       "</div>"
      ],
      "text/plain": [
       "        item_price                    \n",
       "            median       min       max\n",
       "item_id                               \n",
       "6066      307980.0  307980.0  307980.0\n",
       "13199      50999.0   50999.0   50999.0\n",
       "7241       49782.0   49782.0   49782.0\n",
       "7238       42000.0   42000.0   42000.0\n",
       "13403      41990.0   28992.0   42990.0\n",
       "14173      40900.0   40900.0   40900.0\n",
       "5748       35990.0   32990.0   36990.0\n",
       "13448      34990.0   33490.0   34990.0\n",
       "13503      34990.0   34990.0   34990.0\n",
       "2410       34713.5   32437.0   36990.0"
      ]
     },
     "execution_count": 48,
     "metadata": {},
     "output_type": "execute_result"
    }
   ],
   "source": [
    "items_prices = sales_train_cleaned.groupby('item_id').agg(\n",
    "    {'item_price': ['median', 'min', 'max']}\n",
    ").sort_values(('item_price', 'median'), ascending=False)\n",
    "items_prices.head(10)"
   ]
  },
  {
   "cell_type": "markdown",
   "metadata": {},
   "source": [
    "Check, that the most expensive prices are not present in test data."
   ]
  },
  {
   "cell_type": "code",
   "execution_count": 49,
   "metadata": {
    "ExecuteTime": {
     "end_time": "2020-09-01T16:19:12.230530Z",
     "start_time": "2020-09-01T16:19:12.207518Z"
    }
   },
   "outputs": [
    {
     "data": {
      "text/html": [
       "<div>\n",
       "<style scoped>\n",
       "    .dataframe tbody tr th:only-of-type {\n",
       "        vertical-align: middle;\n",
       "    }\n",
       "\n",
       "    .dataframe tbody tr th {\n",
       "        vertical-align: top;\n",
       "    }\n",
       "\n",
       "    .dataframe thead tr th {\n",
       "        text-align: left;\n",
       "    }\n",
       "\n",
       "    .dataframe thead tr:last-of-type th {\n",
       "        text-align: right;\n",
       "    }\n",
       "</style>\n",
       "<table border=\"1\" class=\"dataframe\">\n",
       "  <thead>\n",
       "    <tr>\n",
       "      <th></th>\n",
       "      <th colspan=\"3\" halign=\"left\">item_price</th>\n",
       "      <th>in_test</th>\n",
       "    </tr>\n",
       "    <tr>\n",
       "      <th></th>\n",
       "      <th>median</th>\n",
       "      <th>min</th>\n",
       "      <th>max</th>\n",
       "      <th></th>\n",
       "    </tr>\n",
       "    <tr>\n",
       "      <th>item_id</th>\n",
       "      <th></th>\n",
       "      <th></th>\n",
       "      <th></th>\n",
       "      <th></th>\n",
       "    </tr>\n",
       "  </thead>\n",
       "  <tbody>\n",
       "    <tr>\n",
       "      <th>6066</th>\n",
       "      <td>307980.0</td>\n",
       "      <td>307980.0</td>\n",
       "      <td>307980.0</td>\n",
       "      <td>False</td>\n",
       "    </tr>\n",
       "    <tr>\n",
       "      <th>13199</th>\n",
       "      <td>50999.0</td>\n",
       "      <td>50999.0</td>\n",
       "      <td>50999.0</td>\n",
       "      <td>False</td>\n",
       "    </tr>\n",
       "    <tr>\n",
       "      <th>7241</th>\n",
       "      <td>49782.0</td>\n",
       "      <td>49782.0</td>\n",
       "      <td>49782.0</td>\n",
       "      <td>False</td>\n",
       "    </tr>\n",
       "    <tr>\n",
       "      <th>7238</th>\n",
       "      <td>42000.0</td>\n",
       "      <td>42000.0</td>\n",
       "      <td>42000.0</td>\n",
       "      <td>False</td>\n",
       "    </tr>\n",
       "    <tr>\n",
       "      <th>13403</th>\n",
       "      <td>41990.0</td>\n",
       "      <td>28992.0</td>\n",
       "      <td>42990.0</td>\n",
       "      <td>True</td>\n",
       "    </tr>\n",
       "    <tr>\n",
       "      <th>14173</th>\n",
       "      <td>40900.0</td>\n",
       "      <td>40900.0</td>\n",
       "      <td>40900.0</td>\n",
       "      <td>False</td>\n",
       "    </tr>\n",
       "    <tr>\n",
       "      <th>5748</th>\n",
       "      <td>35990.0</td>\n",
       "      <td>32990.0</td>\n",
       "      <td>36990.0</td>\n",
       "      <td>False</td>\n",
       "    </tr>\n",
       "    <tr>\n",
       "      <th>13448</th>\n",
       "      <td>34990.0</td>\n",
       "      <td>33490.0</td>\n",
       "      <td>34990.0</td>\n",
       "      <td>True</td>\n",
       "    </tr>\n",
       "    <tr>\n",
       "      <th>13503</th>\n",
       "      <td>34990.0</td>\n",
       "      <td>34990.0</td>\n",
       "      <td>34990.0</td>\n",
       "      <td>True</td>\n",
       "    </tr>\n",
       "    <tr>\n",
       "      <th>2410</th>\n",
       "      <td>34713.5</td>\n",
       "      <td>32437.0</td>\n",
       "      <td>36990.0</td>\n",
       "      <td>False</td>\n",
       "    </tr>\n",
       "  </tbody>\n",
       "</table>\n",
       "</div>"
      ],
      "text/plain": [
       "        item_price                     in_test\n",
       "            median       min       max        \n",
       "item_id                                       \n",
       "6066      307980.0  307980.0  307980.0   False\n",
       "13199      50999.0   50999.0   50999.0   False\n",
       "7241       49782.0   49782.0   49782.0   False\n",
       "7238       42000.0   42000.0   42000.0   False\n",
       "13403      41990.0   28992.0   42990.0    True\n",
       "14173      40900.0   40900.0   40900.0   False\n",
       "5748       35990.0   32990.0   36990.0   False\n",
       "13448      34990.0   33490.0   34990.0    True\n",
       "13503      34990.0   34990.0   34990.0    True\n",
       "2410       34713.5   32437.0   36990.0   False"
      ]
     },
     "execution_count": 49,
     "metadata": {},
     "output_type": "execute_result"
    }
   ],
   "source": [
    "items_prices['in_test'] = items_prices.index.isin(test.item_id.unique())\n",
    "items_prices.head(10)"
   ]
  },
  {
   "cell_type": "markdown",
   "metadata": {},
   "source": [
    "We can remove three the most expensive items."
   ]
  },
  {
   "cell_type": "markdown",
   "metadata": {},
   "source": [
    "#### item_cnt_day"
   ]
  },
  {
   "cell_type": "markdown",
   "metadata": {},
   "source": [
    "According to competition page on Kaggle:\n",
    "> **item_cnt_day** - number of products sold. You are predicting a monthly amount of this measure\n",
    "\n",
    "As I understand, negative values tell us about return of item."
   ]
  },
  {
   "cell_type": "code",
   "execution_count": 50,
   "metadata": {
    "ExecuteTime": {
     "end_time": "2020-09-01T16:19:12.333155Z",
     "start_time": "2020-09-01T16:19:12.232809Z"
    }
   },
   "outputs": [
    {
     "data": {
      "text/plain": [
       "count    2.935849e+06\n",
       "mean     1.242641e+00\n",
       "std      2.618834e+00\n",
       "min     -2.200000e+01\n",
       "25%      1.000000e+00\n",
       "50%      1.000000e+00\n",
       "75%      1.000000e+00\n",
       "max      2.169000e+03\n",
       "Name: item_cnt_day, dtype: float64"
      ]
     },
     "execution_count": 50,
     "metadata": {},
     "output_type": "execute_result"
    }
   ],
   "source": [
    "sales_train.item_cnt_day.describe()"
   ]
  },
  {
   "cell_type": "markdown",
   "metadata": {},
   "source": [
    "Check, that there is no strange values."
   ]
  },
  {
   "cell_type": "code",
   "execution_count": 51,
   "metadata": {
    "ExecuteTime": {
     "end_time": "2020-09-01T16:19:12.370648Z",
     "start_time": "2020-09-01T16:19:12.336017Z"
    }
   },
   "outputs": [
    {
     "data": {
      "text/plain": [
       "array([-2.200e+01, -1.600e+01, -9.000e+00, -6.000e+00, -5.000e+00,\n",
       "       -4.000e+00, -3.000e+00, -2.000e+00, -1.000e+00,  1.000e+00,\n",
       "        2.000e+00,  3.000e+00,  4.000e+00,  5.000e+00,  6.000e+00,\n",
       "        7.000e+00,  8.000e+00,  9.000e+00,  1.000e+01,  1.100e+01,\n",
       "        1.200e+01,  1.300e+01,  1.400e+01,  1.500e+01,  1.600e+01,\n",
       "        1.700e+01,  1.800e+01,  1.900e+01,  2.000e+01,  2.100e+01,\n",
       "        2.200e+01,  2.300e+01,  2.400e+01,  2.500e+01,  2.600e+01,\n",
       "        2.700e+01,  2.800e+01,  2.900e+01,  3.000e+01,  3.100e+01,\n",
       "        3.200e+01,  3.300e+01,  3.400e+01,  3.500e+01,  3.600e+01,\n",
       "        3.700e+01,  3.800e+01,  3.900e+01,  4.000e+01,  4.100e+01,\n",
       "        4.200e+01,  4.300e+01,  4.400e+01,  4.500e+01,  4.600e+01,\n",
       "        4.700e+01,  4.800e+01,  4.900e+01,  5.000e+01,  5.100e+01,\n",
       "        5.200e+01,  5.300e+01,  5.400e+01,  5.500e+01,  5.600e+01,\n",
       "        5.700e+01,  5.800e+01,  5.900e+01,  6.000e+01,  6.100e+01,\n",
       "        6.200e+01,  6.300e+01,  6.400e+01,  6.500e+01,  6.600e+01,\n",
       "        6.700e+01,  6.800e+01,  6.900e+01,  7.000e+01,  7.100e+01,\n",
       "        7.200e+01,  7.300e+01,  7.400e+01,  7.500e+01,  7.600e+01,\n",
       "        7.700e+01,  7.800e+01,  7.900e+01,  8.000e+01,  8.100e+01,\n",
       "        8.200e+01,  8.300e+01,  8.400e+01,  8.500e+01,  8.600e+01,\n",
       "        8.700e+01,  8.800e+01,  8.900e+01,  9.000e+01,  9.100e+01,\n",
       "        9.200e+01,  9.300e+01,  9.500e+01,  9.600e+01,  9.700e+01,\n",
       "        9.800e+01,  9.900e+01,  1.000e+02,  1.010e+02,  1.020e+02,\n",
       "        1.030e+02,  1.040e+02,  1.050e+02,  1.060e+02,  1.070e+02,\n",
       "        1.080e+02,  1.090e+02,  1.100e+02,  1.110e+02,  1.120e+02,\n",
       "        1.130e+02,  1.140e+02,  1.150e+02,  1.160e+02,  1.170e+02,\n",
       "        1.180e+02,  1.210e+02,  1.240e+02,  1.260e+02,  1.270e+02,\n",
       "        1.280e+02,  1.290e+02,  1.300e+02,  1.310e+02,  1.320e+02,\n",
       "        1.330e+02,  1.340e+02,  1.350e+02,  1.380e+02,  1.390e+02,\n",
       "        1.400e+02,  1.420e+02,  1.450e+02,  1.460e+02,  1.470e+02,\n",
       "        1.480e+02,  1.490e+02,  1.500e+02,  1.510e+02,  1.530e+02,\n",
       "        1.540e+02,  1.560e+02,  1.570e+02,  1.610e+02,  1.630e+02,\n",
       "        1.640e+02,  1.670e+02,  1.680e+02,  1.710e+02,  1.790e+02,\n",
       "        1.870e+02,  1.940e+02,  1.950e+02,  2.000e+02,  2.050e+02,\n",
       "        2.070e+02,  2.170e+02,  2.220e+02,  2.300e+02,  2.310e+02,\n",
       "        2.400e+02,  2.420e+02,  2.510e+02,  2.550e+02,  2.640e+02,\n",
       "        2.880e+02,  2.990e+02,  3.000e+02,  3.130e+02,  3.250e+02,\n",
       "        3.430e+02,  4.010e+02,  4.050e+02,  4.120e+02,  4.800e+02,\n",
       "        5.000e+02,  5.010e+02,  5.020e+02,  5.040e+02,  5.080e+02,\n",
       "        5.120e+02,  5.330e+02,  5.390e+02,  6.240e+02,  6.370e+02,\n",
       "        6.690e+02,  1.000e+03,  2.169e+03])"
      ]
     },
     "execution_count": 51,
     "metadata": {},
     "output_type": "execute_result"
    }
   ],
   "source": [
    "np.sort(sales_train.item_cnt_day.unique())"
   ]
  },
  {
   "cell_type": "markdown",
   "metadata": {},
   "source": [
    "Looks fine."
   ]
  },
  {
   "cell_type": "markdown",
   "metadata": {},
   "source": [
    "Look at returns."
   ]
  },
  {
   "cell_type": "code",
   "execution_count": 52,
   "metadata": {
    "ExecuteTime": {
     "end_time": "2020-09-01T16:19:12.389725Z",
     "start_time": "2020-09-01T16:19:12.373286Z"
    }
   },
   "outputs": [
    {
     "data": {
      "text/plain": [
       "7356"
      ]
     },
     "execution_count": 52,
     "metadata": {},
     "output_type": "execute_result"
    }
   ],
   "source": [
    "(sales_train.item_cnt_day < 0).sum()"
   ]
  },
  {
   "cell_type": "markdown",
   "metadata": {},
   "source": [
    "It is small number compared to all rows."
   ]
  },
  {
   "cell_type": "markdown",
   "metadata": {},
   "source": [
    "It can be reasonable to remove too popular items that are not present in test dataset."
   ]
  },
  {
   "cell_type": "code",
   "execution_count": 53,
   "metadata": {
    "ExecuteTime": {
     "end_time": "2020-09-01T16:19:12.732910Z",
     "start_time": "2020-09-01T16:19:12.392498Z"
    }
   },
   "outputs": [
    {
     "data": {
      "text/html": [
       "<div>\n",
       "<style scoped>\n",
       "    .dataframe tbody tr th:only-of-type {\n",
       "        vertical-align: middle;\n",
       "    }\n",
       "\n",
       "    .dataframe tbody tr th {\n",
       "        vertical-align: top;\n",
       "    }\n",
       "\n",
       "    .dataframe thead tr th {\n",
       "        text-align: left;\n",
       "    }\n",
       "</style>\n",
       "<table border=\"1\" class=\"dataframe\">\n",
       "  <thead>\n",
       "    <tr>\n",
       "      <th></th>\n",
       "      <th>item_id</th>\n",
       "      <th colspan=\"4\" halign=\"left\">item_cnt_day</th>\n",
       "    </tr>\n",
       "    <tr>\n",
       "      <th></th>\n",
       "      <th></th>\n",
       "      <th colspan=\"4\" halign=\"left\">sum</th>\n",
       "    </tr>\n",
       "    <tr>\n",
       "      <th></th>\n",
       "      <th></th>\n",
       "      <th>sum</th>\n",
       "      <th>median</th>\n",
       "      <th>max</th>\n",
       "      <th>min</th>\n",
       "    </tr>\n",
       "  </thead>\n",
       "  <tbody>\n",
       "    <tr>\n",
       "      <th>20602</th>\n",
       "      <td>20949</td>\n",
       "      <td>187642.0</td>\n",
       "      <td>6547.0</td>\n",
       "      <td>12557.0</td>\n",
       "      <td>255.0</td>\n",
       "    </tr>\n",
       "    <tr>\n",
       "      <th>10006</th>\n",
       "      <td>10201</td>\n",
       "      <td>1334.0</td>\n",
       "      <td>1334.0</td>\n",
       "      <td>1334.0</td>\n",
       "      <td>1334.0</td>\n",
       "    </tr>\n",
       "    <tr>\n",
       "      <th>3282</th>\n",
       "      <td>3351</td>\n",
       "      <td>2021.0</td>\n",
       "      <td>1010.5</td>\n",
       "      <td>1569.0</td>\n",
       "      <td>452.0</td>\n",
       "    </tr>\n",
       "    <tr>\n",
       "      <th>10007</th>\n",
       "      <td>10202</td>\n",
       "      <td>899.0</td>\n",
       "      <td>899.0</td>\n",
       "      <td>899.0</td>\n",
       "      <td>899.0</td>\n",
       "    </tr>\n",
       "    <tr>\n",
       "      <th>7077</th>\n",
       "      <td>7223</td>\n",
       "      <td>798.0</td>\n",
       "      <td>798.0</td>\n",
       "      <td>798.0</td>\n",
       "      <td>798.0</td>\n",
       "    </tr>\n",
       "    <tr>\n",
       "      <th>1546</th>\n",
       "      <td>1583</td>\n",
       "      <td>660.0</td>\n",
       "      <td>660.0</td>\n",
       "      <td>660.0</td>\n",
       "      <td>660.0</td>\n",
       "    </tr>\n",
       "    <tr>\n",
       "      <th>3652</th>\n",
       "      <td>3730</td>\n",
       "      <td>1244.0</td>\n",
       "      <td>622.0</td>\n",
       "      <td>1242.0</td>\n",
       "      <td>2.0</td>\n",
       "    </tr>\n",
       "    <tr>\n",
       "      <th>3653</th>\n",
       "      <td>3731</td>\n",
       "      <td>10099.0</td>\n",
       "      <td>619.0</td>\n",
       "      <td>7300.0</td>\n",
       "      <td>190.0</td>\n",
       "    </tr>\n",
       "    <tr>\n",
       "      <th>4631</th>\n",
       "      <td>4719</td>\n",
       "      <td>1069.0</td>\n",
       "      <td>534.5</td>\n",
       "      <td>829.0</td>\n",
       "      <td>240.0</td>\n",
       "    </tr>\n",
       "    <tr>\n",
       "      <th>7078</th>\n",
       "      <td>7224</td>\n",
       "      <td>504.0</td>\n",
       "      <td>504.0</td>\n",
       "      <td>504.0</td>\n",
       "      <td>504.0</td>\n",
       "    </tr>\n",
       "  </tbody>\n",
       "</table>\n",
       "</div>"
      ],
      "text/plain": [
       "      item_id item_cnt_day                         \n",
       "                       sum                         \n",
       "                       sum  median      max     min\n",
       "20602   20949     187642.0  6547.0  12557.0   255.0\n",
       "10006   10201       1334.0  1334.0   1334.0  1334.0\n",
       "3282     3351       2021.0  1010.5   1569.0   452.0\n",
       "10007   10202        899.0   899.0    899.0   899.0\n",
       "7077     7223        798.0   798.0    798.0   798.0\n",
       "1546     1583        660.0   660.0    660.0   660.0\n",
       "3652     3730       1244.0   622.0   1242.0     2.0\n",
       "3653     3731      10099.0   619.0   7300.0   190.0\n",
       "4631     4719       1069.0   534.5    829.0   240.0\n",
       "7078     7224        504.0   504.0    504.0   504.0"
      ]
     },
     "execution_count": 53,
     "metadata": {},
     "output_type": "execute_result"
    }
   ],
   "source": [
    "items_sold = sales_train_cleaned.groupby(\n",
    "    ['item_id', 'date_block_num'], as_index=False\n",
    ").agg(\n",
    "    {'item_cnt_day': ['sum']}\n",
    ").groupby(\n",
    "    'item_id', as_index=False\n",
    ").agg(\n",
    "    {('item_cnt_day', 'sum'): ['sum', 'median', 'max', 'min']}\n",
    ").sort_values(('item_cnt_day', 'sum', 'median'), ascending=False)\n",
    "items_sold.head(10)"
   ]
  },
  {
   "cell_type": "markdown",
   "metadata": {},
   "source": [
    "Check, that the most expensive prices are not present in test data."
   ]
  },
  {
   "cell_type": "code",
   "execution_count": 54,
   "metadata": {
    "ExecuteTime": {
     "end_time": "2020-09-01T16:19:12.770496Z",
     "start_time": "2020-09-01T16:19:12.735428Z"
    }
   },
   "outputs": [
    {
     "data": {
      "text/html": [
       "<div>\n",
       "<style scoped>\n",
       "    .dataframe tbody tr th:only-of-type {\n",
       "        vertical-align: middle;\n",
       "    }\n",
       "\n",
       "    .dataframe tbody tr th {\n",
       "        vertical-align: top;\n",
       "    }\n",
       "\n",
       "    .dataframe thead tr th {\n",
       "        text-align: left;\n",
       "    }\n",
       "</style>\n",
       "<table border=\"1\" class=\"dataframe\">\n",
       "  <thead>\n",
       "    <tr>\n",
       "      <th></th>\n",
       "      <th>item_id</th>\n",
       "      <th colspan=\"4\" halign=\"left\">item_cnt_day</th>\n",
       "      <th>in_test</th>\n",
       "    </tr>\n",
       "    <tr>\n",
       "      <th></th>\n",
       "      <th></th>\n",
       "      <th colspan=\"4\" halign=\"left\">sum</th>\n",
       "      <th></th>\n",
       "    </tr>\n",
       "    <tr>\n",
       "      <th></th>\n",
       "      <th></th>\n",
       "      <th>sum</th>\n",
       "      <th>median</th>\n",
       "      <th>max</th>\n",
       "      <th>min</th>\n",
       "      <th></th>\n",
       "    </tr>\n",
       "  </thead>\n",
       "  <tbody>\n",
       "    <tr>\n",
       "      <th>20602</th>\n",
       "      <td>20949</td>\n",
       "      <td>187642.0</td>\n",
       "      <td>6547.0</td>\n",
       "      <td>12557.0</td>\n",
       "      <td>255.0</td>\n",
       "      <td>True</td>\n",
       "    </tr>\n",
       "    <tr>\n",
       "      <th>10006</th>\n",
       "      <td>10201</td>\n",
       "      <td>1334.0</td>\n",
       "      <td>1334.0</td>\n",
       "      <td>1334.0</td>\n",
       "      <td>1334.0</td>\n",
       "      <td>True</td>\n",
       "    </tr>\n",
       "    <tr>\n",
       "      <th>3282</th>\n",
       "      <td>3351</td>\n",
       "      <td>2021.0</td>\n",
       "      <td>1010.5</td>\n",
       "      <td>1569.0</td>\n",
       "      <td>452.0</td>\n",
       "      <td>True</td>\n",
       "    </tr>\n",
       "    <tr>\n",
       "      <th>10007</th>\n",
       "      <td>10202</td>\n",
       "      <td>899.0</td>\n",
       "      <td>899.0</td>\n",
       "      <td>899.0</td>\n",
       "      <td>899.0</td>\n",
       "      <td>True</td>\n",
       "    </tr>\n",
       "    <tr>\n",
       "      <th>7077</th>\n",
       "      <td>7223</td>\n",
       "      <td>798.0</td>\n",
       "      <td>798.0</td>\n",
       "      <td>798.0</td>\n",
       "      <td>798.0</td>\n",
       "      <td>True</td>\n",
       "    </tr>\n",
       "    <tr>\n",
       "      <th>1546</th>\n",
       "      <td>1583</td>\n",
       "      <td>660.0</td>\n",
       "      <td>660.0</td>\n",
       "      <td>660.0</td>\n",
       "      <td>660.0</td>\n",
       "      <td>True</td>\n",
       "    </tr>\n",
       "    <tr>\n",
       "      <th>3652</th>\n",
       "      <td>3730</td>\n",
       "      <td>1244.0</td>\n",
       "      <td>622.0</td>\n",
       "      <td>1242.0</td>\n",
       "      <td>2.0</td>\n",
       "      <td>False</td>\n",
       "    </tr>\n",
       "    <tr>\n",
       "      <th>3653</th>\n",
       "      <td>3731</td>\n",
       "      <td>10099.0</td>\n",
       "      <td>619.0</td>\n",
       "      <td>7300.0</td>\n",
       "      <td>190.0</td>\n",
       "      <td>True</td>\n",
       "    </tr>\n",
       "    <tr>\n",
       "      <th>4631</th>\n",
       "      <td>4719</td>\n",
       "      <td>1069.0</td>\n",
       "      <td>534.5</td>\n",
       "      <td>829.0</td>\n",
       "      <td>240.0</td>\n",
       "      <td>True</td>\n",
       "    </tr>\n",
       "    <tr>\n",
       "      <th>7078</th>\n",
       "      <td>7224</td>\n",
       "      <td>504.0</td>\n",
       "      <td>504.0</td>\n",
       "      <td>504.0</td>\n",
       "      <td>504.0</td>\n",
       "      <td>True</td>\n",
       "    </tr>\n",
       "  </tbody>\n",
       "</table>\n",
       "</div>"
      ],
      "text/plain": [
       "      item_id item_cnt_day                          in_test\n",
       "                       sum                                 \n",
       "                       sum  median      max     min        \n",
       "20602   20949     187642.0  6547.0  12557.0   255.0    True\n",
       "10006   10201       1334.0  1334.0   1334.0  1334.0    True\n",
       "3282     3351       2021.0  1010.5   1569.0   452.0    True\n",
       "10007   10202        899.0   899.0    899.0   899.0    True\n",
       "7077     7223        798.0   798.0    798.0   798.0    True\n",
       "1546     1583        660.0   660.0    660.0   660.0    True\n",
       "3652     3730       1244.0   622.0   1242.0     2.0   False\n",
       "3653     3731      10099.0   619.0   7300.0   190.0    True\n",
       "4631     4719       1069.0   534.5    829.0   240.0    True\n",
       "7078     7224        504.0   504.0    504.0   504.0    True"
      ]
     },
     "execution_count": 54,
     "metadata": {},
     "output_type": "execute_result"
    }
   ],
   "source": [
    "items_sold['in_test'] = items_sold.item_id.isin(test.item_id.unique())\n",
    "items_sold.head(10)"
   ]
  },
  {
   "cell_type": "markdown",
   "metadata": {},
   "source": [
    "As we can see, the most popular items are already in test set. We don't have to delete anything."
   ]
  },
  {
   "cell_type": "markdown",
   "metadata": {},
   "source": [
    "#### (item_id, shop_id)"
   ]
  },
  {
   "cell_type": "code",
   "execution_count": 55,
   "metadata": {
    "ExecuteTime": {
     "end_time": "2020-09-01T16:19:15.381951Z",
     "start_time": "2020-09-01T16:19:12.772833Z"
    }
   },
   "outputs": [
    {
     "name": "stdout",
     "output_type": "stream",
     "text": [
      "Num of unique pairs in train: 424124\n"
     ]
    }
   ],
   "source": [
    "train_pairs = set(\n",
    "    map(\n",
    "        lambda x: f'{x[0]}_{x[1]}', \n",
    "        zip(sales_train.item_id, sales_train.shop_id)\n",
    "    )\n",
    ")\n",
    "print(f'Num of unique pairs in train: {len(train_pairs)}')"
   ]
  },
  {
   "cell_type": "markdown",
   "metadata": {},
   "source": [
    "We will compare it with test in the future."
   ]
  },
  {
   "cell_type": "markdown",
   "metadata": {},
   "source": [
    "#### Feature engineering ideas\n",
    "1. `date`:\n",
    "    * Add year, month, day, day of week.\n",
    "    * Add holiday, working_day indicators, time past since last holiday.\n",
    "    * Add fourier features with week periodicity.\n",
    "    \n",
    "2. `item_price`:\n",
    "    * Delete outlier in `item_price` with negative price\n",
    "    * Add integer part of a price and fractional part\n",
    "    * Add log1p of price for more normal distribution (can be beneficial for linar models and NN)\n",
    "    * Deviatioin of price for good in a month\n",
    "    * Remove too three the most expensive items\n",
    "3. `item_cnt_day`\n",
    "    * How many time was item returned in a month"
   ]
  },
  {
   "cell_type": "markdown",
   "metadata": {},
   "source": [
    "### test"
   ]
  },
  {
   "cell_type": "markdown",
   "metadata": {},
   "source": [
    "Examine test set."
   ]
  },
  {
   "cell_type": "code",
   "execution_count": 56,
   "metadata": {
    "ExecuteTime": {
     "end_time": "2020-09-01T16:19:15.401291Z",
     "start_time": "2020-09-01T16:19:15.384612Z"
    }
   },
   "outputs": [
    {
     "data": {
      "text/html": [
       "<div>\n",
       "<style scoped>\n",
       "    .dataframe tbody tr th:only-of-type {\n",
       "        vertical-align: middle;\n",
       "    }\n",
       "\n",
       "    .dataframe tbody tr th {\n",
       "        vertical-align: top;\n",
       "    }\n",
       "\n",
       "    .dataframe thead th {\n",
       "        text-align: right;\n",
       "    }\n",
       "</style>\n",
       "<table border=\"1\" class=\"dataframe\">\n",
       "  <thead>\n",
       "    <tr style=\"text-align: right;\">\n",
       "      <th></th>\n",
       "      <th>ID</th>\n",
       "      <th>shop_id</th>\n",
       "      <th>item_id</th>\n",
       "    </tr>\n",
       "  </thead>\n",
       "  <tbody>\n",
       "    <tr>\n",
       "      <th>0</th>\n",
       "      <td>0</td>\n",
       "      <td>5</td>\n",
       "      <td>5037</td>\n",
       "    </tr>\n",
       "    <tr>\n",
       "      <th>1</th>\n",
       "      <td>1</td>\n",
       "      <td>5</td>\n",
       "      <td>5320</td>\n",
       "    </tr>\n",
       "    <tr>\n",
       "      <th>2</th>\n",
       "      <td>2</td>\n",
       "      <td>5</td>\n",
       "      <td>5233</td>\n",
       "    </tr>\n",
       "    <tr>\n",
       "      <th>3</th>\n",
       "      <td>3</td>\n",
       "      <td>5</td>\n",
       "      <td>5232</td>\n",
       "    </tr>\n",
       "    <tr>\n",
       "      <th>4</th>\n",
       "      <td>4</td>\n",
       "      <td>5</td>\n",
       "      <td>5268</td>\n",
       "    </tr>\n",
       "  </tbody>\n",
       "</table>\n",
       "</div>"
      ],
      "text/plain": [
       "   ID  shop_id  item_id\n",
       "0   0        5     5037\n",
       "1   1        5     5320\n",
       "2   2        5     5233\n",
       "3   3        5     5232\n",
       "4   4        5     5268"
      ]
     },
     "execution_count": 56,
     "metadata": {},
     "output_type": "execute_result"
    }
   ],
   "source": [
    "test.head()"
   ]
  },
  {
   "cell_type": "markdown",
   "metadata": {},
   "source": [
    "#### shop_id"
   ]
  },
  {
   "cell_type": "code",
   "execution_count": 57,
   "metadata": {
    "ExecuteTime": {
     "end_time": "2020-09-01T16:19:15.413125Z",
     "start_time": "2020-09-01T16:19:15.404402Z"
    }
   },
   "outputs": [
    {
     "data": {
      "text/plain": [
       "array([ 5,  4,  6,  3,  2,  7, 10, 12, 28, 31, 26, 25, 22, 24, 21, 15, 16,\n",
       "       18, 14, 19, 42, 50, 49, 53, 52, 47, 48, 57, 58, 59, 55, 56, 36, 37,\n",
       "       35, 38, 34, 46, 41, 44, 39, 45])"
      ]
     },
     "execution_count": 57,
     "metadata": {},
     "output_type": "execute_result"
    }
   ],
   "source": [
    "test.shop_id.unique()"
   ]
  },
  {
   "cell_type": "code",
   "execution_count": 58,
   "metadata": {
    "ExecuteTime": {
     "end_time": "2020-09-01T16:19:15.448155Z",
     "start_time": "2020-09-01T16:19:15.415965Z"
    }
   },
   "outputs": [
    {
     "data": {
      "text/plain": [
       "42"
      ]
     },
     "execution_count": 58,
     "metadata": {},
     "output_type": "execute_result"
    }
   ],
   "source": [
    "test.shop_id.unique().shape[0]"
   ]
  },
  {
   "cell_type": "code",
   "execution_count": 59,
   "metadata": {
    "ExecuteTime": {
     "end_time": "2020-09-01T16:19:15.459252Z",
     "start_time": "2020-09-01T16:19:15.450507Z"
    }
   },
   "outputs": [
    {
     "data": {
      "text/plain": [
       "array([ 0,  1,  2,  3,  4,  5,  6,  7,  8,  9, 10, 11, 12, 13, 14, 15, 16,\n",
       "       17, 18, 19, 20, 21, 22, 23, 24, 25, 26, 27, 28, 29, 30, 31, 32, 33,\n",
       "       34, 35, 36, 37, 38, 39, 40, 41, 42, 43, 44, 45, 46, 47, 48, 49, 50,\n",
       "       51, 52, 53, 54, 55, 56, 57, 58, 59])"
      ]
     },
     "execution_count": 59,
     "metadata": {},
     "output_type": "execute_result"
    }
   ],
   "source": [
    "shops.shop_id.unique()"
   ]
  },
  {
   "cell_type": "code",
   "execution_count": 60,
   "metadata": {
    "ExecuteTime": {
     "end_time": "2020-09-01T16:19:15.469005Z",
     "start_time": "2020-09-01T16:19:15.461638Z"
    }
   },
   "outputs": [
    {
     "data": {
      "text/plain": [
       "60"
      ]
     },
     "execution_count": 60,
     "metadata": {},
     "output_type": "execute_result"
    }
   ],
   "source": [
    "shops.shop_id.unique().shape[0]"
   ]
  },
  {
   "cell_type": "markdown",
   "metadata": {},
   "source": [
    "There are not all shops in the test dataset. May be, we can use this information somehow."
   ]
  },
  {
   "cell_type": "markdown",
   "metadata": {},
   "source": [
    "Compare shops in train and test."
   ]
  },
  {
   "cell_type": "code",
   "execution_count": 61,
   "metadata": {
    "ExecuteTime": {
     "end_time": "2020-09-01T16:19:15.830215Z",
     "start_time": "2020-09-01T16:19:15.471612Z"
    }
   },
   "outputs": [
    {
     "data": {
      "text/plain": [
       "True"
      ]
     },
     "execution_count": 61,
     "metadata": {},
     "output_type": "execute_result"
    }
   ],
   "source": [
    "set(test.shop_id).issubset(set(sales_train.shop_id))"
   ]
  },
  {
   "cell_type": "markdown",
   "metadata": {},
   "source": [
    "All shops from test is present in train."
   ]
  },
  {
   "cell_type": "markdown",
   "metadata": {},
   "source": [
    "#### item_id"
   ]
  },
  {
   "cell_type": "code",
   "execution_count": 62,
   "metadata": {
    "ExecuteTime": {
     "end_time": "2020-09-01T16:19:15.842291Z",
     "start_time": "2020-09-01T16:19:15.832600Z"
    }
   },
   "outputs": [
    {
     "data": {
      "text/plain": [
       "(5100,)"
      ]
     },
     "execution_count": 62,
     "metadata": {},
     "output_type": "execute_result"
    }
   ],
   "source": [
    "test.item_id.unique().shape"
   ]
  },
  {
   "cell_type": "code",
   "execution_count": 63,
   "metadata": {
    "ExecuteTime": {
     "end_time": "2020-09-01T16:19:15.849220Z",
     "start_time": "2020-09-01T16:19:15.844427Z"
    }
   },
   "outputs": [
    {
     "data": {
      "text/plain": [
       "(22170,)"
      ]
     },
     "execution_count": 63,
     "metadata": {},
     "output_type": "execute_result"
    }
   ],
   "source": [
    "items.item_id.unique().shape"
   ]
  },
  {
   "cell_type": "markdown",
   "metadata": {},
   "source": [
    "Check that set of test items is inside of set of train items."
   ]
  },
  {
   "cell_type": "code",
   "execution_count": 64,
   "metadata": {
    "ExecuteTime": {
     "end_time": "2020-09-01T16:19:16.354691Z",
     "start_time": "2020-09-01T16:19:15.851059Z"
    }
   },
   "outputs": [
    {
     "data": {
      "text/plain": [
       "False"
      ]
     },
     "execution_count": 64,
     "metadata": {},
     "output_type": "execute_result"
    }
   ],
   "source": [
    "test_item_set = set(test.item_id)\n",
    "train_item_set = set(sales_train.item_id)\n",
    "test_item_set.issubset(train_item_set)"
   ]
  },
  {
   "cell_type": "markdown",
   "metadata": {},
   "source": [
    "There are some items, that are present in test, but not present in train. We have to investigate it."
   ]
  },
  {
   "cell_type": "code",
   "execution_count": 65,
   "metadata": {
    "ExecuteTime": {
     "end_time": "2020-09-01T16:19:16.369355Z",
     "start_time": "2020-09-01T16:19:16.357661Z"
    }
   },
   "outputs": [
    {
     "data": {
      "text/plain": [
       "363"
      ]
     },
     "execution_count": 65,
     "metadata": {},
     "output_type": "execute_result"
    }
   ],
   "source": [
    "len(test_item_set.difference(train_item_set))"
   ]
  },
  {
   "cell_type": "markdown",
   "metadata": {},
   "source": [
    "This is not soo much in comparison with all test items: $5100$, but it can be a problem, because we don't know anything about this items."
   ]
  },
  {
   "cell_type": "markdown",
   "metadata": {},
   "source": [
    "There is just some small portion of items, that will be tested. We can mark them."
   ]
  },
  {
   "cell_type": "markdown",
   "metadata": {},
   "source": [
    "#### (item_id, shop_id)"
   ]
  },
  {
   "cell_type": "code",
   "execution_count": 66,
   "metadata": {
    "ExecuteTime": {
     "end_time": "2020-09-01T16:19:16.615791Z",
     "start_time": "2020-09-01T16:19:16.371682Z"
    }
   },
   "outputs": [
    {
     "name": "stdout",
     "output_type": "stream",
     "text": [
      "Num of unique pairs in test: 214200\n"
     ]
    }
   ],
   "source": [
    "test_pairs = set(\n",
    "    map(\n",
    "        lambda x: f'{x[0]}_{x[1]}', \n",
    "        zip(test.item_id, test.shop_id)\n",
    "    )\n",
    ")\n",
    "print(f'Num of unique pairs in test: {len(test_pairs)}')"
   ]
  },
  {
   "cell_type": "markdown",
   "metadata": {},
   "source": [
    "As we can see it is about two times smaller, that for the train data.\n",
    "\n",
    "We also can find, that this value is $214200 = 5100 \\cdot 42$. That means, that all possible pairs of given (item_id, shop_id) are present in a train set.\n",
    "\n",
    "As for train, we can find out, that $424124 \\neq 60 \\cdot 22170 = 1330200$. That means, that not all possible pairs are present in train.\n",
    "\n",
    "For train/test consistency we can:\n",
    "1. Add all possible pairs to train dataset. This will increase the amount of data up to 3 times. Also we don't know all this data, such as price."
   ]
  },
  {
   "cell_type": "markdown",
   "metadata": {},
   "source": [
    "Let's check how much pairs are not present in train at all."
   ]
  },
  {
   "cell_type": "code",
   "execution_count": 67,
   "metadata": {
    "ExecuteTime": {
     "end_time": "2020-09-01T16:19:16.651480Z",
     "start_time": "2020-09-01T16:19:16.618529Z"
    }
   },
   "outputs": [
    {
     "data": {
      "text/plain": [
       "102796"
      ]
     },
     "execution_count": 67,
     "metadata": {},
     "output_type": "execute_result"
    }
   ],
   "source": [
    "len(test_pairs.difference(train_pairs))"
   ]
  },
  {
   "cell_type": "markdown",
   "metadata": {},
   "source": [
    "It is almost half of all pairs. This can lead to a lot of problems."
   ]
  },
  {
   "cell_type": "markdown",
   "metadata": {},
   "source": [
    "#### Feature engineering ideas\n",
    "1. `shop_id`:\n",
    "    * Add to train dataset indicator, that this shop is present in test dataset\n",
    "2. `item_id`:\n",
    "    * Add to train dataset indicator, that this item is present in test dataset\n",
    "3. `(item_id, shop_id)`\n",
    "    * Add all possible pairs in a month to mimic test set\n",
    "    * Find nearest neighbour in (item, shop) space and add features of some nearest neighbours"
   ]
  },
  {
   "cell_type": "markdown",
   "metadata": {},
   "source": [
    "### train"
   ]
  },
  {
   "cell_type": "markdown",
   "metadata": {},
   "source": [
    "We can now move to creating a new dataset with aggregating by months. It will be done in 2.0-db-creating-dataset.ipynb.\n",
    "\n",
    "Here we just execute it and continue analysing."
   ]
  },
  {
   "cell_type": "code",
   "execution_count": 68,
   "metadata": {
    "ExecuteTime": {
     "end_time": "2020-09-01T16:19:32.983381Z",
     "start_time": "2020-09-01T16:19:16.660951Z"
    }
   },
   "outputs": [],
   "source": [
    "train = pd.read_hdf('../data/processed/train.h5', 'table')\n",
    "test = pd.read_hdf('../data/processed/test.h5', 'table')"
   ]
  },
  {
   "cell_type": "markdown",
   "metadata": {},
   "source": [
    "#### Month average target value"
   ]
  },
  {
   "cell_type": "markdown",
   "metadata": {},
   "source": [
    "According to 3.0-db-baseline.ipynb we know test average on public leaderboard. We can compare it with train data.\n",
    "\n",
    "On the one hand big difference can tell us about difference in distrubutions. On the other hand it can be just a consequence of hided private part (it can influence the average much)."
   ]
  },
  {
   "cell_type": "code",
   "execution_count": 69,
   "metadata": {
    "ExecuteTime": {
     "end_time": "2020-09-01T16:19:34.627288Z",
     "start_time": "2020-09-01T16:19:32.986355Z"
    }
   },
   "outputs": [],
   "source": [
    "mean_target_dict = {'date_block_num': [], 'mean_target': []}\n",
    "for date_block_num in train.date_block_num.unique():\n",
    "    train_block = train[train.date_block_num == date_block_num]\n",
    "    train_block_filtered = train_block[train_block.item_in_test \n",
    "                                       & train_block.shop_in_test]\n",
    "    mean_target_dict['date_block_num'].append(date_block_num)\n",
    "    mean_target_dict['mean_target'].append(train_block_filtered.target.mean())\n",
    "\n",
    "# add value we got from lb probing\n",
    "mean_target_dict['date_block_num'].append(test.date_block_num.iloc[0])\n",
    "mean_target_dict['mean_target'].append(0.2839)\n",
    "mean_target_df = pd.DataFrame(mean_target_dict)"
   ]
  },
  {
   "cell_type": "code",
   "execution_count": 70,
   "metadata": {
    "ExecuteTime": {
     "end_time": "2020-09-01T16:19:34.715748Z",
     "start_time": "2020-09-01T16:19:34.629410Z"
    }
   },
   "outputs": [
    {
     "data": {
      "text/plain": [
       "772.0"
      ]
     },
     "execution_count": 70,
     "metadata": {},
     "output_type": "execute_result"
    }
   ],
   "source": [
    "train_block = train[train.date_block_num == 22]\n",
    "train_block_filtered = train_block[train_block.item_in_test \n",
    "                                   & train_block.shop_in_test]\n",
    "train_block_filtered.target.max()"
   ]
  },
  {
   "cell_type": "code",
   "execution_count": 71,
   "metadata": {
    "ExecuteTime": {
     "end_time": "2020-09-01T16:19:34.990839Z",
     "start_time": "2020-09-01T16:19:34.718496Z"
    }
   },
   "outputs": [
    {
     "data": {
      "image/png": "[encoded data removed]",
      "text/plain": [
       "<Figure size 1152x648 with 1 Axes>"
      ]
     },
     "metadata": {
      "needs_background": "light"
     },
     "output_type": "display_data"
    }
   ],
   "source": [
    "plt.figure(figsize=(16, 9))\n",
    "plt.plot(mean_target_df.date_block_num, mean_target_df.mean_target)\n",
    "plt.xlabel('Date block num')\n",
    "plt.ylabel('Mean of target')\n",
    "plt.title('Mean of target in different date num blocks')\n",
    "plt.show()"
   ]
  },
  {
   "cell_type": "markdown",
   "metadata": {},
   "source": [
    "We can see a some kind of trend here (not taking into account peack in the middle) and value from test don't fits in it well."
   ]
  },
  {
   "cell_type": "markdown",
   "metadata": {},
   "source": [
    "#### Month average target variance"
   ]
  },
  {
   "cell_type": "markdown",
   "metadata": {},
   "source": [
    "According to 3.0-db-baseline.ipynb we know test variance on public leaderboard, because it is MSE. We can compare it with train data."
   ]
  },
  {
   "cell_type": "code",
   "execution_count": 72,
   "metadata": {
    "ExecuteTime": {
     "end_time": "2020-09-01T16:19:36.817564Z",
     "start_time": "2020-09-01T16:19:34.992856Z"
    }
   },
   "outputs": [],
   "source": [
    "var_target_dict = {'date_block_num': [], 'variance_target': []}\n",
    "for date_block_num in train.date_block_num.unique():\n",
    "    train_block = train[train.date_block_num == date_block_num]\n",
    "    train_block_filtered = train_block[train_block.item_in_test \n",
    "                                       & train_block.shop_in_test]\n",
    "    var_target_dict['date_block_num'].append(date_block_num)\n",
    "    var_target_dict['variance_target'].append(train_block_filtered.target.var())\n",
    "\n",
    "# add value we got from lb probing\n",
    "var_target_dict['date_block_num'].append(test.date_block_num.iloc[0])\n",
    "var_target_dict['variance_target'].append(1.21743**2)\n",
    "var_target_df = pd.DataFrame(var_target_dict)"
   ]
  },
  {
   "cell_type": "code",
   "execution_count": 73,
   "metadata": {
    "ExecuteTime": {
     "end_time": "2020-09-01T16:19:37.086671Z",
     "start_time": "2020-09-01T16:19:36.820310Z"
    }
   },
   "outputs": [
    {
     "data": {
      "image/png": "[encoded data removed]",
      "text/plain": [
       "<Figure size 1152x648 with 1 Axes>"
      ]
     },
     "metadata": {
      "needs_background": "light"
     },
     "output_type": "display_data"
    }
   ],
   "source": [
    "plt.figure(figsize=(16, 9))\n",
    "plt.plot(var_target_df.date_block_num, var_target_df.variance_target)\n",
    "plt.xlabel('Date block num')\n",
    "plt.ylabel('Variance of target')\n",
    "plt.title('Variance of target in different date num blocks')\n",
    "plt.show()"
   ]
  },
  {
   "cell_type": "markdown",
   "metadata": {},
   "source": [
    "We can see a some kind of trend here (not taking into account peack in the middle) and value from test fits in it."
   ]
  },
  {
   "cell_type": "markdown",
   "metadata": {},
   "source": [
    "## Validation findings"
   ]
  },
  {
   "cell_type": "markdown",
   "metadata": {},
   "source": [
    "In this section I will write findings about validation."
   ]
  },
  {
   "cell_type": "markdown",
   "metadata": {},
   "source": [
    "### Train/test split"
   ]
  },
  {
   "cell_type": "markdown",
   "metadata": {},
   "source": [
    "As I found analysing (item, shop) pairs, test dataset consists of all possible pairs, thus we should add empty pairs to our train dataset.\n",
    "\n",
    "We will add all possible pairs every `date_block_num`."
   ]
  },
  {
   "cell_type": "markdown",
   "metadata": {
    "ExecuteTime": {
     "end_time": "2020-09-10T16:25:27.372561Z",
     "start_time": "2020-09-10T16:25:27.365462Z"
    }
   },
   "source": [
    "### Public/private split"
   ]
  },
  {
   "cell_type": "markdown",
   "metadata": {},
   "source": [
    "I haven't checked exactly public/private split, but model scores are very similar. Thus distributions on public and private similar. It can be achieved by just random split."
   ]
  },
  {
   "cell_type": "markdown",
   "metadata": {},
   "source": [
    "### Data leakages"
   ]
  },
  {
   "cell_type": "markdown",
   "metadata": {},
   "source": [
    "Through leaderboard probing we can find the best constant prediction. It will give us mean value of target on test. This knowledge can be used to correct final prediction (it didn't helped me).\n",
    "\n",
    "This was made in notebook 3.0-db-baseline.ipynb."
   ]
  },
  {
   "cell_type": "markdown",
   "metadata": {},
   "source": [
    "## Futher exploring\n",
    "\n",
    "1. Train dataset.\n",
    "2. Data leakages.\n",
    "3. Check cluster structure of items using embeddings from TFiDF, word2vec sum and UMAP."
   ]
  }
 ],
 "metadata": {
  "kernelspec": {
   "display_name": "Python 3",
   "language": "python",
   "name": "python3"
  },
  "language_info": {
   "codemirror_mode": {
    "name": "ipython",
    "version": 3
   },
   "file_extension": ".py",
   "mimetype": "text/x-python",
   "name": "python",
   "nbconvert_exporter": "python",
   "pygments_lexer": "ipython3",
   "version": "3.8.5"
  }
 },
 "nbformat": 4,
 "nbformat_minor": 4
}
