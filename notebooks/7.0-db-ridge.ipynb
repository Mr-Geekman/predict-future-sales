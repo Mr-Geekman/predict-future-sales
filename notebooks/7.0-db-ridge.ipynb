{
 "cells": [
  {
   "cell_type": "code",
   "execution_count": 1,
   "metadata": {
    "ExecuteTime": {
     "end_time": "2020-09-10T21:56:50.096733Z",
     "start_time": "2020-09-10T21:56:48.109624Z"
    }
   },
   "outputs": [],
   "source": [
    "%load_ext autoreload\n",
    "%autoreload 2\n",
    "import copy\n",
    "import gc\n",
    "import sys\n",
    "import pickle\n",
    "\n",
    "sys.path.append('..')\n",
    "\n",
    "import numpy as np\n",
    "import pandas as pd\n",
    "import scipy.stats as sps\n",
    "\n",
    "import matplotlib.pyplot as plt\n",
    "import seaborn as sns\n",
    "from tqdm.notebook import tqdm\n",
    "\n",
    "from sklearn.model_selection import cross_val_score, GridSearchCV\n",
    "from sklearn.metrics import mean_squared_error\n",
    "from sklearn.linear_model import Ridge\n",
    "from sklearn.pipeline import Pipeline\n",
    "from sklearn.preprocessing import StandardScaler\n",
    "\n",
    "from src.utils.cross_validation import TimeSeriesGroupSplit\n",
    "from src.utils.downcasting import downcast_dtypes\n",
    "\n",
    "sns.set(font_scale=1.2)\n",
    "%matplotlib inline"
   ]
  },
  {
   "cell_type": "code",
   "execution_count": 2,
   "metadata": {
    "ExecuteTime": {
     "end_time": "2020-09-10T21:56:50.128226Z",
     "start_time": "2020-09-10T21:56:50.100389Z"
    }
   },
   "outputs": [],
   "source": [
    "max_text_features = 20\n",
    "random_state = 42\n",
    "\n",
    "MEAN_CONSTANT = 0.3343"
   ]
  },
  {
   "cell_type": "markdown",
   "metadata": {},
   "source": [
    "# Ridge"
   ]
  },
  {
   "cell_type": "markdown",
   "metadata": {},
   "source": [
    "In this notebook we will produce predictions by Ridge."
   ]
  },
  {
   "cell_type": "markdown",
   "metadata": {},
   "source": [
    "## Preparing datasets"
   ]
  },
  {
   "cell_type": "markdown",
   "metadata": {},
   "source": [
    "In this section we will load all datasets and prepare them for training."
   ]
  },
  {
   "cell_type": "code",
   "execution_count": 3,
   "metadata": {
    "ExecuteTime": {
     "end_time": "2020-09-10T21:57:00.686320Z",
     "start_time": "2020-09-10T21:56:50.134846Z"
    }
   },
   "outputs": [],
   "source": [
    "sales_train = pd.read_csv('../data/processed/sales_train.csv')\n",
    "train = pd.read_feather('../data/processed/train.ftr')\n",
    "test = pd.read_feather('../data/processed/test.ftr')\n",
    "\n",
    "items = pd.read_csv('../data/processed/items.csv')\n",
    "tfidf_truncated_svd = pd.read_feather('../data/processed/text/tfidf_truncated-svd.ftr')"
   ]
  },
  {
   "cell_type": "code",
   "execution_count": 4,
   "metadata": {
    "ExecuteTime": {
     "end_time": "2020-09-10T21:57:05.820526Z",
     "start_time": "2020-09-10T21:57:00.690500Z"
    }
   },
   "outputs": [],
   "source": [
    "train.drop(columns=['index'], inplace=True)\n",
    "test.drop(columns=['index', 'level_0'], inplace=True)"
   ]
  },
  {
   "cell_type": "markdown",
   "metadata": {},
   "source": [
    "### Adding text features"
   ]
  },
  {
   "cell_type": "code",
   "execution_count": 5,
   "metadata": {
    "ExecuteTime": {
     "end_time": "2020-09-10T21:57:05.844915Z",
     "start_time": "2020-09-10T21:57:05.822620Z"
    }
   },
   "outputs": [],
   "source": [
    "tfidf_truncated_svd = tfidf_truncated_svd[tfidf_truncated_svd.columns[:max_text_features]]"
   ]
  },
  {
   "cell_type": "code",
   "execution_count": 6,
   "metadata": {
    "ExecuteTime": {
     "end_time": "2020-09-10T21:57:05.880553Z",
     "start_time": "2020-09-10T21:57:05.846945Z"
    }
   },
   "outputs": [],
   "source": [
    "tfidf_truncated_svd['item_id'] = items.item_id"
   ]
  },
  {
   "cell_type": "code",
   "execution_count": 7,
   "metadata": {
    "ExecuteTime": {
     "end_time": "2020-09-10T21:57:23.018623Z",
     "start_time": "2020-09-10T21:57:05.883913Z"
    }
   },
   "outputs": [],
   "source": [
    "train = pd.merge(\n",
    "    train,\n",
    "    tfidf_truncated_svd,\n",
    "    how='left', on='item_id'\n",
    ")\n",
    "\n",
    "test = pd.merge(\n",
    "    test,\n",
    "    tfidf_truncated_svd,\n",
    "    how='left', on='item_id'\n",
    ")\n",
    "\n",
    "gc.collect();"
   ]
  },
  {
   "cell_type": "markdown",
   "metadata": {},
   "source": [
    "### Clipping target"
   ]
  },
  {
   "cell_type": "markdown",
   "metadata": {},
   "source": [
    "According to evaluation, target will be clipped between 0 and 20. Let's do it in our dataset."
   ]
  },
  {
   "cell_type": "code",
   "execution_count": 8,
   "metadata": {
    "ExecuteTime": {
     "end_time": "2020-09-10T21:57:23.101636Z",
     "start_time": "2020-09-10T21:57:23.022708Z"
    }
   },
   "outputs": [],
   "source": [
    "train.target = np.clip(train.target, 0, 20)"
   ]
  },
  {
   "cell_type": "markdown",
   "metadata": {},
   "source": [
    "### Process categorical data"
   ]
  },
  {
   "cell_type": "markdown",
   "metadata": {},
   "source": [
    "Find categorical columns."
   ]
  },
  {
   "cell_type": "code",
   "execution_count": 9,
   "metadata": {
    "ExecuteTime": {
     "end_time": "2020-09-10T21:57:23.129714Z",
     "start_time": "2020-09-10T21:57:23.104486Z"
    }
   },
   "outputs": [],
   "source": [
    "categorical_types = ['object', 'bool']"
   ]
  },
  {
   "cell_type": "code",
   "execution_count": 10,
   "metadata": {
    "ExecuteTime": {
     "end_time": "2020-09-10T21:57:23.165215Z",
     "start_time": "2020-09-10T21:57:23.132233Z"
    }
   },
   "outputs": [
    {
     "data": {
      "text/plain": [
       "item_name                  object\n",
       "item_in_test                 bool\n",
       "item_full_category_name    object\n",
       "item_category_name         object\n",
       "item_subcategory_name      object\n",
       "shop_name                  object\n",
       "city                       object\n",
       "shop_in_test                 bool\n",
       "dtype: object"
      ]
     },
     "execution_count": 10,
     "metadata": {},
     "output_type": "execute_result"
    }
   ],
   "source": [
    "train.dtypes[np.isin(train.dtypes.values, categorical_types)]"
   ]
  },
  {
   "cell_type": "markdown",
   "metadata": {},
   "source": [
    "Don't touch boolean objects, they are already label encoded."
   ]
  },
  {
   "cell_type": "markdown",
   "metadata": {},
   "source": [
    "Let's remove columns `item_name`, `shop_name`, because we already have them label encoded as `item_id`, `shop_id`."
   ]
  },
  {
   "cell_type": "code",
   "execution_count": 11,
   "metadata": {
    "ExecuteTime": {
     "end_time": "2020-09-10T21:57:36.191946Z",
     "start_time": "2020-09-10T21:57:23.168657Z"
    }
   },
   "outputs": [],
   "source": [
    "train.drop(columns=['item_name', 'shop_name'], inplace=True)\n",
    "test.drop(columns=['item_name', 'shop_name'], inplace=True)"
   ]
  },
  {
   "cell_type": "markdown",
   "metadata": {},
   "source": [
    "Let's define list with all categorical values."
   ]
  },
  {
   "cell_type": "code",
   "execution_count": 12,
   "metadata": {
    "ExecuteTime": {
     "end_time": "2020-09-10T21:57:36.231121Z",
     "start_time": "2020-09-10T21:57:36.194519Z"
    }
   },
   "outputs": [],
   "source": [
    "categorical_features = [\n",
    "    'month', 'item_id', 'item_full_category_name', 'item_category_name', \n",
    "    'item_subcategory_name', 'shop_id', 'city'\n",
    "]"
   ]
  },
  {
   "cell_type": "markdown",
   "metadata": {},
   "source": [
    "#### Mean encoding"
   ]
  },
  {
   "cell_type": "code",
   "execution_count": 13,
   "metadata": {
    "ExecuteTime": {
     "end_time": "2020-09-10T21:59:40.486812Z",
     "start_time": "2020-09-10T21:57:36.235387Z"
    }
   },
   "outputs": [
    {
     "data": {
      "application/vnd.jupyter.widget-view+json": {
       "model_id": "c7aca667c0854b198f66a620ab7ad748",
       "version_major": 2,
       "version_minor": 0
      },
      "text/plain": [
       "HBox(children=(FloatProgress(value=0.0, max=7.0), HTML(value='')))"
      ]
     },
     "metadata": {},
     "output_type": "display_data"
    },
    {
     "name": "stdout",
     "output_type": "stream",
     "text": [
      "\n"
     ]
    }
   ],
   "source": [
    "for column in tqdm(categorical_features):\n",
    "    # encode train\n",
    "    cumsum = train.groupby(column).target.cumsum() - train.target\n",
    "    cumcount = train.groupby(column).cumcount()\n",
    "    encoded_feature = cumsum / cumcount\n",
    "    encoded_feature.fillna(MEAN_CONSTANT, inplace=True)\n",
    "    \n",
    "    train[f'{column}_mean_encoded'] = encoded_feature\n",
    "    \n",
    "    # encode test\n",
    "    mean_train = train.groupby(column).target.mean()\n",
    "    test[f'{column}_mean_encoded'] = test[column].map(mean_train).fillna(MEAN_CONSTANT)"
   ]
  },
  {
   "cell_type": "markdown",
   "metadata": {},
   "source": [
    "Drop all non encoded columns."
   ]
  },
  {
   "cell_type": "code",
   "execution_count": 14,
   "metadata": {
    "ExecuteTime": {
     "end_time": "2020-09-10T21:59:58.659967Z",
     "start_time": "2020-09-10T21:59:40.490112Z"
    }
   },
   "outputs": [],
   "source": [
    "train.drop(columns=categorical_features, inplace=True)\n",
    "test.drop(columns=categorical_features, inplace=True)"
   ]
  },
  {
   "cell_type": "markdown",
   "metadata": {},
   "source": [
    "### Processing NaNs"
   ]
  },
  {
   "cell_type": "markdown",
   "metadata": {},
   "source": [
    "Fill NaNs."
   ]
  },
  {
   "cell_type": "code",
   "execution_count": 15,
   "metadata": {
    "ExecuteTime": {
     "end_time": "2020-09-10T22:00:05.255723Z",
     "start_time": "2020-09-10T21:59:58.662345Z"
    }
   },
   "outputs": [
    {
     "data": {
      "text/plain": [
       "Index(['num_residents'], dtype='object')"
      ]
     },
     "execution_count": 15,
     "metadata": {},
     "output_type": "execute_result"
    }
   ],
   "source": [
    "train.columns[train.isna().sum() > 0]"
   ]
  },
  {
   "cell_type": "markdown",
   "metadata": {},
   "source": [
    "As we expected there are some problems only with `num_residents`. We can fill it with zero, because it will be border value for this feature, trees can handle it properly."
   ]
  },
  {
   "cell_type": "code",
   "execution_count": 16,
   "metadata": {
    "ExecuteTime": {
     "end_time": "2020-09-10T22:00:07.627659Z",
     "start_time": "2020-09-10T22:00:05.258670Z"
    }
   },
   "outputs": [],
   "source": [
    "train.fillna(0, inplace=True)\n",
    "test.fillna(0, inplace=True)"
   ]
  },
  {
   "cell_type": "markdown",
   "metadata": {},
   "source": [
    "### Removing target"
   ]
  },
  {
   "cell_type": "markdown",
   "metadata": {},
   "source": [
    "Remove target from train."
   ]
  },
  {
   "cell_type": "code",
   "execution_count": 17,
   "metadata": {
    "ExecuteTime": {
     "end_time": "2020-09-10T22:00:14.032903Z",
     "start_time": "2020-09-10T22:00:07.629593Z"
    }
   },
   "outputs": [],
   "source": [
    "y = train.target\n",
    "train.drop(columns=['target'], inplace=True)"
   ]
  },
  {
   "cell_type": "markdown",
   "metadata": {},
   "source": [
    "### Creation of validation split"
   ]
  },
  {
   "cell_type": "markdown",
   "metadata": {},
   "source": [
    "Let's also delete from train rows that appears only on validation, it will make our train/validation split more consistant with train/test split."
   ]
  },
  {
   "cell_type": "code",
   "execution_count": 18,
   "metadata": {
    "ExecuteTime": {
     "end_time": "2020-09-10T22:00:22.261331Z",
     "start_time": "2020-09-10T22:00:14.035540Z"
    }
   },
   "outputs": [
    {
     "data": {
      "text/plain": [
       "21"
      ]
     },
     "execution_count": 18,
     "metadata": {},
     "output_type": "execute_result"
    }
   ],
   "source": [
    "X_valid = train[train.date_block_num == 33]\n",
    "X_train = train[train.date_block_num < 33]\n",
    "y_valid = y[train.date_block_num == 33]\n",
    "y_train = y[train.date_block_num < 33]\n",
    "X_test = test\n",
    "    \n",
    "del train, test\n",
    "gc.collect()"
   ]
  },
  {
   "cell_type": "markdown",
   "metadata": {},
   "source": [
    "### Selecting features"
   ]
  },
  {
   "cell_type": "markdown",
   "metadata": {},
   "source": [
    "Select features, that have feature importances more, than 60, when model was trained on all features and lags, that are less then 12.\n",
    "\n",
    "Importances of model, that was trained on all features can be found at  ../repots/figures/lgb/importances_all_fetures.png."
   ]
  },
  {
   "cell_type": "code",
   "execution_count": 19,
   "metadata": {
    "ExecuteTime": {
     "end_time": "2020-09-10T22:00:22.302589Z",
     "start_time": "2020-09-10T22:00:22.265856Z"
    }
   },
   "outputs": [],
   "source": [
    "selected_features = [\n",
    "    'date_block_num',\n",
    "    'num_days',\n",
    "    'year',\n",
    "    'num_holidays',\n",
    "    #'num_not_working_days',\n",
    "    #'longest_sequence_without_holidays',\n",
    "    'fraction_non_even_mean_lag_1',\n",
    "    'mean_target_month_lag_1',\n",
    "    'mean_target_month_city_lag_1',\n",
    "    'price_mean_lag_1',\n",
    "    'price_nunique_lag_1',\n",
    "    'price_std_lag_1',\n",
    "    'relative_delta_price_mean_lag_1',\n",
    "    'revenue_item_lag_1',\n",
    "    'revenue_item_shop_lag_1',\n",
    "    'revenue_shop_lag_1',\n",
    "    'target_lag_1',\n",
    "    'target_item_lag_1',\n",
    "    #'target_month_lag_1',\n",
    "    'target_shop_lag_1',\n",
    "    'fraction_non_even_mean_lag_2',\n",
    "    #'mean_target_month_lag_2',\n",
    "    'mean_target_month_city_lag_2',\n",
    "    'price_mean_lag_2',\n",
    "    'price_nunique_lag_2',\n",
    "    'price_std_lag_2',\n",
    "    'relative_delta_price_mean_lag_2',\n",
    "    'revenue_item_lag_2',\n",
    "    'revenue_item_shop_lag_2',\n",
    "    #'revenue_shop_lag_2',\n",
    "    'target_lag_2',\n",
    "    'target_item_lag_2',\n",
    "    #'target_month_lag_2',\n",
    "    'target_shop_lag_2',\n",
    "    #'fraction_non_even_mean_lag_3',\n",
    "    'mean_target_month_lag_3',\n",
    "    #'mean_target_month_city_lag_3',\n",
    "    'price_mean_lag_3',\n",
    "    #'price_nunique_lag_3',\n",
    "    'price_std_lag_3',\n",
    "    'relative_delta_price_mean_lag_3',\n",
    "    #'revenue_item_lag_3',\n",
    "    'revenue_item_shop_lag_3',\n",
    "    'revenue_shop_lag_3',\n",
    "    'target_lag_3',\n",
    "    'target_item_lag_3',\n",
    "    #'target_month_lag_3',\n",
    "    #'target_shop_lag_3',\n",
    "    #'fraction_non_even_mean_lag_6',\n",
    "    #'mean_target_month_lag_6',\n",
    "    #'mean_target_month_city_lag_6',\n",
    "    #'price_mean_lag_6',\n",
    "    #'price_nunique_lag_6',\n",
    "    #'price_std_lag_6',\n",
    "    'relative_delta_price_mean_lag_6',\n",
    "    #'revenue_item_lag_6',\n",
    "    #'revenue_item_shop_lag_6',\n",
    "    'revenue_shop_lag_6',\n",
    "    'target_lag_6',\n",
    "    'target_item_lag_6',\n",
    "    #'target_month_lag_6',\n",
    "    #'target_shop_lag_6',\n",
    "    #'fraction_non_even_mean_lag_12',\n",
    "    #'mean_target_month_lag_12',\n",
    "    #'mean_target_month_city_lag_12',\n",
    "    #'price_mean_lag_12',\n",
    "    #'price_nunique_lag_12',\n",
    "    #'price_std_lag_12',\n",
    "    #'relative_delta_price_mean_lag_12',\n",
    "    #'revenue_item_lag_12',\n",
    "    #'revenue_item_shop_lag_12',\n",
    "    #'revenue_shop_lag_12',\n",
    "    #'target_lag_12',\n",
    "    #'target_item_lag_12',\n",
    "    #'target_month_lag_12',\n",
    "    #'target_shop_lag_12',\n",
    "    #'item_in_test',\n",
    "    'num_residents',\n",
    "    #'shop_in_test',\n",
    "    'item_name_tfidf_truncated-svd_1',\n",
    "    'item_name_tfidf_truncated-svd_2',\n",
    "    'item_name_tfidf_truncated-svd_3',\n",
    "    'item_name_tfidf_truncated-svd_4',\n",
    "    'item_name_tfidf_truncated-svd_5',\n",
    "    'item_name_tfidf_truncated-svd_6',\n",
    "    'item_name_tfidf_truncated-svd_7',\n",
    "    'item_name_tfidf_truncated-svd_8',\n",
    "    #'item_name_tfidf_truncated-svd_9',\n",
    "    #'item_name_tfidf_truncated-svd_10',\n",
    "    #'item_name_tfidf_truncated-svd_11',\n",
    "    #'item_name_tfidf_truncated-svd_12',\n",
    "    #'item_name_tfidf_truncated-svd_13',\n",
    "    #'item_name_tfidf_truncated-svd_14',\n",
    "    #'item_name_tfidf_truncated-svd_15',\n",
    "    #'item_name_tfidf_truncated-svd_16',\n",
    "    #'item_name_tfidf_truncated-svd_17',\n",
    "    #'item_name_tfidf_truncated-svd_18',\n",
    "    #'item_name_tfidf_truncated-svd_19',\n",
    "    #'item_name_tfidf_truncated-svd_20',\n",
    "    #'city_labeled',\n",
    "    'month_mean_encoded',\n",
    "    #'item_id_mean_encoded',\n",
    "    #'item_full_category_name_mean_encoded',\n",
    "    'item_category_name_mean_encoded',\n",
    "    'item_subcategory_name_mean_encoded',\n",
    "    'shop_id_mean_encoded',\n",
    "    'city_mean_encoded'\n",
    "]"
   ]
  },
  {
   "cell_type": "code",
   "execution_count": 20,
   "metadata": {
    "ExecuteTime": {
     "end_time": "2020-09-10T22:00:25.928530Z",
     "start_time": "2020-09-10T22:00:22.307612Z"
    }
   },
   "outputs": [],
   "source": [
    "X_train = X_train.loc[:, selected_features]\n",
    "X_valid = X_valid.loc[:, selected_features]\n",
    "X_test = X_test.loc[:, selected_features]"
   ]
  },
  {
   "cell_type": "markdown",
   "metadata": {},
   "source": [
    "## Hyperparameters tuning"
   ]
  },
  {
   "cell_type": "markdown",
   "metadata": {},
   "source": [
    "In this section we will find optimum parameters for a model. Firstly, fix the result before any optimization. Parameters:\n",
    "* `alpha`"
   ]
  },
  {
   "cell_type": "code",
   "execution_count": 21,
   "metadata": {
    "ExecuteTime": {
     "end_time": "2020-09-10T22:00:25.960736Z",
     "start_time": "2020-09-10T22:00:25.930537Z"
    },
    "code_folding": []
   },
   "outputs": [],
   "source": [
    "ts = TimeSeriesGroupSplit(n_splits=5, max_train_size=int(1.5*10**6))\n",
    "\n",
    "ridge_params = {\n",
    "    'random_state': random_state\n",
    "}"
   ]
  },
  {
   "cell_type": "code",
   "execution_count": 22,
   "metadata": {
    "ExecuteTime": {
     "end_time": "2020-09-10T22:01:29.188883Z",
     "start_time": "2020-09-10T22:00:25.964473Z"
    }
   },
   "outputs": [
    {
     "name": "stdout",
     "output_type": "stream",
     "text": [
      "Default score: 1.11280\n"
     ]
    }
   ],
   "source": [
    "# pipe_ridge = Pipeline([('standartization', StandardScaler()), \n",
    "#                        ('regression', Ridge(**ridge_params))])\n",
    "\n",
    "# default_score = cross_val_score(\n",
    "#     pipe_ridge, \n",
    "#     X_train, y_train, groups=X_train.date_block_num,\n",
    "#     n_jobs=1, \n",
    "#     scoring='neg_root_mean_squared_error', \n",
    "#     verbose=0,\n",
    "#     cv=ts\n",
    "# ).mean()\n",
    "# print(f'Default score: {-default_score:.5f}')"
   ]
  },
  {
   "cell_type": "markdown",
   "metadata": {},
   "source": [
    "Score: $1.06697$.\n",
    "\n",
    "Score after selection: $1.11280$."
   ]
  },
  {
   "cell_type": "markdown",
   "metadata": {},
   "source": [
    "Now we will try to find better parameters."
   ]
  },
  {
   "cell_type": "code",
   "execution_count": 23,
   "metadata": {
    "ExecuteTime": {
     "end_time": "2020-09-10T22:01:29.232233Z",
     "start_time": "2020-09-10T22:01:29.196994Z"
    }
   },
   "outputs": [],
   "source": [
    "pipe_ridge = Pipeline([('standartization', StandardScaler()), \n",
    "                       ('regression', Ridge(**ridge_params))])\n",
    "\n",
    "param_grid = {\n",
    "    'regression__alpha': np.logspace(4, 6, 5),\n",
    "}\n",
    "\n",
    "gs = GridSearchCV(\n",
    "    pipe_ridge, \n",
    "    param_grid,          \n",
    "    n_jobs=1, \n",
    "    scoring='neg_root_mean_squared_error', \n",
    "    verbose=10,\n",
    "    refit=False,\n",
    "    cv=ts\n",
    ")"
   ]
  },
  {
   "cell_type": "markdown",
   "metadata": {
    "ExecuteTime": {
     "end_time": "2020-09-08T18:55:15.942929Z",
     "start_time": "2020-09-08T18:26:22.071186Z"
    }
   },
   "source": [
    "gs.fit(X_train, y_train, groups=X_train.date_block_num)"
   ]
  },
  {
   "cell_type": "markdown",
   "metadata": {
    "ExecuteTime": {
     "end_time": "2020-09-08T18:56:33.664360Z",
     "start_time": "2020-09-08T18:56:33.640623Z"
    }
   },
   "source": [
    "gs.best_score_"
   ]
  },
  {
   "cell_type": "code",
   "execution_count": 24,
   "metadata": {
    "ExecuteTime": {
     "end_time": "2020-09-10T22:01:29.265100Z",
     "start_time": "2020-09-10T22:01:29.236065Z"
    }
   },
   "outputs": [],
   "source": [
    "ridge_params['alpha'] = 316228"
   ]
  },
  {
   "cell_type": "code",
   "execution_count": 25,
   "metadata": {
    "ExecuteTime": {
     "end_time": "2020-09-10T22:02:25.087803Z",
     "start_time": "2020-09-10T22:01:29.269799Z"
    }
   },
   "outputs": [
    {
     "name": "stdout",
     "output_type": "stream",
     "text": [
      "Current score: 1.10537\n"
     ]
    }
   ],
   "source": [
    "pipe_ridge = Pipeline([('standartization', StandardScaler()), \n",
    "                       ('regression', Ridge(**ridge_params))])\n",
    "\n",
    "current_score = cross_val_score(\n",
    "    pipe_ridge, \n",
    "    X_train, y_train, groups=X_train.date_block_num,\n",
    "    n_jobs=1, \n",
    "    scoring='neg_root_mean_squared_error', \n",
    "    verbose=0,\n",
    "    cv=ts\n",
    ").mean()\n",
    "print(f'Current score: {-current_score:.5f}')"
   ]
  },
  {
   "cell_type": "markdown",
   "metadata": {},
   "source": [
    "Score: $1.00449$.\n",
    "\n",
    "Score after selection: $1.10537$."
   ]
  },
  {
   "cell_type": "code",
   "execution_count": 26,
   "metadata": {
    "ExecuteTime": {
     "end_time": "2020-09-10T22:02:25.123362Z",
     "start_time": "2020-09-10T22:02:25.092593Z"
    }
   },
   "outputs": [
    {
     "data": {
      "text/plain": [
       "{'random_state': 42, 'alpha': 316228}"
      ]
     },
     "execution_count": 26,
     "metadata": {},
     "output_type": "execute_result"
    }
   ],
   "source": [
    "ridge_params"
   ]
  },
  {
   "cell_type": "markdown",
   "metadata": {},
   "source": [
    "## Validation"
   ]
  },
  {
   "cell_type": "markdown",
   "metadata": {},
   "source": [
    "In this section we will validate best parameters using haldout. We will use not all train, because of limitation of RAM."
   ]
  },
  {
   "cell_type": "code",
   "execution_count": null,
   "metadata": {
    "ExecuteTime": {
     "end_time": "2020-09-10T21:52:47.449083Z",
     "start_time": "2020-09-10T21:52:47.410124Z"
    }
   },
   "outputs": [],
   "source": [
    "(X_train.date_block_num >= 25).sum()"
   ]
  },
  {
   "cell_type": "code",
   "execution_count": null,
   "metadata": {
    "ExecuteTime": {
     "end_time": "2020-09-10T21:52:48.409182Z",
     "start_time": "2020-09-10T21:52:47.630602Z"
    }
   },
   "outputs": [],
   "source": [
    "start_date_block_num = 25\n",
    "indices_train = (X_train.date_block_num >= start_date_block_num)\n",
    "X_train = X_train[indices_train]\n",
    "y_train = y_train[indices_train]\n",
    "gc.collect();"
   ]
  },
  {
   "cell_type": "code",
   "execution_count": null,
   "metadata": {
    "ExecuteTime": {
     "end_time": "2020-09-10T21:52:59.973460Z",
     "start_time": "2020-09-10T21:52:48.411714Z"
    }
   },
   "outputs": [],
   "source": [
    "model = Pipeline([('standartization', StandardScaler()), \n",
    "                  ('regression', Ridge(**ridge_params))])\n",
    "model.fit(X_train, y_train)"
   ]
  },
  {
   "cell_type": "code",
   "execution_count": null,
   "metadata": {
    "ExecuteTime": {
     "end_time": "2020-09-10T21:53:00.348335Z",
     "start_time": "2020-09-10T21:52:59.977970Z"
    }
   },
   "outputs": [],
   "source": [
    "y_predicted = np.clip(model.predict(X_valid), 0, 20)\n",
    "validation_score = mean_squared_error(y_valid, y_predicted)\n",
    "print(f'Validation score: {validation_score:.5f}')"
   ]
  },
  {
   "cell_type": "markdown",
   "metadata": {},
   "source": [
    "Score: $1.08194$\n",
    "\n",
    "Score after selection: $1.28552$."
   ]
  },
  {
   "cell_type": "markdown",
   "metadata": {},
   "source": [
    "Let's look at predicted values charasteristics."
   ]
  },
  {
   "cell_type": "code",
   "execution_count": null,
   "metadata": {
    "ExecuteTime": {
     "end_time": "2020-09-10T21:53:07.081443Z",
     "start_time": "2020-09-10T21:53:07.017814Z"
    }
   },
   "outputs": [],
   "source": [
    "pd.Series(y_predicted).describe()"
   ]
  },
  {
   "cell_type": "markdown",
   "metadata": {},
   "source": [
    "Let's look at feature importances."
   ]
  },
  {
   "cell_type": "code",
   "execution_count": null,
   "metadata": {
    "ExecuteTime": {
     "end_time": "2020-09-10T21:53:09.613930Z",
     "start_time": "2020-09-10T21:53:09.574878Z"
    }
   },
   "outputs": [],
   "source": [
    "ridge_coefs = model.named_steps['regression'].coef_\n",
    "top_size = 10\n",
    "\n",
    "top_positive_indices = np.argsort(ridge_coefs)[-top_size:]\n",
    "top_negative_indices = np.argsort(ridge_coefs)[:top_size]\n",
    "top_positive_names = X_train.columns[top_positive_indices]\n",
    "top_negative_names = X_train.columns[top_negative_indices]"
   ]
  },
  {
   "cell_type": "code",
   "execution_count": null,
   "metadata": {
    "ExecuteTime": {
     "end_time": "2020-09-10T21:53:20.034027Z",
     "start_time": "2020-09-10T21:53:20.011368Z"
    }
   },
   "outputs": [],
   "source": [
    "# plt.figure(figsize=(16, 9))\n",
    "# sns.barplot(y=top_positive_names[::-1], \n",
    "#             x=ridge_coefs[top_positive_indices][::-1])\n",
    "# plt.xlabel('Коэффициент перед признаком')\n",
    "# plt.title(f'Топ-{top_size} наиболее значимых признаков с '\n",
    "#           'положительным коэффициентом для Ridge-регрессии')\n",
    "# plt.savefig('../reports/figures/ridge/positive_importances_selected_features.png', \n",
    "#             facecolor='white', bbox_inches='tight', pad_inches=0)\n",
    "# plt.show()"
   ]
  },
  {
   "cell_type": "code",
   "execution_count": 27,
   "metadata": {
    "ExecuteTime": {
     "end_time": "2020-09-10T22:02:26.123372Z",
     "start_time": "2020-09-10T22:02:25.126765Z"
    }
   },
   "outputs": [
    {
     "data": {
      "image/png": "[encoded data removed]",
      "text/plain": [
       "<Figure size 1152x648 with 1 Axes>"
      ]
     },
     "metadata": {
      "needs_background": "light"
     },
     "output_type": "display_data"
    }
   ],
   "source": [
    "plt.figure(figsize=(16, 9))\n",
    "image = plt.imread('../reports/figures/ridge/positive_importances_selected_features.png')\n",
    "plt.imshow(image, interpolation='spline36')\n",
    "plt.axis('off')\n",
    "plt.show()"
   ]
  },
  {
   "cell_type": "code",
   "execution_count": null,
   "metadata": {
    "ExecuteTime": {
     "end_time": "2020-09-10T21:53:22.247267Z",
     "start_time": "2020-09-10T21:53:22.225104Z"
    }
   },
   "outputs": [],
   "source": [
    "# plt.figure(figsize=(16, 9))\n",
    "# sns.barplot(y=top_negative_names[::-1], \n",
    "#             x=ridge_coefs[top_negative_indices][::-1])\n",
    "# plt.xlabel('Коэффициент перед признаком')\n",
    "# plt.title(f'Топ-{top_size} наиболее значимых признаков с '\n",
    "#           'отрицательным коэффициентом для Ridge-регрессии')\n",
    "# plt.savefig('../reports/figures/ridge/negative_importances_selected_features.png', \n",
    "#             facecolor='white', bbox_inches='tight', pad_inches=0)\n",
    "# plt.show()"
   ]
  },
  {
   "cell_type": "code",
   "execution_count": 28,
   "metadata": {
    "ExecuteTime": {
     "end_time": "2020-09-10T22:02:26.984409Z",
     "start_time": "2020-09-10T22:02:26.126360Z"
    }
   },
   "outputs": [
    {
     "data": {
      "image/png": "[encoded data removed]",
      "text/plain": [
       "<Figure size 1152x648 with 1 Axes>"
      ]
     },
     "metadata": {
      "needs_background": "light"
     },
     "output_type": "display_data"
    }
   ],
   "source": [
    "plt.figure(figsize=(16, 9))\n",
    "image = plt.imread('../reports/figures/ridge/negative_importances_selected_features.png')\n",
    "plt.imshow(image, interpolation='spline36')\n",
    "plt.axis('off')\n",
    "plt.show()"
   ]
  },
  {
   "cell_type": "markdown",
   "metadata": {},
   "source": [
    "## Submit"
   ]
  },
  {
   "cell_type": "markdown",
   "metadata": {},
   "source": [
    "In this section we will train result model and submit prediction. Don't forget to clip values according to [evaluation tab](https://www.kaggle.com/c/competitive-data-science-predict-future-sales/overview/evaluation) (but ay be for tree-based methods it is not necessary)."
   ]
  },
  {
   "cell_type": "code",
   "execution_count": 29,
   "metadata": {
    "ExecuteTime": {
     "end_time": "2020-09-10T22:02:32.134964Z",
     "start_time": "2020-09-10T22:02:26.987338Z"
    }
   },
   "outputs": [],
   "source": [
    "X_train = pd.concat((X_train, X_valid))\n",
    "y_train = pd.concat((y_train, y_valid))\n",
    "gc.collect();"
   ]
  },
  {
   "cell_type": "code",
   "execution_count": 30,
   "metadata": {
    "ExecuteTime": {
     "end_time": "2020-09-10T22:02:32.186962Z",
     "start_time": "2020-09-10T22:02:32.137997Z"
    }
   },
   "outputs": [
    {
     "data": {
      "text/plain": [
       "(5667543, 54)"
      ]
     },
     "execution_count": 30,
     "metadata": {},
     "output_type": "execute_result"
    }
   ],
   "source": [
    "X_train.shape"
   ]
  },
  {
   "cell_type": "code",
   "execution_count": null,
   "metadata": {
    "ExecuteTime": {
     "end_time": "2020-09-10T21:53:40.460392Z",
     "start_time": "2020-09-10T21:53:38.483469Z"
    }
   },
   "outputs": [],
   "source": [
    "start_date_block_num = 25\n",
    "indices_train = (X_train.date_block_num >= start_date_block_num)\n",
    "X_train = X_train[indices_train]\n",
    "y_train = y_train[indices_train]\n",
    "gc.collect();"
   ]
  },
  {
   "cell_type": "code",
   "execution_count": null,
   "metadata": {
    "ExecuteTime": {
     "end_time": "2020-09-10T21:54:44.195296Z",
     "start_time": "2020-09-10T21:53:40.462984Z"
    }
   },
   "outputs": [],
   "source": [
    "model = Pipeline([('standartization', StandardScaler()), \n",
    "                  ('regression', Ridge(**ridge_params))])\n",
    "bags = 5\n",
    "\n",
    "bagged_predictions = np.zeros(X_test.shape[0])\n",
    "for n in tqdm(range(bags)):\n",
    "    model.set_params(**{'regression__random_state': random_state+n})\n",
    "    model.fit(X_train, y_train)\n",
    "    bagged_predictions += np.clip(model.predict(X_test), 0, 20)\n",
    "    gc.collect()\n",
    "    \n",
    "bagged_predictions /= bags"
   ]
  },
  {
   "cell_type": "markdown",
   "metadata": {},
   "source": [
    "Create submission."
   ]
  },
  {
   "cell_type": "code",
   "execution_count": null,
   "metadata": {
    "ExecuteTime": {
     "end_time": "2020-09-10T21:54:44.249333Z",
     "start_time": "2020-09-10T21:54:44.200532Z"
    }
   },
   "outputs": [],
   "source": [
    "pd.Series(bagged_predictions).describe()"
   ]
  },
  {
   "cell_type": "code",
   "execution_count": null,
   "metadata": {
    "ExecuteTime": {
     "end_time": "2020-09-10T21:54:45.144364Z",
     "start_time": "2020-09-10T21:54:44.252178Z"
    }
   },
   "outputs": [],
   "source": [
    "submission = pd.read_csv('../data/raw/sample_submission.csv')\n",
    "submission['item_cnt_month'] = bagged_predictions\n",
    "submission.to_csv('../models/ridge/submission_selected.csv', index=False)"
   ]
  },
  {
   "cell_type": "markdown",
   "metadata": {
    "ExecuteTime": {
     "end_time": "2020-09-04T07:41:17.285249Z",
     "start_time": "2020-09-04T07:41:08.424971Z"
    }
   },
   "source": [
    "!kaggle competitions submit competitive-data-science-predict-future-sales -f ../models/ridge/submission.csv -m \"Ridge\""
   ]
  },
  {
   "cell_type": "markdown",
   "metadata": {},
   "source": [
    "Result on all features: $1.08655$.\n",
    "\n",
    "Result on selected features: $1.081421$."
   ]
  },
  {
   "cell_type": "markdown",
   "metadata": {},
   "source": [
    "## OOF predictions"
   ]
  },
  {
   "cell_type": "markdown",
   "metadata": {},
   "source": [
    "In this section we will create out-of-fold predictions for stacking. We will use cheme f), that was given in the course:\n",
    "> In time-series task we usually have a fixed period of time we are asked to predict. Like day, week, month or arbitrary period with duration of T.\n",
    "> 1. Split the train data into chunks of duration T. Select first M chunks.\n",
    "> 2. Fit N diverse models on those M chunks and predict for the chunk M+1. Then fit those models on first M+1 chunks and predict for chunk M+2 and so on, until you hit the end. After that use all train data to fit models and get predictions for test. Now we will have meta-features for the chunks starting from number M+1 as well as meta-features for the test.\n",
    "> 3. Now we can use meta-features from first K chunks [M+1,M+2,..,M+K] to fit level 2 models and validate them on chunk M+K+1. Essentially we are back to step 1. with the lesser amount of chunks and meta-features instead of features."
   ]
  },
  {
   "cell_type": "code",
   "execution_count": 31,
   "metadata": {
    "ExecuteTime": {
     "end_time": "2020-09-10T22:02:43.889786Z",
     "start_time": "2020-09-10T22:02:32.189530Z"
    }
   },
   "outputs": [],
   "source": [
    "X_all = pd.concat((X_train, X_test))\n",
    "test_size = X_test.shape[0]\n",
    "del X_train, X_test\n",
    "gc.collect();"
   ]
  },
  {
   "cell_type": "code",
   "execution_count": 32,
   "metadata": {
    "ExecuteTime": {
     "end_time": "2020-09-10T22:02:43.996330Z",
     "start_time": "2020-09-10T22:02:43.893103Z"
    }
   },
   "outputs": [],
   "source": [
    "num_blocks = X_all.date_block_num.nunique()\n",
    "ts = TimeSeriesGroupSplit(n_splits=num_blocks-1, max_train_size=int(1.5*10**6))"
   ]
  },
  {
   "cell_type": "markdown",
   "metadata": {},
   "source": [
    "We will use chunks, devided by `date_block_num`. In our case $M = 3$, but we won't use all previous chunks to train and limit it according to `max_train_size`."
   ]
  },
  {
   "cell_type": "code",
   "execution_count": 33,
   "metadata": {
    "ExecuteTime": {
     "end_time": "2020-09-10T22:06:54.890886Z",
     "start_time": "2020-09-10T22:02:43.998577Z"
    },
    "scrolled": false
   },
   "outputs": [
    {
     "data": {
      "application/vnd.jupyter.widget-view+json": {
       "model_id": "4bb038d83dfd455b9118c7529a905155",
       "version_major": 2,
       "version_minor": 0
      },
      "text/plain": [
       "HBox(children=(FloatProgress(value=0.0, max=22.0), HTML(value='')))"
      ]
     },
     "metadata": {},
     "output_type": "display_data"
    },
    {
     "name": "stdout",
     "output_type": "stream",
     "text": [
      "\n"
     ]
    }
   ],
   "source": [
    "model = Pipeline([('standartization', StandardScaler()), \n",
    "                  ('regression', Ridge(**ridge_params))])\n",
    "\n",
    "predictions = np.zeros(X_all.shape[0])\n",
    "filled_predictions = np.zeros(X_all.shape[0]).astype(bool)\n",
    "\n",
    "for i, (train_idx, test_idx) in tqdm(\n",
    "    enumerate(ts.split(X_all, groups=X_all.date_block_num)), total=22\n",
    "):\n",
    "    # skip too small training size\n",
    "    if i < 2:\n",
    "        continue\n",
    "    model.fit(X_all.iloc[train_idx], y_train.iloc[train_idx])\n",
    "    current_predictions = model.predict(X_all.iloc[test_idx])\n",
    "    predictions[test_idx] = current_predictions\n",
    "    filled_predictions[test_idx] = True\n",
    "    \n",
    "predictions = predictions[filled_predictions]\n",
    "y_train = y_train.iloc[filled_predictions[:-test_size]]"
   ]
  },
  {
   "cell_type": "markdown",
   "metadata": {},
   "source": [
    "Save columns of predictions and clipped predictions."
   ]
  },
  {
   "cell_type": "code",
   "execution_count": 34,
   "metadata": {
    "ExecuteTime": {
     "end_time": "2020-09-10T22:06:55.131203Z",
     "start_time": "2020-09-10T22:06:54.896779Z"
    }
   },
   "outputs": [],
   "source": [
    "OOF_all = pd.DataFrame({'ridge': predictions, \n",
    "                        'ridge_clipped': np.clip(predictions, 0, 20)})\n",
    "OOF_train = OOF_all.iloc[:-test_size].reset_index(drop=True)\n",
    "OOF_train['target'] = y_train.values\n",
    "OOF_test = OOF_all.iloc[-test_size:].reset_index(drop=True)"
   ]
  },
  {
   "cell_type": "code",
   "execution_count": 35,
   "metadata": {
    "ExecuteTime": {
     "end_time": "2020-09-10T22:07:26.769203Z",
     "start_time": "2020-09-10T22:06:55.133427Z"
    }
   },
   "outputs": [],
   "source": [
    "OOF_train.to_csv('../models/oof/ridge/train_selected.csv', index=False)\n",
    "OOF_test.to_csv('../models/oof/ridge/test_selected.csv', index=False)"
   ]
  }
 ],
 "metadata": {
  "kernelspec": {
   "display_name": "Python 3",
   "language": "python",
   "name": "python3"
  },
  "language_info": {
   "codemirror_mode": {
    "name": "ipython",
    "version": 3
   },
   "file_extension": ".py",
   "mimetype": "text/x-python",
   "name": "python",
   "nbconvert_exporter": "python",
   "pygments_lexer": "ipython3",
   "version": "3.8.5"
  }
 },
 "nbformat": 4,
 "nbformat_minor": 4
}
