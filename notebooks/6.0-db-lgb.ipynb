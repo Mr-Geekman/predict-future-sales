{
 "cells": [
  {
   "cell_type": "code",
   "execution_count": 1,
   "metadata": {
    "ExecuteTime": {
     "end_time": "2020-09-05T18:35:51.990828Z",
     "start_time": "2020-09-05T18:35:50.447818Z"
    }
   },
   "outputs": [],
   "source": [
    "%load_ext autoreload\n",
    "%autoreload 2\n",
    "import copy\n",
    "import gc\n",
    "import sys\n",
    "\n",
    "sys.path.append('..')\n",
    "\n",
    "import numpy as np\n",
    "import pandas as pd\n",
    "import scipy.stats as sps\n",
    "\n",
    "import matplotlib.pyplot as plt\n",
    "import seaborn as sns\n",
    "from tqdm.notebook import tqdm\n",
    "\n",
    "from sklearn.model_selection import (GridSearchCV, RandomizedSearchCV, \n",
    "                                     cross_val_score)\n",
    "from sklearn.metrics import mean_squared_error\n",
    "from sklearn.preprocessing import LabelEncoder\n",
    "\n",
    "import lightgbm as lgb\n",
    "from lightgbm import LGBMRegressor\n",
    "\n",
    "from hyperopt import hp, tpe, STATUS_OK, Trials\n",
    "from hyperopt.fmin import fmin\n",
    "\n",
    "from src.utils.cross_validation import TimeSeriesGroupSplit\n",
    "from src.utils.downcasting import downcast_dtypes\n",
    "\n",
    "sns.set(font_scale=1.2)\n",
    "%matplotlib inline"
   ]
  },
  {
   "cell_type": "code",
   "execution_count": 2,
   "metadata": {
    "ExecuteTime": {
     "end_time": "2020-09-05T18:35:52.031975Z",
     "start_time": "2020-09-05T18:35:51.993924Z"
    }
   },
   "outputs": [],
   "source": [
    "max_text_features = 20\n",
    "random_state = 42\n",
    "\n",
    "BEST_CONSTANT = 0.2839\n",
    "MEAN_CONSTANT = 0.3343"
   ]
  },
  {
   "cell_type": "markdown",
   "metadata": {},
   "source": [
    "# LightGBM"
   ]
  },
  {
   "cell_type": "markdown",
   "metadata": {},
   "source": [
    "In this notebook we will produce predictions by LightGBM."
   ]
  },
  {
   "cell_type": "markdown",
   "metadata": {},
   "source": [
    "## Preparing datasets"
   ]
  },
  {
   "cell_type": "markdown",
   "metadata": {},
   "source": [
    "In this section we will load all datasets and prepare them for training."
   ]
  },
  {
   "cell_type": "code",
   "execution_count": 3,
   "metadata": {
    "ExecuteTime": {
     "end_time": "2020-09-05T18:36:00.895865Z",
     "start_time": "2020-09-05T18:35:52.034959Z"
    }
   },
   "outputs": [],
   "source": [
    "sales_train = pd.read_csv('../data/processed/sales_train.csv')\n",
    "train = pd.read_feather('../data/processed/train.ftr')\n",
    "test = pd.read_feather('../data/processed/test.ftr')\n",
    "\n",
    "items = pd.read_csv('../data/processed/items.csv')\n",
    "tfidf_truncated_svd = pd.read_feather('../data/processed/text/tfidf_truncated-svd.ftr')"
   ]
  },
  {
   "cell_type": "code",
   "execution_count": 4,
   "metadata": {
    "ExecuteTime": {
     "end_time": "2020-09-05T18:36:07.100293Z",
     "start_time": "2020-09-05T18:36:00.898543Z"
    }
   },
   "outputs": [],
   "source": [
    "train.drop(columns=['index'], inplace=True)\n",
    "test.drop(columns=['index', 'level_0'], inplace=True)"
   ]
  },
  {
   "cell_type": "code",
   "execution_count": 5,
   "metadata": {
    "ExecuteTime": {
     "end_time": "2020-09-05T18:38:54.146136Z",
     "start_time": "2020-09-05T18:36:07.102544Z"
    }
   },
   "outputs": [],
   "source": [
    "train = downcast_dtypes(train, from_bytes=32, to_bytes=16)\n",
    "test = downcast_dtypes(test, from_bytes=32, to_bytes=16)"
   ]
  },
  {
   "cell_type": "markdown",
   "metadata": {},
   "source": [
    "### Adding text features"
   ]
  },
  {
   "cell_type": "code",
   "execution_count": 6,
   "metadata": {
    "ExecuteTime": {
     "end_time": "2020-09-05T18:38:54.264079Z",
     "start_time": "2020-09-05T18:38:54.150525Z"
    }
   },
   "outputs": [],
   "source": [
    "tfidf_truncated_svd = tfidf_truncated_svd[tfidf_truncated_svd.columns[:max_text_features]]"
   ]
  },
  {
   "cell_type": "code",
   "execution_count": 7,
   "metadata": {
    "ExecuteTime": {
     "end_time": "2020-09-05T18:38:54.296429Z",
     "start_time": "2020-09-05T18:38:54.266460Z"
    }
   },
   "outputs": [],
   "source": [
    "tfidf_truncated_svd['item_id'] = items.item_id"
   ]
  },
  {
   "cell_type": "code",
   "execution_count": 8,
   "metadata": {
    "ExecuteTime": {
     "end_time": "2020-09-05T18:39:14.401632Z",
     "start_time": "2020-09-05T18:38:54.301452Z"
    }
   },
   "outputs": [],
   "source": [
    "train = pd.merge(\n",
    "    train,\n",
    "    tfidf_truncated_svd,\n",
    "    how='left', on='item_id'\n",
    ")\n",
    "\n",
    "test = pd.merge(\n",
    "    test,\n",
    "    tfidf_truncated_svd,\n",
    "    how='left', on='item_id'\n",
    ")\n",
    "\n",
    "gc.collect();"
   ]
  },
  {
   "cell_type": "markdown",
   "metadata": {},
   "source": [
    "### Clipping target"
   ]
  },
  {
   "cell_type": "markdown",
   "metadata": {},
   "source": [
    "According to evaluation, target will be clipped between 0 and 20. Let's do it in our dataset."
   ]
  },
  {
   "cell_type": "code",
   "execution_count": 9,
   "metadata": {
    "ExecuteTime": {
     "end_time": "2020-09-05T18:39:14.628045Z",
     "start_time": "2020-09-05T18:39:14.405702Z"
    }
   },
   "outputs": [],
   "source": [
    "train.target = np.clip(train.target, 0, 20)"
   ]
  },
  {
   "cell_type": "markdown",
   "metadata": {},
   "source": [
    "### Process categorical data"
   ]
  },
  {
   "cell_type": "markdown",
   "metadata": {},
   "source": [
    "Find categorical columns."
   ]
  },
  {
   "cell_type": "code",
   "execution_count": 10,
   "metadata": {
    "ExecuteTime": {
     "end_time": "2020-09-05T18:39:14.654830Z",
     "start_time": "2020-09-05T18:39:14.631220Z"
    }
   },
   "outputs": [],
   "source": [
    "categorical_types = ['object', 'bool']"
   ]
  },
  {
   "cell_type": "code",
   "execution_count": 11,
   "metadata": {
    "ExecuteTime": {
     "end_time": "2020-09-05T18:39:14.692493Z",
     "start_time": "2020-09-05T18:39:14.657198Z"
    }
   },
   "outputs": [
    {
     "data": {
      "text/plain": [
       "item_name                  object\n",
       "item_in_test                 bool\n",
       "item_full_category_name    object\n",
       "item_category_name         object\n",
       "item_subcategory_name      object\n",
       "shop_name                  object\n",
       "city                       object\n",
       "shop_in_test                 bool\n",
       "dtype: object"
      ]
     },
     "execution_count": 11,
     "metadata": {},
     "output_type": "execute_result"
    }
   ],
   "source": [
    "train.dtypes[np.isin(train.dtypes.values, categorical_types)]"
   ]
  },
  {
   "cell_type": "markdown",
   "metadata": {},
   "source": [
    "Don't touch boolean objects, they are already label encoded."
   ]
  },
  {
   "cell_type": "markdown",
   "metadata": {},
   "source": [
    "Let's remove columns `item_name`, `shop_name`, because we already have them label encoded as `item_id`, `shop_id`."
   ]
  },
  {
   "cell_type": "code",
   "execution_count": 12,
   "metadata": {
    "ExecuteTime": {
     "end_time": "2020-09-05T18:39:27.415139Z",
     "start_time": "2020-09-05T18:39:14.695870Z"
    }
   },
   "outputs": [],
   "source": [
    "train.drop(columns=['item_name', 'shop_name'], inplace=True)\n",
    "test.drop(columns=['item_name', 'shop_name'], inplace=True)"
   ]
  },
  {
   "cell_type": "markdown",
   "metadata": {},
   "source": [
    "Let's define list with all categorical values."
   ]
  },
  {
   "cell_type": "code",
   "execution_count": 13,
   "metadata": {
    "ExecuteTime": {
     "end_time": "2020-09-05T18:39:27.441118Z",
     "start_time": "2020-09-05T18:39:27.417277Z"
    }
   },
   "outputs": [],
   "source": [
    "categorical_features = [\n",
    "    'month', 'item_id', 'item_full_category_name', 'item_category_name', \n",
    "    'item_subcategory_name', 'shop_id', 'city'\n",
    "]"
   ]
  },
  {
   "cell_type": "markdown",
   "metadata": {},
   "source": [
    "#### Label encoding"
   ]
  },
  {
   "cell_type": "markdown",
   "metadata": {},
   "source": [
    "We will label encode only `city`, because in other cases we have already label encoded features or there are values on test, that are not present on train."
   ]
  },
  {
   "cell_type": "code",
   "execution_count": 14,
   "metadata": {
    "ExecuteTime": {
     "end_time": "2020-09-05T18:39:28.728638Z",
     "start_time": "2020-09-05T18:39:27.443431Z"
    }
   },
   "outputs": [],
   "source": [
    "label_encode_features = ['city']\n",
    "\n",
    "for column in label_encode_features:\n",
    "    le = LabelEncoder()\n",
    "    \n",
    "    encoded_feature_train = le.fit_transform(train[column])\n",
    "    train[f'{column}_labeled'] = encoded_feature_train\n",
    "    \n",
    "    encoded_feature_test = le.transform(test[column])\n",
    "    test[f'{column}_labeled'] = encoded_feature_test"
   ]
  },
  {
   "cell_type": "markdown",
   "metadata": {},
   "source": [
    "#### Mean encoding"
   ]
  },
  {
   "cell_type": "code",
   "execution_count": 15,
   "metadata": {
    "ExecuteTime": {
     "end_time": "2020-09-05T18:40:34.607968Z",
     "start_time": "2020-09-05T18:39:28.732404Z"
    }
   },
   "outputs": [
    {
     "data": {
      "application/vnd.jupyter.widget-view+json": {
       "model_id": "c4de0fda0a3140eeaf63a8f1eb6c6c61",
       "version_major": 2,
       "version_minor": 0
      },
      "text/plain": [
       "HBox(children=(FloatProgress(value=0.0, max=7.0), HTML(value='')))"
      ]
     },
     "metadata": {},
     "output_type": "display_data"
    },
    {
     "name": "stdout",
     "output_type": "stream",
     "text": [
      "\n"
     ]
    }
   ],
   "source": [
    "for column in tqdm(categorical_features):\n",
    "    # encode train\n",
    "    cumsum = train.groupby(column).target.cumsum() - train.target\n",
    "    cumcount = train.groupby(column).cumcount()\n",
    "    encoded_feature = cumsum / cumcount\n",
    "    encoded_feature.fillna(MEAN_CONSTANT, inplace=True)\n",
    "    \n",
    "    train[f'{column}_mean_encoded_mean'] = encoded_feature\n",
    "    \n",
    "    # encode test\n",
    "    mean_train = train.groupby(column).target.mean()\n",
    "    test[f'{column}_mean_encoded_mean'] = test[column].map(mean_train).fillna(MEAN_CONSTANT)"
   ]
  },
  {
   "cell_type": "markdown",
   "metadata": {},
   "source": [
    "Drop all redundant columns."
   ]
  },
  {
   "cell_type": "code",
   "execution_count": 16,
   "metadata": {
    "ExecuteTime": {
     "end_time": "2020-09-05T18:40:41.695872Z",
     "start_time": "2020-09-05T18:40:34.610853Z"
    }
   },
   "outputs": [],
   "source": [
    "to_drop = ['item_id', 'item_full_category_name', 'item_category_name', \n",
    "           'item_subcategory_name', 'city']\n",
    "train.drop(columns=to_drop, inplace=True)\n",
    "test.drop(columns=to_drop, inplace=True)"
   ]
  },
  {
   "cell_type": "markdown",
   "metadata": {},
   "source": [
    "### Processing NaNs"
   ]
  },
  {
   "cell_type": "markdown",
   "metadata": {},
   "source": [
    "Fill NaNs."
   ]
  },
  {
   "cell_type": "code",
   "execution_count": 17,
   "metadata": {
    "ExecuteTime": {
     "end_time": "2020-09-05T18:40:50.065916Z",
     "start_time": "2020-09-05T18:40:41.698324Z"
    }
   },
   "outputs": [
    {
     "data": {
      "text/plain": [
       "Index(['num_residents'], dtype='object')"
      ]
     },
     "execution_count": 17,
     "metadata": {},
     "output_type": "execute_result"
    }
   ],
   "source": [
    "train.columns[train.isna().sum() > 0]"
   ]
  },
  {
   "cell_type": "markdown",
   "metadata": {},
   "source": [
    "As we expected there are some problems only with `num_residents`. We can fill it with zero, because it will be border value for this feature, trees can handle it properly."
   ]
  },
  {
   "cell_type": "code",
   "execution_count": 18,
   "metadata": {
    "ExecuteTime": {
     "end_time": "2020-09-05T18:40:53.912298Z",
     "start_time": "2020-09-05T18:40:50.069758Z"
    }
   },
   "outputs": [],
   "source": [
    "train.fillna(0, inplace=True)"
   ]
  },
  {
   "cell_type": "markdown",
   "metadata": {},
   "source": [
    "### Removing target"
   ]
  },
  {
   "cell_type": "markdown",
   "metadata": {},
   "source": [
    "Remove target from train."
   ]
  },
  {
   "cell_type": "code",
   "execution_count": 19,
   "metadata": {
    "ExecuteTime": {
     "end_time": "2020-09-05T18:41:00.672279Z",
     "start_time": "2020-09-05T18:40:53.914539Z"
    }
   },
   "outputs": [],
   "source": [
    "y = train.target\n",
    "train.drop(columns=['target'], inplace=True)"
   ]
  },
  {
   "cell_type": "markdown",
   "metadata": {},
   "source": [
    "### Create validation split."
   ]
  },
  {
   "cell_type": "markdown",
   "metadata": {},
   "source": [
    "Let's also delete from train rows that appears only on validation, it will make our train/validation split more consistant with train/test split."
   ]
  },
  {
   "cell_type": "code",
   "execution_count": 20,
   "metadata": {
    "ExecuteTime": {
     "end_time": "2020-09-05T18:41:07.739148Z",
     "start_time": "2020-09-05T18:41:00.674483Z"
    }
   },
   "outputs": [
    {
     "data": {
      "text/plain": [
       "3"
      ]
     },
     "execution_count": 20,
     "metadata": {},
     "output_type": "execute_result"
    }
   ],
   "source": [
    "X_valid = train[train.date_block_num == 33]\n",
    "X_train = train[train.date_block_num < 33]\n",
    "y_valid = y[train.date_block_num == 33]\n",
    "y_train = y[train.date_block_num < 33]\n",
    "X_test = test\n",
    "    \n",
    "del train, test\n",
    "gc.collect()"
   ]
  },
  {
   "cell_type": "markdown",
   "metadata": {},
   "source": [
    "## Hyperparameters tuning"
   ]
  },
  {
   "cell_type": "markdown",
   "metadata": {},
   "source": [
    "In this section we will find optimum parameters for a model. Firstly, fix the result before any optimization."
   ]
  },
  {
   "cell_type": "code",
   "execution_count": 21,
   "metadata": {
    "ExecuteTime": {
     "end_time": "2020-09-05T18:41:07.778560Z",
     "start_time": "2020-09-05T18:41:07.742034Z"
    }
   },
   "outputs": [],
   "source": [
    "ts = TimeSeriesGroupSplit(n_splits=5, max_train_size=int(2*10**5))\n",
    "\n",
    "lgb_params = {\n",
    "    'objective': 'rmse',\n",
    "    'learning_rate': 0.1,\n",
    "    'random_state': random_state\n",
    "}"
   ]
  },
  {
   "cell_type": "code",
   "execution_count": 22,
   "metadata": {
    "ExecuteTime": {
     "end_time": "2020-09-05T18:41:07.816014Z",
     "start_time": "2020-09-05T18:41:07.780972Z"
    }
   },
   "outputs": [],
   "source": [
    "# default_score = cross_val_score(\n",
    "#     LGBMRegressor(**lgb_params), \n",
    "#     X_train, y_train, groups=X_train.date_block_num,\n",
    "#     n_jobs=1, \n",
    "#     scoring='neg_root_mean_squared_error', \n",
    "#     verbose=0,\n",
    "#     cv=ts\n",
    "# ).mean()\n",
    "# print(f'Current score: {-default_score:.5f}')"
   ]
  },
  {
   "cell_type": "markdown",
   "metadata": {},
   "source": [
    "Score: $0.93868$."
   ]
  },
  {
   "cell_type": "markdown",
   "metadata": {},
   "source": [
    "### `n_estimators`"
   ]
  },
  {
   "cell_type": "markdown",
   "metadata": {},
   "source": [
    "In this section we fix `learning_rate = 0.1` and try to find reasonable num of iterations."
   ]
  },
  {
   "cell_type": "code",
   "execution_count": 23,
   "metadata": {
    "ExecuteTime": {
     "end_time": "2020-09-05T18:41:07.846248Z",
     "start_time": "2020-09-05T18:41:07.823511Z"
    }
   },
   "outputs": [],
   "source": [
    "# X_train_dataset = lgb.Dataset(X_train[X_train.date_block_num >= 25], label=y_train[X_train.date_block_num >= 25])\n",
    "# X_valid_dataset = lgb.Dataset(X_valid, label=y_valid)\n",
    "\n",
    "# lgb.train(lgb_params, X_train_dataset, num_boost_round=1000, \n",
    "#           valid_sets=[X_train_dataset, X_valid_dataset], early_stopping_rounds=100)"
   ]
  },
  {
   "cell_type": "code",
   "execution_count": 25,
   "metadata": {
    "ExecuteTime": {
     "end_time": "2020-09-05T18:41:55.386323Z",
     "start_time": "2020-09-05T18:41:55.363902Z"
    }
   },
   "outputs": [],
   "source": [
    "# del X_train_dataset, X_valid_dataset\n",
    "# gc.collect();"
   ]
  },
  {
   "cell_type": "code",
   "execution_count": 26,
   "metadata": {
    "ExecuteTime": {
     "end_time": "2020-09-05T18:41:57.803675Z",
     "start_time": "2020-09-05T18:41:57.778403Z"
    }
   },
   "outputs": [],
   "source": [
    "param_grid = {\n",
    "    'n_estimators': np.arange(50, 301, 50)\n",
    "}\n",
    "\n",
    "gs = GridSearchCV(\n",
    "    LGBMRegressor(**lgb_params), \n",
    "    param_grid,          \n",
    "    n_jobs=1, \n",
    "    scoring='neg_root_mean_squared_error', \n",
    "    verbose=10,\n",
    "    refit=False,\n",
    "    cv=ts\n",
    ")"
   ]
  },
  {
   "cell_type": "markdown",
   "metadata": {
    "ExecuteTime": {
     "end_time": "2020-09-04T18:06:22.530172Z",
     "start_time": "2020-09-04T17:53:23.814280Z"
    }
   },
   "source": [
    "gs.fit(X_train, y_train, groups=X_train.date_block_num)"
   ]
  },
  {
   "cell_type": "markdown",
   "metadata": {
    "ExecuteTime": {
     "end_time": "2020-09-04T18:06:22.592080Z",
     "start_time": "2020-09-04T18:06:22.536120Z"
    }
   },
   "source": [
    "gs.cv_results_"
   ]
  },
  {
   "cell_type": "markdown",
   "metadata": {
    "ExecuteTime": {
     "end_time": "2020-09-04T18:06:33.368544Z",
     "start_time": "2020-09-04T18:06:33.333062Z"
    }
   },
   "source": [
    "gs.best_params_"
   ]
  },
  {
   "cell_type": "code",
   "execution_count": 27,
   "metadata": {
    "ExecuteTime": {
     "end_time": "2020-09-05T18:41:58.426488Z",
     "start_time": "2020-09-05T18:41:58.402289Z"
    }
   },
   "outputs": [],
   "source": [
    "lgb_params['n_estimators'] = 193"
   ]
  },
  {
   "cell_type": "markdown",
   "metadata": {},
   "source": [
    "### Tree parameters"
   ]
  },
  {
   "cell_type": "markdown",
   "metadata": {},
   "source": [
    "Here we will find optimum values for building tree:\n",
    "* `num_leaves`\n",
    "* `max_depth`\n",
    "* `min_data_in_leaf`"
   ]
  },
  {
   "cell_type": "code",
   "execution_count": 28,
   "metadata": {
    "ExecuteTime": {
     "end_time": "2020-09-05T18:41:58.848744Z",
     "start_time": "2020-09-05T18:41:58.817095Z"
    }
   },
   "outputs": [],
   "source": [
    "def objective(params):\n",
    "    \"\"\"Function to optimize in hyperopt.\"\"\"\n",
    "    # all our parameters are integer\n",
    "    params = {key: int(value) for key, value in params.items()}\n",
    "    \n",
    "    current_params = copy.copy(lgb_params)\n",
    "    current_params.update(params)    \n",
    "    score = cross_val_score(\n",
    "        LGBMRegressor(**current_params), \n",
    "        X_train, y_train, groups=X_train.date_block_num,\n",
    "        n_jobs=1, \n",
    "        scoring='neg_root_mean_squared_error', \n",
    "        verbose=0,\n",
    "        cv=ts\n",
    "    ).mean()\n",
    "    \n",
    "    print(f'RMSE {-score:.5f} params {params}')\n",
    "    \n",
    "    return {\n",
    "        'loss': -score,\n",
    "        'status': STATUS_OK,\n",
    "    }\n",
    "\n",
    "space = {\n",
    "    'num_leaves': hp.quniform('num_leaves', 8, 128, 2), \n",
    "    'max_depth': hp.choice(\n",
    "        'max_depth', [-1, hp.quniform('max_depth_limited', 4, 20, 2)]\n",
    "    ),\n",
    "    'min_data_in_leaf': hp.qloguniform('min_data_in_leaf', 1, 4, 4)\n",
    "}"
   ]
  },
  {
   "cell_type": "markdown",
   "metadata": {
    "ExecuteTime": {
     "end_time": "2020-09-05T18:14:03.606572Z",
     "start_time": "2020-09-05T16:05:33.737511Z"
    }
   },
   "source": [
    "trials = Trials()\n",
    "best = fmin(\n",
    "    fn=objective, \n",
    "    space=space, \n",
    "    algo=tpe.suggest, \n",
    "    max_evals=50,\n",
    "    trials=trials\n",
    ")"
   ]
  },
  {
   "cell_type": "markdown",
   "metadata": {
    "ExecuteTime": {
     "end_time": "2020-09-05T18:14:45.896500Z",
     "start_time": "2020-09-05T18:14:45.868721Z"
    }
   },
   "source": [
    "best"
   ]
  },
  {
   "cell_type": "code",
   "execution_count": 29,
   "metadata": {
    "ExecuteTime": {
     "end_time": "2020-09-05T18:41:59.269077Z",
     "start_time": "2020-09-05T18:41:59.232490Z"
    }
   },
   "outputs": [],
   "source": [
    "lgb_params['max_depth'] = -1\n",
    "lgb_params['min_data_in_leaf'] = 8\n",
    "lgb_params['num_leaves'] = 14"
   ]
  },
  {
   "cell_type": "markdown",
   "metadata": {},
   "source": [
    "### Subsampling"
   ]
  },
  {
   "cell_type": "markdown",
   "metadata": {},
   "source": [
    "Here we will find optimum parameters for subsampling:\n",
    "* `bagging_fraction`\n",
    "* `feature_fraction`"
   ]
  },
  {
   "cell_type": "code",
   "execution_count": 30,
   "metadata": {
    "ExecuteTime": {
     "end_time": "2020-09-05T18:41:59.621975Z",
     "start_time": "2020-09-05T18:41:59.597466Z"
    }
   },
   "outputs": [],
   "source": [
    "param_grid = {\n",
    "    'bagging_fraction': np.linspace(0.2, 1, 5),\n",
    "    'feature_fraction': np.linspace(0.2, 1, 5)\n",
    "}\n",
    "\n",
    "gs = GridSearchCV(\n",
    "    LGBMRegressor(**lgb_params), \n",
    "    param_grid,          \n",
    "    n_jobs=1, \n",
    "    scoring='neg_root_mean_squared_error', \n",
    "    verbose=10,\n",
    "    refit=False,\n",
    "    cv=ts\n",
    ")"
   ]
  },
  {
   "cell_type": "markdown",
   "metadata": {
    "ExecuteTime": {
     "end_time": "2020-09-04T21:11:23.911638Z",
     "start_time": "2020-09-04T20:35:55.695230Z"
    }
   },
   "source": [
    "gs.fit(X_train, y_train, groups=X_train.date_block_num)"
   ]
  },
  {
   "cell_type": "markdown",
   "metadata": {
    "ExecuteTime": {
     "end_time": "2020-09-04T21:11:32.041762Z",
     "start_time": "2020-09-04T21:11:32.016529Z"
    }
   },
   "source": [
    "gs.best_params_"
   ]
  },
  {
   "cell_type": "markdown",
   "metadata": {
    "ExecuteTime": {
     "end_time": "2020-09-04T21:11:33.558879Z",
     "start_time": "2020-09-04T21:11:33.521345Z"
    }
   },
   "source": [
    "gs.cv_results_"
   ]
  },
  {
   "cell_type": "markdown",
   "metadata": {
    "ExecuteTime": {
     "end_time": "2020-09-04T21:11:24.091626Z",
     "start_time": "2020-09-04T21:11:24.050549Z"
    }
   },
   "source": [
    "gs.best_score_"
   ]
  },
  {
   "cell_type": "code",
   "execution_count": 31,
   "metadata": {
    "ExecuteTime": {
     "end_time": "2020-09-05T18:42:00.253212Z",
     "start_time": "2020-09-05T18:42:00.226402Z"
    }
   },
   "outputs": [],
   "source": [
    "lgb_params['bagging_fraction'] = 1.0\n",
    "lgb_params['feature_fraction'] = 1.0"
   ]
  },
  {
   "cell_type": "markdown",
   "metadata": {},
   "source": [
    "### Regularization"
   ]
  },
  {
   "cell_type": "code",
   "execution_count": 32,
   "metadata": {
    "ExecuteTime": {
     "end_time": "2020-09-05T18:42:00.515591Z",
     "start_time": "2020-09-05T18:42:00.488808Z"
    }
   },
   "outputs": [
    {
     "data": {
      "text/plain": [
       "{'objective': 'rmse',\n",
       " 'learning_rate': 0.1,\n",
       " 'random_state': 42,\n",
       " 'n_estimators': 193,\n",
       " 'max_depth': -1,\n",
       " 'min_data_in_leaf': 8,\n",
       " 'num_leaves': 14,\n",
       " 'bagging_fraction': 1.0,\n",
       " 'feature_fraction': 1.0}"
      ]
     },
     "execution_count": 32,
     "metadata": {},
     "output_type": "execute_result"
    }
   ],
   "source": [
    "lgb_params"
   ]
  },
  {
   "cell_type": "markdown",
   "metadata": {},
   "source": [
    "Here we will find optimum parameters for regularization:\n",
    "* `lambda_l1`\n",
    "* `lambda_l2`"
   ]
  },
  {
   "cell_type": "code",
   "execution_count": 33,
   "metadata": {
    "ExecuteTime": {
     "end_time": "2020-09-05T18:42:00.765284Z",
     "start_time": "2020-09-05T18:42:00.734922Z"
    }
   },
   "outputs": [],
   "source": [
    "param_grid = {\n",
    "    'lambda_l1': [0, 10**(-2), 10**(-1), 1, 10],\n",
    "    'lambda_l2': [0, 10**(-2), 10**(-1), 1, 10]\n",
    "}\n",
    "\n",
    "gs = GridSearchCV(\n",
    "    LGBMRegressor(**lgb_params), \n",
    "    param_grid,          \n",
    "    n_jobs=1, \n",
    "    scoring='neg_root_mean_squared_error', \n",
    "    verbose=10,\n",
    "    refit=False,\n",
    "    cv=ts\n",
    ")"
   ]
  },
  {
   "cell_type": "markdown",
   "metadata": {
    "ExecuteTime": {
     "end_time": "2020-09-05T10:04:06.390545Z",
     "start_time": "2020-09-05T09:17:47.009391Z"
    }
   },
   "source": [
    "gs.fit(X_train, y_train, groups=X_train.date_block_num)"
   ]
  },
  {
   "cell_type": "markdown",
   "metadata": {
    "ExecuteTime": {
     "end_time": "2020-09-05T10:04:06.626649Z",
     "start_time": "2020-09-05T10:04:06.402806Z"
    }
   },
   "source": [
    "gs.best_params_"
   ]
  },
  {
   "cell_type": "markdown",
   "metadata": {
    "ExecuteTime": {
     "end_time": "2020-09-05T10:04:06.675465Z",
     "start_time": "2020-09-05T10:04:06.633534Z"
    }
   },
   "source": [
    "gs.best_score_"
   ]
  },
  {
   "cell_type": "markdown",
   "metadata": {
    "ExecuteTime": {
     "end_time": "2020-09-05T10:04:47.937195Z",
     "start_time": "2020-09-05T10:04:47.898535Z"
    }
   },
   "source": [
    "gs.cv_results_"
   ]
  },
  {
   "cell_type": "code",
   "execution_count": 34,
   "metadata": {
    "ExecuteTime": {
     "end_time": "2020-09-05T18:42:01.541006Z",
     "start_time": "2020-09-05T18:42:01.499902Z"
    }
   },
   "outputs": [],
   "source": [
    "lgb_params['lambda_l1'] = 0\n",
    "lgb_params['lambda_l2'] = 0"
   ]
  },
  {
   "cell_type": "markdown",
   "metadata": {},
   "source": [
    "### Reduce learning rate"
   ]
  },
  {
   "cell_type": "markdown",
   "metadata": {},
   "source": [
    "Current score:"
   ]
  },
  {
   "cell_type": "code",
   "execution_count": 35,
   "metadata": {
    "ExecuteTime": {
     "end_time": "2020-09-05T18:42:01.996522Z",
     "start_time": "2020-09-05T18:42:01.972263Z"
    },
    "scrolled": true
   },
   "outputs": [],
   "source": [
    "# current_score = cross_val_score(\n",
    "#     LGBMRegressor(**lgb_params), \n",
    "#     X_train, y_train, groups=X_train.date_block_num,\n",
    "#     n_jobs=1, \n",
    "#     scoring='neg_root_mean_squared_error', \n",
    "#     verbose=0,\n",
    "#     cv=ts\n",
    "# ).mean()\n",
    "# print(f'Current score: {-current_score:.5f}')"
   ]
  },
  {
   "cell_type": "markdown",
   "metadata": {},
   "source": [
    "Score: $0.93465$."
   ]
  },
  {
   "cell_type": "markdown",
   "metadata": {},
   "source": [
    "Now we can half our `learning rate` and double `num_iterations`."
   ]
  },
  {
   "cell_type": "code",
   "execution_count": 36,
   "metadata": {
    "ExecuteTime": {
     "end_time": "2020-09-05T18:42:02.540633Z",
     "start_time": "2020-09-05T18:42:02.501277Z"
    }
   },
   "outputs": [],
   "source": [
    "lgb_params_changed = copy.copy(lgb_params)\n",
    "lgb_params_changed['learning_rate'] /= 2\n",
    "lgb_params_changed['n_estimators'] = int(lgb_params['n_estimators'] * 2)"
   ]
  },
  {
   "cell_type": "code",
   "execution_count": 37,
   "metadata": {
    "ExecuteTime": {
     "end_time": "2020-09-05T18:42:02.692823Z",
     "start_time": "2020-09-05T18:42:02.651350Z"
    }
   },
   "outputs": [],
   "source": [
    "# score_after_change = cross_val_score(\n",
    "#     LGBMRegressor(**lgb_params_changed), \n",
    "#     X_train, y_train, groups=X_train.date_block_num,\n",
    "#     n_jobs=1, \n",
    "#     scoring='neg_root_mean_squared_error', \n",
    "#     verbose=0,\n",
    "#     cv=ts\n",
    "# ).mean()\n",
    "\n",
    "# print(f'Score after changing: {-score_after_change:.5f}')"
   ]
  },
  {
   "cell_type": "markdown",
   "metadata": {},
   "source": [
    "Score: $0.93853$."
   ]
  },
  {
   "cell_type": "markdown",
   "metadata": {},
   "source": [
    "It didn't helped. Best parameters:"
   ]
  },
  {
   "cell_type": "code",
   "execution_count": 38,
   "metadata": {
    "ExecuteTime": {
     "end_time": "2020-09-05T18:42:03.189190Z",
     "start_time": "2020-09-05T18:42:03.159271Z"
    }
   },
   "outputs": [
    {
     "data": {
      "text/plain": [
       "{'objective': 'rmse',\n",
       " 'learning_rate': 0.1,\n",
       " 'random_state': 42,\n",
       " 'n_estimators': 193,\n",
       " 'max_depth': -1,\n",
       " 'min_data_in_leaf': 8,\n",
       " 'num_leaves': 14,\n",
       " 'bagging_fraction': 1.0,\n",
       " 'feature_fraction': 1.0,\n",
       " 'lambda_l1': 0,\n",
       " 'lambda_l2': 0}"
      ]
     },
     "execution_count": 38,
     "metadata": {},
     "output_type": "execute_result"
    }
   ],
   "source": [
    "lgb_params"
   ]
  },
  {
   "cell_type": "markdown",
   "metadata": {},
   "source": [
    "## Validation"
   ]
  },
  {
   "cell_type": "markdown",
   "metadata": {},
   "source": [
    "In this section we will validate best parameters using haldout. We will use not all train, because of limitation of RAM."
   ]
  },
  {
   "cell_type": "code",
   "execution_count": 39,
   "metadata": {
    "ExecuteTime": {
     "end_time": "2020-09-05T18:42:03.724996Z",
     "start_time": "2020-09-05T18:42:03.689151Z"
    }
   },
   "outputs": [
    {
     "data": {
      "text/plain": [
       "1627417"
      ]
     },
     "execution_count": 39,
     "metadata": {},
     "output_type": "execute_result"
    }
   ],
   "source": [
    "(X_train.date_block_num >= 25).sum()"
   ]
  },
  {
   "cell_type": "code",
   "execution_count": 40,
   "metadata": {
    "ExecuteTime": {
     "end_time": "2020-09-05T18:42:06.039622Z",
     "start_time": "2020-09-05T18:42:03.846345Z"
    }
   },
   "outputs": [],
   "source": [
    "start_date_block_num = 25\n",
    "indices_train = (X_train.date_block_num >= start_date_block_num)\n",
    "X_train = X_train[indices_train]\n",
    "y_train = y_train[indices_train]\n",
    "gc.collect();"
   ]
  },
  {
   "cell_type": "code",
   "execution_count": 41,
   "metadata": {
    "ExecuteTime": {
     "end_time": "2020-09-05T18:43:23.228514Z",
     "start_time": "2020-09-05T18:42:06.042152Z"
    }
   },
   "outputs": [
    {
     "data": {
      "text/plain": [
       "LGBMRegressor(bagging_fraction=1.0, feature_fraction=1.0, lambda_l1=0,\n",
       "              lambda_l2=0, min_data_in_leaf=8, n_estimators=193, num_leaves=14,\n",
       "              objective='rmse', random_state=42)"
      ]
     },
     "execution_count": 41,
     "metadata": {},
     "output_type": "execute_result"
    }
   ],
   "source": [
    "model = LGBMRegressor(**lgb_params)\n",
    "model.fit(X_train, y_train)"
   ]
  },
  {
   "cell_type": "code",
   "execution_count": 42,
   "metadata": {
    "ExecuteTime": {
     "end_time": "2020-09-05T18:43:25.987739Z",
     "start_time": "2020-09-05T18:43:23.234402Z"
    }
   },
   "outputs": [
    {
     "name": "stdout",
     "output_type": "stream",
     "text": [
      "Validation score: 0.82823\n"
     ]
    }
   ],
   "source": [
    "y_predicted = np.clip(model.predict(X_valid), 0, 20)\n",
    "validation_score = mean_squared_error(y_valid, y_predicted)\n",
    "print(f'Validation score: {validation_score:.5f}')"
   ]
  },
  {
   "cell_type": "markdown",
   "metadata": {},
   "source": [
    "Score: $0.82823$"
   ]
  },
  {
   "cell_type": "markdown",
   "metadata": {},
   "source": [
    "Let's look at predicted values charasteristics."
   ]
  },
  {
   "cell_type": "code",
   "execution_count": 43,
   "metadata": {
    "ExecuteTime": {
     "end_time": "2020-09-05T18:43:26.057681Z",
     "start_time": "2020-09-05T18:43:26.001395Z"
    }
   },
   "outputs": [
    {
     "data": {
      "text/plain": [
       "count    168139.000000\n",
       "mean          0.379657\n",
       "std           0.967624\n",
       "min           0.000000\n",
       "25%           0.053616\n",
       "50%           0.144591\n",
       "75%           0.341988\n",
       "max          20.000000\n",
       "dtype: float64"
      ]
     },
     "execution_count": 43,
     "metadata": {},
     "output_type": "execute_result"
    }
   ],
   "source": [
    "pd.Series(y_predicted).describe()"
   ]
  },
  {
   "cell_type": "markdown",
   "metadata": {},
   "source": [
    "Let's look at feature importances."
   ]
  },
  {
   "cell_type": "code",
   "execution_count": 44,
   "metadata": {
    "ExecuteTime": {
     "end_time": "2020-09-05T18:43:31.333124Z",
     "start_time": "2020-09-05T18:43:26.062559Z"
    }
   },
   "outputs": [
    {
     "data": {
      "image/png": "[encoded data removed]",
      "text/plain": [
       "<Figure size 1152x1152 with 1 Axes>"
      ]
     },
     "metadata": {
      "needs_background": "light"
     },
     "output_type": "display_data"
    }
   ],
   "source": [
    "lgb.plot_importance(model.booster_, figsize=(16, 16));"
   ]
  },
  {
   "cell_type": "markdown",
   "metadata": {},
   "source": [
    "## Submit"
   ]
  },
  {
   "cell_type": "markdown",
   "metadata": {},
   "source": [
    "In this section we will train result model and submit prediction. Don't forget to clip values according to [evaluation tab](https://www.kaggle.com/c/competitive-data-science-predict-future-sales/overview/evaluation) (but ay be for tree-based methods it is not necessary)."
   ]
  },
  {
   "cell_type": "code",
   "execution_count": 45,
   "metadata": {
    "ExecuteTime": {
     "end_time": "2020-09-05T18:43:34.859251Z",
     "start_time": "2020-09-05T18:43:31.336548Z"
    }
   },
   "outputs": [],
   "source": [
    "X_train = pd.concat((X_train, X_valid))\n",
    "y_train = pd.concat((y_train, y_valid))\n",
    "gc.collect();"
   ]
  },
  {
   "cell_type": "code",
   "execution_count": 46,
   "metadata": {
    "ExecuteTime": {
     "end_time": "2020-09-05T18:43:34.899019Z",
     "start_time": "2020-09-05T18:43:34.861589Z"
    }
   },
   "outputs": [
    {
     "data": {
      "text/plain": [
       "(1795556, 109)"
      ]
     },
     "execution_count": 46,
     "metadata": {},
     "output_type": "execute_result"
    }
   ],
   "source": [
    "X_train.shape"
   ]
  },
  {
   "cell_type": "code",
   "execution_count": 47,
   "metadata": {
    "ExecuteTime": {
     "end_time": "2020-09-05T18:43:38.188690Z",
     "start_time": "2020-09-05T18:43:34.905288Z"
    }
   },
   "outputs": [],
   "source": [
    "start_date_block_num = 25\n",
    "indices_train = (X_train.date_block_num >= start_date_block_num)\n",
    "X_train = X_train[indices_train]\n",
    "y_train = y_train[indices_train]\n",
    "gc.collect();"
   ]
  },
  {
   "cell_type": "code",
   "execution_count": 48,
   "metadata": {
    "ExecuteTime": {
     "end_time": "2020-09-05T18:59:22.805442Z",
     "start_time": "2020-09-05T18:43:38.193445Z"
    }
   },
   "outputs": [
    {
     "data": {
      "application/vnd.jupyter.widget-view+json": {
       "model_id": "dfdec081c264419db27b9e60cef75cf1",
       "version_major": 2,
       "version_minor": 0
      },
      "text/plain": [
       "HBox(children=(FloatProgress(value=0.0, max=10.0), HTML(value='')))"
      ]
     },
     "metadata": {},
     "output_type": "display_data"
    },
    {
     "name": "stdout",
     "output_type": "stream",
     "text": [
      "\n"
     ]
    }
   ],
   "source": [
    "model = LGBMRegressor(**lgb_params)\n",
    "bags = 10\n",
    "\n",
    "bagged_predictions = np.zeros(X_test.shape[0])\n",
    "for n in tqdm(range(bags)):\n",
    "    model.set_params(random_state=random_state+n)\n",
    "    model.fit(X_train, y_train)\n",
    "    bagged_predictions += np.clip(model.predict(X_test), 0, 20)\n",
    "    gc.collect()\n",
    "    \n",
    "bagged_predictions /= bags"
   ]
  },
  {
   "cell_type": "markdown",
   "metadata": {},
   "source": [
    "Create submission."
   ]
  },
  {
   "cell_type": "code",
   "execution_count": 49,
   "metadata": {
    "ExecuteTime": {
     "end_time": "2020-09-05T18:59:22.986259Z",
     "start_time": "2020-09-05T18:59:22.811132Z"
    }
   },
   "outputs": [
    {
     "data": {
      "text/plain": [
       "count    214200.000000\n",
       "mean          0.380515\n",
       "std           0.733516\n",
       "min           0.000000\n",
       "25%           0.120905\n",
       "50%           0.216137\n",
       "75%           0.388640\n",
       "max          20.000000\n",
       "dtype: float64"
      ]
     },
     "execution_count": 49,
     "metadata": {},
     "output_type": "execute_result"
    }
   ],
   "source": [
    "pd.Series(bagged_predictions).describe()"
   ]
  },
  {
   "cell_type": "code",
   "execution_count": 50,
   "metadata": {
    "ExecuteTime": {
     "end_time": "2020-09-05T18:59:23.885237Z",
     "start_time": "2020-09-05T18:59:22.991764Z"
    }
   },
   "outputs": [],
   "source": [
    "submission = pd.read_csv('../data/raw/sample_submission.csv')\n",
    "submission['item_cnt_month'] = bagged_predictions\n",
    "submission.to_csv('../models/lgb/submission.csv', index=False)"
   ]
  },
  {
   "cell_type": "markdown",
   "metadata": {
    "ExecuteTime": {
     "end_time": "2020-09-04T07:41:17.285249Z",
     "start_time": "2020-09-04T07:41:08.424971Z"
    }
   },
   "source": [
    "!kaggle competitions submit competitive-data-science-predict-future-sales -f ../models/lgb/submission.csv -m \"LightGBM\""
   ]
  },
  {
   "cell_type": "markdown",
   "metadata": {},
   "source": [
    "Result is $1.00831$. It is pretty far from top positions."
   ]
  },
  {
   "cell_type": "markdown",
   "metadata": {},
   "source": [
    "## OOF predictions"
   ]
  },
  {
   "cell_type": "markdown",
   "metadata": {},
   "source": [
    "In this section we will create out-of-fold predictions for stacking."
   ]
  }
 ],
 "metadata": {
  "kernelspec": {
   "display_name": "Python 3",
   "language": "python",
   "name": "python3"
  },
  "language_info": {
   "codemirror_mode": {
    "name": "ipython",
    "version": 3
   },
   "file_extension": ".py",
   "mimetype": "text/x-python",
   "name": "python",
   "nbconvert_exporter": "python",
   "pygments_lexer": "ipython3",
   "version": "3.8.5"
  }
 },
 "nbformat": 4,
 "nbformat_minor": 4
}
