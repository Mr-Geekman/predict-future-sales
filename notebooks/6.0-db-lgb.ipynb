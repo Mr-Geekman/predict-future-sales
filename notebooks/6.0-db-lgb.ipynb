{
 "cells": [
  {
   "cell_type": "code",
   "execution_count": 1,
   "metadata": {
    "ExecuteTime": {
     "end_time": "2020-09-05T10:13:21.885518Z",
     "start_time": "2020-09-05T10:13:19.580923Z"
    }
   },
   "outputs": [],
   "source": [
    "%load_ext autoreload\n",
    "%autoreload 2\n",
    "import copy\n",
    "import gc\n",
    "import sys\n",
    "\n",
    "sys.path.append('..')\n",
    "\n",
    "import numpy as np\n",
    "import pandas as pd\n",
    "import scipy.stats as sps\n",
    "\n",
    "import matplotlib.pyplot as plt\n",
    "import seaborn as sns\n",
    "from tqdm.notebook import tqdm\n",
    "\n",
    "from sklearn.model_selection import (GridSearchCV, RandomizedSearchCV, \n",
    "                                     cross_val_score)\n",
    "from sklearn.metrics import mean_squared_error\n",
    "from sklearn.preprocessing import LabelEncoder\n",
    "\n",
    "import lightgbm as lgb\n",
    "from lightgbm import LGBMRegressor\n",
    "\n",
    "from src.utils.cross_validation import TimeSeriesGroupSplit\n",
    "from src.utils.downcasting import downcast_dtypes\n",
    "\n",
    "sns.set(font_scale=1.2)\n",
    "%matplotlib inline"
   ]
  },
  {
   "cell_type": "code",
   "execution_count": 2,
   "metadata": {
    "ExecuteTime": {
     "end_time": "2020-09-05T10:13:21.914665Z",
     "start_time": "2020-09-05T10:13:21.889498Z"
    }
   },
   "outputs": [],
   "source": [
    "max_text_features = 20\n",
    "random_state = 42\n",
    "\n",
    "BEST_CONSTANT = 0.2839\n",
    "MEAN_CONSTANT = 0.3343"
   ]
  },
  {
   "cell_type": "markdown",
   "metadata": {},
   "source": [
    "# LightGBM"
   ]
  },
  {
   "cell_type": "markdown",
   "metadata": {},
   "source": [
    "In this notebook we will produce predictions by LightGBM."
   ]
  },
  {
   "cell_type": "markdown",
   "metadata": {},
   "source": [
    "## Preparing datasets"
   ]
  },
  {
   "cell_type": "markdown",
   "metadata": {},
   "source": [
    "In this section we will load all datasets and prepare them for training."
   ]
  },
  {
   "cell_type": "code",
   "execution_count": 3,
   "metadata": {
    "ExecuteTime": {
     "end_time": "2020-09-05T10:16:22.604302Z",
     "start_time": "2020-09-05T10:13:21.917367Z"
    }
   },
   "outputs": [],
   "source": [
    "sales_train = pd.read_csv('../data/processed/sales_train.csv')\n",
    "train = pd.read_hdf('../data/processed/train.h5', 'table')\n",
    "train = downcast_dtypes(train, from_bytes=32, to_bytes=16)\n",
    "test = pd.read_hdf('../data/processed/test.h5', 'table')\n",
    "test = downcast_dtypes(test, from_bytes=32, to_bytes=16)\n",
    "\n",
    "items = pd.read_csv('../data/processed/items.csv')\n",
    "tfidf_truncated_svd = pd.read_hdf('../data/processed/text/tfidf_truncated-svd.h5', 'table')"
   ]
  },
  {
   "cell_type": "markdown",
   "metadata": {},
   "source": [
    "### Adding text features"
   ]
  },
  {
   "cell_type": "code",
   "execution_count": 4,
   "metadata": {
    "ExecuteTime": {
     "end_time": "2020-09-05T10:16:22.652428Z",
     "start_time": "2020-09-05T10:16:22.612442Z"
    }
   },
   "outputs": [],
   "source": [
    "tfidf_truncated_svd = tfidf_truncated_svd[tfidf_truncated_svd.columns[:max_text_features]]"
   ]
  },
  {
   "cell_type": "code",
   "execution_count": 5,
   "metadata": {
    "ExecuteTime": {
     "end_time": "2020-09-05T10:16:22.688482Z",
     "start_time": "2020-09-05T10:16:22.654584Z"
    }
   },
   "outputs": [],
   "source": [
    "tfidf_truncated_svd['item_id'] = items.item_id"
   ]
  },
  {
   "cell_type": "code",
   "execution_count": 6,
   "metadata": {
    "ExecuteTime": {
     "end_time": "2020-09-05T10:16:44.168823Z",
     "start_time": "2020-09-05T10:16:22.691370Z"
    }
   },
   "outputs": [],
   "source": [
    "train = pd.merge(\n",
    "    train,\n",
    "    tfidf_truncated_svd,\n",
    "    how='left', on='item_id'\n",
    ")\n",
    "\n",
    "test = pd.merge(\n",
    "    test,\n",
    "    tfidf_truncated_svd,\n",
    "    how='left', on='item_id'\n",
    ")\n",
    "\n",
    "gc.collect();"
   ]
  },
  {
   "cell_type": "markdown",
   "metadata": {},
   "source": [
    "### Clipping target"
   ]
  },
  {
   "cell_type": "markdown",
   "metadata": {},
   "source": [
    "According to evaluation, target will be clipped between 0 and 20. Let's do it in our dataset."
   ]
  },
  {
   "cell_type": "code",
   "execution_count": 7,
   "metadata": {
    "ExecuteTime": {
     "end_time": "2020-09-05T10:16:44.377092Z",
     "start_time": "2020-09-05T10:16:44.171937Z"
    }
   },
   "outputs": [],
   "source": [
    "train.target = np.clip(train.target, 0, 20)"
   ]
  },
  {
   "cell_type": "markdown",
   "metadata": {},
   "source": [
    "### Process categorical data"
   ]
  },
  {
   "cell_type": "markdown",
   "metadata": {},
   "source": [
    "Find categorical columns."
   ]
  },
  {
   "cell_type": "code",
   "execution_count": 8,
   "metadata": {
    "ExecuteTime": {
     "end_time": "2020-09-05T10:16:44.409566Z",
     "start_time": "2020-09-05T10:16:44.381715Z"
    }
   },
   "outputs": [],
   "source": [
    "categorical_types = ['object', 'bool']"
   ]
  },
  {
   "cell_type": "code",
   "execution_count": 9,
   "metadata": {
    "ExecuteTime": {
     "end_time": "2020-09-05T10:16:44.448899Z",
     "start_time": "2020-09-05T10:16:44.413055Z"
    }
   },
   "outputs": [
    {
     "data": {
      "text/plain": [
       "item_name                  object\n",
       "item_in_test                 bool\n",
       "item_full_category_name    object\n",
       "item_category_name         object\n",
       "item_subcategory_name      object\n",
       "shop_name                  object\n",
       "city                       object\n",
       "shop_in_test                 bool\n",
       "dtype: object"
      ]
     },
     "execution_count": 9,
     "metadata": {},
     "output_type": "execute_result"
    }
   ],
   "source": [
    "train.dtypes[np.isin(train.dtypes.values, categorical_types)]"
   ]
  },
  {
   "cell_type": "markdown",
   "metadata": {},
   "source": [
    "Don't touch boolean objects, they are already label encoded."
   ]
  },
  {
   "cell_type": "markdown",
   "metadata": {},
   "source": [
    "Let's remove columns `item_name`, `shop_name`, because we already have them label encoded as `item_id`, `shop_id`."
   ]
  },
  {
   "cell_type": "code",
   "execution_count": 10,
   "metadata": {
    "ExecuteTime": {
     "end_time": "2020-09-05T10:16:57.141305Z",
     "start_time": "2020-09-05T10:16:44.451618Z"
    }
   },
   "outputs": [],
   "source": [
    "train.drop(columns=['item_name', 'shop_name'], inplace=True)\n",
    "test.drop(columns=['item_name', 'shop_name'], inplace=True)"
   ]
  },
  {
   "cell_type": "markdown",
   "metadata": {},
   "source": [
    "Let's define list with all categorical values."
   ]
  },
  {
   "cell_type": "code",
   "execution_count": 11,
   "metadata": {
    "ExecuteTime": {
     "end_time": "2020-09-05T10:16:57.175417Z",
     "start_time": "2020-09-05T10:16:57.143367Z"
    }
   },
   "outputs": [],
   "source": [
    "categorical_features = [\n",
    "    'month', 'item_id', 'item_full_category_name', 'item_category_name', \n",
    "    'item_subcategory_name', 'shop_id', 'city'\n",
    "]"
   ]
  },
  {
   "cell_type": "markdown",
   "metadata": {},
   "source": [
    "#### Label encoding"
   ]
  },
  {
   "cell_type": "markdown",
   "metadata": {},
   "source": [
    "We will label encode only `city`, because in other cases we have already label encoded features or there are values on test, that are not present on train."
   ]
  },
  {
   "cell_type": "code",
   "execution_count": 12,
   "metadata": {
    "ExecuteTime": {
     "end_time": "2020-09-05T10:16:58.392495Z",
     "start_time": "2020-09-05T10:16:57.177216Z"
    }
   },
   "outputs": [],
   "source": [
    "label_encode_features = ['city']\n",
    "\n",
    "for column in label_encode_features:\n",
    "    le = LabelEncoder()\n",
    "    \n",
    "    encoded_feature_train = le.fit_transform(train[column])\n",
    "    train[f'{column}_labeled'] = encoded_feature_train\n",
    "    \n",
    "    encoded_feature_test = le.transform(test[column])\n",
    "    test[f'{column}_labeled'] = encoded_feature_test"
   ]
  },
  {
   "cell_type": "markdown",
   "metadata": {},
   "source": [
    "#### Mean encoding"
   ]
  },
  {
   "cell_type": "code",
   "execution_count": 13,
   "metadata": {
    "ExecuteTime": {
     "end_time": "2020-09-05T10:18:03.829849Z",
     "start_time": "2020-09-05T10:16:58.394221Z"
    }
   },
   "outputs": [
    {
     "data": {
      "application/vnd.jupyter.widget-view+json": {
       "model_id": "5d816af65dc643589127860a9219e02c",
       "version_major": 2,
       "version_minor": 0
      },
      "text/plain": [
       "HBox(children=(FloatProgress(value=0.0, max=7.0), HTML(value='')))"
      ]
     },
     "metadata": {},
     "output_type": "display_data"
    },
    {
     "name": "stdout",
     "output_type": "stream",
     "text": [
      "\n"
     ]
    }
   ],
   "source": [
    "for column in tqdm(categorical_features):\n",
    "    # encode train\n",
    "    cumsum = train.groupby(column).target.cumsum() - train.target\n",
    "    cumcount = train.groupby(column).cumcount()\n",
    "    encoded_feature = cumsum / cumcount\n",
    "    encoded_feature.fillna(MEAN_CONSTANT, inplace=True)\n",
    "    \n",
    "    train[f'{column}_mean_encoded_mean'] = encoded_feature\n",
    "    \n",
    "    # encode test\n",
    "    mean_train = train.groupby(column).target.mean()\n",
    "    test[f'{column}_mean_encoded_mean'] = test[column].map(mean_train).fillna(MEAN_CONSTANT)"
   ]
  },
  {
   "cell_type": "markdown",
   "metadata": {},
   "source": [
    "Drop all redundant columns."
   ]
  },
  {
   "cell_type": "code",
   "execution_count": 14,
   "metadata": {
    "ExecuteTime": {
     "end_time": "2020-09-05T10:18:10.992255Z",
     "start_time": "2020-09-05T10:18:03.833123Z"
    }
   },
   "outputs": [],
   "source": [
    "to_drop = ['item_id', 'item_full_category_name', 'item_category_name', \n",
    "           'item_subcategory_name', 'city']\n",
    "train.drop(columns=to_drop, inplace=True)\n",
    "test.drop(columns=to_drop, inplace=True)"
   ]
  },
  {
   "cell_type": "markdown",
   "metadata": {},
   "source": [
    "### Processing NaNs"
   ]
  },
  {
   "cell_type": "markdown",
   "metadata": {},
   "source": [
    "Fill NaNs."
   ]
  },
  {
   "cell_type": "code",
   "execution_count": 15,
   "metadata": {
    "ExecuteTime": {
     "end_time": "2020-09-05T10:18:18.123888Z",
     "start_time": "2020-09-05T10:18:10.994588Z"
    }
   },
   "outputs": [
    {
     "data": {
      "text/plain": [
       "Index(['num_residents'], dtype='object')"
      ]
     },
     "execution_count": 15,
     "metadata": {},
     "output_type": "execute_result"
    }
   ],
   "source": [
    "train.columns[train.isna().sum() > 0]"
   ]
  },
  {
   "cell_type": "markdown",
   "metadata": {},
   "source": [
    "As we expected there are some problems only with `num_residents`. We can fill it with zero, because it will be border value for this feature, trees can handle it properly."
   ]
  },
  {
   "cell_type": "code",
   "execution_count": 16,
   "metadata": {
    "ExecuteTime": {
     "end_time": "2020-09-05T10:18:20.947812Z",
     "start_time": "2020-09-05T10:18:18.128379Z"
    }
   },
   "outputs": [],
   "source": [
    "train.fillna(0, inplace=True)"
   ]
  },
  {
   "cell_type": "markdown",
   "metadata": {},
   "source": [
    "### Removing target"
   ]
  },
  {
   "cell_type": "markdown",
   "metadata": {},
   "source": [
    "Remove target from train."
   ]
  },
  {
   "cell_type": "code",
   "execution_count": 17,
   "metadata": {
    "ExecuteTime": {
     "end_time": "2020-09-05T10:18:27.384817Z",
     "start_time": "2020-09-05T10:18:20.949785Z"
    }
   },
   "outputs": [],
   "source": [
    "y = train.target\n",
    "train.drop(columns=['target'], inplace=True)"
   ]
  },
  {
   "cell_type": "markdown",
   "metadata": {},
   "source": [
    "### Create validation split."
   ]
  },
  {
   "cell_type": "markdown",
   "metadata": {},
   "source": [
    "Let's also delete from train rows that appears only on validation, it will make our train/validation split more consistant with train/test split."
   ]
  },
  {
   "cell_type": "code",
   "execution_count": 18,
   "metadata": {
    "ExecuteTime": {
     "end_time": "2020-09-05T10:18:34.209781Z",
     "start_time": "2020-09-05T10:18:27.387269Z"
    }
   },
   "outputs": [
    {
     "data": {
      "text/plain": [
       "3"
      ]
     },
     "execution_count": 18,
     "metadata": {},
     "output_type": "execute_result"
    }
   ],
   "source": [
    "X_valid = train[train.date_block_num == 33]\n",
    "X_train = train[train.date_block_num < 33]\n",
    "y_valid = y[train.date_block_num == 33]\n",
    "y_train = y[train.date_block_num < 33]\n",
    "X_test = test\n",
    "    \n",
    "del train, test\n",
    "gc.collect()"
   ]
  },
  {
   "cell_type": "markdown",
   "metadata": {},
   "source": [
    "## Grid search"
   ]
  },
  {
   "cell_type": "markdown",
   "metadata": {},
   "source": [
    "In this section we will find optimum parameters for a model. Firstly, fix the result before any optimization."
   ]
  },
  {
   "cell_type": "code",
   "execution_count": 19,
   "metadata": {
    "ExecuteTime": {
     "end_time": "2020-09-05T10:18:34.242967Z",
     "start_time": "2020-09-05T10:18:34.212743Z"
    }
   },
   "outputs": [],
   "source": [
    "ts = TimeSeriesGroupSplit(n_splits=5, max_train_size=int(2*10**5))\n",
    "\n",
    "lgb_params = {\n",
    "    'objective': 'rmse',\n",
    "    'learning_rate': 0.1,\n",
    "    'random_state': random_state\n",
    "}"
   ]
  },
  {
   "cell_type": "code",
   "execution_count": 20,
   "metadata": {
    "ExecuteTime": {
     "end_time": "2020-09-05T10:21:17.809491Z",
     "start_time": "2020-09-05T10:18:34.245816Z"
    }
   },
   "outputs": [
    {
     "name": "stdout",
     "output_type": "stream",
     "text": [
      "Current score: 0.94464\n"
     ]
    }
   ],
   "source": [
    "default_score = cross_val_score(\n",
    "    LGBMRegressor(**lgb_params), \n",
    "    X_train, y_train, groups=X_train.date_block_num,\n",
    "    n_jobs=1, \n",
    "    scoring='neg_root_mean_squared_error', \n",
    "    verbose=0,\n",
    "    cv=ts\n",
    ").mean()\n",
    "print(f'Current score: {-default_score:.5f}')"
   ]
  },
  {
   "cell_type": "markdown",
   "metadata": {},
   "source": [
    "Score: $0.94464$."
   ]
  },
  {
   "cell_type": "markdown",
   "metadata": {},
   "source": [
    "### `n_estimators`"
   ]
  },
  {
   "cell_type": "markdown",
   "metadata": {},
   "source": [
    "In this section we fix `learning_rate = 0.1` and try to find reasonable num of iterations. Try with cv method in lightgbm failed because of RAM. Thus I will simply run grid search."
   ]
  },
  {
   "cell_type": "code",
   "execution_count": 22,
   "metadata": {
    "ExecuteTime": {
     "end_time": "2020-09-05T10:21:31.081183Z",
     "start_time": "2020-09-05T10:21:31.045072Z"
    }
   },
   "outputs": [],
   "source": [
    "param_grid = {\n",
    "    'n_estimators': np.arange(50, 301, 50)\n",
    "}\n",
    "\n",
    "gs = GridSearchCV(\n",
    "    LGBMRegressor(**lgb_params), \n",
    "    param_grid,          \n",
    "    n_jobs=1, \n",
    "    scoring='neg_root_mean_squared_error', \n",
    "    verbose=10,\n",
    "    refit=False,\n",
    "    cv=ts\n",
    ")"
   ]
  },
  {
   "cell_type": "markdown",
   "metadata": {
    "ExecuteTime": {
     "end_time": "2020-09-04T18:06:22.530172Z",
     "start_time": "2020-09-04T17:53:23.814280Z"
    }
   },
   "source": [
    "gs.fit(X_train, y_train, groups=X_train.date_block_num)"
   ]
  },
  {
   "cell_type": "markdown",
   "metadata": {
    "ExecuteTime": {
     "end_time": "2020-09-04T18:06:22.592080Z",
     "start_time": "2020-09-04T18:06:22.536120Z"
    }
   },
   "source": [
    "gs.cv_results_"
   ]
  },
  {
   "cell_type": "markdown",
   "metadata": {
    "ExecuteTime": {
     "end_time": "2020-09-04T18:06:33.368544Z",
     "start_time": "2020-09-04T18:06:33.333062Z"
    }
   },
   "source": [
    "gs.best_params_"
   ]
  },
  {
   "cell_type": "code",
   "execution_count": 23,
   "metadata": {
    "ExecuteTime": {
     "end_time": "2020-09-05T10:21:31.795347Z",
     "start_time": "2020-09-05T10:21:31.772980Z"
    }
   },
   "outputs": [],
   "source": [
    "lgb_params['n_estimators'] = 83"
   ]
  },
  {
   "cell_type": "markdown",
   "metadata": {},
   "source": [
    "### Tree parameters"
   ]
  },
  {
   "cell_type": "markdown",
   "metadata": {},
   "source": [
    "Here we will find optimum values for building tree:\n",
    "* `num_leaves`\n",
    "* `max_depth`\n",
    "* `min_data_in_leaf`"
   ]
  },
  {
   "cell_type": "code",
   "execution_count": 24,
   "metadata": {
    "ExecuteTime": {
     "end_time": "2020-09-05T10:21:32.251205Z",
     "start_time": "2020-09-05T10:21:32.205969Z"
    }
   },
   "outputs": [],
   "source": [
    "param_distributions = {\n",
    "    'num_leaves': sps.randint(low=10, high=100),\n",
    "    'max_depth': [-1] + np.arange(5, 16),\n",
    "    'min_data_in_leaf': sps.logser(1-10**(-4), loc=9),\n",
    "}\n",
    "\n",
    "gs = RandomizedSearchCV(\n",
    "    LGBMRegressor(**lgb_params), \n",
    "    param_distributions,          \n",
    "    n_jobs=1, \n",
    "    scoring='neg_root_mean_squared_error', \n",
    "    verbose=10,\n",
    "    refit=False,\n",
    "    cv=ts, \n",
    "    n_iter=80,\n",
    "    random_state=random_state\n",
    ")"
   ]
  },
  {
   "cell_type": "markdown",
   "metadata": {
    "ExecuteTime": {
     "end_time": "2020-09-04T20:28:01.197829Z",
     "start_time": "2020-09-04T18:18:51.195916Z"
    }
   },
   "source": [
    "gs.fit(X_train, y_train, groups=X_train.date_block_num)"
   ]
  },
  {
   "cell_type": "markdown",
   "metadata": {
    "ExecuteTime": {
     "end_time": "2020-09-04T20:35:23.531828Z",
     "start_time": "2020-09-04T20:35:23.298735Z"
    }
   },
   "source": [
    "gs.best_params_"
   ]
  },
  {
   "cell_type": "markdown",
   "metadata": {
    "ExecuteTime": {
     "end_time": "2020-09-04T20:35:23.560755Z",
     "start_time": "2020-09-04T20:35:23.534761Z"
    }
   },
   "source": [
    "gs.best_score_"
   ]
  },
  {
   "cell_type": "markdown",
   "metadata": {},
   "source": [
    "May be will be better to take default values."
   ]
  },
  {
   "cell_type": "code",
   "execution_count": 25,
   "metadata": {
    "ExecuteTime": {
     "end_time": "2020-09-05T10:21:33.367559Z",
     "start_time": "2020-09-05T10:21:33.345369Z"
    }
   },
   "outputs": [],
   "source": [
    "lgb_params['max_depth'] = 4\n",
    "lgb_params['min_data_in_leaf'] = 183\n",
    "lgb_params['num_leaves'] = 68"
   ]
  },
  {
   "cell_type": "markdown",
   "metadata": {},
   "source": [
    "### Subsampling"
   ]
  },
  {
   "cell_type": "markdown",
   "metadata": {},
   "source": [
    "Here we will find optimum parameters for subsampling:\n",
    "* `bagging_fraction`\n",
    "* `feature_fraction`"
   ]
  },
  {
   "cell_type": "code",
   "execution_count": 26,
   "metadata": {
    "ExecuteTime": {
     "end_time": "2020-09-05T10:21:33.871751Z",
     "start_time": "2020-09-05T10:21:33.833218Z"
    }
   },
   "outputs": [],
   "source": [
    "param_grid = {\n",
    "    'bagging_fraction': np.linspace(0.2, 1, 5),\n",
    "    'feature_fraction': np.linspace(0.2, 1, 5)\n",
    "}\n",
    "\n",
    "gs = GridSearchCV(\n",
    "    LGBMRegressor(**lgb_params), \n",
    "    param_grid,          \n",
    "    n_jobs=1, \n",
    "    scoring='neg_root_mean_squared_error', \n",
    "    verbose=10,\n",
    "    refit=False,\n",
    "    cv=ts\n",
    ")"
   ]
  },
  {
   "cell_type": "markdown",
   "metadata": {
    "ExecuteTime": {
     "end_time": "2020-09-04T21:11:23.911638Z",
     "start_time": "2020-09-04T20:35:55.695230Z"
    }
   },
   "source": [
    "gs.fit(X_train, y_train, groups=X_train.date_block_num)"
   ]
  },
  {
   "cell_type": "markdown",
   "metadata": {
    "ExecuteTime": {
     "end_time": "2020-09-04T21:11:32.041762Z",
     "start_time": "2020-09-04T21:11:32.016529Z"
    }
   },
   "source": [
    "gs.best_params_"
   ]
  },
  {
   "cell_type": "markdown",
   "metadata": {
    "ExecuteTime": {
     "end_time": "2020-09-04T21:11:33.558879Z",
     "start_time": "2020-09-04T21:11:33.521345Z"
    }
   },
   "source": [
    "gs.cv_results_"
   ]
  },
  {
   "cell_type": "markdown",
   "metadata": {
    "ExecuteTime": {
     "end_time": "2020-09-04T21:11:24.091626Z",
     "start_time": "2020-09-04T21:11:24.050549Z"
    }
   },
   "source": [
    "gs.best_score_"
   ]
  },
  {
   "cell_type": "code",
   "execution_count": 27,
   "metadata": {
    "ExecuteTime": {
     "end_time": "2020-09-05T10:21:34.974474Z",
     "start_time": "2020-09-05T10:21:34.953368Z"
    }
   },
   "outputs": [],
   "source": [
    "lgb_params['bagging_fraction'] = 1.0\n",
    "lgb_params['feature_fraction'] = 1.0"
   ]
  },
  {
   "cell_type": "markdown",
   "metadata": {},
   "source": [
    "### Regularization"
   ]
  },
  {
   "cell_type": "code",
   "execution_count": 28,
   "metadata": {
    "ExecuteTime": {
     "end_time": "2020-09-05T10:21:35.660239Z",
     "start_time": "2020-09-05T10:21:35.638385Z"
    }
   },
   "outputs": [
    {
     "data": {
      "text/plain": [
       "{'objective': 'rmse',\n",
       " 'learning_rate': 0.1,\n",
       " 'random_state': 42,\n",
       " 'n_estimators': 83,\n",
       " 'max_depth': 4,\n",
       " 'min_data_in_leaf': 183,\n",
       " 'num_leaves': 68,\n",
       " 'bagging_fraction': 1.0,\n",
       " 'feature_fraction': 1.0}"
      ]
     },
     "execution_count": 28,
     "metadata": {},
     "output_type": "execute_result"
    }
   ],
   "source": [
    "lgb_params"
   ]
  },
  {
   "cell_type": "markdown",
   "metadata": {},
   "source": [
    "Here we will find optimum parameters for regularization:\n",
    "* `lambda_l1`\n",
    "* `lambda_l2`"
   ]
  },
  {
   "cell_type": "code",
   "execution_count": 29,
   "metadata": {
    "ExecuteTime": {
     "end_time": "2020-09-05T10:21:38.707056Z",
     "start_time": "2020-09-05T10:21:38.685389Z"
    }
   },
   "outputs": [],
   "source": [
    "param_grid = {\n",
    "    'lambda_l1': [0, 10**(-2), 10**(-1), 1, 10],\n",
    "    'lambda_l2': [0, 10**(-2), 10**(-1), 1, 10]\n",
    "}\n",
    "\n",
    "gs = GridSearchCV(\n",
    "    LGBMRegressor(**lgb_params), \n",
    "    param_grid,          \n",
    "    n_jobs=1, \n",
    "    scoring='neg_root_mean_squared_error', \n",
    "    verbose=10,\n",
    "    refit=False,\n",
    "    cv=ts\n",
    ")"
   ]
  },
  {
   "cell_type": "markdown",
   "metadata": {
    "ExecuteTime": {
     "end_time": "2020-09-05T10:04:06.390545Z",
     "start_time": "2020-09-05T09:17:47.009391Z"
    }
   },
   "source": [
    "gs.fit(X_train, y_train, groups=X_train.date_block_num)"
   ]
  },
  {
   "cell_type": "markdown",
   "metadata": {
    "ExecuteTime": {
     "end_time": "2020-09-05T10:04:06.626649Z",
     "start_time": "2020-09-05T10:04:06.402806Z"
    }
   },
   "source": [
    "gs.best_params_"
   ]
  },
  {
   "cell_type": "markdown",
   "metadata": {
    "ExecuteTime": {
     "end_time": "2020-09-05T10:04:06.675465Z",
     "start_time": "2020-09-05T10:04:06.633534Z"
    }
   },
   "source": [
    "gs.best_score_"
   ]
  },
  {
   "cell_type": "markdown",
   "metadata": {
    "ExecuteTime": {
     "end_time": "2020-09-05T10:04:47.937195Z",
     "start_time": "2020-09-05T10:04:47.898535Z"
    }
   },
   "source": [
    "gs.cv_results_"
   ]
  },
  {
   "cell_type": "code",
   "execution_count": 30,
   "metadata": {
    "ExecuteTime": {
     "end_time": "2020-09-05T10:21:39.698453Z",
     "start_time": "2020-09-05T10:21:39.673532Z"
    }
   },
   "outputs": [],
   "source": [
    "lgb_params['lambda_l1'] = 0.01\n",
    "lgb_params['lambda_l2'] = 0.01"
   ]
  },
  {
   "cell_type": "markdown",
   "metadata": {},
   "source": [
    "### Reduce learning rate"
   ]
  },
  {
   "cell_type": "markdown",
   "metadata": {},
   "source": [
    "Current score:"
   ]
  },
  {
   "cell_type": "code",
   "execution_count": 31,
   "metadata": {
    "ExecuteTime": {
     "end_time": "2020-09-05T10:21:42.645599Z",
     "start_time": "2020-09-05T10:21:42.622773Z"
    }
   },
   "outputs": [],
   "source": [
    "current_score = cross_val_score(\n",
    "    LGBMRegressor(**lgb_params), \n",
    "    X_train, y_train, groups=X_train.date_block_num,\n",
    "    n_jobs=1, \n",
    "    scoring='neg_root_mean_squared_error', \n",
    "    verbose=0,\n",
    "    cv=ts\n",
    ").mean()\n",
    "print(f'Current score: {-current_score:.5f}')"
   ]
  },
  {
   "cell_type": "markdown",
   "metadata": {},
   "source": [
    "Score: $0.93146$."
   ]
  },
  {
   "cell_type": "markdown",
   "metadata": {},
   "source": [
    "Now we can half our `learning rate` and double `num_iterations`."
   ]
  },
  {
   "cell_type": "code",
   "execution_count": 32,
   "metadata": {
    "ExecuteTime": {
     "end_time": "2020-09-05T10:21:44.597267Z",
     "start_time": "2020-09-05T10:21:44.560597Z"
    }
   },
   "outputs": [],
   "source": [
    "lgb_params_changed = copy.copy(lgb_params)\n",
    "lgb_params_changed['learning_rate'] /= 2\n",
    "lgb_params_changed['n_estimators'] = int(lgb_params['n_estimators'] * 2)"
   ]
  },
  {
   "cell_type": "code",
   "execution_count": 33,
   "metadata": {
    "ExecuteTime": {
     "end_time": "2020-09-05T10:21:44.766923Z",
     "start_time": "2020-09-05T10:21:44.745260Z"
    }
   },
   "outputs": [],
   "source": [
    "score_after_change = cross_val_score(\n",
    "    LGBMRegressor(**lgb_params_changed), \n",
    "    X_train, y_train, groups=X_train.date_block_num,\n",
    "    n_jobs=1, \n",
    "    scoring='neg_root_mean_squared_error', \n",
    "    verbose=0,\n",
    "    cv=ts\n",
    ").mean()\n",
    "\n",
    "print(f'Score after changing: {-score_after_change:.5f}')"
   ]
  },
  {
   "cell_type": "markdown",
   "metadata": {},
   "source": [
    "Score: $0.93271$."
   ]
  },
  {
   "cell_type": "markdown",
   "metadata": {},
   "source": [
    "It didn't helped. Best parameters:"
   ]
  },
  {
   "cell_type": "code",
   "execution_count": 34,
   "metadata": {
    "ExecuteTime": {
     "end_time": "2020-09-05T10:21:45.422588Z",
     "start_time": "2020-09-05T10:21:45.385447Z"
    }
   },
   "outputs": [
    {
     "data": {
      "text/plain": [
       "{'objective': 'rmse',\n",
       " 'learning_rate': 0.1,\n",
       " 'random_state': 42,\n",
       " 'n_estimators': 83,\n",
       " 'max_depth': 4,\n",
       " 'min_data_in_leaf': 183,\n",
       " 'num_leaves': 68,\n",
       " 'bagging_fraction': 1.0,\n",
       " 'feature_fraction': 1.0,\n",
       " 'lambda_l1': 0.01,\n",
       " 'lambda_l2': 0.01}"
      ]
     },
     "execution_count": 34,
     "metadata": {},
     "output_type": "execute_result"
    }
   ],
   "source": [
    "lgb_params"
   ]
  },
  {
   "cell_type": "markdown",
   "metadata": {},
   "source": [
    "## Validation"
   ]
  },
  {
   "cell_type": "markdown",
   "metadata": {},
   "source": [
    "In this section we will validate best parameters using haldout. We will use not all train, because of limitation of RAM."
   ]
  },
  {
   "cell_type": "code",
   "execution_count": 35,
   "metadata": {
    "ExecuteTime": {
     "end_time": "2020-09-05T10:21:51.492100Z",
     "start_time": "2020-09-05T10:21:51.461085Z"
    }
   },
   "outputs": [
    {
     "data": {
      "text/plain": [
       "1627417"
      ]
     },
     "execution_count": 35,
     "metadata": {},
     "output_type": "execute_result"
    }
   ],
   "source": [
    "(X_train.date_block_num >= 25).sum()"
   ]
  },
  {
   "cell_type": "code",
   "execution_count": 36,
   "metadata": {
    "ExecuteTime": {
     "end_time": "2020-09-05T10:21:55.782681Z",
     "start_time": "2020-09-05T10:21:54.076262Z"
    }
   },
   "outputs": [],
   "source": [
    "start_date_block_num = 25\n",
    "indices_train = (X_train.date_block_num >= start_date_block_num)\n",
    "X_train = X_train[indices_train]\n",
    "y_train = y_train[indices_train]\n",
    "gc.collect();"
   ]
  },
  {
   "cell_type": "code",
   "execution_count": 37,
   "metadata": {
    "ExecuteTime": {
     "end_time": "2020-09-05T10:23:08.481547Z",
     "start_time": "2020-09-05T10:21:58.173192Z"
    }
   },
   "outputs": [
    {
     "data": {
      "text/plain": [
       "LGBMRegressor(bagging_fraction=1.0, feature_fraction=1.0, lambda_l1=0.01,\n",
       "              lambda_l2=0.01, max_depth=4, min_data_in_leaf=183,\n",
       "              n_estimators=83, num_leaves=68, objective='rmse',\n",
       "              random_state=42)"
      ]
     },
     "execution_count": 37,
     "metadata": {},
     "output_type": "execute_result"
    }
   ],
   "source": [
    "model = LGBMRegressor(**lgb_params)\n",
    "model.fit(X_train, y_train)"
   ]
  },
  {
   "cell_type": "code",
   "execution_count": 38,
   "metadata": {
    "ExecuteTime": {
     "end_time": "2020-09-05T10:23:11.008890Z",
     "start_time": "2020-09-05T10:23:08.487631Z"
    }
   },
   "outputs": [
    {
     "name": "stdout",
     "output_type": "stream",
     "text": [
      "Validation score: 0.86274\n"
     ]
    }
   ],
   "source": [
    "y_predicted = np.clip(model.predict(X_valid), 0, 20)\n",
    "validation_score = mean_squared_error(y_valid, y_predicted)\n",
    "print(f'Validation score: {validation_score:.5f}')"
   ]
  },
  {
   "cell_type": "markdown",
   "metadata": {},
   "source": [
    "Score: $0.86274$"
   ]
  },
  {
   "cell_type": "markdown",
   "metadata": {},
   "source": [
    "### Some validation results\n",
    "\n",
    "\n",
    "#### Text features \n",
    "\n",
    "Changing cleaning / stemming:\n",
    "1. no cleaning, no stemming, `ngram_range=(1, 2)`, `max_df=0.5`, $0.82570$\n",
    "2. cleaning, no stemming, `ngram_range=(1, 2)`, `max_df=0.5`, $0.83072$\n",
    "3. cleaning, stemming, `ngram_range=(1, 2)`, `max_df=0.5`, $0.82774$\n",
    "4. cleaning, no stemming, `ngram_range=(1, 1)`, `max_df=1.0`, $0.82450$\n",
    "5. no cleaning, no stemming, `ngram_range=(1, 1)`, `max_df=1.0`, $0.82928$\n",
    "\n",
    "Changing `max_df`:\n",
    "1. cleaning, stemming, `ngram_range=(1, 1)`, `max_df=1.0`, $0.82561$\n",
    "2. cleaning, stemming, `ngram_range=(1, 1)`, `max_df=0.5`, $0.82561$\n",
    "\n",
    "Changing `ngram_range`:\n",
    "1. cleaning, stemming, `ngram_range=(1, 2)`, `max_df=1.0`, $0.82774$\n",
    "2. cleaning, stemming, `ngram_range=(1, 3)`, `max_df=1.0`, $0.83526$\n",
    "\n",
    "It was decided to use: cleaning, no stemming, `ngram_range=(1, 1)`, `max_df=1.0`.\n",
    "\n",
    "Changing dimensions:\n",
    "1. `res_dim=50`, `max_text_features=20`, $0.82450$\n",
    "2. `res_dim=1`, `max_text_features=1`, $0.81896$\n",
    "3. `res_dim=3`, `max_text_features=3`, $0.81777$\n",
    "4. `res_dim=5`, `max_text_features=5`, $0.81956$\n",
    "5. `res_dim=10`, `max_text_features=10`, $0.82406$\n",
    "6. `res_dim=20`, `max_text_features=20`, $0.82431$\n",
    "7. `res_dim=30`, `max_text_features=30`, $0.83380$\n",
    "\n",
    "It was decided to use `res_dim=3`, `max_text_features=3`.\n",
    "\n",
    "This results doesn't result in improving public LB score."
   ]
  },
  {
   "cell_type": "markdown",
   "metadata": {},
   "source": [
    "Let's look at predicted values charasteristics."
   ]
  },
  {
   "cell_type": "code",
   "execution_count": 39,
   "metadata": {
    "ExecuteTime": {
     "end_time": "2020-09-05T10:23:36.748183Z",
     "start_time": "2020-09-05T10:23:36.707178Z"
    }
   },
   "outputs": [
    {
     "data": {
      "text/plain": [
       "count    168139.000000\n",
       "mean          0.374750\n",
       "std           0.929458\n",
       "min           0.000000\n",
       "25%           0.053467\n",
       "50%           0.150965\n",
       "75%           0.345521\n",
       "max          20.000000\n",
       "dtype: float64"
      ]
     },
     "execution_count": 39,
     "metadata": {},
     "output_type": "execute_result"
    }
   ],
   "source": [
    "pd.Series(y_predicted).describe()"
   ]
  },
  {
   "cell_type": "markdown",
   "metadata": {},
   "source": [
    "Let's look at feature importances."
   ]
  },
  {
   "cell_type": "code",
   "execution_count": 40,
   "metadata": {
    "ExecuteTime": {
     "end_time": "2020-09-05T10:23:41.261012Z",
     "start_time": "2020-09-05T10:23:38.427741Z"
    }
   },
   "outputs": [
    {
     "data": {
      "image/png": "[encoded data removed]",
      "text/plain": [
       "<Figure size 1152x1152 with 1 Axes>"
      ]
     },
     "metadata": {
      "needs_background": "light"
     },
     "output_type": "display_data"
    }
   ],
   "source": [
    "lgb.plot_importance(model.booster_, figsize=(16, 16));"
   ]
  },
  {
   "cell_type": "markdown",
   "metadata": {},
   "source": [
    "## Submit"
   ]
  },
  {
   "cell_type": "markdown",
   "metadata": {},
   "source": [
    "In this section we will train result model and submit prediction. Don't forget to clip values according to [evaluation tab](https://www.kaggle.com/c/competitive-data-science-predict-future-sales/overview/evaluation) (but ay be for tree-based methods it is not necessary)."
   ]
  },
  {
   "cell_type": "code",
   "execution_count": 43,
   "metadata": {
    "ExecuteTime": {
     "end_time": "2020-09-05T10:28:19.973141Z",
     "start_time": "2020-09-05T10:28:17.570370Z"
    }
   },
   "outputs": [],
   "source": [
    "X_train = pd.concat((X_train, X_valid))\n",
    "y_train = pd.concat((y_train, y_valid))\n",
    "gc.collect();"
   ]
  },
  {
   "cell_type": "code",
   "execution_count": 44,
   "metadata": {
    "ExecuteTime": {
     "end_time": "2020-09-05T10:28:25.366504Z",
     "start_time": "2020-09-05T10:28:25.341267Z"
    }
   },
   "outputs": [
    {
     "data": {
      "text/plain": [
       "(1795556, 109)"
      ]
     },
     "execution_count": 44,
     "metadata": {},
     "output_type": "execute_result"
    }
   ],
   "source": [
    "X_train.shape"
   ]
  },
  {
   "cell_type": "code",
   "execution_count": 45,
   "metadata": {
    "ExecuteTime": {
     "end_time": "2020-09-05T10:28:36.998597Z",
     "start_time": "2020-09-05T10:28:33.914807Z"
    }
   },
   "outputs": [],
   "source": [
    "start_date_block_num = 25\n",
    "indices_train = (X_train.date_block_num >= start_date_block_num)\n",
    "X_train = X_train[indices_train]\n",
    "y_train = y_train[indices_train]\n",
    "gc.collect();"
   ]
  },
  {
   "cell_type": "code",
   "execution_count": 46,
   "metadata": {
    "ExecuteTime": {
     "end_time": "2020-09-05T10:42:45.620488Z",
     "start_time": "2020-09-05T10:28:45.726035Z"
    }
   },
   "outputs": [
    {
     "data": {
      "application/vnd.jupyter.widget-view+json": {
       "model_id": "8e56fde1894e45d088e598eb6fb36805",
       "version_major": 2,
       "version_minor": 0
      },
      "text/plain": [
       "HBox(children=(FloatProgress(value=0.0, max=10.0), HTML(value='')))"
      ]
     },
     "metadata": {},
     "output_type": "display_data"
    },
    {
     "name": "stdout",
     "output_type": "stream",
     "text": [
      "\n"
     ]
    }
   ],
   "source": [
    "model = LGBMRegressor(**lgb_params)\n",
    "bags = 10\n",
    "\n",
    "bagged_predictions = np.zeros(X_test.shape[0])\n",
    "for n in tqdm(range(bags)):\n",
    "    model.set_params(random_state=random_state+n)\n",
    "    model.fit(X_train, y_train)\n",
    "    bagged_predictions += np.clip(model.predict(X_test), 0, 20)\n",
    "    gc.collect()\n",
    "    \n",
    "bagged_predictions /= bags"
   ]
  },
  {
   "cell_type": "markdown",
   "metadata": {},
   "source": [
    "Create submission."
   ]
  },
  {
   "cell_type": "code",
   "execution_count": 47,
   "metadata": {
    "ExecuteTime": {
     "end_time": "2020-09-05T10:42:45.791572Z",
     "start_time": "2020-09-05T10:42:45.624847Z"
    }
   },
   "outputs": [
    {
     "data": {
      "text/plain": [
       "count    214200.000000\n",
       "mean          0.376430\n",
       "std           0.690604\n",
       "min           0.000000\n",
       "25%           0.130632\n",
       "50%           0.230291\n",
       "75%           0.381781\n",
       "max          20.000000\n",
       "dtype: float64"
      ]
     },
     "execution_count": 47,
     "metadata": {},
     "output_type": "execute_result"
    }
   ],
   "source": [
    "pd.Series(bagged_predictions).describe()"
   ]
  },
  {
   "cell_type": "code",
   "execution_count": 48,
   "metadata": {
    "ExecuteTime": {
     "end_time": "2020-09-05T10:42:46.706256Z",
     "start_time": "2020-09-05T10:42:45.795698Z"
    }
   },
   "outputs": [],
   "source": [
    "submission = pd.read_csv('../data/raw/sample_submission.csv')\n",
    "submission['item_cnt_month'] = bagged_predictions\n",
    "submission.to_csv('../models/lgb/submission.csv', index=False)"
   ]
  },
  {
   "cell_type": "markdown",
   "metadata": {
    "ExecuteTime": {
     "end_time": "2020-09-04T07:41:17.285249Z",
     "start_time": "2020-09-04T07:41:08.424971Z"
    }
   },
   "source": [
    "!kaggle competitions submit competitive-data-science-predict-future-sales -f ../models/lgb/submission.csv -m \"LightGBM\""
   ]
  },
  {
   "cell_type": "markdown",
   "metadata": {},
   "source": [
    "Result is $1.00701$. It is pretty far from top positions."
   ]
  },
  {
   "cell_type": "markdown",
   "metadata": {},
   "source": [
    "## OOF predictions"
   ]
  },
  {
   "cell_type": "markdown",
   "metadata": {},
   "source": [
    "In this section we will create out-of-fold predictions for stacking."
   ]
  }
 ],
 "metadata": {
  "kernelspec": {
   "display_name": "Python 3",
   "language": "python",
   "name": "python3"
  },
  "language_info": {
   "codemirror_mode": {
    "name": "ipython",
    "version": 3
   },
   "file_extension": ".py",
   "mimetype": "text/x-python",
   "name": "python",
   "nbconvert_exporter": "python",
   "pygments_lexer": "ipython3",
   "version": "3.8.5"
  }
 },
 "nbformat": 4,
 "nbformat_minor": 4
}
