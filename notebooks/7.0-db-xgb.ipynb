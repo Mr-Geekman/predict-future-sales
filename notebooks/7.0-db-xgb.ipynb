{
 "cells": [
  {
   "cell_type": "code",
   "execution_count": 52,
   "metadata": {
    "ExecuteTime": {
     "end_time": "2020-09-06T07:26:51.756855Z",
     "start_time": "2020-09-06T07:26:51.701355Z"
    }
   },
   "outputs": [
    {
     "name": "stdout",
     "output_type": "stream",
     "text": [
      "The autoreload extension is already loaded. To reload it, use:\n",
      "  %reload_ext autoreload\n"
     ]
    }
   ],
   "source": [
    "%load_ext autoreload\n",
    "%autoreload 2\n",
    "import copy\n",
    "import gc\n",
    "import sys\n",
    "import pickle\n",
    "\n",
    "sys.path.append('..')\n",
    "\n",
    "import numpy as np\n",
    "import pandas as pd\n",
    "import scipy.stats as sps\n",
    "\n",
    "import matplotlib.pyplot as plt\n",
    "import seaborn as sns\n",
    "from tqdm.notebook import tqdm\n",
    "\n",
    "from sklearn.model_selection import (GridSearchCV, RandomizedSearchCV, \n",
    "                                     cross_val_score)\n",
    "from sklearn.metrics import mean_squared_error\n",
    "from sklearn.preprocessing import LabelEncoder\n",
    "\n",
    "import xgboost as xgb\n",
    "from xgboost import XGBRegressor\n",
    "\n",
    "from hyperopt import hp, tpe, STATUS_OK, Trials\n",
    "from hyperopt.fmin import fmin\n",
    "\n",
    "from src.utils.cross_validation import TimeSeriesGroupSplit\n",
    "from src.utils.downcasting import downcast_dtypes\n",
    "\n",
    "sns.set(font_scale=1.2)\n",
    "%matplotlib inline"
   ]
  },
  {
   "cell_type": "code",
   "execution_count": 2,
   "metadata": {
    "ExecuteTime": {
     "end_time": "2020-09-05T20:33:14.842306Z",
     "start_time": "2020-09-05T20:33:14.818377Z"
    }
   },
   "outputs": [],
   "source": [
    "max_text_features = 20\n",
    "random_state = 42\n",
    "\n",
    "BEST_CONSTANT = 0.2839\n",
    "MEAN_CONSTANT = 0.3343"
   ]
  },
  {
   "cell_type": "markdown",
   "metadata": {},
   "source": [
    "# XGBoost"
   ]
  },
  {
   "cell_type": "markdown",
   "metadata": {},
   "source": [
    "In this notebook we will produce predictions by XGBoost."
   ]
  },
  {
   "cell_type": "markdown",
   "metadata": {},
   "source": [
    "## Preparing datasets"
   ]
  },
  {
   "cell_type": "markdown",
   "metadata": {},
   "source": [
    "In this section we will load all datasets and prepare them for training."
   ]
  },
  {
   "cell_type": "code",
   "execution_count": 3,
   "metadata": {
    "ExecuteTime": {
     "end_time": "2020-09-05T20:33:23.320473Z",
     "start_time": "2020-09-05T20:33:14.846570Z"
    }
   },
   "outputs": [],
   "source": [
    "sales_train = pd.read_csv('../data/processed/sales_train.csv')\n",
    "train = pd.read_feather('../data/processed/train.ftr')\n",
    "test = pd.read_feather('../data/processed/test.ftr')\n",
    "\n",
    "items = pd.read_csv('../data/processed/items.csv')\n",
    "tfidf_truncated_svd = pd.read_feather('../data/processed/text/tfidf_truncated-svd.ftr')"
   ]
  },
  {
   "cell_type": "code",
   "execution_count": 4,
   "metadata": {
    "ExecuteTime": {
     "end_time": "2020-09-05T20:33:28.602282Z",
     "start_time": "2020-09-05T20:33:23.323727Z"
    }
   },
   "outputs": [],
   "source": [
    "train.drop(columns=['index'], inplace=True)\n",
    "test.drop(columns=['index', 'level_0'], inplace=True)"
   ]
  },
  {
   "cell_type": "code",
   "execution_count": 5,
   "metadata": {
    "ExecuteTime": {
     "end_time": "2020-09-05T20:36:03.115672Z",
     "start_time": "2020-09-05T20:33:28.604840Z"
    }
   },
   "outputs": [],
   "source": [
    "train = downcast_dtypes(train, from_bytes=32, to_bytes=16)\n",
    "test = downcast_dtypes(test, from_bytes=32, to_bytes=16)"
   ]
  },
  {
   "cell_type": "markdown",
   "metadata": {},
   "source": [
    "### Adding text features"
   ]
  },
  {
   "cell_type": "code",
   "execution_count": 6,
   "metadata": {
    "ExecuteTime": {
     "end_time": "2020-09-05T20:36:03.184408Z",
     "start_time": "2020-09-05T20:36:03.120077Z"
    }
   },
   "outputs": [],
   "source": [
    "tfidf_truncated_svd = tfidf_truncated_svd[tfidf_truncated_svd.columns[:max_text_features]]"
   ]
  },
  {
   "cell_type": "code",
   "execution_count": 7,
   "metadata": {
    "ExecuteTime": {
     "end_time": "2020-09-05T20:36:03.230676Z",
     "start_time": "2020-09-05T20:36:03.187511Z"
    }
   },
   "outputs": [],
   "source": [
    "tfidf_truncated_svd['item_id'] = items.item_id"
   ]
  },
  {
   "cell_type": "code",
   "execution_count": 8,
   "metadata": {
    "ExecuteTime": {
     "end_time": "2020-09-05T20:36:26.928621Z",
     "start_time": "2020-09-05T20:36:03.236538Z"
    }
   },
   "outputs": [],
   "source": [
    "train = pd.merge(\n",
    "    train,\n",
    "    tfidf_truncated_svd,\n",
    "    how='left', on='item_id'\n",
    ")\n",
    "\n",
    "test = pd.merge(\n",
    "    test,\n",
    "    tfidf_truncated_svd,\n",
    "    how='left', on='item_id'\n",
    ")\n",
    "\n",
    "gc.collect();"
   ]
  },
  {
   "cell_type": "markdown",
   "metadata": {},
   "source": [
    "### Clipping target"
   ]
  },
  {
   "cell_type": "markdown",
   "metadata": {},
   "source": [
    "According to evaluation, target will be clipped between 0 and 20. Let's do it in our dataset."
   ]
  },
  {
   "cell_type": "code",
   "execution_count": 9,
   "metadata": {
    "ExecuteTime": {
     "end_time": "2020-09-05T20:36:27.161908Z",
     "start_time": "2020-09-05T20:36:26.932900Z"
    }
   },
   "outputs": [],
   "source": [
    "train.target = np.clip(train.target, 0, 20)"
   ]
  },
  {
   "cell_type": "markdown",
   "metadata": {},
   "source": [
    "### Process categorical data"
   ]
  },
  {
   "cell_type": "markdown",
   "metadata": {},
   "source": [
    "Find categorical columns."
   ]
  },
  {
   "cell_type": "code",
   "execution_count": 10,
   "metadata": {
    "ExecuteTime": {
     "end_time": "2020-09-05T20:36:27.204835Z",
     "start_time": "2020-09-05T20:36:27.164783Z"
    }
   },
   "outputs": [],
   "source": [
    "categorical_types = ['object', 'bool']"
   ]
  },
  {
   "cell_type": "code",
   "execution_count": 11,
   "metadata": {
    "ExecuteTime": {
     "end_time": "2020-09-05T20:36:27.257533Z",
     "start_time": "2020-09-05T20:36:27.207695Z"
    }
   },
   "outputs": [
    {
     "data": {
      "text/plain": [
       "item_name                  object\n",
       "item_in_test                 bool\n",
       "item_full_category_name    object\n",
       "item_category_name         object\n",
       "item_subcategory_name      object\n",
       "shop_name                  object\n",
       "city                       object\n",
       "shop_in_test                 bool\n",
       "dtype: object"
      ]
     },
     "execution_count": 11,
     "metadata": {},
     "output_type": "execute_result"
    }
   ],
   "source": [
    "train.dtypes[np.isin(train.dtypes.values, categorical_types)]"
   ]
  },
  {
   "cell_type": "markdown",
   "metadata": {},
   "source": [
    "Don't touch boolean objects, they are already label encoded."
   ]
  },
  {
   "cell_type": "markdown",
   "metadata": {},
   "source": [
    "Let's remove columns `item_name`, `shop_name`, because we already have them label encoded as `item_id`, `shop_id`."
   ]
  },
  {
   "cell_type": "code",
   "execution_count": 12,
   "metadata": {
    "ExecuteTime": {
     "end_time": "2020-09-05T20:36:40.408286Z",
     "start_time": "2020-09-05T20:36:27.259941Z"
    }
   },
   "outputs": [],
   "source": [
    "train.drop(columns=['item_name', 'shop_name'], inplace=True)\n",
    "test.drop(columns=['item_name', 'shop_name'], inplace=True)"
   ]
  },
  {
   "cell_type": "markdown",
   "metadata": {},
   "source": [
    "Let's define list with all categorical values."
   ]
  },
  {
   "cell_type": "code",
   "execution_count": 13,
   "metadata": {
    "ExecuteTime": {
     "end_time": "2020-09-05T20:36:40.439874Z",
     "start_time": "2020-09-05T20:36:40.410679Z"
    }
   },
   "outputs": [],
   "source": [
    "categorical_features = [\n",
    "    'month', 'item_id', 'item_full_category_name', 'item_category_name', \n",
    "    'item_subcategory_name', 'shop_id', 'city'\n",
    "]"
   ]
  },
  {
   "cell_type": "markdown",
   "metadata": {},
   "source": [
    "#### Label encoding"
   ]
  },
  {
   "cell_type": "markdown",
   "metadata": {},
   "source": [
    "We will label encode only `city`, because in other cases we have already label encoded features or there are values on test, that are not present on train."
   ]
  },
  {
   "cell_type": "code",
   "execution_count": 14,
   "metadata": {
    "ExecuteTime": {
     "end_time": "2020-09-05T20:36:41.416704Z",
     "start_time": "2020-09-05T20:36:40.442211Z"
    }
   },
   "outputs": [],
   "source": [
    "label_encode_features = ['city']\n",
    "\n",
    "for column in label_encode_features:\n",
    "    le = LabelEncoder()\n",
    "    \n",
    "    encoded_feature_train = le.fit_transform(train[column])\n",
    "    train[f'{column}_labeled'] = encoded_feature_train\n",
    "    \n",
    "    encoded_feature_test = le.transform(test[column])\n",
    "    test[f'{column}_labeled'] = encoded_feature_test"
   ]
  },
  {
   "cell_type": "markdown",
   "metadata": {},
   "source": [
    "#### Mean encoding"
   ]
  },
  {
   "cell_type": "code",
   "execution_count": 15,
   "metadata": {
    "ExecuteTime": {
     "end_time": "2020-09-05T20:37:55.860204Z",
     "start_time": "2020-09-05T20:36:41.419863Z"
    }
   },
   "outputs": [
    {
     "data": {
      "application/vnd.jupyter.widget-view+json": {
       "model_id": "41286e2a1e5b43a4a4e27d238ccfc824",
       "version_major": 2,
       "version_minor": 0
      },
      "text/plain": [
       "HBox(children=(FloatProgress(value=0.0, max=7.0), HTML(value='')))"
      ]
     },
     "metadata": {},
     "output_type": "display_data"
    },
    {
     "name": "stdout",
     "output_type": "stream",
     "text": [
      "\n"
     ]
    }
   ],
   "source": [
    "for column in tqdm(categorical_features):\n",
    "    # encode train\n",
    "    cumsum = train.groupby(column).target.cumsum() - train.target\n",
    "    cumcount = train.groupby(column).cumcount()\n",
    "    encoded_feature = cumsum / cumcount\n",
    "    encoded_feature.fillna(MEAN_CONSTANT, inplace=True)\n",
    "    \n",
    "    train[f'{column}_mean_encoded_mean'] = encoded_feature\n",
    "    \n",
    "    # encode test\n",
    "    mean_train = train.groupby(column).target.mean()\n",
    "    test[f'{column}_mean_encoded_mean'] = test[column].map(mean_train).fillna(MEAN_CONSTANT)"
   ]
  },
  {
   "cell_type": "markdown",
   "metadata": {},
   "source": [
    "Drop all redundant columns."
   ]
  },
  {
   "cell_type": "code",
   "execution_count": 16,
   "metadata": {
    "ExecuteTime": {
     "end_time": "2020-09-05T20:38:03.912255Z",
     "start_time": "2020-09-05T20:37:55.863920Z"
    }
   },
   "outputs": [],
   "source": [
    "to_drop = ['item_id', 'item_full_category_name', 'item_category_name', \n",
    "           'item_subcategory_name', 'city']\n",
    "train.drop(columns=to_drop, inplace=True)\n",
    "test.drop(columns=to_drop, inplace=True)"
   ]
  },
  {
   "cell_type": "markdown",
   "metadata": {},
   "source": [
    "### Processing NaNs"
   ]
  },
  {
   "cell_type": "markdown",
   "metadata": {},
   "source": [
    "Fill NaNs."
   ]
  },
  {
   "cell_type": "code",
   "execution_count": 17,
   "metadata": {
    "ExecuteTime": {
     "end_time": "2020-09-05T20:38:10.091793Z",
     "start_time": "2020-09-05T20:38:03.914326Z"
    }
   },
   "outputs": [
    {
     "data": {
      "text/plain": [
       "Index(['num_residents'], dtype='object')"
      ]
     },
     "execution_count": 17,
     "metadata": {},
     "output_type": "execute_result"
    }
   ],
   "source": [
    "train.columns[train.isna().sum() > 0]"
   ]
  },
  {
   "cell_type": "markdown",
   "metadata": {},
   "source": [
    "As we expected there are some problems only with `num_residents`. We can fill it with zero, because it will be border value for this feature, trees can handle it properly."
   ]
  },
  {
   "cell_type": "code",
   "execution_count": 18,
   "metadata": {
    "ExecuteTime": {
     "end_time": "2020-09-05T20:38:12.514012Z",
     "start_time": "2020-09-05T20:38:10.094574Z"
    }
   },
   "outputs": [],
   "source": [
    "train.fillna(0, inplace=True)"
   ]
  },
  {
   "cell_type": "markdown",
   "metadata": {},
   "source": [
    "### Removing target"
   ]
  },
  {
   "cell_type": "markdown",
   "metadata": {},
   "source": [
    "Remove target from train."
   ]
  },
  {
   "cell_type": "code",
   "execution_count": 19,
   "metadata": {
    "ExecuteTime": {
     "end_time": "2020-09-05T20:38:18.786528Z",
     "start_time": "2020-09-05T20:38:12.516285Z"
    }
   },
   "outputs": [],
   "source": [
    "y = train.target\n",
    "train.drop(columns=['target'], inplace=True)"
   ]
  },
  {
   "cell_type": "markdown",
   "metadata": {},
   "source": [
    "### Create validation split."
   ]
  },
  {
   "cell_type": "markdown",
   "metadata": {},
   "source": [
    "Let's also delete from train rows that appears only on validation, it will make our train/validation split more consistant with train/test split."
   ]
  },
  {
   "cell_type": "code",
   "execution_count": 20,
   "metadata": {
    "ExecuteTime": {
     "end_time": "2020-09-05T20:38:26.093212Z",
     "start_time": "2020-09-05T20:38:18.788929Z"
    }
   },
   "outputs": [
    {
     "data": {
      "text/plain": [
       "3"
      ]
     },
     "execution_count": 20,
     "metadata": {},
     "output_type": "execute_result"
    }
   ],
   "source": [
    "X_valid = train[train.date_block_num == 33]\n",
    "X_train = train[train.date_block_num < 33]\n",
    "y_valid = y[train.date_block_num == 33]\n",
    "y_train = y[train.date_block_num < 33]\n",
    "X_test = test\n",
    "    \n",
    "del train, test\n",
    "gc.collect()"
   ]
  },
  {
   "cell_type": "markdown",
   "metadata": {},
   "source": [
    "## Hyperparameters tuning"
   ]
  },
  {
   "cell_type": "markdown",
   "metadata": {},
   "source": [
    "In this section we will find optimum parameters for a model. Firstly, fix the result before any optimization."
   ]
  },
  {
   "cell_type": "code",
   "execution_count": 21,
   "metadata": {
    "ExecuteTime": {
     "end_time": "2020-09-05T20:38:26.138700Z",
     "start_time": "2020-09-05T20:38:26.096034Z"
    }
   },
   "outputs": [],
   "source": [
    "ts = TimeSeriesGroupSplit(n_splits=5, max_train_size=int(2*10**5))\n",
    "\n",
    "xgb_params = {\n",
    "    'objective': 'reg:squarederror',\n",
    "    'learning_rate': 0.1,\n",
    "    'seed': random_state\n",
    "}"
   ]
  },
  {
   "cell_type": "code",
   "execution_count": 22,
   "metadata": {
    "ExecuteTime": {
     "end_time": "2020-09-05T20:38:26.178248Z",
     "start_time": "2020-09-05T20:38:26.141975Z"
    }
   },
   "outputs": [],
   "source": [
    "# default_score = cross_val_score(\n",
    "#     XGBRegressor(**xgb_params), \n",
    "#     X_train, y_train, groups=X_train.date_block_num,\n",
    "#     n_jobs=1, \n",
    "#     scoring='neg_root_mean_squared_error', \n",
    "#     verbose=0,\n",
    "#     cv=ts\n",
    "# ).mean()\n",
    "# print(f'Current score: {-default_score:.5f}')"
   ]
  },
  {
   "cell_type": "markdown",
   "metadata": {},
   "source": [
    "Score: $0.93931$."
   ]
  },
  {
   "cell_type": "markdown",
   "metadata": {},
   "source": [
    "### `n_estimators`"
   ]
  },
  {
   "cell_type": "markdown",
   "metadata": {},
   "source": [
    "In this section we fix `learning_rate = 0.1` and try to find reasonable num of iterations."
   ]
  },
  {
   "cell_type": "code",
   "execution_count": 56,
   "metadata": {
    "ExecuteTime": {
     "end_time": "2020-09-06T08:07:04.377324Z",
     "start_time": "2020-09-06T07:28:51.101638Z"
    }
   },
   "outputs": [
    {
     "name": "stdout",
     "output_type": "stream",
     "text": [
      "[0]\ttrain-rmse:1.12536\ttest-rmse:1.23054\n",
      "Multiple eval metrics have been passed: 'test-rmse' will be used for early stopping.\n",
      "\n",
      "Will train until test-rmse hasn't improved in 100 rounds.\n",
      "[1]\ttrain-rmse:1.07884\ttest-rmse:1.18491\n",
      "[2]\ttrain-rmse:1.03437\ttest-rmse:1.14332\n",
      "[3]\ttrain-rmse:0.99757\ttest-rmse:1.10781\n",
      "[4]\ttrain-rmse:0.96505\ttest-rmse:1.07896\n",
      "[5]\ttrain-rmse:0.93900\ttest-rmse:1.05432\n",
      "[6]\ttrain-rmse:0.91405\ttest-rmse:1.03037\n",
      "[7]\ttrain-rmse:0.89450\ttest-rmse:1.00906\n",
      "[8]\ttrain-rmse:0.87981\ttest-rmse:0.99660\n",
      "[9]\ttrain-rmse:0.86401\ttest-rmse:0.98260\n",
      "[10]\ttrain-rmse:0.85090\ttest-rmse:0.97170\n",
      "[11]\ttrain-rmse:0.84023\ttest-rmse:0.96313\n",
      "[12]\ttrain-rmse:0.83123\ttest-rmse:0.95504\n",
      "[13]\ttrain-rmse:0.82243\ttest-rmse:0.94780\n",
      "[14]\ttrain-rmse:0.81518\ttest-rmse:0.94316\n",
      "[15]\ttrain-rmse:0.80956\ttest-rmse:0.93840\n",
      "[16]\ttrain-rmse:0.80376\ttest-rmse:0.93320\n",
      "[17]\ttrain-rmse:0.79878\ttest-rmse:0.93006\n",
      "[18]\ttrain-rmse:0.79512\ttest-rmse:0.92802\n",
      "[19]\ttrain-rmse:0.79030\ttest-rmse:0.92430\n",
      "[20]\ttrain-rmse:0.78677\ttest-rmse:0.92269\n",
      "[21]\ttrain-rmse:0.78336\ttest-rmse:0.92094\n",
      "[22]\ttrain-rmse:0.78064\ttest-rmse:0.92006\n",
      "[23]\ttrain-rmse:0.77762\ttest-rmse:0.91892\n",
      "[24]\ttrain-rmse:0.77489\ttest-rmse:0.91758\n",
      "[25]\ttrain-rmse:0.77268\ttest-rmse:0.91628\n",
      "[26]\ttrain-rmse:0.77033\ttest-rmse:0.91512\n",
      "[27]\ttrain-rmse:0.76814\ttest-rmse:0.91347\n",
      "[28]\ttrain-rmse:0.76634\ttest-rmse:0.91265\n",
      "[29]\ttrain-rmse:0.76440\ttest-rmse:0.91229\n",
      "[30]\ttrain-rmse:0.76308\ttest-rmse:0.91122\n",
      "[31]\ttrain-rmse:0.76133\ttest-rmse:0.91075\n",
      "[32]\ttrain-rmse:0.76049\ttest-rmse:0.91055\n",
      "[33]\ttrain-rmse:0.75881\ttest-rmse:0.91018\n",
      "[34]\ttrain-rmse:0.75755\ttest-rmse:0.90945\n",
      "[35]\ttrain-rmse:0.75572\ttest-rmse:0.90981\n",
      "[36]\ttrain-rmse:0.75431\ttest-rmse:0.91044\n",
      "[37]\ttrain-rmse:0.75286\ttest-rmse:0.91033\n",
      "[38]\ttrain-rmse:0.75203\ttest-rmse:0.90968\n",
      "[39]\ttrain-rmse:0.75123\ttest-rmse:0.90952\n",
      "[40]\ttrain-rmse:0.74995\ttest-rmse:0.90957\n",
      "[41]\ttrain-rmse:0.74925\ttest-rmse:0.90947\n",
      "[42]\ttrain-rmse:0.74787\ttest-rmse:0.90930\n",
      "[43]\ttrain-rmse:0.74713\ttest-rmse:0.90912\n",
      "[44]\ttrain-rmse:0.74622\ttest-rmse:0.90867\n",
      "[45]\ttrain-rmse:0.74559\ttest-rmse:0.90834\n",
      "[46]\ttrain-rmse:0.74524\ttest-rmse:0.90870\n",
      "[47]\ttrain-rmse:0.74455\ttest-rmse:0.90908\n",
      "[48]\ttrain-rmse:0.74359\ttest-rmse:0.90901\n",
      "[49]\ttrain-rmse:0.74274\ttest-rmse:0.90869\n",
      "[50]\ttrain-rmse:0.74220\ttest-rmse:0.90934\n",
      "[51]\ttrain-rmse:0.74185\ttest-rmse:0.90934\n",
      "[52]\ttrain-rmse:0.74144\ttest-rmse:0.90923\n",
      "[53]\ttrain-rmse:0.74070\ttest-rmse:0.90925\n",
      "[54]\ttrain-rmse:0.74002\ttest-rmse:0.90896\n",
      "[55]\ttrain-rmse:0.73974\ttest-rmse:0.90880\n",
      "[56]\ttrain-rmse:0.73956\ttest-rmse:0.90865\n",
      "[57]\ttrain-rmse:0.73893\ttest-rmse:0.90801\n",
      "[58]\ttrain-rmse:0.73842\ttest-rmse:0.90847\n",
      "[59]\ttrain-rmse:0.73809\ttest-rmse:0.90838\n",
      "[60]\ttrain-rmse:0.73751\ttest-rmse:0.90836\n",
      "[61]\ttrain-rmse:0.73713\ttest-rmse:0.90840\n",
      "[62]\ttrain-rmse:0.73686\ttest-rmse:0.90892\n",
      "[63]\ttrain-rmse:0.73672\ttest-rmse:0.90894\n",
      "[64]\ttrain-rmse:0.73652\ttest-rmse:0.90884\n",
      "[65]\ttrain-rmse:0.73623\ttest-rmse:0.90913\n",
      "[66]\ttrain-rmse:0.73602\ttest-rmse:0.90927\n",
      "[67]\ttrain-rmse:0.73574\ttest-rmse:0.90925\n",
      "[68]\ttrain-rmse:0.73561\ttest-rmse:0.90925\n",
      "[69]\ttrain-rmse:0.73498\ttest-rmse:0.90929\n",
      "[70]\ttrain-rmse:0.73486\ttest-rmse:0.90930\n",
      "[71]\ttrain-rmse:0.73468\ttest-rmse:0.90951\n",
      "[72]\ttrain-rmse:0.73452\ttest-rmse:0.90947\n",
      "[73]\ttrain-rmse:0.73407\ttest-rmse:0.90924\n",
      "[74]\ttrain-rmse:0.73392\ttest-rmse:0.90870\n",
      "[75]\ttrain-rmse:0.73379\ttest-rmse:0.90878\n",
      "[76]\ttrain-rmse:0.73323\ttest-rmse:0.90873\n",
      "[77]\ttrain-rmse:0.73299\ttest-rmse:0.90926\n",
      "[78]\ttrain-rmse:0.73279\ttest-rmse:0.90897\n",
      "[79]\ttrain-rmse:0.73262\ttest-rmse:0.90892\n",
      "[80]\ttrain-rmse:0.73219\ttest-rmse:0.90888\n",
      "[81]\ttrain-rmse:0.73205\ttest-rmse:0.90896\n",
      "[82]\ttrain-rmse:0.73189\ttest-rmse:0.90895\n",
      "[83]\ttrain-rmse:0.73173\ttest-rmse:0.90873\n",
      "[84]\ttrain-rmse:0.73145\ttest-rmse:0.90854\n",
      "[85]\ttrain-rmse:0.73085\ttest-rmse:0.90803\n",
      "[86]\ttrain-rmse:0.73010\ttest-rmse:0.90773\n",
      "[87]\ttrain-rmse:0.72994\ttest-rmse:0.90770\n",
      "[88]\ttrain-rmse:0.72979\ttest-rmse:0.90766\n",
      "[89]\ttrain-rmse:0.72954\ttest-rmse:0.90765\n",
      "[90]\ttrain-rmse:0.72911\ttest-rmse:0.90804\n",
      "[91]\ttrain-rmse:0.72894\ttest-rmse:0.90797\n",
      "[92]\ttrain-rmse:0.72870\ttest-rmse:0.90802\n",
      "[93]\ttrain-rmse:0.72859\ttest-rmse:0.90800\n",
      "[94]\ttrain-rmse:0.72840\ttest-rmse:0.90768\n",
      "[95]\ttrain-rmse:0.72838\ttest-rmse:0.90762\n",
      "[96]\ttrain-rmse:0.72829\ttest-rmse:0.90763\n",
      "[97]\ttrain-rmse:0.72789\ttest-rmse:0.90785\n",
      "[98]\ttrain-rmse:0.72780\ttest-rmse:0.90793\n",
      "[99]\ttrain-rmse:0.72764\ttest-rmse:0.90788\n",
      "[100]\ttrain-rmse:0.72731\ttest-rmse:0.90788\n",
      "[101]\ttrain-rmse:0.72707\ttest-rmse:0.90771\n",
      "[102]\ttrain-rmse:0.72693\ttest-rmse:0.90744\n",
      "[103]\ttrain-rmse:0.72685\ttest-rmse:0.90751\n",
      "[104]\ttrain-rmse:0.72662\ttest-rmse:0.90698\n",
      "[105]\ttrain-rmse:0.72659\ttest-rmse:0.90697\n",
      "[106]\ttrain-rmse:0.72646\ttest-rmse:0.90703\n",
      "[107]\ttrain-rmse:0.72613\ttest-rmse:0.90761\n",
      "[108]\ttrain-rmse:0.72595\ttest-rmse:0.90748\n",
      "[109]\ttrain-rmse:0.72583\ttest-rmse:0.90735\n",
      "[110]\ttrain-rmse:0.72538\ttest-rmse:0.90732\n",
      "[111]\ttrain-rmse:0.72526\ttest-rmse:0.90738\n",
      "[112]\ttrain-rmse:0.72512\ttest-rmse:0.90742\n",
      "[113]\ttrain-rmse:0.72498\ttest-rmse:0.90714\n",
      "[114]\ttrain-rmse:0.72492\ttest-rmse:0.90728\n",
      "[115]\ttrain-rmse:0.72476\ttest-rmse:0.90758\n",
      "[116]\ttrain-rmse:0.72461\ttest-rmse:0.90747\n",
      "[117]\ttrain-rmse:0.72451\ttest-rmse:0.90755\n",
      "[118]\ttrain-rmse:0.72442\ttest-rmse:0.90749\n",
      "[119]\ttrain-rmse:0.72408\ttest-rmse:0.90736\n",
      "[120]\ttrain-rmse:0.72399\ttest-rmse:0.90714\n",
      "[121]\ttrain-rmse:0.72387\ttest-rmse:0.90695\n",
      "[122]\ttrain-rmse:0.72364\ttest-rmse:0.90706\n",
      "[123]\ttrain-rmse:0.72307\ttest-rmse:0.90716\n",
      "[124]\ttrain-rmse:0.72288\ttest-rmse:0.90748\n",
      "[125]\ttrain-rmse:0.72249\ttest-rmse:0.90704\n",
      "[126]\ttrain-rmse:0.72216\ttest-rmse:0.90672\n",
      "[127]\ttrain-rmse:0.72209\ttest-rmse:0.90671\n",
      "[128]\ttrain-rmse:0.72207\ttest-rmse:0.90670\n",
      "[129]\ttrain-rmse:0.72194\ttest-rmse:0.90670\n",
      "[130]\ttrain-rmse:0.72168\ttest-rmse:0.90677\n",
      "[131]\ttrain-rmse:0.72151\ttest-rmse:0.90682\n",
      "[132]\ttrain-rmse:0.72128\ttest-rmse:0.90686\n",
      "[133]\ttrain-rmse:0.72123\ttest-rmse:0.90681\n",
      "[134]\ttrain-rmse:0.72118\ttest-rmse:0.90674\n",
      "[135]\ttrain-rmse:0.72108\ttest-rmse:0.90684\n",
      "[136]\ttrain-rmse:0.72100\ttest-rmse:0.90684\n",
      "[137]\ttrain-rmse:0.72080\ttest-rmse:0.90687\n",
      "[138]\ttrain-rmse:0.72070\ttest-rmse:0.90689\n",
      "[139]\ttrain-rmse:0.72053\ttest-rmse:0.90651\n",
      "[140]\ttrain-rmse:0.71989\ttest-rmse:0.90564\n",
      "[141]\ttrain-rmse:0.71961\ttest-rmse:0.90602\n",
      "[142]\ttrain-rmse:0.71954\ttest-rmse:0.90603\n",
      "[143]\ttrain-rmse:0.71949\ttest-rmse:0.90599\n",
      "[144]\ttrain-rmse:0.71936\ttest-rmse:0.90599\n",
      "[145]\ttrain-rmse:0.71929\ttest-rmse:0.90598\n",
      "[146]\ttrain-rmse:0.71927\ttest-rmse:0.90603\n",
      "[147]\ttrain-rmse:0.71920\ttest-rmse:0.90605\n",
      "[148]\ttrain-rmse:0.71888\ttest-rmse:0.90607\n",
      "[149]\ttrain-rmse:0.71837\ttest-rmse:0.90672\n",
      "[150]\ttrain-rmse:0.71816\ttest-rmse:0.90643\n",
      "[151]\ttrain-rmse:0.71798\ttest-rmse:0.90649\n",
      "[152]\ttrain-rmse:0.71795\ttest-rmse:0.90654\n",
      "[153]\ttrain-rmse:0.71788\ttest-rmse:0.90656\n",
      "[154]\ttrain-rmse:0.71778\ttest-rmse:0.90662\n",
      "[155]\ttrain-rmse:0.71740\ttest-rmse:0.90655\n",
      "[156]\ttrain-rmse:0.71738\ttest-rmse:0.90663\n",
      "[157]\ttrain-rmse:0.71711\ttest-rmse:0.90677\n",
      "[158]\ttrain-rmse:0.71697\ttest-rmse:0.90670\n",
      "[159]\ttrain-rmse:0.71691\ttest-rmse:0.90673\n",
      "[160]\ttrain-rmse:0.71689\ttest-rmse:0.90675\n",
      "[161]\ttrain-rmse:0.71685\ttest-rmse:0.90672\n",
      "[162]\ttrain-rmse:0.71683\ttest-rmse:0.90677\n",
      "[163]\ttrain-rmse:0.71671\ttest-rmse:0.90695\n",
      "[164]\ttrain-rmse:0.71626\ttest-rmse:0.90676\n",
      "[165]\ttrain-rmse:0.71623\ttest-rmse:0.90677\n",
      "[166]\ttrain-rmse:0.71610\ttest-rmse:0.90662\n",
      "[167]\ttrain-rmse:0.71607\ttest-rmse:0.90664\n",
      "[168]\ttrain-rmse:0.71602\ttest-rmse:0.90661\n",
      "[169]\ttrain-rmse:0.71573\ttest-rmse:0.90660\n",
      "[170]\ttrain-rmse:0.71555\ttest-rmse:0.90640\n",
      "[171]\ttrain-rmse:0.71519\ttest-rmse:0.90657\n",
      "[172]\ttrain-rmse:0.71514\ttest-rmse:0.90648\n",
      "[173]\ttrain-rmse:0.71501\ttest-rmse:0.90676\n",
      "[174]\ttrain-rmse:0.71495\ttest-rmse:0.90668\n",
      "[175]\ttrain-rmse:0.71485\ttest-rmse:0.90666\n",
      "[176]\ttrain-rmse:0.71482\ttest-rmse:0.90667\n",
      "[177]\ttrain-rmse:0.71459\ttest-rmse:0.90633\n",
      "[178]\ttrain-rmse:0.71429\ttest-rmse:0.90625\n",
      "[179]\ttrain-rmse:0.71416\ttest-rmse:0.90642\n",
      "[180]\ttrain-rmse:0.71408\ttest-rmse:0.90628\n",
      "[181]\ttrain-rmse:0.71397\ttest-rmse:0.90628\n",
      "[182]\ttrain-rmse:0.71389\ttest-rmse:0.90648\n",
      "[183]\ttrain-rmse:0.71386\ttest-rmse:0.90647\n",
      "[184]\ttrain-rmse:0.71373\ttest-rmse:0.90643\n",
      "[185]\ttrain-rmse:0.71360\ttest-rmse:0.90650\n",
      "[186]\ttrain-rmse:0.71351\ttest-rmse:0.90663\n",
      "[187]\ttrain-rmse:0.71347\ttest-rmse:0.90659\n",
      "[188]\ttrain-rmse:0.71346\ttest-rmse:0.90660\n",
      "[189]\ttrain-rmse:0.71338\ttest-rmse:0.90666\n"
     ]
    },
    {
     "name": "stdout",
     "output_type": "stream",
     "text": [
      "[190]\ttrain-rmse:0.71329\ttest-rmse:0.90656\n",
      "[191]\ttrain-rmse:0.71326\ttest-rmse:0.90653\n",
      "[192]\ttrain-rmse:0.71301\ttest-rmse:0.90664\n",
      "[193]\ttrain-rmse:0.71299\ttest-rmse:0.90668\n",
      "[194]\ttrain-rmse:0.71273\ttest-rmse:0.90650\n",
      "[195]\ttrain-rmse:0.71262\ttest-rmse:0.90662\n",
      "[196]\ttrain-rmse:0.71259\ttest-rmse:0.90663\n",
      "[197]\ttrain-rmse:0.71254\ttest-rmse:0.90658\n",
      "[198]\ttrain-rmse:0.71237\ttest-rmse:0.90664\n",
      "[199]\ttrain-rmse:0.71223\ttest-rmse:0.90653\n",
      "[200]\ttrain-rmse:0.71218\ttest-rmse:0.90649\n",
      "[201]\ttrain-rmse:0.71210\ttest-rmse:0.90639\n",
      "[202]\ttrain-rmse:0.71209\ttest-rmse:0.90640\n",
      "[203]\ttrain-rmse:0.71204\ttest-rmse:0.90634\n",
      "[204]\ttrain-rmse:0.71199\ttest-rmse:0.90633\n",
      "[205]\ttrain-rmse:0.71192\ttest-rmse:0.90619\n",
      "[206]\ttrain-rmse:0.71180\ttest-rmse:0.90624\n",
      "[207]\ttrain-rmse:0.71168\ttest-rmse:0.90629\n",
      "[208]\ttrain-rmse:0.71157\ttest-rmse:0.90639\n",
      "[209]\ttrain-rmse:0.71153\ttest-rmse:0.90641\n",
      "[210]\ttrain-rmse:0.71151\ttest-rmse:0.90661\n",
      "[211]\ttrain-rmse:0.71139\ttest-rmse:0.90664\n",
      "[212]\ttrain-rmse:0.71131\ttest-rmse:0.90662\n",
      "[213]\ttrain-rmse:0.71125\ttest-rmse:0.90660\n",
      "[214]\ttrain-rmse:0.71124\ttest-rmse:0.90657\n",
      "[215]\ttrain-rmse:0.71115\ttest-rmse:0.90655\n",
      "[216]\ttrain-rmse:0.71092\ttest-rmse:0.90585\n",
      "[217]\ttrain-rmse:0.71090\ttest-rmse:0.90584\n",
      "[218]\ttrain-rmse:0.71086\ttest-rmse:0.90570\n",
      "[219]\ttrain-rmse:0.71076\ttest-rmse:0.90513\n",
      "[220]\ttrain-rmse:0.71071\ttest-rmse:0.90517\n",
      "[221]\ttrain-rmse:0.71059\ttest-rmse:0.90517\n",
      "[222]\ttrain-rmse:0.71027\ttest-rmse:0.90512\n",
      "[223]\ttrain-rmse:0.71023\ttest-rmse:0.90512\n",
      "[224]\ttrain-rmse:0.71020\ttest-rmse:0.90525\n",
      "[225]\ttrain-rmse:0.70981\ttest-rmse:0.90529\n",
      "[226]\ttrain-rmse:0.70976\ttest-rmse:0.90558\n",
      "[227]\ttrain-rmse:0.70974\ttest-rmse:0.90556\n",
      "[228]\ttrain-rmse:0.70963\ttest-rmse:0.90559\n",
      "[229]\ttrain-rmse:0.70960\ttest-rmse:0.90557\n",
      "[230]\ttrain-rmse:0.70942\ttest-rmse:0.90541\n",
      "[231]\ttrain-rmse:0.70936\ttest-rmse:0.90534\n",
      "[232]\ttrain-rmse:0.70930\ttest-rmse:0.90529\n",
      "[233]\ttrain-rmse:0.70922\ttest-rmse:0.90555\n",
      "[234]\ttrain-rmse:0.70918\ttest-rmse:0.90551\n",
      "[235]\ttrain-rmse:0.70892\ttest-rmse:0.90539\n",
      "[236]\ttrain-rmse:0.70887\ttest-rmse:0.90535\n",
      "[237]\ttrain-rmse:0.70883\ttest-rmse:0.90535\n",
      "[238]\ttrain-rmse:0.70870\ttest-rmse:0.90552\n",
      "[239]\ttrain-rmse:0.70869\ttest-rmse:0.90552\n",
      "[240]\ttrain-rmse:0.70859\ttest-rmse:0.90546\n",
      "[241]\ttrain-rmse:0.70851\ttest-rmse:0.90549\n",
      "[242]\ttrain-rmse:0.70842\ttest-rmse:0.90518\n",
      "[243]\ttrain-rmse:0.70835\ttest-rmse:0.90509\n",
      "[244]\ttrain-rmse:0.70830\ttest-rmse:0.90534\n",
      "[245]\ttrain-rmse:0.70801\ttest-rmse:0.90562\n",
      "[246]\ttrain-rmse:0.70795\ttest-rmse:0.90560\n",
      "[247]\ttrain-rmse:0.70787\ttest-rmse:0.90547\n",
      "[248]\ttrain-rmse:0.70779\ttest-rmse:0.90547\n",
      "[249]\ttrain-rmse:0.70776\ttest-rmse:0.90546\n",
      "[250]\ttrain-rmse:0.70768\ttest-rmse:0.90531\n",
      "[251]\ttrain-rmse:0.70758\ttest-rmse:0.90530\n",
      "[252]\ttrain-rmse:0.70755\ttest-rmse:0.90519\n",
      "[253]\ttrain-rmse:0.70744\ttest-rmse:0.90521\n",
      "[254]\ttrain-rmse:0.70739\ttest-rmse:0.90521\n",
      "[255]\ttrain-rmse:0.70721\ttest-rmse:0.90528\n",
      "[256]\ttrain-rmse:0.70714\ttest-rmse:0.90527\n",
      "[257]\ttrain-rmse:0.70705\ttest-rmse:0.90534\n",
      "[258]\ttrain-rmse:0.70696\ttest-rmse:0.90557\n",
      "[259]\ttrain-rmse:0.70692\ttest-rmse:0.90557\n",
      "[260]\ttrain-rmse:0.70688\ttest-rmse:0.90554\n",
      "[261]\ttrain-rmse:0.70684\ttest-rmse:0.90555\n",
      "[262]\ttrain-rmse:0.70675\ttest-rmse:0.90553\n",
      "[263]\ttrain-rmse:0.70672\ttest-rmse:0.90555\n",
      "[264]\ttrain-rmse:0.70670\ttest-rmse:0.90564\n",
      "[265]\ttrain-rmse:0.70663\ttest-rmse:0.90551\n",
      "[266]\ttrain-rmse:0.70641\ttest-rmse:0.90543\n",
      "[267]\ttrain-rmse:0.70640\ttest-rmse:0.90539\n",
      "[268]\ttrain-rmse:0.70634\ttest-rmse:0.90555\n",
      "[269]\ttrain-rmse:0.70590\ttest-rmse:0.90619\n",
      "[270]\ttrain-rmse:0.70574\ttest-rmse:0.90646\n",
      "[271]\ttrain-rmse:0.70572\ttest-rmse:0.90643\n",
      "[272]\ttrain-rmse:0.70566\ttest-rmse:0.90650\n",
      "[273]\ttrain-rmse:0.70549\ttest-rmse:0.90667\n",
      "[274]\ttrain-rmse:0.70541\ttest-rmse:0.90656\n",
      "[275]\ttrain-rmse:0.70538\ttest-rmse:0.90652\n",
      "[276]\ttrain-rmse:0.70532\ttest-rmse:0.90661\n",
      "[277]\ttrain-rmse:0.70525\ttest-rmse:0.90660\n",
      "[278]\ttrain-rmse:0.70523\ttest-rmse:0.90667\n",
      "[279]\ttrain-rmse:0.70495\ttest-rmse:0.90674\n",
      "[280]\ttrain-rmse:0.70478\ttest-rmse:0.90682\n",
      "[281]\ttrain-rmse:0.70469\ttest-rmse:0.90675\n",
      "[282]\ttrain-rmse:0.70464\ttest-rmse:0.90690\n",
      "[283]\ttrain-rmse:0.70460\ttest-rmse:0.90694\n",
      "[284]\ttrain-rmse:0.70457\ttest-rmse:0.90706\n",
      "[285]\ttrain-rmse:0.70454\ttest-rmse:0.90701\n",
      "[286]\ttrain-rmse:0.70452\ttest-rmse:0.90700\n",
      "[287]\ttrain-rmse:0.70451\ttest-rmse:0.90703\n",
      "[288]\ttrain-rmse:0.70447\ttest-rmse:0.90705\n",
      "[289]\ttrain-rmse:0.70444\ttest-rmse:0.90704\n",
      "[290]\ttrain-rmse:0.70438\ttest-rmse:0.90707\n",
      "[291]\ttrain-rmse:0.70437\ttest-rmse:0.90707\n",
      "[292]\ttrain-rmse:0.70431\ttest-rmse:0.90716\n",
      "[293]\ttrain-rmse:0.70424\ttest-rmse:0.90729\n",
      "[294]\ttrain-rmse:0.70422\ttest-rmse:0.90738\n",
      "[295]\ttrain-rmse:0.70407\ttest-rmse:0.90728\n",
      "[296]\ttrain-rmse:0.70404\ttest-rmse:0.90730\n",
      "[297]\ttrain-rmse:0.70400\ttest-rmse:0.90733\n",
      "[298]\ttrain-rmse:0.70372\ttest-rmse:0.90758\n",
      "[299]\ttrain-rmse:0.70367\ttest-rmse:0.90762\n",
      "[300]\ttrain-rmse:0.70365\ttest-rmse:0.90754\n",
      "[301]\ttrain-rmse:0.70342\ttest-rmse:0.90750\n",
      "[302]\ttrain-rmse:0.70340\ttest-rmse:0.90753\n",
      "[303]\ttrain-rmse:0.70335\ttest-rmse:0.90748\n",
      "[304]\ttrain-rmse:0.70332\ttest-rmse:0.90748\n",
      "[305]\ttrain-rmse:0.70327\ttest-rmse:0.90743\n",
      "[306]\ttrain-rmse:0.70321\ttest-rmse:0.90729\n",
      "[307]\ttrain-rmse:0.70315\ttest-rmse:0.90720\n",
      "[308]\ttrain-rmse:0.70309\ttest-rmse:0.90710\n",
      "[309]\ttrain-rmse:0.70303\ttest-rmse:0.90716\n",
      "[310]\ttrain-rmse:0.70292\ttest-rmse:0.90701\n",
      "[311]\ttrain-rmse:0.70257\ttest-rmse:0.90658\n",
      "[312]\ttrain-rmse:0.70249\ttest-rmse:0.90654\n",
      "[313]\ttrain-rmse:0.70247\ttest-rmse:0.90649\n",
      "[314]\ttrain-rmse:0.70246\ttest-rmse:0.90643\n",
      "[315]\ttrain-rmse:0.70241\ttest-rmse:0.90646\n",
      "[316]\ttrain-rmse:0.70233\ttest-rmse:0.90646\n",
      "[317]\ttrain-rmse:0.70227\ttest-rmse:0.90651\n",
      "[318]\ttrain-rmse:0.70222\ttest-rmse:0.90658\n",
      "[319]\ttrain-rmse:0.70218\ttest-rmse:0.90649\n",
      "[320]\ttrain-rmse:0.70202\ttest-rmse:0.90638\n",
      "[321]\ttrain-rmse:0.70200\ttest-rmse:0.90637\n",
      "[322]\ttrain-rmse:0.70195\ttest-rmse:0.90636\n",
      "[323]\ttrain-rmse:0.70183\ttest-rmse:0.90638\n",
      "[324]\ttrain-rmse:0.70174\ttest-rmse:0.90639\n",
      "[325]\ttrain-rmse:0.70172\ttest-rmse:0.90647\n",
      "[326]\ttrain-rmse:0.70169\ttest-rmse:0.90646\n",
      "[327]\ttrain-rmse:0.70166\ttest-rmse:0.90644\n",
      "[328]\ttrain-rmse:0.70160\ttest-rmse:0.90640\n",
      "[329]\ttrain-rmse:0.70149\ttest-rmse:0.90620\n",
      "[330]\ttrain-rmse:0.70145\ttest-rmse:0.90621\n",
      "[331]\ttrain-rmse:0.70141\ttest-rmse:0.90618\n",
      "[332]\ttrain-rmse:0.70137\ttest-rmse:0.90622\n",
      "[333]\ttrain-rmse:0.70134\ttest-rmse:0.90617\n",
      "[334]\ttrain-rmse:0.70113\ttest-rmse:0.90617\n",
      "[335]\ttrain-rmse:0.70110\ttest-rmse:0.90614\n",
      "[336]\ttrain-rmse:0.70102\ttest-rmse:0.90633\n",
      "[337]\ttrain-rmse:0.70098\ttest-rmse:0.90634\n",
      "[338]\ttrain-rmse:0.70096\ttest-rmse:0.90632\n",
      "[339]\ttrain-rmse:0.70052\ttest-rmse:0.90631\n",
      "[340]\ttrain-rmse:0.70035\ttest-rmse:0.90637\n",
      "[341]\ttrain-rmse:0.70033\ttest-rmse:0.90648\n",
      "[342]\ttrain-rmse:0.70029\ttest-rmse:0.90650\n",
      "[343]\ttrain-rmse:0.69996\ttest-rmse:0.90640\n",
      "Stopping. Best iteration:\n",
      "[243]\ttrain-rmse:0.70835\ttest-rmse:0.90509\n",
      "\n"
     ]
    }
   ],
   "source": [
    "X_train_dataset = xgb.DMatrix(X_train[X_train.date_block_num >= 25], \n",
    "                              label=y_train[X_train.date_block_num >= 25])\n",
    "X_valid_dataset = xgb.DMatrix(X_valid, label=y_valid)\n",
    "\n",
    "xgb.train(xgb_params, X_train_dataset, num_boost_round=500, \n",
    "          evals=[(X_train_dataset, 'train'), (X_valid_dataset, 'test')], \n",
    "          early_stopping_rounds=100)\n",
    "\n",
    "del X_train_dataset, X_valid_dataset\n",
    "gc.collect();"
   ]
  },
  {
   "cell_type": "code",
   "execution_count": 24,
   "metadata": {
    "ExecuteTime": {
     "end_time": "2020-09-05T20:38:26.259442Z",
     "start_time": "2020-09-05T20:38:26.227411Z"
    }
   },
   "outputs": [],
   "source": [
    "# param_grid = {\n",
    "#     'n_estimators': np.arange(50, 301, 50)\n",
    "# }\n",
    "\n",
    "# gs = GridSearchCV(\n",
    "#     LGBMRegressor(**lgb_params), \n",
    "#     param_grid,          \n",
    "#     n_jobs=1, \n",
    "#     scoring='neg_root_mean_squared_error', \n",
    "#     verbose=10,\n",
    "#     refit=False,\n",
    "#     cv=ts\n",
    "# )"
   ]
  },
  {
   "cell_type": "markdown",
   "metadata": {
    "ExecuteTime": {
     "end_time": "2020-09-04T18:06:22.530172Z",
     "start_time": "2020-09-04T17:53:23.814280Z"
    }
   },
   "source": [
    "gs.fit(X_train, y_train, groups=X_train.date_block_num)"
   ]
  },
  {
   "cell_type": "markdown",
   "metadata": {
    "ExecuteTime": {
     "end_time": "2020-09-04T18:06:22.592080Z",
     "start_time": "2020-09-04T18:06:22.536120Z"
    }
   },
   "source": [
    "gs.cv_results_"
   ]
  },
  {
   "cell_type": "markdown",
   "metadata": {
    "ExecuteTime": {
     "end_time": "2020-09-04T18:06:33.368544Z",
     "start_time": "2020-09-04T18:06:33.333062Z"
    }
   },
   "source": [
    "gs.best_params_"
   ]
  },
  {
   "cell_type": "code",
   "execution_count": 25,
   "metadata": {
    "ExecuteTime": {
     "end_time": "2020-09-05T20:38:26.302792Z",
     "start_time": "2020-09-05T20:38:26.262519Z"
    }
   },
   "outputs": [],
   "source": [
    "xgb_params['n_estimators'] = 243"
   ]
  },
  {
   "cell_type": "markdown",
   "metadata": {},
   "source": [
    "### Tree parameters, subsampling, regularization"
   ]
  },
  {
   "cell_type": "markdown",
   "metadata": {},
   "source": [
    "Here we will find optimum values for building tree:\n",
    "* `max_depth`\n",
    "* `min_child_weight`\n",
    "\n",
    "For subsampling:\n",
    "* `subsample`\n",
    "* `colsample_bytree`\n",
    "\n",
    "For regularization:\n",
    "* `gamma`\n",
    "* `alpha`\n",
    "* `lambda`"
   ]
  },
  {
   "cell_type": "code",
   "execution_count": 38,
   "metadata": {
    "ExecuteTime": {
     "end_time": "2020-09-05T21:04:09.446541Z",
     "start_time": "2020-09-05T21:04:09.354984Z"
    }
   },
   "outputs": [],
   "source": [
    "xgb_params = {\n",
    "    'objective': 'reg:squarederror',\n",
    "    'learning_rate': 0.1,\n",
    "    'seed': random_state\n",
    "}"
   ]
  },
  {
   "cell_type": "code",
   "execution_count": 47,
   "metadata": {
    "ExecuteTime": {
     "end_time": "2020-09-05T21:24:43.665882Z",
     "start_time": "2020-09-05T21:24:43.627672Z"
    }
   },
   "outputs": [],
   "source": [
    "def objective(params):\n",
    "    \"\"\"Function to optimize in hyperopt.\"\"\"\n",
    "    params['n_estimators'] = int(params['n_estimators'])\n",
    "    params['max_depth'] = int(params['max_depth'])\n",
    "    \n",
    "    current_params = copy.copy(xgb_params)\n",
    "    current_params.update(params)    \n",
    "    score = cross_val_score(\n",
    "        XGBRegressor(**current_params), \n",
    "        X_train, y_train, groups=X_train.date_block_num,\n",
    "        n_jobs=1, \n",
    "        scoring='neg_root_mean_squared_error', \n",
    "        verbose=0,\n",
    "        cv=ts\n",
    "    ).mean()\n",
    "    \n",
    "    print(f'RMSE {-score:.5f} params {params}')\n",
    "    \n",
    "    return {\n",
    "        'loss': -score,\n",
    "        'status': STATUS_OK,\n",
    "    }\n",
    "\n",
    "space = {\n",
    "    'n_estimators': hp.quniform('n_estimators', 10, 100, 5),\n",
    "    'max_depth': hp.quniform('max_depth', 3, 12, 1),\n",
    "    'min_child_weight': hp.loguniform('min_child_weight', 0, np.log(1e3)),\n",
    "    'subsample': hp.uniform('subsample', 0, 1),\n",
    "    'colsample_bytree': hp.uniform('colsample_bytree', 0, 1),\n",
    "    'gamma': hp.uniform('gamma', 0, 0.5),\n",
    "    'alpha': hp.choice('alpha', [0, hp.loguniform('alpha_not_zero', np.log(1e-3), 0)]),\n",
    "    'lambda': hp.choice('lambda', [0, hp.loguniform('lambda_not_zero', np.log(1e-3), 0)])\n",
    "}"
   ]
  },
  {
   "cell_type": "code",
   "execution_count": 49,
   "metadata": {
    "ExecuteTime": {
     "end_time": "2020-09-06T04:12:08.018199Z",
     "start_time": "2020-09-05T21:27:49.395061Z"
    }
   },
   "outputs": [
    {
     "name": "stdout",
     "output_type": "stream",
     "text": [
      "RMSE 0.94092 params {'alpha': 0, 'colsample_bytree': 0.2658534106230077, 'gamma': 0.21825076621000872, 'lambda': 0.0012003414553587548, 'max_depth': 7, 'min_child_weight': 41.530679164609175, 'n_estimators': 85, 'subsample': 0.6538443477268508}\n",
      "RMSE 0.92889 params {'alpha': 0, 'colsample_bytree': 0.9087418626613781, 'gamma': 0.4708818587172187, 'lambda': 0, 'max_depth': 5, 'min_child_weight': 1.0339846331488787, 'n_estimators': 45, 'subsample': 0.8794822370434191}\n",
      "RMSE 0.95507 params {'alpha': 0, 'colsample_bytree': 0.5103107233526626, 'gamma': 0.23992915387459435, 'lambda': 0.07803085131780708, 'max_depth': 4, 'min_child_weight': 840.1682728826437, 'n_estimators': 70, 'subsample': 0.9404903584719024}\n",
      "RMSE 0.97093 params {'alpha': 0, 'colsample_bytree': 0.5646370451050536, 'gamma': 0.41414847360627033, 'lambda': 0.0913404835495211, 'max_depth': 4, 'min_child_weight': 329.11237011427784, 'n_estimators': 65, 'subsample': 0.2417121245007965}\n",
      "RMSE 1.19025 params {'alpha': 0.011926953298221429, 'colsample_bytree': 0.9491145868071414, 'gamma': 0.08507370799568903, 'lambda': 0, 'max_depth': 3, 'min_child_weight': 384.5430139949347, 'n_estimators': 50, 'subsample': 0.005040479753370519}\n",
      "RMSE 0.95007 params {'alpha': 0, 'colsample_bytree': 0.945641401799528, 'gamma': 0.33974299064806057, 'lambda': 0.004357484906880826, 'max_depth': 8, 'min_child_weight': 1.825511093470567, 'n_estimators': 70, 'subsample': 0.8387558824706399}\n",
      "RMSE 0.96999 params {'alpha': 0.15902234863881443, 'colsample_bytree': 0.9822107924599, 'gamma': 0.33070019403993584, 'lambda': 0.10030228984000043, 'max_depth': 5, 'min_child_weight': 7.814881261303687, 'n_estimators': 40, 'subsample': 0.010912366939215157}\n",
      "RMSE 0.95517 params {'alpha': 0, 'colsample_bytree': 0.4003932959659019, 'gamma': 0.0070692500118582635, 'lambda': 0.14743277422798595, 'max_depth': 11, 'min_child_weight': 11.888957156016591, 'n_estimators': 45, 'subsample': 0.583012836241227}\n",
      "RMSE 0.93792 params {'alpha': 0.0164633943291501, 'colsample_bytree': 0.34396129482286386, 'gamma': 0.29594817166693804, 'lambda': 0.4307276451031003, 'max_depth': 8, 'min_child_weight': 35.25601521038322, 'n_estimators': 100, 'subsample': 0.47536054867260547}\n",
      "RMSE 0.96451 params {'alpha': 0, 'colsample_bytree': 0.22662460916041438, 'gamma': 0.4455608942311047, 'lambda': 0, 'max_depth': 10, 'min_child_weight': 136.88264564308582, 'n_estimators': 40, 'subsample': 0.9405944769222693}\n",
      "RMSE 0.93248 params {'alpha': 0.015509043688978192, 'colsample_bytree': 0.3465454121862104, 'gamma': 0.39529753895205594, 'lambda': 0.0016922986197732148, 'max_depth': 7, 'min_child_weight': 66.75863801625988, 'n_estimators': 65, 'subsample': 0.4210121716615105}\n",
      "RMSE 0.92202 params {'alpha': 0.011903356539063176, 'colsample_bytree': 0.8584493773729924, 'gamma': 0.4011663198295472, 'lambda': 0.33113225233612315, 'max_depth': 3, 'min_child_weight': 70.20717209207581, 'n_estimators': 90, 'subsample': 0.7397004433061857}\n",
      "RMSE 0.98804 params {'alpha': 0, 'colsample_bytree': 0.12115048619252544, 'gamma': 0.3142626564126871, 'lambda': 0, 'max_depth': 10, 'min_child_weight': 31.507769630423393, 'n_estimators': 35, 'subsample': 0.220438226302077}\n",
      "RMSE 0.99644 params {'alpha': 0.021699249530566515, 'colsample_bytree': 0.17742112608614535, 'gamma': 0.3329656345574777, 'lambda': 0.0045942873485710035, 'max_depth': 8, 'min_child_weight': 3.933603401026719, 'n_estimators': 25, 'subsample': 0.05268593550895917}\n",
      "RMSE 0.93916 params {'alpha': 0, 'colsample_bytree': 0.9082752484304817, 'gamma': 0.4428542894648378, 'lambda': 0, 'max_depth': 8, 'min_child_weight': 10.585269697168647, 'n_estimators': 95, 'subsample': 0.4594180459275695}\n",
      "RMSE 0.96318 params {'alpha': 0, 'colsample_bytree': 0.8919466959225868, 'gamma': 0.44889350050834786, 'lambda': 0, 'max_depth': 8, 'min_child_weight': 733.7063469887278, 'n_estimators': 70, 'subsample': 0.5818502504628418}\n",
      "RMSE 0.97814 params {'alpha': 0, 'colsample_bytree': 0.16531874900283638, 'gamma': 0.18838663482319273, 'lambda': 0.052287111413313006, 'max_depth': 5, 'min_child_weight': 11.195461119112563, 'n_estimators': 45, 'subsample': 0.041359825806807415}\n",
      "RMSE 0.92438 params {'alpha': 0.005975587728571324, 'colsample_bytree': 0.6852576820508144, 'gamma': 0.2812704090797733, 'lambda': 0, 'max_depth': 4, 'min_child_weight': 2.2698026289516338, 'n_estimators': 35, 'subsample': 0.4441908822222853}\n",
      "RMSE 0.95999 params {'alpha': 0.09858425888603685, 'colsample_bytree': 0.1282758026083609, 'gamma': 0.48216775894843955, 'lambda': 0.007327002526123115, 'max_depth': 4, 'min_child_weight': 2.0992906705591197, 'n_estimators': 75, 'subsample': 0.2854968151433117}\n",
      "RMSE 1.07184 params {'alpha': 0.3605295905724, 'colsample_bytree': 0.023127745799238375, 'gamma': 0.1615985409242574, 'lambda': 0, 'max_depth': 5, 'min_child_weight': 359.073828328185, 'n_estimators': 50, 'subsample': 0.8695703456698491}\n",
      "RMSE 0.94526 params {'alpha': 0.0010580023947046311, 'colsample_bytree': 0.7329249149679752, 'gamma': 0.3757522830986605, 'lambda': 0, 'max_depth': 3, 'min_child_weight': 96.14483251264515, 'n_estimators': 20, 'subsample': 0.7190162919960501}\n",
      "RMSE 0.94453 params {'alpha': 0.0021889451606289835, 'colsample_bytree': 0.7074522069518226, 'gamma': 0.26579105312499424, 'lambda': 0, 'max_depth': 6, 'min_child_weight': 140.03863391027463, 'n_estimators': 15, 'subsample': 0.353540214466413}\n",
      "RMSE 0.92936 params {'alpha': 0.0049745203004193835, 'colsample_bytree': 0.7601886701053506, 'gamma': 0.11945223261240417, 'lambda': 0, 'max_depth': 3, 'min_child_weight': 19.799068046213176, 'n_estimators': 30, 'subsample': 0.6833181898735171}\n",
      "RMSE 0.93370 params {'alpha': 0.004191274854610203, 'colsample_bytree': 0.6310862742417869, 'gamma': 0.2720589386760744, 'lambda': 0, 'max_depth': 6, 'min_child_weight': 3.707029574717911, 'n_estimators': 90, 'subsample': 0.749453449149724}\n",
      "RMSE 0.92490 params {'alpha': 0.06253065218853568, 'colsample_bytree': 0.8101708806434555, 'gamma': 0.36407003868529236, 'lambda': 0.6059507265952206, 'max_depth': 4, 'min_child_weight': 1.0408624344119946, 'n_estimators': 60, 'subsample': 0.5676727464689257}\n",
      "RMSE 1.03533 params {'alpha': 0.006018536954110586, 'colsample_bytree': 0.6036048786744558, 'gamma': 0.49857845035700044, 'lambda': 0, 'max_depth': 3, 'min_child_weight': 203.26796752540204, 'n_estimators': 10, 'subsample': 0.1518760521239103}\n",
      "RMSE 0.92519 params {'alpha': 0.0010113262886223184, 'colsample_bytree': 0.8403378031975749, 'gamma': 0.20183773364955643, 'lambda': 0, 'max_depth': 6, 'min_child_weight': 60.380131888851636, 'n_estimators': 80, 'subsample': 0.8016108557951966}\n",
      "RMSE 0.92156 params {'alpha': 0.04337905667227845, 'colsample_bytree': 0.6716058396862818, 'gamma': 0.286838526905615, 'lambda': 0.02579089485232869, 'max_depth': 4, 'min_child_weight': 5.920982412935664, 'n_estimators': 55, 'subsample': 0.9958962840850107}\n",
      "RMSE 0.94135 params {'alpha': 0.04096494168391505, 'colsample_bytree': 0.43261138585949904, 'gamma': 0.23295154874682253, 'lambda': 0.01746673907084932, 'max_depth': 9, 'min_child_weight': 19.08548876304762, 'n_estimators': 85, 'subsample': 0.9869746494525408}\n",
      "RMSE 0.94067 params {'alpha': 0.2895760855199194, 'colsample_bytree': 0.8229183430137699, 'gamma': 0.40454050703270544, 'lambda': 0.02460955787358835, 'max_depth': 7, 'min_child_weight': 5.456412677474188, 'n_estimators': 100, 'subsample': 0.9865566986461053}\n",
      "RMSE 0.92489 params {'alpha': 0.03893700037948363, 'colsample_bytree': 0.656771279393106, 'gamma': 0.14208734640724896, 'lambda': 0.2709680056861053, 'max_depth': 6, 'min_child_weight': 21.34652631403054, 'n_estimators': 85, 'subsample': 0.7704929971841443}\n",
      "RMSE 0.92173 params {'alpha': 0.8227846717680262, 'colsample_bytree': 0.5125478801030946, 'gamma': 0.07514730040610121, 'lambda': 0.9974016434974913, 'max_depth': 5, 'min_child_weight': 58.87771735546139, 'n_estimators': 55, 'subsample': 0.6308557031588512}\n",
      "RMSE 0.92316 params {'alpha': 0.8877338913462832, 'colsample_bytree': 0.5193807408139086, 'gamma': 0.05732610877858557, 'lambda': 0.012083927291769802, 'max_depth': 5, 'min_child_weight': 1.0440514067582807, 'n_estimators': 55, 'subsample': 0.6633889147552344}\n"
     ]
    },
    {
     "name": "stdout",
     "output_type": "stream",
     "text": [
      "RMSE 0.93796 params {'alpha': 0.9173438569175445, 'colsample_bytree': 0.44799966424272636, 'gamma': 0.06116332077097758, 'lambda': 0.038089700853035036, 'max_depth': 7, 'min_child_weight': 6.43697481225195, 'n_estimators': 60, 'subsample': 0.9028751323943458}\n",
      "RMSE 0.91912 params {'alpha': 0.4838005702893464, 'colsample_bytree': 0.5602182208963274, 'gamma': 0.11479267602383961, 'lambda': 0.011010156459318644, 'max_depth': 4, 'min_child_weight': 42.98826626056135, 'n_estimators': 55, 'subsample': 0.5290965621925413}\n",
      "RMSE 0.95988 params {'alpha': 0.4222382440561614, 'colsample_bytree': 0.5656368874635419, 'gamma': 0.11074409347172046, 'lambda': 0.00212591177905177, 'max_depth': 12, 'min_child_weight': 3.8267286012447475, 'n_estimators': 60, 'subsample': 0.36100879633201444}\n",
      "RMSE 0.92366 params {'alpha': 0.17903644257891937, 'colsample_bytree': 0.7650972223865575, 'gamma': 0.0057217110271653715, 'lambda': 0.010968640990672579, 'max_depth': 4, 'min_child_weight': 14.215209966938277, 'n_estimators': 50, 'subsample': 0.5281606733802565}\n",
      "RMSE 1.00896 params {'alpha': 0.07700276791820986, 'colsample_bytree': 0.574031811467036, 'gamma': 0.2119340086910082, 'lambda': 0.0036353908140206734, 'max_depth': 3, 'min_child_weight': 583.4817444111096, 'n_estimators': 75, 'subsample': 0.19501009326447138}\n",
      "RMSE 0.95294 params {'alpha': 0, 'colsample_bytree': 0.3122204721960292, 'gamma': 0.028535219984767435, 'lambda': 0.025500007342946312, 'max_depth': 9, 'min_child_weight': 39.18670117350548, 'n_estimators': 45, 'subsample': 0.10468743500382399}\n",
      "RMSE 0.92554 params {'alpha': 0.5847814813487042, 'colsample_bytree': 0.9963496017513875, 'gamma': 0.16062680816011984, 'lambda': 0.008585013905257151, 'max_depth': 4, 'min_child_weight': 29.38280603931759, 'n_estimators': 65, 'subsample': 0.2998735080188043}\n",
      "RMSE 0.94535 params {'alpha': 0, 'colsample_bytree': 0.4845042864272379, 'gamma': 0.2449782099970536, 'lambda': 0.04572791169686227, 'max_depth': 6, 'min_child_weight': 209.5627229322751, 'n_estimators': 40, 'subsample': 0.3911528732709757}\n",
      "RMSE 0.93956 params {'alpha': 0.16508406912550722, 'colsample_bytree': 0.38789702081183647, 'gamma': 0.30490407084506155, 'lambda': 0.017112919204682275, 'max_depth': 4, 'min_child_weight': 8.662076870067471, 'n_estimators': 30, 'subsample': 0.5138353082352869}\n",
      "RMSE 0.94334 params {'alpha': 0.23526416909647285, 'colsample_bytree': 0.2471371698614122, 'gamma': 0.10741212839420035, 'lambda': 0.17642313504918347, 'max_depth': 5, 'min_child_weight': 1.3779102269237098, 'n_estimators': 75, 'subsample': 0.8325521981761758}\n",
      "RMSE 0.95206 params {'alpha': 0, 'colsample_bytree': 0.29357434090480083, 'gamma': 0.18687883965566493, 'lambda': 0.0011197923349133198, 'max_depth': 12, 'min_child_weight': 94.26991412176169, 'n_estimators': 50, 'subsample': 0.949238879296854}\n",
      "RMSE 0.93942 params {'alpha': 0.11055873508486129, 'colsample_bytree': 0.6640551080099053, 'gamma': 0.36500341900103445, 'lambda': 0.06436726093559882, 'max_depth': 7, 'min_child_weight': 2.888422159442175, 'n_estimators': 70, 'subsample': 0.6220269404145053}\n",
      "RMSE 0.94336 params {'alpha': 0.026296404380533305, 'colsample_bytree': 0.3706823533547284, 'gamma': 0.13601742044987764, 'lambda': 0.005792899855117036, 'max_depth': 9, 'min_child_weight': 14.511328275609854, 'n_estimators': 40, 'subsample': 0.88729360688573}\n",
      "RMSE 0.92607 params {'alpha': 0, 'colsample_bytree': 0.6105129261596479, 'gamma': 0.038325184372209845, 'lambda': 0.002680337495863752, 'max_depth': 11, 'min_child_weight': 46.0219547969712, 'n_estimators': 60, 'subsample': 0.2793839927886401}\n",
      "RMSE 1.11548 params {'alpha': 0.00885191353044295, 'colsample_bytree': 0.010978374735607976, 'gamma': 0.23141141345122124, 'lambda': 0.017682253649878188, 'max_depth': 3, 'min_child_weight': 5.212977701241925, 'n_estimators': 65, 'subsample': 0.14675233168629576}\n",
      "RMSE 0.91839 params {'alpha': 0, 'colsample_bytree': 0.9653624259500465, 'gamma': 0.34789737882925803, 'lambda': 0.08893387642755039, 'max_depth': 5, 'min_child_weight': 27.33437844435217, 'n_estimators': 35, 'subsample': 0.7077162763063884}\n",
      "RMSE 0.93067 params {'alpha': 0, 'colsample_bytree': 0.9455945944792976, 'gamma': 0.3465082581787992, 'lambda': 0.10517482486723509, 'max_depth': 6, 'min_child_weight': 271.08826256396753, 'n_estimators': 20, 'subsample': 0.701411114333412}\n",
      "RMSE 1.02740 params {'alpha': 0, 'colsample_bytree': 0.08361447222124235, 'gamma': 0.47070934547159815, 'lambda': 0.14219639449694865, 'max_depth': 5, 'min_child_weight': 501.2843846557256, 'n_estimators': 30, 'subsample': 0.556462083899004}\n",
      "RMSE 0.92429 params {'alpha': 0, 'colsample_bytree': 0.8865042161501775, 'gamma': 0.31915436204193937, 'lambda': 0.07733514349926794, 'max_depth': 7, 'min_child_weight': 26.708972915367195, 'n_estimators': 35, 'subsample': 0.6028635449393928}\n",
      "RMSE 0.92430 params {'alpha': 0, 'colsample_bytree': 0.946383685915497, 'gamma': 0.4358380303742124, 'lambda': 0.1991355869815475, 'max_depth': 5, 'min_child_weight': 121.87044184245676, 'n_estimators': 25, 'subsample': 0.47005295458702145}\n",
      "RMSE 1.03678 params {'alpha': 0, 'colsample_bytree': 0.20468581520793921, 'gamma': 0.4229951701227534, 'lambda': 0.7868212662909246, 'max_depth': 3, 'min_child_weight': 82.56426062791975, 'n_estimators': 15, 'subsample': 0.4243694112427384}\n",
      "RMSE 1.02267 params {'alpha': 0, 'colsample_bytree': 0.05572172616235049, 'gamma': 0.16841575871890538, 'lambda': 0, 'max_depth': 4, 'min_child_weight': 49.10781366724112, 'n_estimators': 45, 'subsample': 0.7794674008495825}\n",
      "RMSE 0.92575 params {'alpha': 0, 'colsample_bytree': 0.9938159380872889, 'gamma': 0.3841210004030434, 'lambda': 0.4674625572844508, 'max_depth': 6, 'min_child_weight': 159.00023041912576, 'n_estimators': 35, 'subsample': 0.4866015810825932}\n",
      "RMSE 0.91773 params {'alpha': 0, 'colsample_bytree': 0.7658701375574835, 'gamma': 0.2604011278092117, 'lambda': 0, 'max_depth': 5, 'min_child_weight': 9.310337344350513, 'n_estimators': 25, 'subsample': 0.8216563807120808}\n",
      "RMSE 0.94647 params {'alpha': 0, 'colsample_bytree': 0.7850655919952865, 'gamma': 0.2603655202565931, 'lambda': 0, 'max_depth': 8, 'min_child_weight': 9.055597986744896, 'n_estimators': 10, 'subsample': 0.8392661437304314}\n",
      "RMSE 0.92107 params {'alpha': 0, 'colsample_bytree': 0.8642512174951148, 'gamma': 0.46323937473892896, 'lambda': 0, 'max_depth': 7, 'min_child_weight': 1.392774071354101, 'n_estimators': 25, 'subsample': 0.7361697275704427}\n",
      "RMSE 0.92478 params {'alpha': 0, 'colsample_bytree': 0.7332390065505751, 'gamma': 0.343744252447718, 'lambda': 0, 'max_depth': 10, 'min_child_weight': 14.135493765748778, 'n_estimators': 15, 'subsample': 0.8206279944945674}\n",
      "RMSE 0.91628 params {'alpha': 0, 'colsample_bytree': 0.9703334885603754, 'gamma': 0.49966798754270214, 'lambda': 0, 'max_depth': 6, 'min_child_weight': 24.813745194512773, 'n_estimators': 20, 'subsample': 0.9115204385168565}\n",
      "RMSE 0.92256 params {'alpha': 0, 'colsample_bytree': 0.9120601450940641, 'gamma': 0.49451093109585154, 'lambda': 0, 'max_depth': 8, 'min_child_weight': 2.6281587842642034, 'n_estimators': 20, 'subsample': 0.9214364351133117}\n",
      "RMSE 0.95433 params {'alpha': 0, 'colsample_bytree': 0.7961843141493365, 'gamma': 0.0934194656044057, 'lambda': 0, 'max_depth': 6, 'min_child_weight': 22.665963921743597, 'n_estimators': 10, 'subsample': 0.9419872937822283}\n",
      "RMSE 0.92099 params {'alpha': 0, 'colsample_bytree': 0.7076670063444064, 'gamma': 0.4203896313916276, 'lambda': 0, 'max_depth': 9, 'min_child_weight': 7.383525245362005, 'n_estimators': 15, 'subsample': 0.6587574510350858}\n",
      "RMSE 0.91871 params {'alpha': 0, 'colsample_bytree': 0.8418416263278716, 'gamma': 0.3900893353095751, 'lambda': 0, 'max_depth': 8, 'min_child_weight': 16.758849474873696, 'n_estimators': 20, 'subsample': 0.8592969089943776}\n",
      "RMSE 0.91700 params {'alpha': 0, 'colsample_bytree': 0.9626497371985586, 'gamma': 0.3300645247443059, 'lambda': 0, 'max_depth': 5, 'min_child_weight': 11.397895017827343, 'n_estimators': 30, 'subsample': 0.6872214192424823}\n",
      "RMSE 0.91759 params {'alpha': 0, 'colsample_bytree': 0.922245277907327, 'gamma': 0.2955979982092203, 'lambda': 0, 'max_depth': 5, 'min_child_weight': 11.624107722442812, 'n_estimators': 30, 'subsample': 0.9550416616491031}\n"
     ]
    },
    {
     "name": "stdout",
     "output_type": "stream",
     "text": [
      "RMSE 0.92392 params {'alpha': 0, 'colsample_bytree': 0.9213622744035943, 'gamma': 0.2957641052021345, 'lambda': 0, 'max_depth': 6, 'min_child_weight': 12.248624937245287, 'n_estimators': 30, 'subsample': 0.9795782749529477}\n",
      "RMSE 0.92815 params {'alpha': 0, 'colsample_bytree': 0.8778631919346319, 'gamma': 0.3125758888036036, 'lambda': 0, 'max_depth': 7, 'min_child_weight': 5.0188824099042115, 'n_estimators': 40, 'subsample': 0.7806427164696779}\n",
      "RMSE 0.91962 params {'alpha': 0, 'colsample_bytree': 0.9924565251237674, 'gamma': 0.28225234608951677, 'lambda': 0, 'max_depth': 6, 'min_child_weight': 3.1944445049578936, 'n_estimators': 25, 'subsample': 0.9683051122208592}\n",
      "RMSE 0.91804 params {'alpha': 0, 'colsample_bytree': 0.8300291948699432, 'gamma': 0.2213809759248312, 'lambda': 0, 'max_depth': 5, 'min_child_weight': 34.28948353998943, 'n_estimators': 20, 'subsample': 0.9040595906136595}\n",
      "RMSE 0.92240 params {'alpha': 0, 'colsample_bytree': 0.9655368094800417, 'gamma': 0.3321181291143065, 'lambda': 0, 'max_depth': 4, 'min_child_weight': 10.782706535742358, 'n_estimators': 30, 'subsample': 0.8579218470443806}\n",
      "RMSE 0.94363 params {'alpha': 0, 'colsample_bytree': 0.9104928764264252, 'gamma': 0.3740764952536689, 'lambda': 0, 'max_depth': 7, 'min_child_weight': 4.481189574405142, 'n_estimators': 10, 'subsample': 0.6799735449988354}\n",
      "RMSE 0.92586 params {'alpha': 0, 'colsample_bytree': 0.9353798246572536, 'gamma': 0.4536504820719723, 'lambda': 0, 'max_depth': 5, 'min_child_weight': 1.7662721130410755, 'n_estimators': 15, 'subsample': 0.7463922343769903}\n",
      "RMSE 0.92351 params {'alpha': 0, 'colsample_bytree': 0.7345286117030185, 'gamma': 0.40269774303387096, 'lambda': 0, 'max_depth': 6, 'min_child_weight': 23.53766484561086, 'n_estimators': 35, 'subsample': 0.9173060314073799}\n",
      "RMSE 0.92565 params {'alpha': 0, 'colsample_bytree': 0.8452984814703942, 'gamma': 0.355268587767014, 'lambda': 0, 'max_depth': 3, 'min_child_weight': 18.153076456351087, 'n_estimators': 50, 'subsample': 0.6320611034109613}\n",
      "RMSE 0.92484 params {'alpha': 0, 'colsample_bytree': 0.6918259740540631, 'gamma': 0.19482936100034043, 'lambda': 0, 'max_depth': 5, 'min_child_weight': 7.134607299372009, 'n_estimators': 40, 'subsample': 0.7646965691170362}\n",
      "RMSE 0.91585 params {'alpha': 0, 'colsample_bytree': 0.9710740149495835, 'gamma': 0.3221490035375574, 'lambda': 0, 'max_depth': 6, 'min_child_weight': 68.6643186034875, 'n_estimators': 30, 'subsample': 0.7976488131106698}\n",
      "RMSE 0.91976 params {'alpha': 0, 'colsample_bytree': 0.9659626494963103, 'gamma': 0.4289907504243077, 'lambda': 0, 'max_depth': 7, 'min_child_weight': 72.11851179500454, 'n_estimators': 45, 'subsample': 0.5484467869337616}\n",
      "RMSE 0.91613 params {'alpha': 0, 'colsample_bytree': 0.8771973955360401, 'gamma': 0.4812714340403443, 'lambda': 0, 'max_depth': 6, 'min_child_weight': 56.91790387266908, 'n_estimators': 20, 'subsample': 0.795780570006003}\n",
      "RMSE 0.96546 params {'alpha': 0, 'colsample_bytree': 0.8119337697887916, 'gamma': 0.49279084062743106, 'lambda': 0, 'max_depth': 7, 'min_child_weight': 292.48248688976616, 'n_estimators': 10, 'subsample': 0.881671123176013}\n",
      "RMSE 0.92103 params {'alpha': 0, 'colsample_bytree': 0.6476002984731812, 'gamma': 0.4576833614792087, 'lambda': 0, 'max_depth': 8, 'min_child_weight': 113.90986436209735, 'n_estimators': 20, 'subsample': 0.5973012558917817}\n",
      "RMSE 0.92106 params {'alpha': 0, 'colsample_bytree': 0.8701142428375717, 'gamma': 0.4095839532762391, 'lambda': 0, 'max_depth': 6, 'min_child_weight': 56.13242421452521, 'n_estimators': 15, 'subsample': 0.7325896788815496}\n",
      "RMSE 0.93475 params {'alpha': 0, 'colsample_bytree': 0.4800889112973156, 'gamma': 0.48133211079002475, 'lambda': 0, 'max_depth': 9, 'min_child_weight': 39.97362596781999, 'n_estimators': 25, 'subsample': 0.9929783404901171}\n",
      "RMSE 0.92444 params {'alpha': 0, 'colsample_bytree': 0.536592536547567, 'gamma': 0.4762030378802552, 'lambda': 0, 'max_depth': 7, 'min_child_weight': 176.52893677769322, 'n_estimators': 35, 'subsample': 0.8065960810128964}\n",
      "RMSE 0.92002 params {'alpha': 0, 'colsample_bytree': 0.6110531482732187, 'gamma': 0.43825528138255554, 'lambda': 0, 'max_depth': 8, 'min_child_weight': 100.1630345941439, 'n_estimators': 25, 'subsample': 0.8606898125120964}\n",
      "RMSE 0.93852 params {'alpha': 0, 'colsample_bytree': 0.9989902579212974, 'gamma': 0.4881572005311485, 'lambda': 0, 'max_depth': 6, 'min_child_weight': 422.84300380988265, 'n_estimators': 20, 'subsample': 0.8000504491078817}\n",
      "RMSE 0.93946 params {'alpha': 0, 'colsample_bytree': 0.7568644308521418, 'gamma': 0.4660500144778102, 'lambda': 0, 'max_depth': 10, 'min_child_weight': 248.88883672790956, 'n_estimators': 15, 'subsample': 0.6443726718623752}\n",
      "RMSE 0.95193 params {'alpha': 0, 'colsample_bytree': 0.8903666002668543, 'gamma': 0.37373894403010743, 'lambda': 0, 'max_depth': 7, 'min_child_weight': 827.4639994285295, 'n_estimators': 40, 'subsample': 0.9257023060916612}\n",
      "RMSE 0.92239 params {'alpha': 0, 'colsample_bytree': 0.9766265351639788, 'gamma': 0.4491518635059527, 'lambda': 0, 'max_depth': 6, 'min_child_weight': 138.49471575863956, 'n_estimators': 50, 'subsample': 0.8909685609087374}\n",
      "RMSE 0.94900 params {'alpha': 0, 'colsample_bytree': 0.7158801453419669, 'gamma': 0.17733297596570968, 'lambda': 0, 'max_depth': 8, 'min_child_weight': 33.0301353655752, 'n_estimators': 10, 'subsample': 0.44291417748635803}\n",
      "RMSE 0.92243 params {'alpha': 0, 'colsample_bytree': 0.7779397078220812, 'gamma': 0.38429637901404284, 'lambda': 0, 'max_depth': 4, 'min_child_weight': 54.800225503793676, 'n_estimators': 45, 'subsample': 0.7146684221524522}\n",
      "RMSE 0.93186 params {'alpha': 0, 'colsample_bytree': 0.44271539319345354, 'gamma': 0.41725444642723125, 'lambda': 0, 'max_depth': 9, 'min_child_weight': 77.05986641021802, 'n_estimators': 35, 'subsample': 0.8446504002064267}\n",
      "RMSE 0.91576 params {'alpha': 0, 'colsample_bytree': 0.8983382780951911, 'gamma': 0.36098465900010335, 'lambda': 0, 'max_depth': 6, 'min_child_weight': 66.772865318461, 'n_estimators': 20, 'subsample': 0.5756482276926338}\n",
      "RMSE 0.95572 params {'alpha': 0, 'colsample_bytree': 0.5832300122745873, 'gamma': 0.27484596957978974, 'lambda': 0, 'max_depth': 11, 'min_child_weight': 180.12250688150723, 'n_estimators': 15, 'subsample': 0.31788128688696216}\n",
      "RMSE 0.92799 params {'alpha': 0, 'colsample_bytree': 0.6333862657065081, 'gamma': 0.35695047478094655, 'lambda': 0, 'max_depth': 4, 'min_child_weight': 48.337946988490536, 'n_estimators': 25, 'subsample': 0.5728779411013445}\n",
      "RMSE 0.95126 params {'alpha': 0, 'colsample_bytree': 0.8096501717171821, 'gamma': 0.2533097631751189, 'lambda': 0, 'max_depth': 7, 'min_child_weight': 62.59576721451385, 'n_estimators': 10, 'subsample': 0.5996632402267602}\n",
      "RMSE 0.95947 params {'alpha': 0, 'colsample_bytree': 0.681831949279476, 'gamma': 0.30775322776834046, 'lambda': 0, 'max_depth': 6, 'min_child_weight': 611.2128689683838, 'n_estimators': 90, 'subsample': 0.5005347152906531}\n",
      "RMSE 0.92259 params {'alpha': 0, 'colsample_bytree': 0.8981822665987826, 'gamma': 0.3214877476824151, 'lambda': 0, 'max_depth': 7, 'min_child_weight': 84.49932661444691, 'n_estimators': 30, 'subsample': 0.4120491935222183}\n",
      "RMSE 0.92324 params {'alpha': 0, 'colsample_bytree': 0.8556033148322869, 'gamma': 0.3947871146767876, 'lambda': 0, 'max_depth': 8, 'min_child_weight': 108.37501789281241, 'n_estimators': 80, 'subsample': 0.37526991646372726}\n",
      "RMSE 0.97623 params {'alpha': 0, 'colsample_bytree': 0.32571114537847473, 'gamma': 0.22057736267000716, 'lambda': 0, 'max_depth': 5, 'min_child_weight': 231.8860902420224, 'n_estimators': 25, 'subsample': 0.3355586977545104}\n",
      "RMSE 0.94877 params {'alpha': 0, 'colsample_bytree': 0.42149856758575943, 'gamma': 0.23856673574176832, 'lambda': 0, 'max_depth': 6, 'min_child_weight': 337.40099378480363, 'n_estimators': 40, 'subsample': 0.625844419312015}\n",
      "RMSE 0.97712 params {'alpha': 0, 'colsample_bytree': 0.5459176438050402, 'gamma': 0.21036067603579806, 'lambda': 0, 'max_depth': 5, 'min_child_weight': 416.0374529098922, 'n_estimators': 65, 'subsample': 0.255688278086566}\n",
      "RMSE 0.92907 params {'alpha': 0, 'colsample_bytree': 0.7526100559940497, 'gamma': 0.3665412000062667, 'lambda': 0, 'max_depth': 3, 'min_child_weight': 126.98765935919519, 'n_estimators': 45, 'subsample': 0.7586757720859817}\n"
     ]
    },
    {
     "name": "stdout",
     "output_type": "stream",
     "text": [
      "RMSE 0.92532 params {'alpha': 0.0028724381130697716, 'colsample_bytree': 0.9375779761653602, 'gamma': 0.14702646449173504, 'lambda': 0, 'max_depth': 4, 'min_child_weight': 30.25510283102423, 'n_estimators': 20, 'subsample': 0.5366267798352207}\n",
      "RMSE 0.92635 params {'alpha': 0, 'colsample_bytree': 0.8205646582900987, 'gamma': 0.2897632970985841, 'lambda': 0, 'max_depth': 6, 'min_child_weight': 66.43744680531496, 'n_estimators': 55, 'subsample': 0.6706988044350186}\n",
      "RMSE 0.92514 params {'alpha': 0, 'colsample_bytree': 0.7865084285890103, 'gamma': 0.2677083110722619, 'lambda': 0, 'max_depth': 5, 'min_child_weight': 158.29841252933923, 'n_estimators': 30, 'subsample': 0.6953706224681595}\n",
      "RMSE 1.00342 params {'alpha': 0, 'colsample_bytree': 0.1785422293827325, 'gamma': 0.4302513698713476, 'lambda': 0, 'max_depth': 7, 'min_child_weight': 36.46729142329871, 'n_estimators': 15, 'subsample': 0.7887915947807087}\n",
      "RMSE 0.94356 params {'alpha': 0.001492422504575843, 'colsample_bytree': 0.27515144132509584, 'gamma': 0.3377730883395186, 'lambda': 0, 'max_depth': 8, 'min_child_weight': 90.50572958400573, 'n_estimators': 60, 'subsample': 0.7247331231967261}\n",
      "RMSE 0.92187 params {'alpha': 0, 'colsample_bytree': 0.8724042970910602, 'gamma': 0.32865359378386105, 'lambda': 0, 'max_depth': 5, 'min_child_weight': 16.24627221272706, 'n_estimators': 35, 'subsample': 0.20757446061715817}\n",
      "RMSE 0.95652 params {'alpha': 0, 'colsample_bytree': 0.5927983468417218, 'gamma': 0.4134169765249426, 'lambda': 0, 'max_depth': 9, 'min_child_weight': 20.368360183160465, 'n_estimators': 10, 'subsample': 0.4912222490551166}\n",
      "RMSE 1.09418 params {'alpha': 0, 'colsample_bytree': 0.49113184135168125, 'gamma': 0.4418358032448304, 'lambda': 0, 'max_depth': 3, 'min_child_weight': 930.1511914848811, 'n_estimators': 40, 'subsample': 0.07953555493700143}\n",
      "RMSE 0.94018 params {'alpha': 0.0160775696070098, 'colsample_bytree': 0.7398445219132186, 'gamma': 0.3533770383067779, 'lambda': 0, 'max_depth': 7, 'min_child_weight': 302.4126576520798, 'n_estimators': 20, 'subsample': 0.5763106974879824}\n",
      "RMSE 0.92659 params {'alpha': 0, 'colsample_bytree': 0.9999613937918835, 'gamma': 0.30352745115866775, 'lambda': 0, 'max_depth': 6, 'min_child_weight': 200.90752245536652, 'n_estimators': 50, 'subsample': 0.5188754836672749}\n",
      "RMSE 1.03696 params {'alpha': 0, 'colsample_bytree': 0.6931505579701371, 'gamma': 0.39767885219117827, 'lambda': 0, 'max_depth': 4, 'min_child_weight': 41.048436614419, 'n_estimators': 25, 'subsample': 0.009258935973478433}\n",
      "RMSE 0.91960 params {'alpha': 0, 'colsample_bytree': 0.841165858863828, 'gamma': 0.2522734836198701, 'lambda': 0, 'max_depth': 10, 'min_child_weight': 53.73508846623187, 'n_estimators': 30, 'subsample': 0.46150014198471023}\n",
      "RMSE 0.92340 params {'alpha': 0, 'colsample_bytree': 0.9294204008595054, 'gamma': 0.3854521228528622, 'lambda': 0, 'max_depth': 6, 'min_child_weight': 157.38685465710003, 'n_estimators': 20, 'subsample': 0.6456350591215443}\n",
      "RMSE 0.94141 params {'alpha': 0.012659036059790194, 'colsample_bytree': 0.6443958767007771, 'gamma': 0.2791796621201128, 'lambda': 0, 'max_depth': 8, 'min_child_weight': 499.2914947698514, 'n_estimators': 95, 'subsample': 0.6112413355072358}\n",
      "RMSE 0.91874 params {'alpha': 0, 'colsample_bytree': 0.9067671203063205, 'gamma': 0.23316023151441026, 'lambda': 0, 'max_depth': 7, 'min_child_weight': 72.81836903078072, 'n_estimators': 15, 'subsample': 0.8228193487628541}\n",
      "RMSE 0.99094 params {'alpha': 0, 'colsample_bytree': 0.7152100123380271, 'gamma': 0.12958047292424205, 'lambda': 0, 'max_depth': 5, 'min_child_weight': 106.225310024892, 'n_estimators': 10, 'subsample': 0.16415768239901884}\n",
      "100%|██████████| 120/120 [6:44:18<00:00, 202.15s/trial, best loss: 0.9157557964324952]\n"
     ]
    }
   ],
   "source": [
    "np.random.seed(random_state)\n",
    "trials = Trials()\n",
    "best = fmin(\n",
    "    fn=objective, \n",
    "    space=space, \n",
    "    algo=tpe.suggest, \n",
    "    max_evals=120,\n",
    "    trials=trials\n",
    ")"
   ]
  },
  {
   "cell_type": "code",
   "execution_count": 55,
   "metadata": {
    "ExecuteTime": {
     "end_time": "2020-09-06T07:28:30.613761Z",
     "start_time": "2020-09-06T07:28:30.570420Z"
    }
   },
   "outputs": [],
   "source": [
    "with open('../models/xgb/hyperopt/trials.pkl', 'wb') as ouf:\n",
    "    pickle.dump(trials, ouf)"
   ]
  },
  {
   "cell_type": "code",
   "execution_count": 50,
   "metadata": {
    "ExecuteTime": {
     "end_time": "2020-09-06T07:24:01.109715Z",
     "start_time": "2020-09-06T07:24:00.847012Z"
    }
   },
   "outputs": [
    {
     "data": {
      "text/plain": [
       "{'alpha': 0,\n",
       " 'colsample_bytree': 0.8983382780951911,\n",
       " 'gamma': 0.36098465900010335,\n",
       " 'lambda': 0,\n",
       " 'max_depth': 6.0,\n",
       " 'min_data_in_leaf': 66.772865318461,\n",
       " 'n_estimators': 20.0,\n",
       " 'subsample': 0.5756482276926338}"
      ]
     },
     "execution_count": 50,
     "metadata": {},
     "output_type": "execute_result"
    }
   ],
   "source": [
    "best"
   ]
  },
  {
   "cell_type": "code",
   "execution_count": 64,
   "metadata": {
    "ExecuteTime": {
     "end_time": "2020-09-06T08:21:03.444668Z",
     "start_time": "2020-09-06T08:21:03.417229Z"
    }
   },
   "outputs": [],
   "source": [
    "xgb_params['max_depth'] = 6\n",
    "xgb_params['min_child_weight'] = 66.773\n",
    "\n",
    "xgb_params['subsample'] = 0.576\n",
    "xgb_params['colsample_bytree'] = 0.898\n",
    "\n",
    "xgb_params['gamma'] = 0.361\n",
    "xgb_params['alpha'] = 0\n",
    "xgb_params['lambda'] = 0\n",
    "\n",
    "xgb_params['n_estimators'] = 243"
   ]
  },
  {
   "cell_type": "markdown",
   "metadata": {},
   "source": [
    "### Reduce learning rate"
   ]
  },
  {
   "cell_type": "markdown",
   "metadata": {},
   "source": [
    "Current score:"
   ]
  },
  {
   "cell_type": "code",
   "execution_count": 65,
   "metadata": {
    "ExecuteTime": {
     "end_time": "2020-09-06T08:40:28.243335Z",
     "start_time": "2020-09-06T08:21:04.738391Z"
    },
    "scrolled": true
   },
   "outputs": [
    {
     "name": "stdout",
     "output_type": "stream",
     "text": [
      "Current score: 0.92766\n"
     ]
    }
   ],
   "source": [
    "current_score = cross_val_score(\n",
    "    XGBRegressor(**xgb_params), \n",
    "    X_train, y_train, groups=X_train.date_block_num,\n",
    "    n_jobs=1, \n",
    "    scoring='neg_root_mean_squared_error', \n",
    "    verbose=0,\n",
    "    cv=ts\n",
    ").mean()\n",
    "print(f'Current score: {-current_score:.5f}')"
   ]
  },
  {
   "cell_type": "markdown",
   "metadata": {},
   "source": [
    "Score: $0.92487$."
   ]
  },
  {
   "cell_type": "markdown",
   "metadata": {},
   "source": [
    "Now we can half our `learning rate` and double `n_estimators`."
   ]
  },
  {
   "cell_type": "code",
   "execution_count": 67,
   "metadata": {
    "ExecuteTime": {
     "end_time": "2020-09-06T08:47:51.263951Z",
     "start_time": "2020-09-06T08:47:51.236268Z"
    }
   },
   "outputs": [
    {
     "data": {
      "text/plain": [
       "{'objective': 'reg:squarederror',\n",
       " 'learning_rate': 0.1,\n",
       " 'seed': 42,\n",
       " 'max_depth': 6,\n",
       " 'min_child_weight': 66.773,\n",
       " 'subsample': 0.576,\n",
       " 'colsample_bytree': 0.898,\n",
       " 'gamma': 0.361,\n",
       " 'alpha': 0,\n",
       " 'lambda': 0,\n",
       " 'n_estimators': 243}"
      ]
     },
     "execution_count": 67,
     "metadata": {},
     "output_type": "execute_result"
    }
   ],
   "source": [
    "xgb_params"
   ]
  },
  {
   "cell_type": "code",
   "execution_count": 68,
   "metadata": {
    "ExecuteTime": {
     "end_time": "2020-09-06T08:48:01.394206Z",
     "start_time": "2020-09-06T08:48:01.351268Z"
    }
   },
   "outputs": [],
   "source": [
    "xgb_params_changed = copy.copy(xgb_params)\n",
    "xgb_params_changed['learning_rate'] /= 2\n",
    "xgb_params_changed['n_estimators'] = int(xgb_params['n_estimators'] * 2)"
   ]
  },
  {
   "cell_type": "code",
   "execution_count": 69,
   "metadata": {
    "ExecuteTime": {
     "end_time": "2020-09-06T09:27:43.995147Z",
     "start_time": "2020-09-06T08:48:01.685731Z"
    }
   },
   "outputs": [
    {
     "name": "stdout",
     "output_type": "stream",
     "text": [
      "Score after changing: 0.92353\n"
     ]
    }
   ],
   "source": [
    "score_after_change = cross_val_score(\n",
    "    XGBRegressor(**xgb_params_changed), \n",
    "    X_train, y_train, groups=X_train.date_block_num,\n",
    "    n_jobs=1, \n",
    "    scoring='neg_root_mean_squared_error', \n",
    "    verbose=0,\n",
    "    cv=ts\n",
    ").mean()\n",
    "\n",
    "print(f'Score after changing: {-score_after_change:.5f}')"
   ]
  },
  {
   "cell_type": "markdown",
   "metadata": {},
   "source": [
    "Score: $0.92353$."
   ]
  },
  {
   "cell_type": "markdown",
   "metadata": {},
   "source": [
    "It helped, but computations was too long."
   ]
  },
  {
   "cell_type": "code",
   "execution_count": 70,
   "metadata": {
    "ExecuteTime": {
     "end_time": "2020-09-06T09:30:15.635303Z",
     "start_time": "2020-09-06T09:30:15.524531Z"
    }
   },
   "outputs": [
    {
     "data": {
      "text/plain": [
       "{'objective': 'reg:squarederror',\n",
       " 'learning_rate': 0.1,\n",
       " 'seed': 42,\n",
       " 'max_depth': 6,\n",
       " 'min_child_weight': 66.773,\n",
       " 'subsample': 0.576,\n",
       " 'colsample_bytree': 0.898,\n",
       " 'gamma': 0.361,\n",
       " 'alpha': 0,\n",
       " 'lambda': 0,\n",
       " 'n_estimators': 243}"
      ]
     },
     "execution_count": 70,
     "metadata": {},
     "output_type": "execute_result"
    }
   ],
   "source": [
    "xgb_params"
   ]
  },
  {
   "cell_type": "markdown",
   "metadata": {},
   "source": [
    "## Validation"
   ]
  },
  {
   "cell_type": "markdown",
   "metadata": {},
   "source": [
    "In this section we will validate best parameters using haldout. We will use not all train, because of limitation of RAM."
   ]
  },
  {
   "cell_type": "code",
   "execution_count": 71,
   "metadata": {
    "ExecuteTime": {
     "end_time": "2020-09-06T09:58:18.521267Z",
     "start_time": "2020-09-06T09:58:18.474544Z"
    }
   },
   "outputs": [
    {
     "data": {
      "text/plain": [
       "1627417"
      ]
     },
     "execution_count": 71,
     "metadata": {},
     "output_type": "execute_result"
    }
   ],
   "source": [
    "(X_train.date_block_num >= 25).sum()"
   ]
  },
  {
   "cell_type": "code",
   "execution_count": 72,
   "metadata": {
    "ExecuteTime": {
     "end_time": "2020-09-06T09:58:21.111922Z",
     "start_time": "2020-09-06T09:58:18.663347Z"
    }
   },
   "outputs": [],
   "source": [
    "start_date_block_num = 25\n",
    "indices_train = (X_train.date_block_num >= start_date_block_num)\n",
    "X_train = X_train[indices_train]\n",
    "y_train = y_train[indices_train]\n",
    "gc.collect();"
   ]
  },
  {
   "cell_type": "code",
   "execution_count": 73,
   "metadata": {
    "ExecuteTime": {
     "end_time": "2020-09-06T10:26:15.668967Z",
     "start_time": "2020-09-06T09:58:21.114249Z"
    }
   },
   "outputs": [
    {
     "data": {
      "text/plain": [
       "XGBRegressor(alpha=0, base_score=0.5, booster='gbtree', colsample_bylevel=1,\n",
       "             colsample_bynode=1, colsample_bytree=0.898, gamma=0.361, gpu_id=-1,\n",
       "             importance_type='gain', interaction_constraints='', lambda=0,\n",
       "             learning_rate=0.1, max_delta_step=0, max_depth=6,\n",
       "             min_child_weight=66.773, missing=nan, monotone_constraints='()',\n",
       "             n_estimators=243, n_jobs=0, num_parallel_tree=1, random_state=42,\n",
       "             reg_alpha=0, reg_lambda=0, scale_pos_weight=1, seed=42,\n",
       "             subsample=0.576, tree_method='exact', validate_parameters=1,\n",
       "             verbosity=None)"
      ]
     },
     "execution_count": 73,
     "metadata": {},
     "output_type": "execute_result"
    }
   ],
   "source": [
    "model = XGBRegressor(**xgb_params)\n",
    "model.fit(X_train, y_train)"
   ]
  },
  {
   "cell_type": "code",
   "execution_count": 74,
   "metadata": {
    "ExecuteTime": {
     "end_time": "2020-09-06T10:26:20.309437Z",
     "start_time": "2020-09-06T10:26:15.678878Z"
    }
   },
   "outputs": [
    {
     "name": "stdout",
     "output_type": "stream",
     "text": [
      "Validation score: 0.81906\n"
     ]
    }
   ],
   "source": [
    "y_predicted = np.clip(model.predict(X_valid), 0, 20)\n",
    "validation_score = mean_squared_error(y_valid, y_predicted)\n",
    "print(f'Validation score: {validation_score:.5f}')"
   ]
  },
  {
   "cell_type": "markdown",
   "metadata": {},
   "source": [
    "Score: $0.81906$"
   ]
  },
  {
   "cell_type": "markdown",
   "metadata": {},
   "source": [
    "Let's look at predicted values charasteristics."
   ]
  },
  {
   "cell_type": "code",
   "execution_count": 75,
   "metadata": {
    "ExecuteTime": {
     "end_time": "2020-09-06T10:39:11.361338Z",
     "start_time": "2020-09-06T10:39:11.291191Z"
    }
   },
   "outputs": [
    {
     "data": {
      "text/plain": [
       "count    168139.000000\n",
       "mean          0.369857\n",
       "std           0.949277\n",
       "min           0.000000\n",
       "25%           0.048310\n",
       "50%           0.146863\n",
       "75%           0.335070\n",
       "max          20.000000\n",
       "dtype: float64"
      ]
     },
     "execution_count": 75,
     "metadata": {},
     "output_type": "execute_result"
    }
   ],
   "source": [
    "pd.Series(y_predicted).describe()"
   ]
  },
  {
   "cell_type": "markdown",
   "metadata": {},
   "source": [
    "Let's look at feature importances."
   ]
  },
  {
   "cell_type": "code",
   "execution_count": 84,
   "metadata": {
    "ExecuteTime": {
     "end_time": "2020-09-06T10:41:19.684499Z",
     "start_time": "2020-09-06T10:41:16.596566Z"
    }
   },
   "outputs": [
    {
     "data": {
      "image/png": "[encoded data removed]",
      "text/plain": [
       "<Figure size 1152x1440 with 1 Axes>"
      ]
     },
     "metadata": {
      "needs_background": "light"
     },
     "output_type": "display_data"
    }
   ],
   "source": [
    "fig, ax = plt.subplots(figsize=(16, 20))\n",
    "xgb.plot_importance(model, ax=ax);"
   ]
  },
  {
   "cell_type": "markdown",
   "metadata": {},
   "source": [
    "## Submit"
   ]
  },
  {
   "cell_type": "markdown",
   "metadata": {},
   "source": [
    "In this section we will train result model and submit prediction. Don't forget to clip values according to [evaluation tab](https://www.kaggle.com/c/competitive-data-science-predict-future-sales/overview/evaluation) (but ay be for tree-based methods it is not necessary)."
   ]
  },
  {
   "cell_type": "code",
   "execution_count": 85,
   "metadata": {
    "ExecuteTime": {
     "end_time": "2020-09-06T10:41:50.372618Z",
     "start_time": "2020-09-06T10:41:47.157412Z"
    }
   },
   "outputs": [],
   "source": [
    "X_train = pd.concat((X_train, X_valid))\n",
    "y_train = pd.concat((y_train, y_valid))\n",
    "gc.collect();"
   ]
  },
  {
   "cell_type": "code",
   "execution_count": 86,
   "metadata": {
    "ExecuteTime": {
     "end_time": "2020-09-06T10:41:50.406017Z",
     "start_time": "2020-09-06T10:41:50.375283Z"
    }
   },
   "outputs": [
    {
     "data": {
      "text/plain": [
       "(1795556, 109)"
      ]
     },
     "execution_count": 86,
     "metadata": {},
     "output_type": "execute_result"
    }
   ],
   "source": [
    "X_train.shape"
   ]
  },
  {
   "cell_type": "code",
   "execution_count": 87,
   "metadata": {
    "ExecuteTime": {
     "end_time": "2020-09-06T10:41:53.930121Z",
     "start_time": "2020-09-06T10:41:50.409475Z"
    }
   },
   "outputs": [],
   "source": [
    "start_date_block_num = 25\n",
    "indices_train = (X_train.date_block_num >= start_date_block_num)\n",
    "X_train = X_train[indices_train]\n",
    "y_train = y_train[indices_train]\n",
    "gc.collect();"
   ]
  },
  {
   "cell_type": "code",
   "execution_count": 88,
   "metadata": {
    "ExecuteTime": {
     "end_time": "2020-09-06T13:25:52.403327Z",
     "start_time": "2020-09-06T10:41:53.932479Z"
    }
   },
   "outputs": [
    {
     "data": {
      "application/vnd.jupyter.widget-view+json": {
       "model_id": "becbe148e8d9418c89adfaee5e7e642e",
       "version_major": 2,
       "version_minor": 0
      },
      "text/plain": [
       "HBox(children=(FloatProgress(value=0.0, max=5.0), HTML(value='')))"
      ]
     },
     "metadata": {},
     "output_type": "display_data"
    },
    {
     "name": "stdout",
     "output_type": "stream",
     "text": [
      "\n"
     ]
    }
   ],
   "source": [
    "model = XGBRegressor(**xgb_params)\n",
    "bags = 5\n",
    "\n",
    "bagged_predictions = np.zeros(X_test.shape[0])\n",
    "for n in tqdm(range(bags)):\n",
    "    model.set_params(random_state=random_state+n)\n",
    "    model.fit(X_train, y_train)\n",
    "    bagged_predictions += np.clip(model.predict(X_test), 0, 20)\n",
    "    gc.collect()\n",
    "    \n",
    "bagged_predictions /= bags"
   ]
  },
  {
   "cell_type": "markdown",
   "metadata": {},
   "source": [
    "Create submission."
   ]
  },
  {
   "cell_type": "code",
   "execution_count": 89,
   "metadata": {
    "ExecuteTime": {
     "end_time": "2020-09-06T13:25:52.570935Z",
     "start_time": "2020-09-06T13:25:52.407987Z"
    }
   },
   "outputs": [
    {
     "data": {
      "text/plain": [
       "count    214200.000000\n",
       "mean          0.375572\n",
       "std           0.750579\n",
       "min           0.000000\n",
       "25%           0.114563\n",
       "50%           0.212187\n",
       "75%           0.396909\n",
       "max          20.000000\n",
       "dtype: float64"
      ]
     },
     "execution_count": 89,
     "metadata": {},
     "output_type": "execute_result"
    }
   ],
   "source": [
    "pd.Series(bagged_predictions).describe()"
   ]
  },
  {
   "cell_type": "code",
   "execution_count": 90,
   "metadata": {
    "ExecuteTime": {
     "end_time": "2020-09-06T13:25:53.358785Z",
     "start_time": "2020-09-06T13:25:52.574169Z"
    }
   },
   "outputs": [],
   "source": [
    "submission = pd.read_csv('../data/raw/sample_submission.csv')\n",
    "submission['item_cnt_month'] = bagged_predictions\n",
    "submission.to_csv('../models/xgb/submission.csv', index=False)"
   ]
  },
  {
   "cell_type": "markdown",
   "metadata": {
    "ExecuteTime": {
     "end_time": "2020-09-04T07:41:17.285249Z",
     "start_time": "2020-09-04T07:41:08.424971Z"
    }
   },
   "source": [
    "!kaggle competitions submit competitive-data-science-predict-future-sales -f ../models/xgb/submission.csv -m \"XGBoost\""
   ]
  },
  {
   "cell_type": "markdown",
   "metadata": {},
   "source": [
    "Result is $1.01051$. It is pretty far from top positions."
   ]
  },
  {
   "cell_type": "markdown",
   "metadata": {},
   "source": [
    "## OOF predictions"
   ]
  },
  {
   "cell_type": "markdown",
   "metadata": {},
   "source": [
    "In this section we will create out-of-fold predictions for stacking."
   ]
  }
 ],
 "metadata": {
  "kernelspec": {
   "display_name": "Python 3",
   "language": "python",
   "name": "python3"
  },
  "language_info": {
   "codemirror_mode": {
    "name": "ipython",
    "version": 3
   },
   "file_extension": ".py",
   "mimetype": "text/x-python",
   "name": "python",
   "nbconvert_exporter": "python",
   "pygments_lexer": "ipython3",
   "version": "3.8.5"
  }
 },
 "nbformat": 4,
 "nbformat_minor": 4
}
