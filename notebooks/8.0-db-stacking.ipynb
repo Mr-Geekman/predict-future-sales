{
 "cells": [
  {
   "cell_type": "code",
   "execution_count": 18,
   "metadata": {
    "ExecuteTime": {
     "end_time": "2020-09-10T22:08:22.884560Z",
     "start_time": "2020-09-10T22:08:22.561088Z"
    }
   },
   "outputs": [
    {
     "name": "stdout",
     "output_type": "stream",
     "text": [
      "The autoreload extension is already loaded. To reload it, use:\n",
      "  %reload_ext autoreload\n"
     ]
    }
   ],
   "source": [
    "%load_ext autoreload\n",
    "%autoreload 2\n",
    "import copy\n",
    "import gc\n",
    "import sys\n",
    "\n",
    "sys.path.append('..')\n",
    "\n",
    "import numpy as np\n",
    "import pandas as pd\n",
    "import scipy.stats as sps\n",
    "\n",
    "import matplotlib.pyplot as plt\n",
    "import seaborn as sns\n",
    "from tqdm.notebook import tqdm\n",
    "\n",
    "from sklearn.model_selection import GridSearchCV, cross_val_score\n",
    "from sklearn.metrics import mean_squared_error\n",
    "from sklearn.pipeline import Pipeline\n",
    "from sklearn.preprocessing import StandardScaler\n",
    "from sklearn.linear_model import Ridge\n",
    "\n",
    "from hyperopt import hp, tpe, STATUS_OK, Trials\n",
    "from hyperopt.fmin import fmin\n",
    "\n",
    "from src.utils.cross_validation import TimeSeriesGroupSplit\n",
    "from src.utils.downcasting import downcast_dtypes\n",
    "\n",
    "sns.set(font_scale=1.2)\n",
    "%matplotlib inline"
   ]
  },
  {
   "cell_type": "code",
   "execution_count": 19,
   "metadata": {
    "ExecuteTime": {
     "end_time": "2020-09-10T22:08:22.923893Z",
     "start_time": "2020-09-10T22:08:22.890401Z"
    }
   },
   "outputs": [],
   "source": [
    "random_state = 42"
   ]
  },
  {
   "cell_type": "markdown",
   "metadata": {},
   "source": [
    "# Stacking"
   ]
  },
  {
   "cell_type": "markdown",
   "metadata": {},
   "source": [
    "In this notebook we will produce predictions by stacking of LightGBM, Ridge."
   ]
  },
  {
   "cell_type": "markdown",
   "metadata": {},
   "source": [
    "## Preparing datasets"
   ]
  },
  {
   "cell_type": "code",
   "execution_count": 20,
   "metadata": {
    "ExecuteTime": {
     "end_time": "2020-09-10T22:08:33.956124Z",
     "start_time": "2020-09-10T22:08:22.929006Z"
    }
   },
   "outputs": [],
   "source": [
    "# for column date_block_num load original train\n",
    "train_original = pd.read_feather('../data/processed/train.ftr')\n",
    "\n",
    "train_lgb = pd.read_csv('../models/oof/lgb/train_selected.csv')\n",
    "test_lgb = pd.read_csv('../models/oof/lgb/test_selected.csv')\n",
    "\n",
    "train_ridge = pd.read_csv('../models/oof/ridge/train_selected.csv')\n",
    "test_ridge = pd.read_csv('../models/oof/ridge/test_selected.csv')"
   ]
  },
  {
   "cell_type": "code",
   "execution_count": 21,
   "metadata": {
    "ExecuteTime": {
     "end_time": "2020-09-10T22:08:34.027736Z",
     "start_time": "2020-09-10T22:08:33.958637Z"
    }
   },
   "outputs": [],
   "source": [
    "train_ridge.drop(columns=['target'], inplace=True)"
   ]
  },
  {
   "cell_type": "code",
   "execution_count": 22,
   "metadata": {
    "ExecuteTime": {
     "end_time": "2020-09-10T22:08:34.811454Z",
     "start_time": "2020-09-10T22:08:34.030159Z"
    }
   },
   "outputs": [
    {
     "data": {
      "text/html": [
       "<div>\n",
       "<style scoped>\n",
       "    .dataframe tbody tr th:only-of-type {\n",
       "        vertical-align: middle;\n",
       "    }\n",
       "\n",
       "    .dataframe tbody tr th {\n",
       "        vertical-align: top;\n",
       "    }\n",
       "\n",
       "    .dataframe thead th {\n",
       "        text-align: right;\n",
       "    }\n",
       "</style>\n",
       "<table border=\"1\" class=\"dataframe\">\n",
       "  <thead>\n",
       "    <tr style=\"text-align: right;\">\n",
       "      <th></th>\n",
       "      <th>lgb</th>\n",
       "      <th>lgb_clipped</th>\n",
       "      <th>target</th>\n",
       "      <th>ridge</th>\n",
       "      <th>ridge_clipped</th>\n",
       "    </tr>\n",
       "  </thead>\n",
       "  <tbody>\n",
       "    <tr>\n",
       "      <th>0</th>\n",
       "      <td>0.820543</td>\n",
       "      <td>0.820543</td>\n",
       "      <td>3.0</td>\n",
       "      <td>0.820556</td>\n",
       "      <td>0.820556</td>\n",
       "    </tr>\n",
       "    <tr>\n",
       "      <th>1</th>\n",
       "      <td>0.435353</td>\n",
       "      <td>0.435353</td>\n",
       "      <td>1.0</td>\n",
       "      <td>0.484089</td>\n",
       "      <td>0.484089</td>\n",
       "    </tr>\n",
       "    <tr>\n",
       "      <th>2</th>\n",
       "      <td>0.675429</td>\n",
       "      <td>0.675429</td>\n",
       "      <td>1.0</td>\n",
       "      <td>0.435195</td>\n",
       "      <td>0.435195</td>\n",
       "    </tr>\n",
       "    <tr>\n",
       "      <th>3</th>\n",
       "      <td>-0.000355</td>\n",
       "      <td>0.000000</td>\n",
       "      <td>1.0</td>\n",
       "      <td>0.419419</td>\n",
       "      <td>0.419419</td>\n",
       "    </tr>\n",
       "    <tr>\n",
       "      <th>4</th>\n",
       "      <td>0.397884</td>\n",
       "      <td>0.397884</td>\n",
       "      <td>2.0</td>\n",
       "      <td>0.788804</td>\n",
       "      <td>0.788804</td>\n",
       "    </tr>\n",
       "  </tbody>\n",
       "</table>\n",
       "</div>"
      ],
      "text/plain": [
       "        lgb  lgb_clipped  target     ridge  ridge_clipped\n",
       "0  0.820543     0.820543     3.0  0.820556       0.820556\n",
       "1  0.435353     0.435353     1.0  0.484089       0.484089\n",
       "2  0.675429     0.675429     1.0  0.435195       0.435195\n",
       "3 -0.000355     0.000000     1.0  0.419419       0.419419\n",
       "4  0.397884     0.397884     2.0  0.788804       0.788804"
      ]
     },
     "execution_count": 22,
     "metadata": {},
     "output_type": "execute_result"
    }
   ],
   "source": [
    "X_train = pd.concat((train_lgb, train_ridge), axis=1)\n",
    "X_test = pd.concat((test_lgb, test_ridge), axis=1)\n",
    "X_train.head()"
   ]
  },
  {
   "cell_type": "code",
   "execution_count": 23,
   "metadata": {
    "ExecuteTime": {
     "end_time": "2020-09-10T22:08:35.395635Z",
     "start_time": "2020-09-10T22:08:34.814057Z"
    }
   },
   "outputs": [],
   "source": [
    "train_size = train_lgb.shape[0]\n",
    "\n",
    "X_train['date_block_num'] = train_original.iloc[-train_size:].date_block_num.values\n",
    "X_test['date_block_num'] = X_train.date_block_num.max() + 1\n",
    "del train_original\n",
    "gc.collect();"
   ]
  },
  {
   "cell_type": "markdown",
   "metadata": {},
   "source": [
    "### Removing target"
   ]
  },
  {
   "cell_type": "code",
   "execution_count": 24,
   "metadata": {
    "ExecuteTime": {
     "end_time": "2020-09-10T22:08:36.864011Z",
     "start_time": "2020-09-10T22:08:35.397729Z"
    }
   },
   "outputs": [],
   "source": [
    "y = X_train.target\n",
    "X_train.drop(columns=['target'], inplace=True)"
   ]
  },
  {
   "cell_type": "markdown",
   "metadata": {},
   "source": [
    "### Creation of validation split"
   ]
  },
  {
   "cell_type": "code",
   "execution_count": 25,
   "metadata": {
    "ExecuteTime": {
     "end_time": "2020-09-10T22:08:37.832054Z",
     "start_time": "2020-09-10T22:08:36.867291Z"
    }
   },
   "outputs": [],
   "source": [
    "y_valid = y[X_train.date_block_num == 33]\n",
    "X_valid = X_train[X_train.date_block_num == 33]\n",
    "\n",
    "y_train = y[X_train.date_block_num < 33]\n",
    "X_train = X_train[X_train.date_block_num < 33]"
   ]
  },
  {
   "cell_type": "markdown",
   "metadata": {},
   "source": [
    "## Hyperparameters tuning"
   ]
  },
  {
   "cell_type": "code",
   "execution_count": 26,
   "metadata": {
    "ExecuteTime": {
     "end_time": "2020-09-10T22:08:37.871009Z",
     "start_time": "2020-09-10T22:08:37.834298Z"
    }
   },
   "outputs": [],
   "source": [
    "ts = TimeSeriesGroupSplit(n_splits=5)"
   ]
  },
  {
   "cell_type": "code",
   "execution_count": 32,
   "metadata": {
    "ExecuteTime": {
     "end_time": "2020-09-10T22:09:54.388141Z",
     "start_time": "2020-09-10T22:09:54.363955Z"
    }
   },
   "outputs": [],
   "source": [
    "ridge_params = {\n",
    "    'random_state': random_state\n",
    "}"
   ]
  },
  {
   "cell_type": "code",
   "execution_count": 28,
   "metadata": {
    "ExecuteTime": {
     "end_time": "2020-09-10T22:08:48.992517Z",
     "start_time": "2020-09-10T22:08:37.911374Z"
    }
   },
   "outputs": [
    {
     "name": "stdout",
     "output_type": "stream",
     "text": [
      "Current score: 0.97773\n"
     ]
    }
   ],
   "source": [
    "pipe_ridge = Pipeline(\n",
    "    [('standartization', StandardScaler()),\n",
    "     ('regression', Ridge(**ridge_params))]\n",
    ")\n",
    "\n",
    "default_score = cross_val_score(\n",
    "    pipe_ridge, \n",
    "    X_train, y_train, groups=X_train.date_block_num,\n",
    "    n_jobs=1, \n",
    "    scoring='neg_root_mean_squared_error', \n",
    "    verbose=0,\n",
    "    cv=ts\n",
    ").mean()\n",
    "print(f'Current score: {-default_score:.5f}')"
   ]
  },
  {
   "cell_type": "markdown",
   "metadata": {},
   "source": [
    "Score: $0.87776$.\n",
    "\n",
    "Score after selection: $0.97773$."
   ]
  },
  {
   "cell_type": "code",
   "execution_count": 33,
   "metadata": {
    "ExecuteTime": {
     "end_time": "2020-09-10T22:09:56.544893Z",
     "start_time": "2020-09-10T22:09:56.515710Z"
    }
   },
   "outputs": [],
   "source": [
    "pipe_ridge = Pipeline([('standartization', StandardScaler()), \n",
    "                       ('regression', Ridge(**ridge_params))])\n",
    "\n",
    "param_grid = {\n",
    "    'regression__alpha': np.logspace(4, 6, 10),\n",
    "}\n",
    "\n",
    "gs = GridSearchCV(\n",
    "    pipe_ridge, \n",
    "    param_grid,          \n",
    "    n_jobs=1, \n",
    "    scoring='neg_root_mean_squared_error', \n",
    "    verbose=10,\n",
    "    refit=False,\n",
    "    cv=ts\n",
    ")"
   ]
  },
  {
   "cell_type": "code",
   "execution_count": 34,
   "metadata": {
    "ExecuteTime": {
     "end_time": "2020-09-10T22:12:16.055773Z",
     "start_time": "2020-09-10T22:10:00.772437Z"
    },
    "scrolled": true
   },
   "outputs": [
    {
     "name": "stdout",
     "output_type": "stream",
     "text": [
      "Fitting 5 folds for each of 10 candidates, totalling 50 fits\n"
     ]
    },
    {
     "name": "stderr",
     "output_type": "stream",
     "text": [
      "[Parallel(n_jobs=1)]: Using backend SequentialBackend with 1 concurrent workers.\n"
     ]
    },
    {
     "name": "stdout",
     "output_type": "stream",
     "text": [
      "[CV] regression__alpha=10000.0 .......................................\n",
      "[CV] .......... regression__alpha=10000.0, score=-0.925, total=   1.0s\n",
      "[CV] regression__alpha=10000.0 .......................................\n"
     ]
    },
    {
     "name": "stderr",
     "output_type": "stream",
     "text": [
      "[Parallel(n_jobs=1)]: Done   1 out of   1 | elapsed:    1.0s remaining:    0.0s\n"
     ]
    },
    {
     "name": "stdout",
     "output_type": "stream",
     "text": [
      "[CV] .......... regression__alpha=10000.0, score=-1.129, total=   1.8s\n",
      "[CV] regression__alpha=10000.0 .......................................\n"
     ]
    },
    {
     "name": "stderr",
     "output_type": "stream",
     "text": [
      "[Parallel(n_jobs=1)]: Done   2 out of   2 | elapsed:    2.8s remaining:    0.0s\n"
     ]
    },
    {
     "name": "stdout",
     "output_type": "stream",
     "text": [
      "[CV] .......... regression__alpha=10000.0, score=-0.987, total=   2.3s\n",
      "[CV] regression__alpha=10000.0 .......................................\n"
     ]
    },
    {
     "name": "stderr",
     "output_type": "stream",
     "text": [
      "[Parallel(n_jobs=1)]: Done   3 out of   3 | elapsed:    5.1s remaining:    0.0s\n"
     ]
    },
    {
     "name": "stdout",
     "output_type": "stream",
     "text": [
      "[CV] .......... regression__alpha=10000.0, score=-0.931, total=   2.9s\n",
      "[CV] regression__alpha=10000.0 .......................................\n"
     ]
    },
    {
     "name": "stderr",
     "output_type": "stream",
     "text": [
      "[Parallel(n_jobs=1)]: Done   4 out of   4 | elapsed:    8.1s remaining:    0.0s\n"
     ]
    },
    {
     "name": "stdout",
     "output_type": "stream",
     "text": [
      "[CV] .......... regression__alpha=10000.0, score=-0.916, total=   3.5s\n",
      "[CV] regression__alpha=16681.005372000593 ............................\n"
     ]
    },
    {
     "name": "stderr",
     "output_type": "stream",
     "text": [
      "[Parallel(n_jobs=1)]: Done   5 out of   5 | elapsed:   11.6s remaining:    0.0s\n"
     ]
    },
    {
     "name": "stdout",
     "output_type": "stream",
     "text": [
      "[CV]  regression__alpha=16681.005372000593, score=-0.925, total=   0.8s\n",
      "[CV] regression__alpha=16681.005372000593 ............................\n"
     ]
    },
    {
     "name": "stderr",
     "output_type": "stream",
     "text": [
      "[Parallel(n_jobs=1)]: Done   6 out of   6 | elapsed:   12.4s remaining:    0.0s\n"
     ]
    },
    {
     "name": "stdout",
     "output_type": "stream",
     "text": [
      "[CV]  regression__alpha=16681.005372000593, score=-1.129, total=   1.6s\n",
      "[CV] regression__alpha=16681.005372000593 ............................\n"
     ]
    },
    {
     "name": "stderr",
     "output_type": "stream",
     "text": [
      "[Parallel(n_jobs=1)]: Done   7 out of   7 | elapsed:   14.0s remaining:    0.0s\n"
     ]
    },
    {
     "name": "stdout",
     "output_type": "stream",
     "text": [
      "[CV]  regression__alpha=16681.005372000593, score=-0.986, total=   2.6s\n",
      "[CV] regression__alpha=16681.005372000593 ............................\n"
     ]
    },
    {
     "name": "stderr",
     "output_type": "stream",
     "text": [
      "[Parallel(n_jobs=1)]: Done   8 out of   8 | elapsed:   16.6s remaining:    0.0s\n"
     ]
    },
    {
     "name": "stdout",
     "output_type": "stream",
     "text": [
      "[CV]  regression__alpha=16681.005372000593, score=-0.931, total=   3.7s\n",
      "[CV] regression__alpha=16681.005372000593 ............................\n"
     ]
    },
    {
     "name": "stderr",
     "output_type": "stream",
     "text": [
      "[Parallel(n_jobs=1)]: Done   9 out of   9 | elapsed:   20.3s remaining:    0.0s\n"
     ]
    },
    {
     "name": "stdout",
     "output_type": "stream",
     "text": [
      "[CV]  regression__alpha=16681.005372000593, score=-0.916, total=   4.1s\n",
      "[CV] regression__alpha=27825.59402207126 .............................\n",
      "[CV]  regression__alpha=27825.59402207126, score=-0.925, total=   1.1s\n",
      "[CV] regression__alpha=27825.59402207126 .............................\n",
      "[CV]  regression__alpha=27825.59402207126, score=-1.129, total=   1.9s\n",
      "[CV] regression__alpha=27825.59402207126 .............................\n",
      "[CV]  regression__alpha=27825.59402207126, score=-0.985, total=   3.0s\n",
      "[CV] regression__alpha=27825.59402207126 .............................\n",
      "[CV]  regression__alpha=27825.59402207126, score=-0.931, total=   3.7s\n",
      "[CV] regression__alpha=27825.59402207126 .............................\n",
      "[CV]  regression__alpha=27825.59402207126, score=-0.916, total=   4.2s\n",
      "[CV] regression__alpha=46415.88833612782 .............................\n",
      "[CV]  regression__alpha=46415.88833612782, score=-0.925, total=   1.0s\n",
      "[CV] regression__alpha=46415.88833612782 .............................\n",
      "[CV]  regression__alpha=46415.88833612782, score=-1.130, total=   2.2s\n",
      "[CV] regression__alpha=46415.88833612782 .............................\n",
      "[CV]  regression__alpha=46415.88833612782, score=-0.984, total=   2.8s\n",
      "[CV] regression__alpha=46415.88833612782 .............................\n",
      "[CV]  regression__alpha=46415.88833612782, score=-0.931, total=   3.6s\n",
      "[CV] regression__alpha=46415.88833612782 .............................\n",
      "[CV]  regression__alpha=46415.88833612782, score=-0.916, total=   4.1s\n",
      "[CV] regression__alpha=77426.36826811278 .............................\n",
      "[CV]  regression__alpha=77426.36826811278, score=-0.926, total=   1.0s\n",
      "[CV] regression__alpha=77426.36826811278 .............................\n",
      "[CV]  regression__alpha=77426.36826811278, score=-1.131, total=   2.1s\n",
      "[CV] regression__alpha=77426.36826811278 .............................\n",
      "[CV]  regression__alpha=77426.36826811278, score=-0.982, total=   2.7s\n",
      "[CV] regression__alpha=77426.36826811278 .............................\n",
      "[CV]  regression__alpha=77426.36826811278, score=-0.931, total=   3.3s\n",
      "[CV] regression__alpha=77426.36826811278 .............................\n",
      "[CV]  regression__alpha=77426.36826811278, score=-0.917, total=   4.1s\n",
      "[CV] regression__alpha=129154.96650148826 ............................\n",
      "[CV]  regression__alpha=129154.96650148826, score=-0.926, total=   1.1s\n",
      "[CV] regression__alpha=129154.96650148826 ............................\n",
      "[CV]  regression__alpha=129154.96650148826, score=-1.133, total=   2.0s\n",
      "[CV] regression__alpha=129154.96650148826 ............................\n",
      "[CV]  regression__alpha=129154.96650148826, score=-0.978, total=   3.0s\n",
      "[CV] regression__alpha=129154.96650148826 ............................\n",
      "[CV]  regression__alpha=129154.96650148826, score=-0.931, total=   3.6s\n",
      "[CV] regression__alpha=129154.96650148826 ............................\n",
      "[CV]  regression__alpha=129154.96650148826, score=-0.917, total=   4.2s\n",
      "[CV] regression__alpha=215443.46900318822 ............................\n",
      "[CV]  regression__alpha=215443.46900318822, score=-0.927, total=   0.9s\n",
      "[CV] regression__alpha=215443.46900318822 ............................\n",
      "[CV]  regression__alpha=215443.46900318822, score=-1.135, total=   2.0s\n",
      "[CV] regression__alpha=215443.46900318822 ............................\n",
      "[CV]  regression__alpha=215443.46900318822, score=-0.972, total=   2.9s\n",
      "[CV] regression__alpha=215443.46900318822 ............................\n",
      "[CV]  regression__alpha=215443.46900318822, score=-0.932, total=   3.5s\n",
      "[CV] regression__alpha=215443.46900318822 ............................\n",
      "[CV]  regression__alpha=215443.46900318822, score=-0.918, total=   4.2s\n",
      "[CV] regression__alpha=359381.36638046254 ............................\n",
      "[CV]  regression__alpha=359381.36638046254, score=-0.930, total=   1.0s\n",
      "[CV] regression__alpha=359381.36638046254 ............................\n",
      "[CV]  regression__alpha=359381.36638046254, score=-1.140, total=   2.2s\n",
      "[CV] regression__alpha=359381.36638046254 ............................\n",
      "[CV]  regression__alpha=359381.36638046254, score=-0.964, total=   2.9s\n",
      "[CV] regression__alpha=359381.36638046254 ............................\n",
      "[CV]  regression__alpha=359381.36638046254, score=-0.932, total=   3.9s\n",
      "[CV] regression__alpha=359381.36638046254 ............................\n",
      "[CV]  regression__alpha=359381.36638046254, score=-0.920, total=   4.5s\n",
      "[CV] regression__alpha=599484.2503189408 .............................\n",
      "[CV]  regression__alpha=599484.2503189408, score=-0.936, total=   0.9s\n",
      "[CV] regression__alpha=599484.2503189408 .............................\n",
      "[CV]  regression__alpha=599484.2503189408, score=-1.148, total=   1.8s\n",
      "[CV] regression__alpha=599484.2503189408 .............................\n",
      "[CV]  regression__alpha=599484.2503189408, score=-0.953, total=   2.7s\n",
      "[CV] regression__alpha=599484.2503189408 .............................\n",
      "[CV]  regression__alpha=599484.2503189408, score=-0.934, total=   3.9s\n",
      "[CV] regression__alpha=599484.2503189408 .............................\n",
      "[CV]  regression__alpha=599484.2503189408, score=-0.923, total=   3.7s\n",
      "[CV] regression__alpha=1000000.0 .....................................\n",
      "[CV] ........ regression__alpha=1000000.0, score=-0.947, total=   1.0s\n",
      "[CV] regression__alpha=1000000.0 .....................................\n",
      "[CV] ........ regression__alpha=1000000.0, score=-1.159, total=   2.0s\n",
      "[CV] regression__alpha=1000000.0 .....................................\n",
      "[CV] ........ regression__alpha=1000000.0, score=-0.941, total=   2.9s\n",
      "[CV] regression__alpha=1000000.0 .....................................\n",
      "[CV] ........ regression__alpha=1000000.0, score=-0.937, total=   3.3s\n",
      "[CV] regression__alpha=1000000.0 .....................................\n",
      "[CV] ........ regression__alpha=1000000.0, score=-0.927, total=   3.9s\n"
     ]
    },
    {
     "name": "stderr",
     "output_type": "stream",
     "text": [
      "[Parallel(n_jobs=1)]: Done  50 out of  50 | elapsed:  2.2min finished\n"
     ]
    },
    {
     "data": {
      "text/plain": [
       "GridSearchCV(cv=TimeSeriesGroupSplit(max_train_size=None, n_splits=5),\n",
       "             estimator=Pipeline(steps=[('standartization', StandardScaler()),\n",
       "                                       ('regression', Ridge(random_state=42))]),\n",
       "             n_jobs=1,\n",
       "             param_grid={'regression__alpha': array([  10000.        ,   16681.005372  ,   27825.59402207,\n",
       "         46415.88833613,   77426.36826811,  129154.96650149,\n",
       "        215443.46900319,  359381.36638046,  599484.25031894,\n",
       "       1000000.        ])},\n",
       "             refit=False, scoring='neg_root_mean_squared_error', verbose=10)"
      ]
     },
     "execution_count": 34,
     "metadata": {},
     "output_type": "execute_result"
    }
   ],
   "source": [
    "gs.fit(X_train, y_train, groups=X_train.date_block_num)"
   ]
  },
  {
   "cell_type": "code",
   "execution_count": 35,
   "metadata": {
    "ExecuteTime": {
     "end_time": "2020-09-10T22:12:16.099196Z",
     "start_time": "2020-09-10T22:12:16.059995Z"
    }
   },
   "outputs": [
    {
     "data": {
      "text/plain": [
       "{'regression__alpha': 215443.46900318822}"
      ]
     },
     "execution_count": 35,
     "metadata": {},
     "output_type": "execute_result"
    }
   ],
   "source": [
    "gs.best_params_"
   ]
  },
  {
   "cell_type": "code",
   "execution_count": 36,
   "metadata": {
    "ExecuteTime": {
     "end_time": "2020-09-10T22:13:12.340125Z",
     "start_time": "2020-09-10T22:13:12.314717Z"
    }
   },
   "outputs": [],
   "source": [
    "ridge_params['alpha'] = 129155.0 # for all features\n",
    "ridge_params['alpha'] = 215443.0 # for selected features"
   ]
  },
  {
   "cell_type": "code",
   "execution_count": 37,
   "metadata": {
    "ExecuteTime": {
     "end_time": "2020-09-10T22:13:29.253031Z",
     "start_time": "2020-09-10T22:13:13.085891Z"
    }
   },
   "outputs": [
    {
     "name": "stdout",
     "output_type": "stream",
     "text": [
      "Current score: 0.97697\n"
     ]
    }
   ],
   "source": [
    "pipe_ridge = Pipeline([('standartization', StandardScaler()), \n",
    "                       ('regression', Ridge(**ridge_params))])\n",
    "\n",
    "current_score = cross_val_score(\n",
    "    pipe_ridge, \n",
    "    X_train, y_train, groups=X_train.date_block_num,\n",
    "    n_jobs=1, \n",
    "    scoring='neg_root_mean_squared_error', \n",
    "    verbose=0,\n",
    "    cv=ts\n",
    ").mean()\n",
    "print(f'Current score: {-current_score:.5f}')"
   ]
  },
  {
   "cell_type": "markdown",
   "metadata": {},
   "source": [
    "Score: $0.87694$.\n",
    "\n",
    "Score after selection: $0.97697$."
   ]
  },
  {
   "cell_type": "code",
   "execution_count": 38,
   "metadata": {
    "ExecuteTime": {
     "end_time": "2020-09-10T22:13:36.594903Z",
     "start_time": "2020-09-10T22:13:36.567799Z"
    }
   },
   "outputs": [
    {
     "data": {
      "text/plain": [
       "{'random_state': 42, 'alpha': 215443.0}"
      ]
     },
     "execution_count": 38,
     "metadata": {},
     "output_type": "execute_result"
    }
   ],
   "source": [
    "ridge_params"
   ]
  },
  {
   "cell_type": "markdown",
   "metadata": {},
   "source": [
    "## Validation"
   ]
  },
  {
   "cell_type": "code",
   "execution_count": 39,
   "metadata": {
    "ExecuteTime": {
     "end_time": "2020-09-10T22:13:42.778961Z",
     "start_time": "2020-09-10T22:13:39.436764Z"
    }
   },
   "outputs": [
    {
     "data": {
      "text/plain": [
       "Pipeline(steps=[('standartization', StandardScaler()),\n",
       "                ('regression', Ridge(alpha=215443.0, random_state=42))])"
      ]
     },
     "execution_count": 39,
     "metadata": {},
     "output_type": "execute_result"
    }
   ],
   "source": [
    "model = Pipeline([('standartization', StandardScaler()), \n",
    "                  ('regression', Ridge(**ridge_params))])\n",
    "model.fit(X_train, y_train)"
   ]
  },
  {
   "cell_type": "code",
   "execution_count": 40,
   "metadata": {
    "ExecuteTime": {
     "end_time": "2020-09-10T22:13:42.861735Z",
     "start_time": "2020-09-10T22:13:42.782106Z"
    }
   },
   "outputs": [
    {
     "name": "stdout",
     "output_type": "stream",
     "text": [
      "Validation score: 1.06616\n"
     ]
    }
   ],
   "source": [
    "y_predicted = np.clip(model.predict(X_valid), 0, 20)\n",
    "validation_score = mean_squared_error(y_valid, y_predicted)\n",
    "print(f'Validation score: {validation_score:.5f}')"
   ]
  },
  {
   "cell_type": "markdown",
   "metadata": {},
   "source": [
    "Score: $0.84454$\n",
    "\n",
    "Score after selection: $1.06616$."
   ]
  },
  {
   "cell_type": "markdown",
   "metadata": {},
   "source": [
    "Let's look at predicted values charasteristics."
   ]
  },
  {
   "cell_type": "code",
   "execution_count": 41,
   "metadata": {
    "ExecuteTime": {
     "end_time": "2020-09-10T22:13:54.022283Z",
     "start_time": "2020-09-10T22:13:53.972365Z"
    }
   },
   "outputs": [
    {
     "data": {
      "text/plain": [
       "count    168139.000000\n",
       "mean          0.344359\n",
       "std           0.707794\n",
       "min           0.000000\n",
       "25%           0.088285\n",
       "50%           0.160303\n",
       "75%           0.346347\n",
       "max          18.727692\n",
       "dtype: float64"
      ]
     },
     "execution_count": 41,
     "metadata": {},
     "output_type": "execute_result"
    }
   ],
   "source": [
    "pd.Series(y_predicted).describe()"
   ]
  },
  {
   "cell_type": "markdown",
   "metadata": {},
   "source": [
    "Let's look at feature importances."
   ]
  },
  {
   "cell_type": "code",
   "execution_count": 42,
   "metadata": {
    "ExecuteTime": {
     "end_time": "2020-09-10T22:13:56.411537Z",
     "start_time": "2020-09-10T22:13:56.385213Z"
    }
   },
   "outputs": [],
   "source": [
    "ridge_coefs = model.named_steps['regression'].coef_\n",
    "top_size = 10\n",
    "\n",
    "sorted_indices = np.argsort(ridge_coefs)\n",
    "sorted_names = X_train.columns[sorted_indices]"
   ]
  },
  {
   "cell_type": "code",
   "execution_count": 45,
   "metadata": {
    "ExecuteTime": {
     "end_time": "2020-09-10T22:14:32.454316Z",
     "start_time": "2020-09-10T22:14:32.430457Z"
    }
   },
   "outputs": [],
   "source": [
    "# plt.figure(figsize=(16, 9))\n",
    "# sns.barplot(y=sorted_names[::-1], \n",
    "#             x=ridge_coefs[sorted_indices][::-1])\n",
    "# plt.xlabel('Коэффициент перед признаком')\n",
    "# plt.title(f'Значимости признаков для Ridge-регрессии')\n",
    "# plt.savefig('../reports/figures/stacking/importances_selected_features.png', \n",
    "#             facecolor='white', bbox_inches='tight', pad_inches=0)\n",
    "# plt.show()"
   ]
  },
  {
   "cell_type": "code",
   "execution_count": 44,
   "metadata": {
    "ExecuteTime": {
     "end_time": "2020-09-10T22:14:27.482662Z",
     "start_time": "2020-09-10T22:14:26.748741Z"
    }
   },
   "outputs": [
    {
     "data": {
      "image/png": "[encoded data removed]",
      "text/plain": [
       "<Figure size 1152x648 with 1 Axes>"
      ]
     },
     "metadata": {
      "needs_background": "light"
     },
     "output_type": "display_data"
    }
   ],
   "source": [
    "plt.figure(figsize=(16, 9))\n",
    "image = plt.imread('../reports/figures/stacking/importances_selected_features.png')\n",
    "plt.imshow(image, interpolation='spline36')\n",
    "plt.axis('off')\n",
    "plt.show()"
   ]
  },
  {
   "cell_type": "markdown",
   "metadata": {},
   "source": [
    "## Submit"
   ]
  },
  {
   "cell_type": "markdown",
   "metadata": {},
   "source": [
    "In this section we will train result model and submit prediction. Don't forget to clip values according to [evaluation tab](https://www.kaggle.com/c/competitive-data-science-predict-future-sales/overview/evaluation) (but ay be for tree-based methods it is not necessary)."
   ]
  },
  {
   "cell_type": "code",
   "execution_count": 46,
   "metadata": {
    "ExecuteTime": {
     "end_time": "2020-09-10T22:14:36.193987Z",
     "start_time": "2020-09-10T22:14:35.558322Z"
    }
   },
   "outputs": [],
   "source": [
    "X_train = pd.concat((X_train, X_valid))\n",
    "y_train = pd.concat((y_train, y_valid))\n",
    "gc.collect();"
   ]
  },
  {
   "cell_type": "code",
   "execution_count": 47,
   "metadata": {
    "ExecuteTime": {
     "end_time": "2020-09-10T22:14:36.678870Z",
     "start_time": "2020-09-10T22:14:36.651449Z"
    }
   },
   "outputs": [
    {
     "data": {
      "text/plain": [
       "(4704879, 5)"
      ]
     },
     "execution_count": 47,
     "metadata": {},
     "output_type": "execute_result"
    }
   ],
   "source": [
    "X_train.shape"
   ]
  },
  {
   "cell_type": "code",
   "execution_count": 48,
   "metadata": {
    "ExecuteTime": {
     "end_time": "2020-09-10T22:14:55.031677Z",
     "start_time": "2020-09-10T22:14:37.227625Z"
    }
   },
   "outputs": [
    {
     "data": {
      "application/vnd.jupyter.widget-view+json": {
       "model_id": "8bb848f4fb34411ca02595724c0ccf09",
       "version_major": 2,
       "version_minor": 0
      },
      "text/plain": [
       "HBox(children=(FloatProgress(value=0.0, max=5.0), HTML(value='')))"
      ]
     },
     "metadata": {},
     "output_type": "display_data"
    },
    {
     "name": "stdout",
     "output_type": "stream",
     "text": [
      "\n"
     ]
    }
   ],
   "source": [
    "model = Pipeline([('standartization', StandardScaler()), \n",
    "                  ('regression', Ridge(**ridge_params))])\n",
    "bags = 5\n",
    "\n",
    "bagged_predictions = np.zeros(X_test.shape[0])\n",
    "for n in tqdm(range(bags)):\n",
    "    model.set_params(**{'regression__random_state': random_state+n})\n",
    "    model.fit(X_train, y_train)\n",
    "    bagged_predictions += np.clip(model.predict(X_test), 0, 20)\n",
    "    gc.collect()\n",
    "    \n",
    "bagged_predictions /= bags"
   ]
  },
  {
   "cell_type": "markdown",
   "metadata": {},
   "source": [
    "Create submission."
   ]
  },
  {
   "cell_type": "code",
   "execution_count": 49,
   "metadata": {
    "ExecuteTime": {
     "end_time": "2020-09-10T22:14:55.084796Z",
     "start_time": "2020-09-10T22:14:55.035485Z"
    }
   },
   "outputs": [
    {
     "data": {
      "text/plain": [
       "count    214200.000000\n",
       "mean          0.324516\n",
       "std           0.637858\n",
       "min           0.000000\n",
       "25%           0.088782\n",
       "50%           0.161097\n",
       "75%           0.330001\n",
       "max          20.000000\n",
       "dtype: float64"
      ]
     },
     "execution_count": 49,
     "metadata": {},
     "output_type": "execute_result"
    }
   ],
   "source": [
    "pd.Series(bagged_predictions).describe()"
   ]
  },
  {
   "cell_type": "code",
   "execution_count": 51,
   "metadata": {
    "ExecuteTime": {
     "end_time": "2020-09-10T22:15:30.647723Z",
     "start_time": "2020-09-10T22:15:29.931122Z"
    }
   },
   "outputs": [],
   "source": [
    "submission = pd.read_csv('../data/raw/sample_submission.csv')\n",
    "submission['item_cnt_month'] = bagged_predictions\n",
    "submission.to_csv('../models/stacking/submission_selected.csv', index=False)"
   ]
  },
  {
   "cell_type": "markdown",
   "metadata": {},
   "source": [
    "!kaggle competitions submit competitive-data-science-predict-future-sales -f ../models/ridge/submission.csv -m \"Stacking of LightGBM, Ridge\""
   ]
  },
  {
   "cell_type": "markdown",
   "metadata": {},
   "source": [
    "Result on all features: $0.99535$.\n",
    "\n",
    "Result on selected features: $0.970271$."
   ]
  }
 ],
 "metadata": {
  "kernelspec": {
   "display_name": "Python 3",
   "language": "python",
   "name": "python3"
  },
  "language_info": {
   "codemirror_mode": {
    "name": "ipython",
    "version": 3
   },
   "file_extension": ".py",
   "mimetype": "text/x-python",
   "name": "python",
   "nbconvert_exporter": "python",
   "pygments_lexer": "ipython3",
   "version": "3.8.5"
  }
 },
 "nbformat": 4,
 "nbformat_minor": 4
}
