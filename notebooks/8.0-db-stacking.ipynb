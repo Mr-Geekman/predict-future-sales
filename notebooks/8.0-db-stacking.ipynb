{
 "cells": [
  {
   "cell_type": "code",
   "execution_count": 1,
   "metadata": {
    "ExecuteTime": {
     "end_time": "2020-09-10T00:13:32.756610Z",
     "start_time": "2020-09-10T00:13:31.075003Z"
    }
   },
   "outputs": [],
   "source": [
    "%load_ext autoreload\n",
    "%autoreload 2\n",
    "import copy\n",
    "import gc\n",
    "import sys\n",
    "\n",
    "sys.path.append('..')\n",
    "\n",
    "import numpy as np\n",
    "import pandas as pd\n",
    "import scipy.stats as sps\n",
    "\n",
    "import matplotlib.pyplot as plt\n",
    "import seaborn as sns\n",
    "from tqdm.notebook import tqdm\n",
    "\n",
    "from sklearn.model_selection import (GridSearchCV, RandomizedSearchCV, \n",
    "                                     cross_val_score)\n",
    "from sklearn.metrics import mean_squared_error\n",
    "from sklearn.pipeline import Pipeline\n",
    "from sklearn.preprocessing import StandardScaler\n",
    "from sklearn.linear_model import Ridge\n",
    "\n",
    "from hyperopt import hp, tpe, STATUS_OK, Trials\n",
    "from hyperopt.fmin import fmin\n",
    "\n",
    "from src.utils.cross_validation import TimeSeriesGroupSplit\n",
    "from src.utils.downcasting import downcast_dtypes\n",
    "\n",
    "sns.set(font_scale=1.2)\n",
    "%matplotlib inline"
   ]
  },
  {
   "cell_type": "code",
   "execution_count": 2,
   "metadata": {
    "ExecuteTime": {
     "end_time": "2020-09-10T00:13:32.788905Z",
     "start_time": "2020-09-10T00:13:32.759032Z"
    }
   },
   "outputs": [],
   "source": [
    "random_state = 42"
   ]
  },
  {
   "cell_type": "markdown",
   "metadata": {},
   "source": [
    "# Stacking"
   ]
  },
  {
   "cell_type": "markdown",
   "metadata": {},
   "source": [
    "In this notebook we will produce predictions by stacking of LightGBM, XGBoost, Ridge."
   ]
  },
  {
   "cell_type": "markdown",
   "metadata": {},
   "source": [
    "## Preparing datasets"
   ]
  },
  {
   "cell_type": "code",
   "execution_count": 3,
   "metadata": {
    "ExecuteTime": {
     "end_time": "2020-09-10T00:13:41.550136Z",
     "start_time": "2020-09-10T00:13:32.791508Z"
    }
   },
   "outputs": [],
   "source": [
    "# for column date_block_num load original train\n",
    "train_original = pd.read_feather('../data/processed/train.ftr')\n",
    "\n",
    "train_lgb = pd.read_csv('../models/oof/lgb/train.csv')\n",
    "test_lgb = pd.read_csv('../models/oof/lgb/test.csv')\n",
    "\n",
    "train_ridge = pd.read_csv('../models/oof/ridge/train.csv')\n",
    "test_ridge = pd.read_csv('../models/oof/ridge/test.csv')"
   ]
  },
  {
   "cell_type": "code",
   "execution_count": 4,
   "metadata": {
    "ExecuteTime": {
     "end_time": "2020-09-10T00:13:41.612856Z",
     "start_time": "2020-09-10T00:13:41.553156Z"
    }
   },
   "outputs": [],
   "source": [
    "train_ridge.drop(columns=['target'], inplace=True)"
   ]
  },
  {
   "cell_type": "code",
   "execution_count": 5,
   "metadata": {
    "ExecuteTime": {
     "end_time": "2020-09-10T00:13:42.044318Z",
     "start_time": "2020-09-10T00:13:41.615182Z"
    }
   },
   "outputs": [
    {
     "data": {
      "text/html": [
       "<div>\n",
       "<style scoped>\n",
       "    .dataframe tbody tr th:only-of-type {\n",
       "        vertical-align: middle;\n",
       "    }\n",
       "\n",
       "    .dataframe tbody tr th {\n",
       "        vertical-align: top;\n",
       "    }\n",
       "\n",
       "    .dataframe thead th {\n",
       "        text-align: right;\n",
       "    }\n",
       "</style>\n",
       "<table border=\"1\" class=\"dataframe\">\n",
       "  <thead>\n",
       "    <tr style=\"text-align: right;\">\n",
       "      <th></th>\n",
       "      <th>lgb</th>\n",
       "      <th>lgb_clipped</th>\n",
       "      <th>target</th>\n",
       "      <th>ridge</th>\n",
       "      <th>ridge_clipped</th>\n",
       "    </tr>\n",
       "  </thead>\n",
       "  <tbody>\n",
       "    <tr>\n",
       "      <th>0</th>\n",
       "      <td>0.699932</td>\n",
       "      <td>0.699932</td>\n",
       "      <td>3.0</td>\n",
       "      <td>0.718979</td>\n",
       "      <td>0.718979</td>\n",
       "    </tr>\n",
       "    <tr>\n",
       "      <th>1</th>\n",
       "      <td>0.421344</td>\n",
       "      <td>0.421344</td>\n",
       "      <td>1.0</td>\n",
       "      <td>0.373143</td>\n",
       "      <td>0.373143</td>\n",
       "    </tr>\n",
       "    <tr>\n",
       "      <th>2</th>\n",
       "      <td>0.754161</td>\n",
       "      <td>0.754161</td>\n",
       "      <td>1.0</td>\n",
       "      <td>0.661532</td>\n",
       "      <td>0.661532</td>\n",
       "    </tr>\n",
       "    <tr>\n",
       "      <th>3</th>\n",
       "      <td>0.057733</td>\n",
       "      <td>0.057733</td>\n",
       "      <td>1.0</td>\n",
       "      <td>0.449149</td>\n",
       "      <td>0.449149</td>\n",
       "    </tr>\n",
       "    <tr>\n",
       "      <th>4</th>\n",
       "      <td>0.460093</td>\n",
       "      <td>0.460093</td>\n",
       "      <td>2.0</td>\n",
       "      <td>0.682010</td>\n",
       "      <td>0.682010</td>\n",
       "    </tr>\n",
       "  </tbody>\n",
       "</table>\n",
       "</div>"
      ],
      "text/plain": [
       "        lgb  lgb_clipped  target     ridge  ridge_clipped\n",
       "0  0.699932     0.699932     3.0  0.718979       0.718979\n",
       "1  0.421344     0.421344     1.0  0.373143       0.373143\n",
       "2  0.754161     0.754161     1.0  0.661532       0.661532\n",
       "3  0.057733     0.057733     1.0  0.449149       0.449149\n",
       "4  0.460093     0.460093     2.0  0.682010       0.682010"
      ]
     },
     "execution_count": 5,
     "metadata": {},
     "output_type": "execute_result"
    }
   ],
   "source": [
    "X_train = pd.concat((train_lgb, train_ridge), axis=1)\n",
    "X_test = pd.concat((test_lgb, test_ridge), axis=1)\n",
    "X_train.head()"
   ]
  },
  {
   "cell_type": "code",
   "execution_count": 6,
   "metadata": {
    "ExecuteTime": {
     "end_time": "2020-09-10T00:13:42.264015Z",
     "start_time": "2020-09-10T00:13:42.047274Z"
    }
   },
   "outputs": [],
   "source": [
    "train_size = train_lgb.shape[0]\n",
    "\n",
    "X_train['date_block_num'] = train_original.iloc[-train_size:].date_block_num.values\n",
    "X_test['date_block_num'] = X_train.date_block_num.max() + 1\n",
    "del train_original\n",
    "gc.collect();"
   ]
  },
  {
   "cell_type": "markdown",
   "metadata": {},
   "source": [
    "### Removing target"
   ]
  },
  {
   "cell_type": "code",
   "execution_count": 7,
   "metadata": {
    "ExecuteTime": {
     "end_time": "2020-09-10T00:13:43.939374Z",
     "start_time": "2020-09-10T00:13:42.266646Z"
    }
   },
   "outputs": [],
   "source": [
    "y = X_train.target\n",
    "X_train.drop(columns=['target'], inplace=True)"
   ]
  },
  {
   "cell_type": "markdown",
   "metadata": {},
   "source": [
    "### Creation of validation split"
   ]
  },
  {
   "cell_type": "code",
   "execution_count": 8,
   "metadata": {
    "ExecuteTime": {
     "end_time": "2020-09-10T00:13:44.810933Z",
     "start_time": "2020-09-10T00:13:43.943056Z"
    }
   },
   "outputs": [],
   "source": [
    "y_valid = y[X_train.date_block_num == 33]\n",
    "X_valid = X_train[X_train.date_block_num == 33]\n",
    "\n",
    "y_train = y[X_train.date_block_num < 33]\n",
    "X_train = X_train[X_train.date_block_num < 33]"
   ]
  },
  {
   "cell_type": "markdown",
   "metadata": {},
   "source": [
    "## Hyperparameters tuning"
   ]
  },
  {
   "cell_type": "code",
   "execution_count": 9,
   "metadata": {
    "ExecuteTime": {
     "end_time": "2020-09-10T00:13:44.844331Z",
     "start_time": "2020-09-10T00:13:44.813325Z"
    }
   },
   "outputs": [],
   "source": [
    "ts = TimeSeriesGroupSplit(n_splits=5)"
   ]
  },
  {
   "cell_type": "code",
   "execution_count": 10,
   "metadata": {
    "ExecuteTime": {
     "end_time": "2020-09-10T00:13:44.872595Z",
     "start_time": "2020-09-10T00:13:44.846660Z"
    }
   },
   "outputs": [],
   "source": [
    "ridge_params = {\n",
    "    'random_state': random_state\n",
    "}"
   ]
  },
  {
   "cell_type": "code",
   "execution_count": 11,
   "metadata": {
    "ExecuteTime": {
     "end_time": "2020-09-10T00:13:44.910120Z",
     "start_time": "2020-09-10T00:13:44.875435Z"
    }
   },
   "outputs": [],
   "source": [
    "# pipe_ridge = Pipeline(\n",
    "#     [('standartization', StandardScaler()),\n",
    "#      ('regression', Ridge(**ridge_params))]\n",
    "# )\n",
    "\n",
    "# default_score = cross_val_score(\n",
    "#     pipe_ridge, \n",
    "#     X_train, y_train, groups=X_train.date_block_num,\n",
    "#     n_jobs=1, \n",
    "#     scoring='neg_root_mean_squared_error', \n",
    "#     verbose=0,\n",
    "#     cv=ts\n",
    "# ).mean()\n",
    "# print(f'Current score: {-default_score:.5f}')"
   ]
  },
  {
   "cell_type": "markdown",
   "metadata": {},
   "source": [
    "Score: $0.87776$."
   ]
  },
  {
   "cell_type": "code",
   "execution_count": 12,
   "metadata": {
    "ExecuteTime": {
     "end_time": "2020-09-10T00:13:44.943195Z",
     "start_time": "2020-09-10T00:13:44.912295Z"
    }
   },
   "outputs": [],
   "source": [
    "pipe_ridge = Pipeline([('standartization', StandardScaler()), \n",
    "                       ('regression', Ridge(**ridge_params))])\n",
    "\n",
    "param_grid = {\n",
    "    'regression__alpha': np.logspace(4, 6, 10),\n",
    "}\n",
    "\n",
    "gs = GridSearchCV(\n",
    "    pipe_ridge, \n",
    "    param_grid,          \n",
    "    n_jobs=1, \n",
    "    scoring='neg_root_mean_squared_error', \n",
    "    verbose=10,\n",
    "    refit=False,\n",
    "    cv=ts\n",
    ")"
   ]
  },
  {
   "cell_type": "markdown",
   "metadata": {
    "ExecuteTime": {
     "end_time": "2020-09-09T23:58:18.641728Z",
     "start_time": "2020-09-09T23:56:25.106758Z"
    }
   },
   "source": [
    "gs.fit(X_train, y_train, groups=X_train.date_block_num)"
   ]
  },
  {
   "cell_type": "markdown",
   "metadata": {
    "ExecuteTime": {
     "end_time": "2020-09-09T23:58:27.538953Z",
     "start_time": "2020-09-09T23:58:27.508785Z"
    }
   },
   "source": [
    "gs.best_params_"
   ]
  },
  {
   "cell_type": "code",
   "execution_count": 13,
   "metadata": {
    "ExecuteTime": {
     "end_time": "2020-09-10T00:13:44.968150Z",
     "start_time": "2020-09-10T00:13:44.944886Z"
    }
   },
   "outputs": [],
   "source": [
    "ridge_params['alpha'] = 129155.0"
   ]
  },
  {
   "cell_type": "code",
   "execution_count": 14,
   "metadata": {
    "ExecuteTime": {
     "end_time": "2020-09-10T00:13:44.999259Z",
     "start_time": "2020-09-10T00:13:44.974651Z"
    }
   },
   "outputs": [],
   "source": [
    "# pipe_ridge = Pipeline([('standartization', StandardScaler()), \n",
    "#                        ('regression', Ridge(**ridge_params))])\n",
    "\n",
    "# current_score = cross_val_score(\n",
    "#     pipe_ridge, \n",
    "#     X_train, y_train, groups=X_train.date_block_num,\n",
    "#     n_jobs=1, \n",
    "#     scoring='neg_root_mean_squared_error', \n",
    "#     verbose=0,\n",
    "#     cv=ts\n",
    "# ).mean()\n",
    "# print(f'Current score: {-current_score:.5f}')"
   ]
  },
  {
   "cell_type": "markdown",
   "metadata": {},
   "source": [
    "Score: $0.87694$."
   ]
  },
  {
   "cell_type": "code",
   "execution_count": 15,
   "metadata": {
    "ExecuteTime": {
     "end_time": "2020-09-10T00:13:45.037016Z",
     "start_time": "2020-09-10T00:13:45.002713Z"
    }
   },
   "outputs": [
    {
     "data": {
      "text/plain": [
       "{'random_state': 42, 'alpha': 129155.0}"
      ]
     },
     "execution_count": 15,
     "metadata": {},
     "output_type": "execute_result"
    }
   ],
   "source": [
    "ridge_params"
   ]
  },
  {
   "cell_type": "markdown",
   "metadata": {},
   "source": [
    "## Validation"
   ]
  },
  {
   "cell_type": "code",
   "execution_count": null,
   "metadata": {
    "ExecuteTime": {
     "end_time": "2020-09-09T23:59:01.368719Z",
     "start_time": "2020-09-09T23:58:58.912024Z"
    }
   },
   "outputs": [],
   "source": [
    "model = Pipeline([('standartization', StandardScaler()), \n",
    "                  ('regression', Ridge(**ridge_params))])\n",
    "model.fit(X_train, y_train)"
   ]
  },
  {
   "cell_type": "code",
   "execution_count": null,
   "metadata": {
    "ExecuteTime": {
     "end_time": "2020-09-09T23:59:01.452302Z",
     "start_time": "2020-09-09T23:59:01.371576Z"
    }
   },
   "outputs": [],
   "source": [
    "y_predicted = np.clip(model.predict(X_valid), 0, 20)\n",
    "validation_score = mean_squared_error(y_valid, y_predicted)\n",
    "print(f'Validation score: {validation_score:.5f}')"
   ]
  },
  {
   "cell_type": "markdown",
   "metadata": {},
   "source": [
    "Score: $0.84454$"
   ]
  },
  {
   "cell_type": "markdown",
   "metadata": {},
   "source": [
    "Let's look at predicted values charasteristics."
   ]
  },
  {
   "cell_type": "code",
   "execution_count": null,
   "metadata": {
    "ExecuteTime": {
     "end_time": "2020-09-09T23:59:10.260273Z",
     "start_time": "2020-09-09T23:59:10.189044Z"
    }
   },
   "outputs": [],
   "source": [
    "pd.Series(y_predicted).describe()"
   ]
  },
  {
   "cell_type": "markdown",
   "metadata": {},
   "source": [
    "Let's look at feature importances."
   ]
  },
  {
   "cell_type": "code",
   "execution_count": null,
   "metadata": {
    "ExecuteTime": {
     "end_time": "2020-09-10T00:03:41.567990Z",
     "start_time": "2020-09-10T00:03:41.522402Z"
    }
   },
   "outputs": [],
   "source": [
    "ridge_coefs = model.named_steps['regression'].coef_\n",
    "top_size = 10\n",
    "\n",
    "sorted_indices = np.argsort(ridge_coefs)\n",
    "sorted_names = X_train.columns[sorted_indices]"
   ]
  },
  {
   "cell_type": "code",
   "execution_count": null,
   "metadata": {
    "ExecuteTime": {
     "end_time": "2020-09-10T00:03:42.460428Z",
     "start_time": "2020-09-10T00:03:41.826023Z"
    }
   },
   "outputs": [],
   "source": [
    "plt.figure(figsize=(16, 9))\n",
    "sns.barplot(y=sorted_names[::-1], \n",
    "            x=ridge_coefs[sorted_indices][::-1])\n",
    "plt.xlabel('Коэффициент перед признаком')\n",
    "plt.title(f'Значимости признаков для Ridge-регрессии')\n",
    "plt.savefig('../reports/figures/stacking/importances.png', \n",
    "            facecolor='white', bbox_inches='tight', pad_inches=0)\n",
    "plt.show()"
   ]
  },
  {
   "cell_type": "code",
   "execution_count": null,
   "metadata": {
    "ExecuteTime": {
     "end_time": "2020-09-10T00:03:47.751423Z",
     "start_time": "2020-09-10T00:03:46.768040Z"
    }
   },
   "outputs": [],
   "source": [
    "plt.figure(figsize=(16, 9))\n",
    "image = plt.imread('../reports/figures/stacking/importances.png')\n",
    "plt.imshow(image, interpolation='spline36')\n",
    "plt.axis('off')\n",
    "plt.show()"
   ]
  },
  {
   "cell_type": "markdown",
   "metadata": {},
   "source": [
    "## Submit"
   ]
  },
  {
   "cell_type": "markdown",
   "metadata": {},
   "source": [
    "In this section we will train result model and submit prediction. Don't forget to clip values according to [evaluation tab](https://www.kaggle.com/c/competitive-data-science-predict-future-sales/overview/evaluation) (but ay be for tree-based methods it is not necessary)."
   ]
  },
  {
   "cell_type": "code",
   "execution_count": 16,
   "metadata": {
    "ExecuteTime": {
     "end_time": "2020-09-10T00:13:45.866884Z",
     "start_time": "2020-09-10T00:13:45.039677Z"
    }
   },
   "outputs": [],
   "source": [
    "X_train = pd.concat((X_train, X_valid))\n",
    "y_train = pd.concat((y_train, y_valid))\n",
    "gc.collect();"
   ]
  },
  {
   "cell_type": "code",
   "execution_count": 17,
   "metadata": {
    "ExecuteTime": {
     "end_time": "2020-09-10T00:13:45.898259Z",
     "start_time": "2020-09-10T00:13:45.869060Z"
    }
   },
   "outputs": [
    {
     "data": {
      "text/plain": [
       "(4704879, 5)"
      ]
     },
     "execution_count": 17,
     "metadata": {},
     "output_type": "execute_result"
    }
   ],
   "source": [
    "X_train.shape"
   ]
  },
  {
   "cell_type": "code",
   "execution_count": 22,
   "metadata": {
    "ExecuteTime": {
     "end_time": "2020-09-10T00:14:13.458607Z",
     "start_time": "2020-09-10T00:13:58.043175Z"
    }
   },
   "outputs": [
    {
     "data": {
      "application/vnd.jupyter.widget-view+json": {
       "model_id": "fcc1298cac7743f1ae0f3f0257fa11ad",
       "version_major": 2,
       "version_minor": 0
      },
      "text/plain": [
       "HBox(children=(FloatProgress(value=0.0, max=5.0), HTML(value='')))"
      ]
     },
     "metadata": {},
     "output_type": "display_data"
    },
    {
     "name": "stdout",
     "output_type": "stream",
     "text": [
      "\n"
     ]
    }
   ],
   "source": [
    "model = Pipeline([('standartization', StandardScaler()), \n",
    "                  ('regression', Ridge(**ridge_params))])\n",
    "bags = 5\n",
    "\n",
    "bagged_predictions = np.zeros(X_test.shape[0])\n",
    "for n in tqdm(range(bags)):\n",
    "    model.set_params(**{'regression__random_state': random_state+n})\n",
    "    model.fit(X_train, y_train)\n",
    "    bagged_predictions += np.clip(model.predict(X_test), 0, 20)\n",
    "    gc.collect()\n",
    "    \n",
    "bagged_predictions /= bags"
   ]
  },
  {
   "cell_type": "markdown",
   "metadata": {},
   "source": [
    "Create submission."
   ]
  },
  {
   "cell_type": "code",
   "execution_count": 23,
   "metadata": {
    "ExecuteTime": {
     "end_time": "2020-09-10T00:14:13.524032Z",
     "start_time": "2020-09-10T00:14:13.468535Z"
    }
   },
   "outputs": [
    {
     "data": {
      "text/plain": [
       "count    214200.000000\n",
       "mean          0.354726\n",
       "std           0.675709\n",
       "min           0.000000\n",
       "25%           0.086238\n",
       "50%           0.189018\n",
       "75%           0.390521\n",
       "max          20.000000\n",
       "dtype: float64"
      ]
     },
     "execution_count": 23,
     "metadata": {},
     "output_type": "execute_result"
    }
   ],
   "source": [
    "pd.Series(bagged_predictions).describe()"
   ]
  },
  {
   "cell_type": "code",
   "execution_count": 26,
   "metadata": {
    "ExecuteTime": {
     "end_time": "2020-09-10T00:14:26.784828Z",
     "start_time": "2020-09-10T00:14:26.008522Z"
    }
   },
   "outputs": [],
   "source": [
    "submission = pd.read_csv('../data/raw/sample_submission.csv')\n",
    "submission['item_cnt_month'] = bagged_predictions\n",
    "submission.to_csv('../models/stacking/submission.csv', index=False)"
   ]
  },
  {
   "cell_type": "markdown",
   "metadata": {},
   "source": [
    "!kaggle competitions submit competitive-data-science-predict-future-sales -f ../models/ridge/submission.csv -m \"Stacking of LightGBM, Ridge and \""
   ]
  },
  {
   "cell_type": "markdown",
   "metadata": {},
   "source": [
    "Result is $0.99535$. It is pretty far from top positions."
   ]
  }
 ],
 "metadata": {
  "kernelspec": {
   "display_name": "Python 3",
   "language": "python",
   "name": "python3"
  },
  "language_info": {
   "codemirror_mode": {
    "name": "ipython",
    "version": 3
   },
   "file_extension": ".py",
   "mimetype": "text/x-python",
   "name": "python",
   "nbconvert_exporter": "python",
   "pygments_lexer": "ipython3",
   "version": "3.8.5"
  }
 },
 "nbformat": 4,
 "nbformat_minor": 4
}
