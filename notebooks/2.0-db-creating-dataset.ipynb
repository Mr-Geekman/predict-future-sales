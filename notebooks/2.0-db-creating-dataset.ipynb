{
 "cells": [
  {
   "cell_type": "code",
   "execution_count": 1,
   "metadata": {
    "ExecuteTime": {
     "end_time": "2020-08-25T13:31:30.967927Z",
     "start_time": "2020-08-25T13:31:29.593757Z"
    }
   },
   "outputs": [],
   "source": [
    "import datetime\n",
    "\n",
    "import numpy as np\n",
    "import pandas as pd\n",
    "import scipy.stats as sps\n",
    "\n",
    "import matplotlib.pyplot as plt\n",
    "import seaborn as sns\n",
    "from tqdm.notebook import tqdm\n",
    "\n",
    "import holidays\n",
    "\n",
    "sns.set(font_scale=1.2)\n",
    "%matplotlib inline"
   ]
  },
  {
   "cell_type": "markdown",
   "metadata": {},
   "source": [
    "# Creating dataset"
   ]
  },
  {
   "cell_type": "markdown",
   "metadata": {},
   "source": [
    "In this notebook I will create base dataset for training (without tuning for specific models)."
   ]
  },
  {
   "cell_type": "code",
   "execution_count": 2,
   "metadata": {
    "ExecuteTime": {
     "end_time": "2020-08-25T13:31:32.447399Z",
     "start_time": "2020-08-25T13:31:30.969913Z"
    }
   },
   "outputs": [],
   "source": [
    "items = pd.read_csv('../data/raw/items.csv')\n",
    "item_categories = pd.read_csv('../data/raw/item_categories.csv')\n",
    "shops = pd.read_csv('../data/raw/shops.csv')\n",
    "sales_train = pd.read_csv('../data/raw/sales_train.csv')\n",
    "test = pd.read_csv('../data/raw/test.csv')"
   ]
  },
  {
   "cell_type": "markdown",
   "metadata": {},
   "source": [
    "## Cleaning"
   ]
  },
  {
   "cell_type": "markdown",
   "metadata": {},
   "source": [
    "In this step I will clean dataset according to `1.0-db-EDA.ipynb`."
   ]
  },
  {
   "cell_type": "markdown",
   "metadata": {},
   "source": [
    "### Item categories"
   ]
  },
  {
   "cell_type": "markdown",
   "metadata": {},
   "source": [
    "Now this section is empty, data was found clean."
   ]
  },
  {
   "cell_type": "markdown",
   "metadata": {},
   "source": [
    "### Shops"
   ]
  },
  {
   "cell_type": "code",
   "execution_count": 3,
   "metadata": {
    "ExecuteTime": {
     "end_time": "2020-08-25T13:31:32.463331Z",
     "start_time": "2020-08-25T13:31:32.449678Z"
    }
   },
   "outputs": [
    {
     "data": {
      "text/html": [
       "<div>\n",
       "<style scoped>\n",
       "    .dataframe tbody tr th:only-of-type {\n",
       "        vertical-align: middle;\n",
       "    }\n",
       "\n",
       "    .dataframe tbody tr th {\n",
       "        vertical-align: top;\n",
       "    }\n",
       "\n",
       "    .dataframe thead th {\n",
       "        text-align: right;\n",
       "    }\n",
       "</style>\n",
       "<table border=\"1\" class=\"dataframe\">\n",
       "  <thead>\n",
       "    <tr style=\"text-align: right;\">\n",
       "      <th></th>\n",
       "      <th>shop_name</th>\n",
       "      <th>shop_id</th>\n",
       "    </tr>\n",
       "  </thead>\n",
       "  <tbody>\n",
       "    <tr>\n",
       "      <th>0</th>\n",
       "      <td>!Якутск Орджоникидзе, 56 фран</td>\n",
       "      <td>0</td>\n",
       "    </tr>\n",
       "    <tr>\n",
       "      <th>1</th>\n",
       "      <td>!Якутск ТЦ \"Центральный\" фран</td>\n",
       "      <td>1</td>\n",
       "    </tr>\n",
       "    <tr>\n",
       "      <th>2</th>\n",
       "      <td>Адыгея ТЦ \"Мега\"</td>\n",
       "      <td>2</td>\n",
       "    </tr>\n",
       "    <tr>\n",
       "      <th>3</th>\n",
       "      <td>Балашиха ТРК \"Октябрь-Киномир\"</td>\n",
       "      <td>3</td>\n",
       "    </tr>\n",
       "    <tr>\n",
       "      <th>4</th>\n",
       "      <td>Волжский ТЦ \"Волга Молл\"</td>\n",
       "      <td>4</td>\n",
       "    </tr>\n",
       "  </tbody>\n",
       "</table>\n",
       "</div>"
      ],
      "text/plain": [
       "                        shop_name  shop_id\n",
       "0   !Якутск Орджоникидзе, 56 фран        0\n",
       "1   !Якутск ТЦ \"Центральный\" фран        1\n",
       "2                Адыгея ТЦ \"Мега\"        2\n",
       "3  Балашиха ТРК \"Октябрь-Киномир\"        3\n",
       "4        Волжский ТЦ \"Волга Молл\"        4"
      ]
     },
     "execution_count": 3,
     "metadata": {},
     "output_type": "execute_result"
    }
   ],
   "source": [
    "shops.head()"
   ]
  },
  {
   "cell_type": "markdown",
   "metadata": {},
   "source": [
    "We found some typos in `shop_name`. We should replace shops with typos with shops without typos in `sales_train`, `test` (if it is the case)."
   ]
  },
  {
   "cell_type": "code",
   "execution_count": 4,
   "metadata": {
    "ExecuteTime": {
     "end_time": "2020-08-25T13:31:32.469907Z",
     "start_time": "2020-08-25T13:31:32.465547Z"
    }
   },
   "outputs": [],
   "source": [
    "map_typos = {0: 57, 1: 58, 10: 11, 39: 40}"
   ]
  },
  {
   "cell_type": "markdown",
   "metadata": {},
   "source": [
    "Visualize mapping."
   ]
  },
  {
   "cell_type": "code",
   "execution_count": 5,
   "metadata": {
    "ExecuteTime": {
     "end_time": "2020-08-25T13:31:32.491252Z",
     "start_time": "2020-08-25T13:31:32.476878Z"
    }
   },
   "outputs": [
    {
     "name": "stdout",
     "output_type": "stream",
     "text": [
      "'!Якутск Орджоникидзе, 56 фран' ---> 'Якутск Орджоникидзе, 56'\n",
      "'!Якутск ТЦ \"Центральный\" фран' ---> 'Якутск ТЦ \"Центральный\"'\n",
      "'Жуковский ул. Чкалова 39м?' ---> 'Жуковский ул. Чкалова 39м²'\n",
      "'РостовНаДону ТРК \"Мегацентр Горизонт\"' ---> 'РостовНаДону ТРК \"Мегацентр Горизонт\" Островной'\n"
     ]
    }
   ],
   "source": [
    "shops_list = shops.shop_name.to_list()\n",
    "for from_id, to_id in map_typos.items():\n",
    "    print(f\"'{shops_list[from_id]}' ---> '{shops_list[to_id]}'\")"
   ]
  },
  {
   "cell_type": "markdown",
   "metadata": {},
   "source": [
    "Check datasets"
   ]
  },
  {
   "cell_type": "code",
   "execution_count": 6,
   "metadata": {
    "ExecuteTime": {
     "end_time": "2020-08-25T13:31:32.571663Z",
     "start_time": "2020-08-25T13:31:32.493897Z"
    }
   },
   "outputs": [
    {
     "name": "stdout",
     "output_type": "stream",
     "text": [
      "Typos records with id=0 in train: 9857\n",
      "Corrected records wit id=57 in train: 117428\n",
      "Typos records with id=1 in train: 5678\n",
      "Corrected records wit id=58 in train: 71441\n",
      "Typos records with id=10 in train: 21397\n",
      "Corrected records wit id=11 in train: 499\n",
      "Typos records with id=39 in train: 13440\n",
      "Corrected records wit id=40 in train: 4257\n"
     ]
    }
   ],
   "source": [
    "for from_id, to_id in map_typos.items():\n",
    "    print(f'Typos records with id={from_id} in train: {sales_train.shop_id.isin([from_id]).sum()}')\n",
    "    print(f'Corrected records wit id={to_id} in train: {sales_train.shop_id.isin([to_id]).sum()}')"
   ]
  },
  {
   "cell_type": "code",
   "execution_count": 7,
   "metadata": {
    "ExecuteTime": {
     "end_time": "2020-08-25T13:31:32.591615Z",
     "start_time": "2020-08-25T13:31:32.573612Z"
    }
   },
   "outputs": [
    {
     "name": "stdout",
     "output_type": "stream",
     "text": [
      "Typos records with id=0 in test: 0\n",
      "Corrected records wit id=57 in test: 5100\n",
      "Typos records with id=1 in test: 0\n",
      "Corrected records wit id=58 in test: 5100\n",
      "Typos records with id=10 in test: 5100\n",
      "Corrected records wit id=11 in test: 0\n",
      "Typos records with id=39 in test: 5100\n",
      "Corrected records wit id=40 in test: 0\n"
     ]
    }
   ],
   "source": [
    "for from_id, to_id in map_typos.items():\n",
    "    print(f'Typos records with id={from_id} in test: {test.shop_id.isin([from_id]).sum()}')\n",
    "    print(f'Corrected records wit id={to_id} in test: {test.shop_id.isin([to_id]).sum()}')"
   ]
  },
  {
   "cell_type": "markdown",
   "metadata": {},
   "source": [
    "As we can see, in test there is just one possible variant from two. We have to select one of them. We select corrected variants in all cases.\n",
    "\n",
    "**If we've made a mistake here, we will check it in the future (run without mapping)**"
   ]
  },
  {
   "cell_type": "code",
   "execution_count": 8,
   "metadata": {
    "ExecuteTime": {
     "end_time": "2020-08-25T13:31:32.688744Z",
     "start_time": "2020-08-25T13:31:32.594732Z"
    }
   },
   "outputs": [
    {
     "name": "stderr",
     "output_type": "stream",
     "text": [
      "<ipython-input-8-913109016405>:1: SettingWithCopyWarning: \n",
      "A value is trying to be set on a copy of a slice from a DataFrame\n",
      "\n",
      "See the caveats in the documentation: https://pandas.pydata.org/pandas-docs/stable/user_guide/indexing.html#returning-a-view-versus-a-copy\n",
      "  sales_train.shop_id[sales_train.shop_id.isin(map_typos.keys())] = sales_train.shop_id[\n"
     ]
    }
   ],
   "source": [
    "sales_train.shop_id[sales_train.shop_id.isin(map_typos.keys())] = sales_train.shop_id[\n",
    "    sales_train.shop_id.isin(map_typos.keys())\n",
    "].map(map_typos)"
   ]
  },
  {
   "cell_type": "code",
   "execution_count": 9,
   "metadata": {
    "ExecuteTime": {
     "end_time": "2020-08-25T13:31:32.718244Z",
     "start_time": "2020-08-25T13:31:32.693835Z"
    }
   },
   "outputs": [],
   "source": [
    "test.shop_id[test.shop_id.isin(map_typos.keys())] = test.shop_id[\n",
    "    test.shop_id.isin(map_typos.keys())\n",
    "].map(map_typos)"
   ]
  },
  {
   "cell_type": "markdown",
   "metadata": {},
   "source": [
    "Check online shops. Are they used in test dataset? If not we can just remove them to avoid dealing with Nans for some new features."
   ]
  },
  {
   "cell_type": "code",
   "execution_count": 10,
   "metadata": {
    "ExecuteTime": {
     "end_time": "2020-08-25T13:31:32.740281Z",
     "start_time": "2020-08-25T13:31:32.720959Z"
    }
   },
   "outputs": [
    {
     "data": {
      "text/html": [
       "<div>\n",
       "<style scoped>\n",
       "    .dataframe tbody tr th:only-of-type {\n",
       "        vertical-align: middle;\n",
       "    }\n",
       "\n",
       "    .dataframe tbody tr th {\n",
       "        vertical-align: top;\n",
       "    }\n",
       "\n",
       "    .dataframe thead th {\n",
       "        text-align: right;\n",
       "    }\n",
       "</style>\n",
       "<table border=\"1\" class=\"dataframe\">\n",
       "  <thead>\n",
       "    <tr style=\"text-align: right;\">\n",
       "      <th></th>\n",
       "      <th>shop_name</th>\n",
       "      <th>shop_id</th>\n",
       "    </tr>\n",
       "  </thead>\n",
       "  <tbody>\n",
       "    <tr>\n",
       "      <th>9</th>\n",
       "      <td>Выездная Торговля</td>\n",
       "      <td>9</td>\n",
       "    </tr>\n",
       "    <tr>\n",
       "      <th>12</th>\n",
       "      <td>Интернет-магазин ЧС</td>\n",
       "      <td>12</td>\n",
       "    </tr>\n",
       "    <tr>\n",
       "      <th>55</th>\n",
       "      <td>Цифровой склад 1С-Онлайн</td>\n",
       "      <td>55</td>\n",
       "    </tr>\n",
       "  </tbody>\n",
       "</table>\n",
       "</div>"
      ],
      "text/plain": [
       "                   shop_name  shop_id\n",
       "9          Выездная Торговля        9\n",
       "12       Интернет-магазин ЧС       12\n",
       "55  Цифровой склад 1С-Онлайн       55"
      ]
     },
     "execution_count": 10,
     "metadata": {},
     "output_type": "execute_result"
    }
   ],
   "source": [
    "suspicious_shops = [9, 12, 55]\n",
    "shops[shops.shop_id.isin(suspicious_shops)]"
   ]
  },
  {
   "cell_type": "code",
   "execution_count": 11,
   "metadata": {
    "ExecuteTime": {
     "end_time": "2020-08-25T13:31:32.797358Z",
     "start_time": "2020-08-25T13:31:32.745797Z"
    }
   },
   "outputs": [
    {
     "name": "stdout",
     "output_type": "stream",
     "text": [
      "Records 'Выездная Торговля' in train: 3751\n",
      "Records 'Интернет-магазин ЧС' in train: 34694\n",
      "Records 'Цифровой склад 1С-Онлайн' in train: 34769\n"
     ]
    }
   ],
   "source": [
    "for shop in suspicious_shops:\n",
    "    shop_name = shops[shops.shop_id == shop].shop_name.item()\n",
    "    print(f\"Records '{shop_name}' in train: {(sales_train.shop_id == shop).sum()}\")"
   ]
  },
  {
   "cell_type": "code",
   "execution_count": 12,
   "metadata": {
    "ExecuteTime": {
     "end_time": "2020-08-25T13:31:32.822256Z",
     "start_time": "2020-08-25T13:31:32.800734Z"
    }
   },
   "outputs": [
    {
     "name": "stdout",
     "output_type": "stream",
     "text": [
      "Records 'Выездная Торговля' in train: 0\n",
      "Records 'Интернет-магазин ЧС' in train: 5100\n",
      "Records 'Цифровой склад 1С-Онлайн' in train: 5100\n"
     ]
    }
   ],
   "source": [
    "for shop in suspicious_shops:\n",
    "    shop_name = shops[shops.shop_id == shop].shop_name.item()\n",
    "    print(f\"Records '{shop_name}' in train: {(test.shop_id == shop).sum()}\")"
   ]
  },
  {
   "cell_type": "markdown",
   "metadata": {},
   "source": [
    "In this case we can remove `Выездная торговля`."
   ]
  },
  {
   "cell_type": "code",
   "execution_count": 13,
   "metadata": {
    "ExecuteTime": {
     "end_time": "2020-08-25T13:31:32.833281Z",
     "start_time": "2020-08-25T13:31:32.825654Z"
    }
   },
   "outputs": [
    {
     "data": {
      "text/plain": [
       "(2935849, 6)"
      ]
     },
     "execution_count": 13,
     "metadata": {},
     "output_type": "execute_result"
    }
   ],
   "source": [
    "sales_train.shape"
   ]
  },
  {
   "cell_type": "code",
   "execution_count": 14,
   "metadata": {
    "ExecuteTime": {
     "end_time": "2020-08-25T13:31:33.010201Z",
     "start_time": "2020-08-25T13:31:32.836447Z"
    }
   },
   "outputs": [],
   "source": [
    "sales_train = sales_train[sales_train.shop_id != 9]"
   ]
  },
  {
   "cell_type": "markdown",
   "metadata": {},
   "source": [
    "### Items"
   ]
  },
  {
   "cell_type": "code",
   "execution_count": 15,
   "metadata": {
    "ExecuteTime": {
     "end_time": "2020-08-25T13:31:33.031557Z",
     "start_time": "2020-08-25T13:31:33.013849Z"
    }
   },
   "outputs": [
    {
     "data": {
      "text/html": [
       "<div>\n",
       "<style scoped>\n",
       "    .dataframe tbody tr th:only-of-type {\n",
       "        vertical-align: middle;\n",
       "    }\n",
       "\n",
       "    .dataframe tbody tr th {\n",
       "        vertical-align: top;\n",
       "    }\n",
       "\n",
       "    .dataframe thead th {\n",
       "        text-align: right;\n",
       "    }\n",
       "</style>\n",
       "<table border=\"1\" class=\"dataframe\">\n",
       "  <thead>\n",
       "    <tr style=\"text-align: right;\">\n",
       "      <th></th>\n",
       "      <th>item_name</th>\n",
       "      <th>item_id</th>\n",
       "      <th>item_category_id</th>\n",
       "    </tr>\n",
       "  </thead>\n",
       "  <tbody>\n",
       "    <tr>\n",
       "      <th>0</th>\n",
       "      <td>! ВО ВЛАСТИ НАВАЖДЕНИЯ (ПЛАСТ.)         D</td>\n",
       "      <td>0</td>\n",
       "      <td>40</td>\n",
       "    </tr>\n",
       "    <tr>\n",
       "      <th>1</th>\n",
       "      <td>!ABBYY FineReader 12 Professional Edition Full...</td>\n",
       "      <td>1</td>\n",
       "      <td>76</td>\n",
       "    </tr>\n",
       "    <tr>\n",
       "      <th>2</th>\n",
       "      <td>***В ЛУЧАХ СЛАВЫ   (UNV)                    D</td>\n",
       "      <td>2</td>\n",
       "      <td>40</td>\n",
       "    </tr>\n",
       "    <tr>\n",
       "      <th>3</th>\n",
       "      <td>***ГОЛУБАЯ ВОЛНА  (Univ)                      D</td>\n",
       "      <td>3</td>\n",
       "      <td>40</td>\n",
       "    </tr>\n",
       "    <tr>\n",
       "      <th>4</th>\n",
       "      <td>***КОРОБКА (СТЕКЛО)                       D</td>\n",
       "      <td>4</td>\n",
       "      <td>40</td>\n",
       "    </tr>\n",
       "  </tbody>\n",
       "</table>\n",
       "</div>"
      ],
      "text/plain": [
       "                                           item_name  item_id  \\\n",
       "0          ! ВО ВЛАСТИ НАВАЖДЕНИЯ (ПЛАСТ.)         D        0   \n",
       "1  !ABBYY FineReader 12 Professional Edition Full...        1   \n",
       "2      ***В ЛУЧАХ СЛАВЫ   (UNV)                    D        2   \n",
       "3    ***ГОЛУБАЯ ВОЛНА  (Univ)                      D        3   \n",
       "4        ***КОРОБКА (СТЕКЛО)                       D        4   \n",
       "\n",
       "   item_category_id  \n",
       "0                40  \n",
       "1                76  \n",
       "2                40  \n",
       "3                40  \n",
       "4                40  "
      ]
     },
     "execution_count": 15,
     "metadata": {},
     "output_type": "execute_result"
    }
   ],
   "source": [
    "items.head()"
   ]
  },
  {
   "cell_type": "markdown",
   "metadata": {},
   "source": [
    "We found typos with `!`, `*`, `/`, `D`."
   ]
  },
  {
   "cell_type": "markdown",
   "metadata": {},
   "source": [
    "#### Correct `!`"
   ]
  },
  {
   "cell_type": "code",
   "execution_count": 16,
   "metadata": {
    "ExecuteTime": {
     "end_time": "2020-08-25T13:31:33.053172Z",
     "start_time": "2020-08-25T13:31:33.034378Z"
    }
   },
   "outputs": [
    {
     "data": {
      "text/plain": [
       "['! ВО ВЛАСТИ НАВАЖДЕНИЯ (ПЛАСТ.)         D',\n",
       " '!ABBYY FineReader 12 Professional Edition Full [PC, Цифровая версия]']"
      ]
     },
     "execution_count": 16,
     "metadata": {},
     "output_type": "execute_result"
    }
   ],
   "source": [
    "first_character = items.item_name.apply(lambda x: x[0])\n",
    "typos_list = items[first_character == '!'].item_name.to_list()\n",
    "typos_list"
   ]
  },
  {
   "cell_type": "markdown",
   "metadata": {},
   "source": [
    "There was no duplicates, thus just delete redundant `!`."
   ]
  },
  {
   "cell_type": "code",
   "execution_count": 17,
   "metadata": {
    "ExecuteTime": {
     "end_time": "2020-08-25T13:31:33.077435Z",
     "start_time": "2020-08-25T13:31:33.055805Z"
    }
   },
   "outputs": [
    {
     "name": "stderr",
     "output_type": "stream",
     "text": [
      "<ipython-input-17-3585e36035b3>:5: SettingWithCopyWarning: \n",
      "A value is trying to be set on a copy of a slice from a DataFrame\n",
      "\n",
      "See the caveats in the documentation: https://pandas.pydata.org/pandas-docs/stable/user_guide/indexing.html#returning-a-view-versus-a-copy\n",
      "  items.item_name[items.item_name.isin(map_typos.keys())] = items.item_name[\n"
     ]
    }
   ],
   "source": [
    "map_typos = {}\n",
    "for typo in typos_list:\n",
    "    map_typos[typo] = typo.strip('!').strip()\n",
    "    \n",
    "items.item_name[items.item_name.isin(map_typos.keys())] = items.item_name[\n",
    "    items.item_name.isin(map_typos.keys())\n",
    "].map(map_typos)"
   ]
  },
  {
   "cell_type": "markdown",
   "metadata": {},
   "source": [
    "#### Correct `*`"
   ]
  },
  {
   "cell_type": "code",
   "execution_count": 18,
   "metadata": {
    "ExecuteTime": {
     "end_time": "2020-08-25T13:31:33.091950Z",
     "start_time": "2020-08-25T13:31:33.080775Z"
    }
   },
   "outputs": [
    {
     "data": {
      "text/plain": [
       "['***В ЛУЧАХ СЛАВЫ   (UNV)                    D',\n",
       " '***ГОЛУБАЯ ВОЛНА  (Univ)                      D',\n",
       " '***КОРОБКА (СТЕКЛО)                       D',\n",
       " '***НОВЫЕ АМЕРИКАНСКИЕ ГРАФФИТИ  (UNI)             D',\n",
       " '***УДАР ПО ВОРОТАМ (UNI)               D',\n",
       " '***УДАР ПО ВОРОТАМ-2 (UNI)               D',\n",
       " '***ЧАЙ С МУССОЛИНИ                     D',\n",
       " '***ШУГАРЛЭНДСКИЙ ЭКСПРЕСС (UNI)             D',\n",
       " '*ЗА ГРАНЬЮ СМЕРТИ                       D',\n",
       " '*ЛИНИЯ СМЕРТИ                           D',\n",
       " '*МИХЕЙ И ДЖУМАНДЖИ  Сука любовь',\n",
       " '*СПАСАЯ ЭМИЛИ                           D',\n",
       " '*ЧОКНУТЫЙ ПРОФЕССОР /МАГИЯ/             D']"
      ]
     },
     "execution_count": 18,
     "metadata": {},
     "output_type": "execute_result"
    }
   ],
   "source": [
    "typos_list = items[first_character == '*'].item_name.to_list()\n",
    "typos_list"
   ]
  },
  {
   "cell_type": "markdown",
   "metadata": {},
   "source": [
    "There was duplicate problem with `*МИХЕЙ И ДЖУМАНДЖИ  Сука любовь`. In all other cases we should just remove `*`."
   ]
  },
  {
   "cell_type": "code",
   "execution_count": 19,
   "metadata": {
    "ExecuteTime": {
     "end_time": "2020-08-25T13:31:33.118468Z",
     "start_time": "2020-08-25T13:31:33.096428Z"
    }
   },
   "outputs": [
    {
     "name": "stderr",
     "output_type": "stream",
     "text": [
      "<ipython-input-19-3fa1c6e4f692>:6: SettingWithCopyWarning: \n",
      "A value is trying to be set on a copy of a slice from a DataFrame\n",
      "\n",
      "See the caveats in the documentation: https://pandas.pydata.org/pandas-docs/stable/user_guide/indexing.html#returning-a-view-versus-a-copy\n",
      "  items.item_name[items.item_name.isin(map_typos.keys())] = items.item_name[\n"
     ]
    }
   ],
   "source": [
    "map_typos = {}\n",
    "for typo in typos_list:\n",
    "    if typo[:3] != '*МИ':\n",
    "        map_typos[typo] = typo.strip('*').strip()\n",
    "    \n",
    "items.item_name[items.item_name.isin(map_typos.keys())] = items.item_name[\n",
    "    items.item_name.isin(map_typos.keys())\n",
    "].map(map_typos)"
   ]
  },
  {
   "cell_type": "markdown",
   "metadata": {
    "ExecuteTime": {
     "end_time": "2020-08-25T08:56:04.212137Z",
     "start_time": "2020-08-25T08:56:04.205594Z"
    }
   },
   "source": [
    "Case with duplicate we should process separately. Check how many records with both typo and corrected."
   ]
  },
  {
   "cell_type": "code",
   "execution_count": 20,
   "metadata": {
    "ExecuteTime": {
     "end_time": "2020-08-25T13:31:33.152261Z",
     "start_time": "2020-08-25T13:31:33.123442Z"
    }
   },
   "outputs": [
    {
     "data": {
      "text/html": [
       "<div>\n",
       "<style scoped>\n",
       "    .dataframe tbody tr th:only-of-type {\n",
       "        vertical-align: middle;\n",
       "    }\n",
       "\n",
       "    .dataframe tbody tr th {\n",
       "        vertical-align: top;\n",
       "    }\n",
       "\n",
       "    .dataframe thead th {\n",
       "        text-align: right;\n",
       "    }\n",
       "</style>\n",
       "<table border=\"1\" class=\"dataframe\">\n",
       "  <thead>\n",
       "    <tr style=\"text-align: right;\">\n",
       "      <th></th>\n",
       "      <th>item_name</th>\n",
       "      <th>item_id</th>\n",
       "      <th>item_category_id</th>\n",
       "    </tr>\n",
       "  </thead>\n",
       "  <tbody>\n",
       "    <tr>\n",
       "      <th>12</th>\n",
       "      <td>*МИХЕЙ И ДЖУМАНДЖИ  Сука любовь</td>\n",
       "      <td>12</td>\n",
       "      <td>55</td>\n",
       "    </tr>\n",
       "    <tr>\n",
       "      <th>14690</th>\n",
       "      <td>МИХЕЙ И ДЖУМАНДЖИ  Сука любовь</td>\n",
       "      <td>14690</td>\n",
       "      <td>55</td>\n",
       "    </tr>\n",
       "    <tr>\n",
       "      <th>14691</th>\n",
       "      <td>МИХЕЙ И ДЖУМАНДЖИ  Сука любовь  LP</td>\n",
       "      <td>14691</td>\n",
       "      <td>58</td>\n",
       "    </tr>\n",
       "  </tbody>\n",
       "</table>\n",
       "</div>"
      ],
      "text/plain": [
       "                                item_name  item_id  item_category_id\n",
       "12        *МИХЕЙ И ДЖУМАНДЖИ  Сука любовь       12                55\n",
       "14690      МИХЕЙ И ДЖУМАНДЖИ  Сука любовь    14690                55\n",
       "14691  МИХЕЙ И ДЖУМАНДЖИ  Сука любовь  LP    14691                58"
      ]
     },
     "execution_count": 20,
     "metadata": {},
     "output_type": "execute_result"
    }
   ],
   "source": [
    "items[items.item_name.str.contains('МИХЕЙ')]"
   ]
  },
  {
   "cell_type": "code",
   "execution_count": 21,
   "metadata": {
    "ExecuteTime": {
     "end_time": "2020-08-25T13:31:33.158626Z",
     "start_time": "2020-08-25T13:31:33.154793Z"
    }
   },
   "outputs": [],
   "source": [
    "map_typos = {12: 14690}"
   ]
  },
  {
   "cell_type": "code",
   "execution_count": 22,
   "metadata": {
    "ExecuteTime": {
     "end_time": "2020-08-25T13:31:33.189462Z",
     "start_time": "2020-08-25T13:31:33.161676Z"
    }
   },
   "outputs": [
    {
     "name": "stdout",
     "output_type": "stream",
     "text": [
      "Typos records with id=12 in train: 1\n",
      "Corrected records wit id=14690 in train: 427\n"
     ]
    }
   ],
   "source": [
    "for from_id, to_id in map_typos.items():\n",
    "    print(f'Typos records with id={from_id} in train: {sales_train.item_id.isin([from_id]).sum()}')\n",
    "    print(f'Corrected records wit id={to_id} in train: {sales_train.item_id.isin([to_id]).sum()}')"
   ]
  },
  {
   "cell_type": "code",
   "execution_count": 23,
   "metadata": {
    "ExecuteTime": {
     "end_time": "2020-08-25T13:31:33.210139Z",
     "start_time": "2020-08-25T13:31:33.199464Z"
    }
   },
   "outputs": [
    {
     "name": "stdout",
     "output_type": "stream",
     "text": [
      "Typos records with id=12 in test: 0\n",
      "Corrected records wit id=14690 in test: 42\n"
     ]
    }
   ],
   "source": [
    "for from_id, to_id in map_typos.items():\n",
    "    print(f'Typos records with id={from_id} in test: {test.item_id.isin([from_id]).sum()}')\n",
    "    print(f'Corrected records wit id={to_id} in test: {test.item_id.isin([to_id]).sum()}')"
   ]
  },
  {
   "cell_type": "markdown",
   "metadata": {},
   "source": [
    "We can see, that we can make mapping without problems."
   ]
  },
  {
   "cell_type": "code",
   "execution_count": 24,
   "metadata": {
    "ExecuteTime": {
     "end_time": "2020-08-25T13:31:33.460725Z",
     "start_time": "2020-08-25T13:31:33.213429Z"
    }
   },
   "outputs": [],
   "source": [
    "sales_train.item_id[sales_train.item_id.isin(map_typos.keys())] = sales_train.item_id[\n",
    "    sales_train.item_id.isin(map_typos.keys())\n",
    "].map(map_typos)"
   ]
  },
  {
   "cell_type": "code",
   "execution_count": 25,
   "metadata": {
    "ExecuteTime": {
     "end_time": "2020-08-25T13:31:33.511291Z",
     "start_time": "2020-08-25T13:31:33.464623Z"
    }
   },
   "outputs": [
    {
     "name": "stdout",
     "output_type": "stream",
     "text": [
      "Typos records with id=12 in train: 0\n",
      "Corrected records wit id=14690 in train: 428\n"
     ]
    }
   ],
   "source": [
    "for from_id, to_id in map_typos.items():\n",
    "    print(f'Typos records with id={from_id} in train: {sales_train.item_id.isin([from_id]).sum()}')\n",
    "    print(f'Corrected records wit id={to_id} in train: {sales_train.item_id.isin([to_id]).sum()}')"
   ]
  },
  {
   "cell_type": "markdown",
   "metadata": {},
   "source": [
    "#### Correct `/`"
   ]
  },
  {
   "cell_type": "code",
   "execution_count": 26,
   "metadata": {
    "ExecuteTime": {
     "end_time": "2020-08-25T13:31:33.542633Z",
     "start_time": "2020-08-25T13:31:33.524668Z"
    }
   },
   "outputs": [
    {
     "data": {
      "text/plain": [
       "['//АДРЕНАЛИН: ОДИН ПРОТИВ ВСЕХ (Регион)',\n",
       " '//МОНГОЛ С.Бодров (Регион)',\n",
       " '//НЕ ОСТАВЛЯЮЩИЙ СЛЕДА (Регион)',\n",
       " '/БОМБА ДЛЯ НЕВЕСТЫ /2DVD/               D',\n",
       " '/ЗОЛОТАЯ КОЛЛЕКЦИЯ м/ф-72',\n",
       " '/ОДНАЖДЫ В КИТАЕ-2',\n",
       " '/ПОСЛЕДНИЙ ШАНС',\n",
       " '/ПРОКЛЯТЬЕ ЭЛЬ ЧАРРО',\n",
       " '/СЕВЕР И ЮГ /Ч.2/',\n",
       " '/СМЕРТЕЛЬНЫЙ РАСКЛАД',\n",
       " '/ТЫ  - ТРУП',\n",
       " '/УМНОЖАЮЩИЙ ПЕЧАЛЬ т.2 (сер.3-4)']"
      ]
     },
     "execution_count": 26,
     "metadata": {},
     "output_type": "execute_result"
    }
   ],
   "source": [
    "typos_list = items[first_character == '/'].item_name.to_list()\n",
    "typos_list"
   ]
  },
  {
   "cell_type": "markdown",
   "metadata": {},
   "source": [
    "There was no duplicates problem."
   ]
  },
  {
   "cell_type": "code",
   "execution_count": 27,
   "metadata": {
    "ExecuteTime": {
     "end_time": "2020-08-25T13:31:33.577102Z",
     "start_time": "2020-08-25T13:31:33.553989Z"
    }
   },
   "outputs": [
    {
     "name": "stderr",
     "output_type": "stream",
     "text": [
      "<ipython-input-27-57fb3087080e>:5: SettingWithCopyWarning: \n",
      "A value is trying to be set on a copy of a slice from a DataFrame\n",
      "\n",
      "See the caveats in the documentation: https://pandas.pydata.org/pandas-docs/stable/user_guide/indexing.html#returning-a-view-versus-a-copy\n",
      "  items.item_name[items.item_name.isin(map_typos.keys())] = items.item_name[\n"
     ]
    }
   ],
   "source": [
    "map_typos = {}\n",
    "for typo in typos_list:\n",
    "    map_typos[typo] = typo.strip('/')\n",
    "    \n",
    "items.item_name[items.item_name.isin(map_typos.keys())] = items.item_name[\n",
    "    items.item_name.isin(map_typos.keys())\n",
    "].map(map_typos)"
   ]
  },
  {
   "cell_type": "markdown",
   "metadata": {},
   "source": [
    "#### Correct `D`"
   ]
  },
  {
   "cell_type": "code",
   "execution_count": 28,
   "metadata": {
    "ExecuteTime": {
     "end_time": "2020-08-25T13:31:33.608557Z",
     "start_time": "2020-08-25T13:31:33.580325Z"
    }
   },
   "outputs": [
    {
     "data": {
      "text/plain": [
       "['ВО ВЛАСТИ НАВАЖДЕНИЯ (ПЛАСТ.)         D',\n",
       " 'В ЛУЧАХ СЛАВЫ   (UNV)                    D',\n",
       " 'ГОЛУБАЯ ВОЛНА  (Univ)                      D',\n",
       " 'КОРОБКА (СТЕКЛО)                       D',\n",
       " 'НОВЫЕ АМЕРИКАНСКИЕ ГРАФФИТИ  (UNI)             D',\n",
       " 'УДАР ПО ВОРОТАМ (UNI)               D',\n",
       " 'УДАР ПО ВОРОТАМ-2 (UNI)               D',\n",
       " 'ЧАЙ С МУССОЛИНИ                     D',\n",
       " 'ШУГАРЛЭНДСКИЙ ЭКСПРЕСС (UNI)             D',\n",
       " 'ЗА ГРАНЬЮ СМЕРТИ                       D',\n",
       " 'ЛИНИЯ СМЕРТИ                           D',\n",
       " 'СПАСАЯ ЭМИЛИ                           D',\n",
       " 'ЧОКНУТЫЙ ПРОФЕССОР /МАГИЯ/             D',\n",
       " 'БОМБА ДЛЯ НЕВЕСТЫ /2DVD/               D']"
      ]
     },
     "execution_count": 28,
     "metadata": {},
     "output_type": "execute_result"
    }
   ],
   "source": [
    "typos_list = items[items.item_name.str.endswith('    D')].item_name.to_list()\n",
    "typos_list"
   ]
  },
  {
   "cell_type": "markdown",
   "metadata": {},
   "source": [
    "There was no duplicates problem (it was already processed cases)."
   ]
  },
  {
   "cell_type": "code",
   "execution_count": 29,
   "metadata": {
    "ExecuteTime": {
     "end_time": "2020-08-25T13:31:33.630145Z",
     "start_time": "2020-08-25T13:31:33.610760Z"
    }
   },
   "outputs": [
    {
     "name": "stderr",
     "output_type": "stream",
     "text": [
      "<ipython-input-29-e0db57958d99>:5: SettingWithCopyWarning: \n",
      "A value is trying to be set on a copy of a slice from a DataFrame\n",
      "\n",
      "See the caveats in the documentation: https://pandas.pydata.org/pandas-docs/stable/user_guide/indexing.html#returning-a-view-versus-a-copy\n",
      "  items.item_name[items.item_name.isin(map_typos.keys())] = items.item_name[\n"
     ]
    }
   ],
   "source": [
    "map_typos = {}\n",
    "for typo in typos_list:\n",
    "    map_typos[typo] = typo.strip('    D')\n",
    "    \n",
    "items.item_name[items.item_name.isin(map_typos.keys())] = items.item_name[\n",
    "    items.item_name.isin(map_typos.keys())\n",
    "].map(map_typos)"
   ]
  },
  {
   "cell_type": "markdown",
   "metadata": {},
   "source": [
    "### Sales"
   ]
  },
  {
   "cell_type": "code",
   "execution_count": 30,
   "metadata": {
    "ExecuteTime": {
     "end_time": "2020-08-25T13:31:33.649033Z",
     "start_time": "2020-08-25T13:31:33.633074Z"
    }
   },
   "outputs": [
    {
     "data": {
      "text/html": [
       "<div>\n",
       "<style scoped>\n",
       "    .dataframe tbody tr th:only-of-type {\n",
       "        vertical-align: middle;\n",
       "    }\n",
       "\n",
       "    .dataframe tbody tr th {\n",
       "        vertical-align: top;\n",
       "    }\n",
       "\n",
       "    .dataframe thead th {\n",
       "        text-align: right;\n",
       "    }\n",
       "</style>\n",
       "<table border=\"1\" class=\"dataframe\">\n",
       "  <thead>\n",
       "    <tr style=\"text-align: right;\">\n",
       "      <th></th>\n",
       "      <th>date</th>\n",
       "      <th>date_block_num</th>\n",
       "      <th>shop_id</th>\n",
       "      <th>item_id</th>\n",
       "      <th>item_price</th>\n",
       "      <th>item_cnt_day</th>\n",
       "    </tr>\n",
       "  </thead>\n",
       "  <tbody>\n",
       "    <tr>\n",
       "      <th>0</th>\n",
       "      <td>02.01.2013</td>\n",
       "      <td>0</td>\n",
       "      <td>59</td>\n",
       "      <td>22154</td>\n",
       "      <td>999.00</td>\n",
       "      <td>1.0</td>\n",
       "    </tr>\n",
       "    <tr>\n",
       "      <th>1</th>\n",
       "      <td>03.01.2013</td>\n",
       "      <td>0</td>\n",
       "      <td>25</td>\n",
       "      <td>2552</td>\n",
       "      <td>899.00</td>\n",
       "      <td>1.0</td>\n",
       "    </tr>\n",
       "    <tr>\n",
       "      <th>2</th>\n",
       "      <td>05.01.2013</td>\n",
       "      <td>0</td>\n",
       "      <td>25</td>\n",
       "      <td>2552</td>\n",
       "      <td>899.00</td>\n",
       "      <td>-1.0</td>\n",
       "    </tr>\n",
       "    <tr>\n",
       "      <th>3</th>\n",
       "      <td>06.01.2013</td>\n",
       "      <td>0</td>\n",
       "      <td>25</td>\n",
       "      <td>2554</td>\n",
       "      <td>1709.05</td>\n",
       "      <td>1.0</td>\n",
       "    </tr>\n",
       "    <tr>\n",
       "      <th>4</th>\n",
       "      <td>15.01.2013</td>\n",
       "      <td>0</td>\n",
       "      <td>25</td>\n",
       "      <td>2555</td>\n",
       "      <td>1099.00</td>\n",
       "      <td>1.0</td>\n",
       "    </tr>\n",
       "  </tbody>\n",
       "</table>\n",
       "</div>"
      ],
      "text/plain": [
       "         date  date_block_num  shop_id  item_id  item_price  item_cnt_day\n",
       "0  02.01.2013               0       59    22154      999.00           1.0\n",
       "1  03.01.2013               0       25     2552      899.00           1.0\n",
       "2  05.01.2013               0       25     2552      899.00          -1.0\n",
       "3  06.01.2013               0       25     2554     1709.05           1.0\n",
       "4  15.01.2013               0       25     2555     1099.00           1.0"
      ]
     },
     "execution_count": 30,
     "metadata": {},
     "output_type": "execute_result"
    }
   ],
   "source": [
    "sales_train.head()"
   ]
  },
  {
   "cell_type": "markdown",
   "metadata": {},
   "source": [
    "In EDA we have found entry with negativa price. "
   ]
  },
  {
   "cell_type": "code",
   "execution_count": 31,
   "metadata": {
    "ExecuteTime": {
     "end_time": "2020-08-25T13:31:33.667246Z",
     "start_time": "2020-08-25T13:31:33.651155Z"
    }
   },
   "outputs": [
    {
     "data": {
      "text/html": [
       "<div>\n",
       "<style scoped>\n",
       "    .dataframe tbody tr th:only-of-type {\n",
       "        vertical-align: middle;\n",
       "    }\n",
       "\n",
       "    .dataframe tbody tr th {\n",
       "        vertical-align: top;\n",
       "    }\n",
       "\n",
       "    .dataframe thead th {\n",
       "        text-align: right;\n",
       "    }\n",
       "</style>\n",
       "<table border=\"1\" class=\"dataframe\">\n",
       "  <thead>\n",
       "    <tr style=\"text-align: right;\">\n",
       "      <th></th>\n",
       "      <th>date</th>\n",
       "      <th>date_block_num</th>\n",
       "      <th>shop_id</th>\n",
       "      <th>item_id</th>\n",
       "      <th>item_price</th>\n",
       "      <th>item_cnt_day</th>\n",
       "    </tr>\n",
       "  </thead>\n",
       "  <tbody>\n",
       "    <tr>\n",
       "      <th>484683</th>\n",
       "      <td>15.05.2013</td>\n",
       "      <td>4</td>\n",
       "      <td>32</td>\n",
       "      <td>2973</td>\n",
       "      <td>-1.0</td>\n",
       "      <td>1.0</td>\n",
       "    </tr>\n",
       "  </tbody>\n",
       "</table>\n",
       "</div>"
      ],
      "text/plain": [
       "              date  date_block_num  shop_id  item_id  item_price  item_cnt_day\n",
       "484683  15.05.2013               4       32     2973        -1.0           1.0"
      ]
     },
     "execution_count": 31,
     "metadata": {},
     "output_type": "execute_result"
    }
   ],
   "source": [
    "sales_train[sales_train.item_price <= 1e-9]"
   ]
  },
  {
   "cell_type": "markdown",
   "metadata": {},
   "source": [
    "Look at another entries with this `shop_id` and `item_id`."
   ]
  },
  {
   "cell_type": "code",
   "execution_count": 32,
   "metadata": {
    "ExecuteTime": {
     "end_time": "2020-08-25T13:31:33.693736Z",
     "start_time": "2020-08-25T13:31:33.669348Z"
    }
   },
   "outputs": [
    {
     "data": {
      "text/html": [
       "<div>\n",
       "<style scoped>\n",
       "    .dataframe tbody tr th:only-of-type {\n",
       "        vertical-align: middle;\n",
       "    }\n",
       "\n",
       "    .dataframe tbody tr th {\n",
       "        vertical-align: top;\n",
       "    }\n",
       "\n",
       "    .dataframe thead th {\n",
       "        text-align: right;\n",
       "    }\n",
       "</style>\n",
       "<table border=\"1\" class=\"dataframe\">\n",
       "  <thead>\n",
       "    <tr style=\"text-align: right;\">\n",
       "      <th></th>\n",
       "      <th>date</th>\n",
       "      <th>date_block_num</th>\n",
       "      <th>shop_id</th>\n",
       "      <th>item_id</th>\n",
       "      <th>item_price</th>\n",
       "      <th>item_cnt_day</th>\n",
       "    </tr>\n",
       "  </thead>\n",
       "  <tbody>\n",
       "    <tr>\n",
       "      <th>67427</th>\n",
       "      <td>29.01.2013</td>\n",
       "      <td>0</td>\n",
       "      <td>32</td>\n",
       "      <td>2973</td>\n",
       "      <td>2499.0</td>\n",
       "      <td>1.0</td>\n",
       "    </tr>\n",
       "    <tr>\n",
       "      <th>67428</th>\n",
       "      <td>25.01.2013</td>\n",
       "      <td>0</td>\n",
       "      <td>32</td>\n",
       "      <td>2973</td>\n",
       "      <td>2499.0</td>\n",
       "      <td>1.0</td>\n",
       "    </tr>\n",
       "    <tr>\n",
       "      <th>67429</th>\n",
       "      <td>22.01.2013</td>\n",
       "      <td>0</td>\n",
       "      <td>32</td>\n",
       "      <td>2973</td>\n",
       "      <td>2499.0</td>\n",
       "      <td>1.0</td>\n",
       "    </tr>\n",
       "    <tr>\n",
       "      <th>67430</th>\n",
       "      <td>21.01.2013</td>\n",
       "      <td>0</td>\n",
       "      <td>32</td>\n",
       "      <td>2973</td>\n",
       "      <td>2499.0</td>\n",
       "      <td>1.0</td>\n",
       "    </tr>\n",
       "    <tr>\n",
       "      <th>67431</th>\n",
       "      <td>18.01.2013</td>\n",
       "      <td>0</td>\n",
       "      <td>32</td>\n",
       "      <td>2973</td>\n",
       "      <td>2499.0</td>\n",
       "      <td>1.0</td>\n",
       "    </tr>\n",
       "    <tr>\n",
       "      <th>67432</th>\n",
       "      <td>17.01.2013</td>\n",
       "      <td>0</td>\n",
       "      <td>32</td>\n",
       "      <td>2973</td>\n",
       "      <td>2499.0</td>\n",
       "      <td>1.0</td>\n",
       "    </tr>\n",
       "    <tr>\n",
       "      <th>67433</th>\n",
       "      <td>15.01.2013</td>\n",
       "      <td>0</td>\n",
       "      <td>32</td>\n",
       "      <td>2973</td>\n",
       "      <td>2499.0</td>\n",
       "      <td>3.0</td>\n",
       "    </tr>\n",
       "    <tr>\n",
       "      <th>187844</th>\n",
       "      <td>05.02.2013</td>\n",
       "      <td>1</td>\n",
       "      <td>32</td>\n",
       "      <td>2973</td>\n",
       "      <td>2499.0</td>\n",
       "      <td>1.0</td>\n",
       "    </tr>\n",
       "    <tr>\n",
       "      <th>187845</th>\n",
       "      <td>14.02.2013</td>\n",
       "      <td>1</td>\n",
       "      <td>32</td>\n",
       "      <td>2973</td>\n",
       "      <td>2499.0</td>\n",
       "      <td>1.0</td>\n",
       "    </tr>\n",
       "    <tr>\n",
       "      <th>484682</th>\n",
       "      <td>23.05.2013</td>\n",
       "      <td>4</td>\n",
       "      <td>32</td>\n",
       "      <td>2973</td>\n",
       "      <td>1249.0</td>\n",
       "      <td>1.0</td>\n",
       "    </tr>\n",
       "    <tr>\n",
       "      <th>484683</th>\n",
       "      <td>15.05.2013</td>\n",
       "      <td>4</td>\n",
       "      <td>32</td>\n",
       "      <td>2973</td>\n",
       "      <td>-1.0</td>\n",
       "      <td>1.0</td>\n",
       "    </tr>\n",
       "    <tr>\n",
       "      <th>484684</th>\n",
       "      <td>06.05.2013</td>\n",
       "      <td>4</td>\n",
       "      <td>32</td>\n",
       "      <td>2973</td>\n",
       "      <td>2499.0</td>\n",
       "      <td>1.0</td>\n",
       "    </tr>\n",
       "    <tr>\n",
       "      <th>555026</th>\n",
       "      <td>05.06.2013</td>\n",
       "      <td>5</td>\n",
       "      <td>32</td>\n",
       "      <td>2973</td>\n",
       "      <td>1249.5</td>\n",
       "      <td>1.0</td>\n",
       "    </tr>\n",
       "  </tbody>\n",
       "</table>\n",
       "</div>"
      ],
      "text/plain": [
       "              date  date_block_num  shop_id  item_id  item_price  item_cnt_day\n",
       "67427   29.01.2013               0       32     2973      2499.0           1.0\n",
       "67428   25.01.2013               0       32     2973      2499.0           1.0\n",
       "67429   22.01.2013               0       32     2973      2499.0           1.0\n",
       "67430   21.01.2013               0       32     2973      2499.0           1.0\n",
       "67431   18.01.2013               0       32     2973      2499.0           1.0\n",
       "67432   17.01.2013               0       32     2973      2499.0           1.0\n",
       "67433   15.01.2013               0       32     2973      2499.0           3.0\n",
       "187844  05.02.2013               1       32     2973      2499.0           1.0\n",
       "187845  14.02.2013               1       32     2973      2499.0           1.0\n",
       "484682  23.05.2013               4       32     2973      1249.0           1.0\n",
       "484683  15.05.2013               4       32     2973        -1.0           1.0\n",
       "484684  06.05.2013               4       32     2973      2499.0           1.0\n",
       "555026  05.06.2013               5       32     2973      1249.5           1.0"
      ]
     },
     "execution_count": 32,
     "metadata": {},
     "output_type": "execute_result"
    }
   ],
   "source": [
    "sales_train[(sales_train.shop_id == 32) & (sales_train.item_id == 2973)]"
   ]
  },
  {
   "cell_type": "markdown",
   "metadata": {},
   "source": [
    "It obviously look like a mistake. Let's remove this row from the dataset."
   ]
  },
  {
   "cell_type": "code",
   "execution_count": 33,
   "metadata": {
    "ExecuteTime": {
     "end_time": "2020-08-25T13:31:33.810166Z",
     "start_time": "2020-08-25T13:31:33.695546Z"
    }
   },
   "outputs": [],
   "source": [
    "sales_train = sales_train[sales_train.item_price > 0]"
   ]
  },
  {
   "cell_type": "markdown",
   "metadata": {},
   "source": [
    "## Creating new features"
   ]
  },
  {
   "cell_type": "markdown",
   "metadata": {},
   "source": [
    "In this step I will add new features according to `1.0-db-EDA.ipynb`."
   ]
  },
  {
   "cell_type": "markdown",
   "metadata": {},
   "source": [
    "### Item categories"
   ]
  },
  {
   "cell_type": "code",
   "execution_count": 34,
   "metadata": {
    "ExecuteTime": {
     "end_time": "2020-08-25T13:31:33.820686Z",
     "start_time": "2020-08-25T13:31:33.812061Z"
    }
   },
   "outputs": [
    {
     "data": {
      "text/html": [
       "<div>\n",
       "<style scoped>\n",
       "    .dataframe tbody tr th:only-of-type {\n",
       "        vertical-align: middle;\n",
       "    }\n",
       "\n",
       "    .dataframe tbody tr th {\n",
       "        vertical-align: top;\n",
       "    }\n",
       "\n",
       "    .dataframe thead th {\n",
       "        text-align: right;\n",
       "    }\n",
       "</style>\n",
       "<table border=\"1\" class=\"dataframe\">\n",
       "  <thead>\n",
       "    <tr style=\"text-align: right;\">\n",
       "      <th></th>\n",
       "      <th>item_category_name</th>\n",
       "      <th>item_category_id</th>\n",
       "    </tr>\n",
       "  </thead>\n",
       "  <tbody>\n",
       "    <tr>\n",
       "      <th>0</th>\n",
       "      <td>PC - Гарнитуры/Наушники</td>\n",
       "      <td>0</td>\n",
       "    </tr>\n",
       "    <tr>\n",
       "      <th>1</th>\n",
       "      <td>Аксессуары - PS2</td>\n",
       "      <td>1</td>\n",
       "    </tr>\n",
       "    <tr>\n",
       "      <th>2</th>\n",
       "      <td>Аксессуары - PS3</td>\n",
       "      <td>2</td>\n",
       "    </tr>\n",
       "    <tr>\n",
       "      <th>3</th>\n",
       "      <td>Аксессуары - PS4</td>\n",
       "      <td>3</td>\n",
       "    </tr>\n",
       "    <tr>\n",
       "      <th>4</th>\n",
       "      <td>Аксессуары - PSP</td>\n",
       "      <td>4</td>\n",
       "    </tr>\n",
       "  </tbody>\n",
       "</table>\n",
       "</div>"
      ],
      "text/plain": [
       "        item_category_name  item_category_id\n",
       "0  PC - Гарнитуры/Наушники                 0\n",
       "1         Аксессуары - PS2                 1\n",
       "2         Аксессуары - PS3                 2\n",
       "3         Аксессуары - PS4                 3\n",
       "4         Аксессуары - PSP                 4"
      ]
     },
     "execution_count": 34,
     "metadata": {},
     "output_type": "execute_result"
    }
   ],
   "source": [
    "item_categories.head()"
   ]
  },
  {
   "cell_type": "markdown",
   "metadata": {},
   "source": [
    "#### Adding category and subcategory"
   ]
  },
  {
   "cell_type": "markdown",
   "metadata": {},
   "source": [
    "We will split `item_category_name` by delimiter and treat parts as category and subcategory. If there is no delimiter, then it will be both: category and subcategory."
   ]
  },
  {
   "cell_type": "code",
   "execution_count": 35,
   "metadata": {
    "ExecuteTime": {
     "end_time": "2020-08-25T13:31:33.834114Z",
     "start_time": "2020-08-25T13:31:33.822951Z"
    }
   },
   "outputs": [
    {
     "data": {
      "text/plain": [
       "['PC - Гарнитуры/Наушники',\n",
       " 'Аксессуары - PS2',\n",
       " 'Аксессуары - PS3',\n",
       " 'Аксессуары - PS4',\n",
       " 'Аксессуары - PSP',\n",
       " 'Аксессуары - PSVita',\n",
       " 'Аксессуары - XBOX 360',\n",
       " 'Аксессуары - XBOX ONE',\n",
       " 'Билеты (Цифра)',\n",
       " 'Доставка товара']"
      ]
     },
     "execution_count": 35,
     "metadata": {},
     "output_type": "execute_result"
    }
   ],
   "source": [
    "item_categories.item_category_name.to_list()[:10]"
   ]
  },
  {
   "cell_type": "code",
   "execution_count": 36,
   "metadata": {
    "ExecuteTime": {
     "end_time": "2020-08-25T13:31:33.844640Z",
     "start_time": "2020-08-25T13:31:33.836775Z"
    }
   },
   "outputs": [],
   "source": [
    "item_categories['category_name'] = item_categories.item_category_name.apply(lambda x: x.split(' - ')[0])\n",
    "item_categories['subcategory_name'] = item_categories.item_category_name.apply(lambda x: x.split(' - ')[-1])"
   ]
  },
  {
   "cell_type": "markdown",
   "metadata": {},
   "source": [
    "### Shops"
   ]
  },
  {
   "cell_type": "code",
   "execution_count": 37,
   "metadata": {
    "ExecuteTime": {
     "end_time": "2020-08-25T13:31:33.856969Z",
     "start_time": "2020-08-25T13:31:33.847231Z"
    }
   },
   "outputs": [
    {
     "data": {
      "text/html": [
       "<div>\n",
       "<style scoped>\n",
       "    .dataframe tbody tr th:only-of-type {\n",
       "        vertical-align: middle;\n",
       "    }\n",
       "\n",
       "    .dataframe tbody tr th {\n",
       "        vertical-align: top;\n",
       "    }\n",
       "\n",
       "    .dataframe thead th {\n",
       "        text-align: right;\n",
       "    }\n",
       "</style>\n",
       "<table border=\"1\" class=\"dataframe\">\n",
       "  <thead>\n",
       "    <tr style=\"text-align: right;\">\n",
       "      <th></th>\n",
       "      <th>shop_name</th>\n",
       "      <th>shop_id</th>\n",
       "    </tr>\n",
       "  </thead>\n",
       "  <tbody>\n",
       "    <tr>\n",
       "      <th>0</th>\n",
       "      <td>!Якутск Орджоникидзе, 56 фран</td>\n",
       "      <td>0</td>\n",
       "    </tr>\n",
       "    <tr>\n",
       "      <th>1</th>\n",
       "      <td>!Якутск ТЦ \"Центральный\" фран</td>\n",
       "      <td>1</td>\n",
       "    </tr>\n",
       "    <tr>\n",
       "      <th>2</th>\n",
       "      <td>Адыгея ТЦ \"Мега\"</td>\n",
       "      <td>2</td>\n",
       "    </tr>\n",
       "    <tr>\n",
       "      <th>3</th>\n",
       "      <td>Балашиха ТРК \"Октябрь-Киномир\"</td>\n",
       "      <td>3</td>\n",
       "    </tr>\n",
       "    <tr>\n",
       "      <th>4</th>\n",
       "      <td>Волжский ТЦ \"Волга Молл\"</td>\n",
       "      <td>4</td>\n",
       "    </tr>\n",
       "  </tbody>\n",
       "</table>\n",
       "</div>"
      ],
      "text/plain": [
       "                        shop_name  shop_id\n",
       "0   !Якутск Орджоникидзе, 56 фран        0\n",
       "1   !Якутск ТЦ \"Центральный\" фран        1\n",
       "2                Адыгея ТЦ \"Мега\"        2\n",
       "3  Балашиха ТРК \"Октябрь-Киномир\"        3\n",
       "4        Волжский ТЦ \"Волга Молл\"        4"
      ]
     },
     "execution_count": 37,
     "metadata": {},
     "output_type": "execute_result"
    }
   ],
   "source": [
    "shops.head()"
   ]
  },
  {
   "cell_type": "markdown",
   "metadata": {},
   "source": [
    "#### Adding city"
   ]
  },
  {
   "cell_type": "code",
   "execution_count": 38,
   "metadata": {
    "ExecuteTime": {
     "end_time": "2020-08-25T13:31:33.869290Z",
     "start_time": "2020-08-25T13:31:33.860908Z"
    }
   },
   "outputs": [
    {
     "data": {
      "text/plain": [
       "['!Якутск Орджоникидзе, 56 фран',\n",
       " '!Якутск ТЦ \"Центральный\" фран',\n",
       " 'Адыгея ТЦ \"Мега\"',\n",
       " 'Балашиха ТРК \"Октябрь-Киномир\"',\n",
       " 'Волжский ТЦ \"Волга Молл\"',\n",
       " 'Вологда ТРЦ \"Мармелад\"',\n",
       " 'Воронеж (Плехановская, 13)',\n",
       " 'Воронеж ТРЦ \"Максимир\"',\n",
       " 'Воронеж ТРЦ Сити-Парк \"Град\"',\n",
       " 'Выездная Торговля',\n",
       " 'Жуковский ул. Чкалова 39м?',\n",
       " 'Жуковский ул. Чкалова 39м²',\n",
       " 'Интернет-магазин ЧС',\n",
       " 'Казань ТЦ \"Бехетле\"',\n",
       " 'Казань ТЦ \"ПаркХаус\" II',\n",
       " 'Калуга ТРЦ \"XXI век\"',\n",
       " 'Коломна ТЦ \"Рио\"',\n",
       " 'Красноярск ТЦ \"Взлетка Плаза\"',\n",
       " 'Красноярск ТЦ \"Июнь\"',\n",
       " 'Курск ТЦ \"Пушкинский\"',\n",
       " 'Москва \"Распродажа\"',\n",
       " 'Москва МТРЦ \"Афи Молл\"',\n",
       " 'Москва Магазин С21',\n",
       " 'Москва ТК \"Буденовский\" (пав.А2)',\n",
       " 'Москва ТК \"Буденовский\" (пав.К7)',\n",
       " 'Москва ТРК \"Атриум\"',\n",
       " 'Москва ТЦ \"Ареал\" (Беляево)',\n",
       " 'Москва ТЦ \"МЕГА Белая Дача II\"',\n",
       " 'Москва ТЦ \"МЕГА Теплый Стан\" II',\n",
       " 'Москва ТЦ \"Новый век\" (Новокосино)',\n",
       " 'Москва ТЦ \"Перловский\"',\n",
       " 'Москва ТЦ \"Семеновский\"',\n",
       " 'Москва ТЦ \"Серебряный Дом\"',\n",
       " 'Мытищи ТРК \"XL-3\"',\n",
       " 'Н.Новгород ТРЦ \"РИО\"',\n",
       " 'Н.Новгород ТРЦ \"Фантастика\"',\n",
       " 'Новосибирск ТРЦ \"Галерея Новосибирск\"',\n",
       " 'Новосибирск ТЦ \"Мега\"',\n",
       " 'Омск ТЦ \"Мега\"',\n",
       " 'РостовНаДону ТРК \"Мегацентр Горизонт\"',\n",
       " 'РостовНаДону ТРК \"Мегацентр Горизонт\" Островной',\n",
       " 'РостовНаДону ТЦ \"Мега\"',\n",
       " 'СПб ТК \"Невский Центр\"',\n",
       " 'СПб ТК \"Сенная\"',\n",
       " 'Самара ТЦ \"Мелодия\"',\n",
       " 'Самара ТЦ \"ПаркХаус\"',\n",
       " 'Сергиев Посад ТЦ \"7Я\"',\n",
       " 'Сургут ТРЦ \"Сити Молл\"',\n",
       " 'Томск ТРЦ \"Изумрудный Город\"',\n",
       " 'Тюмень ТРЦ \"Кристалл\"',\n",
       " 'Тюмень ТЦ \"Гудвин\"',\n",
       " 'Тюмень ТЦ \"Зеленый Берег\"',\n",
       " 'Уфа ТК \"Центральный\"',\n",
       " 'Уфа ТЦ \"Семья\" 2',\n",
       " 'Химки ТЦ \"Мега\"',\n",
       " 'Цифровой склад 1С-Онлайн',\n",
       " 'Чехов ТРЦ \"Карнавал\"',\n",
       " 'Якутск Орджоникидзе, 56',\n",
       " 'Якутск ТЦ \"Центральный\"',\n",
       " 'Ярославль ТЦ \"Альтаир\"']"
      ]
     },
     "execution_count": 38,
     "metadata": {},
     "output_type": "execute_result"
    }
   ],
   "source": [
    "shops.shop_name.to_list()"
   ]
  },
  {
   "cell_type": "code",
   "execution_count": 39,
   "metadata": {
    "ExecuteTime": {
     "end_time": "2020-08-25T13:31:33.879202Z",
     "start_time": "2020-08-25T13:31:33.872416Z"
    }
   },
   "outputs": [],
   "source": [
    "shops['city'] = shops.shop_name.apply(lambda x: x.strip('!').split()[0])"
   ]
  },
  {
   "cell_type": "markdown",
   "metadata": {},
   "source": [
    "Delete city for `Выездная Торговля`.\n",
    "\n",
    "Set city for `Интернет-магазин ЧС`, `Цифровой склад 1С-Онлайн` to `Online`."
   ]
  },
  {
   "cell_type": "code",
   "execution_count": 40,
   "metadata": {
    "ExecuteTime": {
     "end_time": "2020-08-25T13:31:33.897014Z",
     "start_time": "2020-08-25T13:31:33.882434Z"
    }
   },
   "outputs": [
    {
     "name": "stderr",
     "output_type": "stream",
     "text": [
      "<ipython-input-40-e7b125f1051c>:1: SettingWithCopyWarning: \n",
      "A value is trying to be set on a copy of a slice from a DataFrame\n",
      "\n",
      "See the caveats in the documentation: https://pandas.pydata.org/pandas-docs/stable/user_guide/indexing.html#returning-a-view-versus-a-copy\n",
      "  shops.city[shops.shop_name == 'Выездная Торговля'] = None\n",
      "<ipython-input-40-e7b125f1051c>:2: SettingWithCopyWarning: \n",
      "A value is trying to be set on a copy of a slice from a DataFrame\n",
      "\n",
      "See the caveats in the documentation: https://pandas.pydata.org/pandas-docs/stable/user_guide/indexing.html#returning-a-view-versus-a-copy\n",
      "  shops.city[shops.shop_name.isin(['Интернет-магазин ЧС',\n"
     ]
    }
   ],
   "source": [
    "shops.city[shops.shop_name == 'Выездная Торговля'] = None\n",
    "shops.city[shops.shop_name.isin(['Интернет-магазин ЧС', \n",
    "                                 'Цифровой склад 1С-Онлайн'])] = 'Online'"
   ]
  },
  {
   "cell_type": "markdown",
   "metadata": {},
   "source": [
    "Add number of residents in a city."
   ]
  },
  {
   "cell_type": "code",
   "execution_count": 41,
   "metadata": {
    "ExecuteTime": {
     "end_time": "2020-08-25T13:31:33.912468Z",
     "start_time": "2020-08-25T13:31:33.900040Z"
    }
   },
   "outputs": [
    {
     "data": {
      "text/html": [
       "<div>\n",
       "<style scoped>\n",
       "    .dataframe tbody tr th:only-of-type {\n",
       "        vertical-align: middle;\n",
       "    }\n",
       "\n",
       "    .dataframe tbody tr th {\n",
       "        vertical-align: top;\n",
       "    }\n",
       "\n",
       "    .dataframe thead th {\n",
       "        text-align: right;\n",
       "    }\n",
       "</style>\n",
       "<table border=\"1\" class=\"dataframe\">\n",
       "  <thead>\n",
       "    <tr style=\"text-align: right;\">\n",
       "      <th></th>\n",
       "      <th>num_residents</th>\n",
       "    </tr>\n",
       "    <tr>\n",
       "      <th>city</th>\n",
       "      <th></th>\n",
       "    </tr>\n",
       "  </thead>\n",
       "  <tbody>\n",
       "    <tr>\n",
       "      <th>Якутск</th>\n",
       "      <td>322987</td>\n",
       "    </tr>\n",
       "    <tr>\n",
       "      <th>Адыгея</th>\n",
       "      <td>463088</td>\n",
       "    </tr>\n",
       "    <tr>\n",
       "      <th>Балашиха</th>\n",
       "      <td>507366</td>\n",
       "    </tr>\n",
       "    <tr>\n",
       "      <th>Волжский</th>\n",
       "      <td>323906</td>\n",
       "    </tr>\n",
       "    <tr>\n",
       "      <th>Вологда</th>\n",
       "      <td>310302</td>\n",
       "    </tr>\n",
       "  </tbody>\n",
       "</table>\n",
       "</div>"
      ],
      "text/plain": [
       "          num_residents\n",
       "city                   \n",
       "Якутск           322987\n",
       "Адыгея           463088\n",
       "Балашиха         507366\n",
       "Волжский         323906\n",
       "Вологда          310302"
      ]
     },
     "execution_count": 41,
     "metadata": {},
     "output_type": "execute_result"
    }
   ],
   "source": [
    "num_residents = pd.read_csv('../data/external/num_residents.csv', index_col=0)\n",
    "num_residents.head()"
   ]
  },
  {
   "cell_type": "code",
   "execution_count": 42,
   "metadata": {
    "ExecuteTime": {
     "end_time": "2020-08-25T13:31:33.923220Z",
     "start_time": "2020-08-25T13:31:33.915083Z"
    }
   },
   "outputs": [],
   "source": [
    "shops['num_residents'] = shops.city.map(num_residents.num_residents)"
   ]
  },
  {
   "cell_type": "markdown",
   "metadata": {},
   "source": [
    "#### Adding coordinates of a shop"
   ]
  },
  {
   "cell_type": "markdown",
   "metadata": {},
   "source": [
    "To be added."
   ]
  },
  {
   "cell_type": "markdown",
   "metadata": {},
   "source": [
    "### Items"
   ]
  },
  {
   "cell_type": "code",
   "execution_count": 43,
   "metadata": {
    "ExecuteTime": {
     "end_time": "2020-08-25T13:31:33.943555Z",
     "start_time": "2020-08-25T13:31:33.925720Z"
    }
   },
   "outputs": [
    {
     "data": {
      "text/html": [
       "<div>\n",
       "<style scoped>\n",
       "    .dataframe tbody tr th:only-of-type {\n",
       "        vertical-align: middle;\n",
       "    }\n",
       "\n",
       "    .dataframe tbody tr th {\n",
       "        vertical-align: top;\n",
       "    }\n",
       "\n",
       "    .dataframe thead th {\n",
       "        text-align: right;\n",
       "    }\n",
       "</style>\n",
       "<table border=\"1\" class=\"dataframe\">\n",
       "  <thead>\n",
       "    <tr style=\"text-align: right;\">\n",
       "      <th></th>\n",
       "      <th>item_name</th>\n",
       "      <th>item_id</th>\n",
       "      <th>item_category_id</th>\n",
       "    </tr>\n",
       "  </thead>\n",
       "  <tbody>\n",
       "    <tr>\n",
       "      <th>0</th>\n",
       "      <td>ВО ВЛАСТИ НАВАЖДЕНИЯ (ПЛАСТ.)</td>\n",
       "      <td>0</td>\n",
       "      <td>40</td>\n",
       "    </tr>\n",
       "    <tr>\n",
       "      <th>1</th>\n",
       "      <td>ABBYY FineReader 12 Professional Edition Full ...</td>\n",
       "      <td>1</td>\n",
       "      <td>76</td>\n",
       "    </tr>\n",
       "    <tr>\n",
       "      <th>2</th>\n",
       "      <td>В ЛУЧАХ СЛАВЫ   (UNV)</td>\n",
       "      <td>2</td>\n",
       "      <td>40</td>\n",
       "    </tr>\n",
       "    <tr>\n",
       "      <th>3</th>\n",
       "      <td>ГОЛУБАЯ ВОЛНА  (Univ)</td>\n",
       "      <td>3</td>\n",
       "      <td>40</td>\n",
       "    </tr>\n",
       "    <tr>\n",
       "      <th>4</th>\n",
       "      <td>КОРОБКА (СТЕКЛО)</td>\n",
       "      <td>4</td>\n",
       "      <td>40</td>\n",
       "    </tr>\n",
       "  </tbody>\n",
       "</table>\n",
       "</div>"
      ],
      "text/plain": [
       "                                           item_name  item_id  \\\n",
       "0                      ВО ВЛАСТИ НАВАЖДЕНИЯ (ПЛАСТ.)        0   \n",
       "1  ABBYY FineReader 12 Professional Edition Full ...        1   \n",
       "2                              В ЛУЧАХ СЛАВЫ   (UNV)        2   \n",
       "3                              ГОЛУБАЯ ВОЛНА  (Univ)        3   \n",
       "4                                   КОРОБКА (СТЕКЛО)        4   \n",
       "\n",
       "   item_category_id  \n",
       "0                40  \n",
       "1                76  \n",
       "2                40  \n",
       "3                40  \n",
       "4                40  "
      ]
     },
     "execution_count": 43,
     "metadata": {},
     "output_type": "execute_result"
    }
   ],
   "source": [
    "items.head()"
   ]
  },
  {
   "cell_type": "markdown",
   "metadata": {},
   "source": [
    "#### Addint text features"
   ]
  },
  {
   "cell_type": "markdown",
   "metadata": {},
   "source": [
    "To be added in experiments."
   ]
  },
  {
   "cell_type": "markdown",
   "metadata": {},
   "source": [
    "### Sales"
   ]
  },
  {
   "cell_type": "code",
   "execution_count": 44,
   "metadata": {
    "ExecuteTime": {
     "end_time": "2020-08-25T13:31:33.964838Z",
     "start_time": "2020-08-25T13:31:33.946711Z"
    }
   },
   "outputs": [
    {
     "data": {
      "text/html": [
       "<div>\n",
       "<style scoped>\n",
       "    .dataframe tbody tr th:only-of-type {\n",
       "        vertical-align: middle;\n",
       "    }\n",
       "\n",
       "    .dataframe tbody tr th {\n",
       "        vertical-align: top;\n",
       "    }\n",
       "\n",
       "    .dataframe thead th {\n",
       "        text-align: right;\n",
       "    }\n",
       "</style>\n",
       "<table border=\"1\" class=\"dataframe\">\n",
       "  <thead>\n",
       "    <tr style=\"text-align: right;\">\n",
       "      <th></th>\n",
       "      <th>date</th>\n",
       "      <th>date_block_num</th>\n",
       "      <th>shop_id</th>\n",
       "      <th>item_id</th>\n",
       "      <th>item_price</th>\n",
       "      <th>item_cnt_day</th>\n",
       "    </tr>\n",
       "  </thead>\n",
       "  <tbody>\n",
       "    <tr>\n",
       "      <th>0</th>\n",
       "      <td>02.01.2013</td>\n",
       "      <td>0</td>\n",
       "      <td>59</td>\n",
       "      <td>22154</td>\n",
       "      <td>999.00</td>\n",
       "      <td>1.0</td>\n",
       "    </tr>\n",
       "    <tr>\n",
       "      <th>1</th>\n",
       "      <td>03.01.2013</td>\n",
       "      <td>0</td>\n",
       "      <td>25</td>\n",
       "      <td>2552</td>\n",
       "      <td>899.00</td>\n",
       "      <td>1.0</td>\n",
       "    </tr>\n",
       "    <tr>\n",
       "      <th>2</th>\n",
       "      <td>05.01.2013</td>\n",
       "      <td>0</td>\n",
       "      <td>25</td>\n",
       "      <td>2552</td>\n",
       "      <td>899.00</td>\n",
       "      <td>-1.0</td>\n",
       "    </tr>\n",
       "    <tr>\n",
       "      <th>3</th>\n",
       "      <td>06.01.2013</td>\n",
       "      <td>0</td>\n",
       "      <td>25</td>\n",
       "      <td>2554</td>\n",
       "      <td>1709.05</td>\n",
       "      <td>1.0</td>\n",
       "    </tr>\n",
       "    <tr>\n",
       "      <th>4</th>\n",
       "      <td>15.01.2013</td>\n",
       "      <td>0</td>\n",
       "      <td>25</td>\n",
       "      <td>2555</td>\n",
       "      <td>1099.00</td>\n",
       "      <td>1.0</td>\n",
       "    </tr>\n",
       "  </tbody>\n",
       "</table>\n",
       "</div>"
      ],
      "text/plain": [
       "         date  date_block_num  shop_id  item_id  item_price  item_cnt_day\n",
       "0  02.01.2013               0       59    22154      999.00           1.0\n",
       "1  03.01.2013               0       25     2552      899.00           1.0\n",
       "2  05.01.2013               0       25     2552      899.00          -1.0\n",
       "3  06.01.2013               0       25     2554     1709.05           1.0\n",
       "4  15.01.2013               0       25     2555     1099.00           1.0"
      ]
     },
     "execution_count": 44,
     "metadata": {},
     "output_type": "execute_result"
    }
   ],
   "source": [
    "sales_train.head()"
   ]
  },
  {
   "cell_type": "markdown",
   "metadata": {},
   "source": [
    "#### Adding date features"
   ]
  },
  {
   "cell_type": "code",
   "execution_count": 45,
   "metadata": {
    "ExecuteTime": {
     "end_time": "2020-08-25T13:31:34.578005Z",
     "start_time": "2020-08-25T13:31:33.968915Z"
    }
   },
   "outputs": [],
   "source": [
    "sales_train.date = pd.to_datetime(sales_train.date, format='%d.%m.%Y')"
   ]
  },
  {
   "cell_type": "code",
   "execution_count": 46,
   "metadata": {
    "ExecuteTime": {
     "end_time": "2020-08-25T13:31:35.795483Z",
     "start_time": "2020-08-25T13:31:34.580572Z"
    }
   },
   "outputs": [],
   "source": [
    "sales_train['day'] = sales_train.date.dt.day\n",
    "sales_train['month'] = sales_train.date.dt.month\n",
    "sales_train['year'] = sales_train.date.dt.year\n",
    "sales_train['weekday'] = sales_train.date.dt.weekday"
   ]
  },
  {
   "cell_type": "markdown",
   "metadata": {},
   "source": [
    "Add holiday features."
   ]
  },
  {
   "cell_type": "code",
   "execution_count": 47,
   "metadata": {
    "ExecuteTime": {
     "end_time": "2020-08-25T13:31:35.807508Z",
     "start_time": "2020-08-25T13:31:35.797224Z"
    }
   },
   "outputs": [],
   "source": [
    "def days_since_holiday(datetimes):\n",
    "    \"\"\"Assign to each date days since last holiday.\"\"\"\n",
    "    ru_holidays = holidays.Russia()\n",
    "    days_since_holiday = np.zeros(datetimes.shape[0])\n",
    "    for i, current_datetime in tqdm(enumerate(datetimes.values), total=datetimes.size):\n",
    "        last_holiday = current_datetime\n",
    "        while not last_holiday in ru_holidays:\n",
    "            last_holiday = last_holiday - datetime.timedelta(days=1)\n",
    "    days_since_holiday[i] = (current_datetime - last_holiday).days\n",
    "    return days_since_holiday"
   ]
  },
  {
   "cell_type": "code",
   "execution_count": 48,
   "metadata": {
    "ExecuteTime": {
     "end_time": "2020-08-25T13:32:00.010062Z",
     "start_time": "2020-08-25T13:31:35.809940Z"
    }
   },
   "outputs": [],
   "source": [
    "russian_holidays = holidays.Russia()\n",
    "sales_train['is_holiday'] = sales_train.date.apply(lambda x: x in russian_holidays)"
   ]
  },
  {
   "cell_type": "code",
   "execution_count": 49,
   "metadata": {
    "ExecuteTime": {
     "end_time": "2020-08-25T13:36:31.668556Z",
     "start_time": "2020-08-25T13:32:00.011878Z"
    }
   },
   "outputs": [
    {
     "data": {
      "application/vnd.jupyter.widget-view+json": {
       "model_id": "cb61cb1c0b57474a9b710605e83e5a10",
       "version_major": 2,
       "version_minor": 0
      },
      "text/plain": [
       "HBox(children=(FloatProgress(value=0.0, max=2932097.0), HTML(value='')))"
      ]
     },
     "metadata": {},
     "output_type": "display_data"
    },
    {
     "name": "stdout",
     "output_type": "stream",
     "text": [
      "\n"
     ]
    }
   ],
   "source": [
    "sales_train['days_since_holiday'] = days_since_holiday(\n",
    "    sales_train.date.dt.date\n",
    ").astype(int)"
   ]
  },
  {
   "cell_type": "markdown",
   "metadata": {},
   "source": [
    "#### Adding price features"
   ]
  },
  {
   "cell_type": "markdown",
   "metadata": {},
   "source": [
    "We will device price on \"even\" and \"non even\" parts. Even part is a price, derived from first digit, non-even -- residual."
   ]
  },
  {
   "cell_type": "code",
   "execution_count": 50,
   "metadata": {
    "ExecuteTime": {
     "end_time": "2020-08-25T13:36:34.199692Z",
     "start_time": "2020-08-25T13:36:31.670670Z"
    }
   },
   "outputs": [],
   "source": [
    "sales_train['item_non_even_price'] = sales_train.item_price.apply(lambda x: float(str(x)[1:]))\n",
    "sales_train['item_even_price'] = sales_train.item_price - sales_train['item_non_even_price']"
   ]
  },
  {
   "cell_type": "code",
   "execution_count": 51,
   "metadata": {
    "ExecuteTime": {
     "end_time": "2020-08-25T13:36:34.222778Z",
     "start_time": "2020-08-25T13:36:34.201818Z"
    }
   },
   "outputs": [
    {
     "data": {
      "text/html": [
       "<div>\n",
       "<style scoped>\n",
       "    .dataframe tbody tr th:only-of-type {\n",
       "        vertical-align: middle;\n",
       "    }\n",
       "\n",
       "    .dataframe tbody tr th {\n",
       "        vertical-align: top;\n",
       "    }\n",
       "\n",
       "    .dataframe thead th {\n",
       "        text-align: right;\n",
       "    }\n",
       "</style>\n",
       "<table border=\"1\" class=\"dataframe\">\n",
       "  <thead>\n",
       "    <tr style=\"text-align: right;\">\n",
       "      <th></th>\n",
       "      <th>date</th>\n",
       "      <th>date_block_num</th>\n",
       "      <th>shop_id</th>\n",
       "      <th>item_id</th>\n",
       "      <th>item_price</th>\n",
       "      <th>item_cnt_day</th>\n",
       "      <th>day</th>\n",
       "      <th>month</th>\n",
       "      <th>year</th>\n",
       "      <th>weekday</th>\n",
       "      <th>is_holiday</th>\n",
       "      <th>days_since_holiday</th>\n",
       "      <th>item_non_even_price</th>\n",
       "      <th>item_even_price</th>\n",
       "    </tr>\n",
       "  </thead>\n",
       "  <tbody>\n",
       "    <tr>\n",
       "      <th>0</th>\n",
       "      <td>2013-01-02</td>\n",
       "      <td>0</td>\n",
       "      <td>59</td>\n",
       "      <td>22154</td>\n",
       "      <td>999.00</td>\n",
       "      <td>1.0</td>\n",
       "      <td>2</td>\n",
       "      <td>1</td>\n",
       "      <td>2013</td>\n",
       "      <td>2</td>\n",
       "      <td>True</td>\n",
       "      <td>0</td>\n",
       "      <td>99.00</td>\n",
       "      <td>900.0</td>\n",
       "    </tr>\n",
       "    <tr>\n",
       "      <th>1</th>\n",
       "      <td>2013-01-03</td>\n",
       "      <td>0</td>\n",
       "      <td>25</td>\n",
       "      <td>2552</td>\n",
       "      <td>899.00</td>\n",
       "      <td>1.0</td>\n",
       "      <td>3</td>\n",
       "      <td>1</td>\n",
       "      <td>2013</td>\n",
       "      <td>3</td>\n",
       "      <td>True</td>\n",
       "      <td>0</td>\n",
       "      <td>99.00</td>\n",
       "      <td>800.0</td>\n",
       "    </tr>\n",
       "    <tr>\n",
       "      <th>2</th>\n",
       "      <td>2013-01-05</td>\n",
       "      <td>0</td>\n",
       "      <td>25</td>\n",
       "      <td>2552</td>\n",
       "      <td>899.00</td>\n",
       "      <td>-1.0</td>\n",
       "      <td>5</td>\n",
       "      <td>1</td>\n",
       "      <td>2013</td>\n",
       "      <td>5</td>\n",
       "      <td>True</td>\n",
       "      <td>0</td>\n",
       "      <td>99.00</td>\n",
       "      <td>800.0</td>\n",
       "    </tr>\n",
       "    <tr>\n",
       "      <th>3</th>\n",
       "      <td>2013-01-06</td>\n",
       "      <td>0</td>\n",
       "      <td>25</td>\n",
       "      <td>2554</td>\n",
       "      <td>1709.05</td>\n",
       "      <td>1.0</td>\n",
       "      <td>6</td>\n",
       "      <td>1</td>\n",
       "      <td>2013</td>\n",
       "      <td>6</td>\n",
       "      <td>True</td>\n",
       "      <td>0</td>\n",
       "      <td>709.05</td>\n",
       "      <td>1000.0</td>\n",
       "    </tr>\n",
       "    <tr>\n",
       "      <th>4</th>\n",
       "      <td>2013-01-15</td>\n",
       "      <td>0</td>\n",
       "      <td>25</td>\n",
       "      <td>2555</td>\n",
       "      <td>1099.00</td>\n",
       "      <td>1.0</td>\n",
       "      <td>15</td>\n",
       "      <td>1</td>\n",
       "      <td>2013</td>\n",
       "      <td>1</td>\n",
       "      <td>False</td>\n",
       "      <td>0</td>\n",
       "      <td>99.00</td>\n",
       "      <td>1000.0</td>\n",
       "    </tr>\n",
       "  </tbody>\n",
       "</table>\n",
       "</div>"
      ],
      "text/plain": [
       "        date  date_block_num  shop_id  item_id  item_price  item_cnt_day  day  \\\n",
       "0 2013-01-02               0       59    22154      999.00           1.0    2   \n",
       "1 2013-01-03               0       25     2552      899.00           1.0    3   \n",
       "2 2013-01-05               0       25     2552      899.00          -1.0    5   \n",
       "3 2013-01-06               0       25     2554     1709.05           1.0    6   \n",
       "4 2013-01-15               0       25     2555     1099.00           1.0   15   \n",
       "\n",
       "   month  year  weekday  is_holiday  days_since_holiday  item_non_even_price  \\\n",
       "0      1  2013        2        True                   0                99.00   \n",
       "1      1  2013        3        True                   0                99.00   \n",
       "2      1  2013        5        True                   0                99.00   \n",
       "3      1  2013        6        True                   0               709.05   \n",
       "4      1  2013        1       False                   0                99.00   \n",
       "\n",
       "   item_even_price  \n",
       "0            900.0  \n",
       "1            800.0  \n",
       "2            800.0  \n",
       "3           1000.0  \n",
       "4           1000.0  "
      ]
     },
     "execution_count": 51,
     "metadata": {},
     "output_type": "execute_result"
    }
   ],
   "source": [
    "sales_train.head()"
   ]
  },
  {
   "cell_type": "markdown",
   "metadata": {},
   "source": [
    "## Aggregating"
   ]
  },
  {
   "cell_type": "markdown",
   "metadata": {},
   "source": [
    "Aggregate all features in one table by months."
   ]
  },
  {
   "cell_type": "code",
   "execution_count": null,
   "metadata": {},
   "outputs": [],
   "source": []
  }
 ],
 "metadata": {
  "kernelspec": {
   "display_name": "Python 3",
   "language": "python",
   "name": "python3"
  },
  "language_info": {
   "codemirror_mode": {
    "name": "ipython",
    "version": 3
   },
   "file_extension": ".py",
   "mimetype": "text/x-python",
   "name": "python",
   "nbconvert_exporter": "python",
   "pygments_lexer": "ipython3",
   "version": "3.8.5"
  }
 },
 "nbformat": 4,
 "nbformat_minor": 4
}
