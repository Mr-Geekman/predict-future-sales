{
 "cells": [
  {
   "cell_type": "code",
   "execution_count": 1,
   "metadata": {
    "ExecuteTime": {
     "end_time": "2020-08-26T14:17:24.074101Z",
     "start_time": "2020-08-26T14:17:22.427154Z"
    }
   },
   "outputs": [],
   "source": [
    "import datetime\n",
    "import gc\n",
    "from itertools import product\n",
    "\n",
    "import numpy as np\n",
    "import pandas as pd\n",
    "import scipy.stats as sps\n",
    "\n",
    "import matplotlib.pyplot as plt\n",
    "import seaborn as sns\n",
    "from tqdm.notebook import tqdm\n",
    "\n",
    "import holidays\n",
    "\n",
    "sns.set(font_scale=1.2)\n",
    "%matplotlib inline"
   ]
  },
  {
   "cell_type": "markdown",
   "metadata": {},
   "source": [
    "# Creating dataset"
   ]
  },
  {
   "cell_type": "markdown",
   "metadata": {},
   "source": [
    "In this notebook I will create base dataset for training (without tuning for specific models)."
   ]
  },
  {
   "cell_type": "code",
   "execution_count": 2,
   "metadata": {
    "ExecuteTime": {
     "end_time": "2020-08-26T14:17:25.532400Z",
     "start_time": "2020-08-26T14:17:24.077140Z"
    }
   },
   "outputs": [],
   "source": [
    "items = pd.read_csv('../data/raw/items.csv')\n",
    "item_categories = pd.read_csv('../data/raw/item_categories.csv')\n",
    "shops = pd.read_csv('../data/raw/shops.csv')\n",
    "sales_train = pd.read_csv('../data/raw/sales_train.csv')\n",
    "test = pd.read_csv('../data/raw/test.csv')"
   ]
  },
  {
   "cell_type": "markdown",
   "metadata": {},
   "source": [
    "## Cleaning"
   ]
  },
  {
   "cell_type": "markdown",
   "metadata": {},
   "source": [
    "In this step I will clean dataset according to `1.0-db-EDA.ipynb`."
   ]
  },
  {
   "cell_type": "markdown",
   "metadata": {},
   "source": [
    "### Item categories"
   ]
  },
  {
   "cell_type": "markdown",
   "metadata": {},
   "source": [
    "Now this section is empty, data was found clean."
   ]
  },
  {
   "cell_type": "markdown",
   "metadata": {},
   "source": [
    "### Shops"
   ]
  },
  {
   "cell_type": "code",
   "execution_count": 3,
   "metadata": {
    "ExecuteTime": {
     "end_time": "2020-08-26T14:17:25.551796Z",
     "start_time": "2020-08-26T14:17:25.535314Z"
    }
   },
   "outputs": [
    {
     "data": {
      "text/html": [
       "<div>\n",
       "<style scoped>\n",
       "    .dataframe tbody tr th:only-of-type {\n",
       "        vertical-align: middle;\n",
       "    }\n",
       "\n",
       "    .dataframe tbody tr th {\n",
       "        vertical-align: top;\n",
       "    }\n",
       "\n",
       "    .dataframe thead th {\n",
       "        text-align: right;\n",
       "    }\n",
       "</style>\n",
       "<table border=\"1\" class=\"dataframe\">\n",
       "  <thead>\n",
       "    <tr style=\"text-align: right;\">\n",
       "      <th></th>\n",
       "      <th>shop_name</th>\n",
       "      <th>shop_id</th>\n",
       "    </tr>\n",
       "  </thead>\n",
       "  <tbody>\n",
       "    <tr>\n",
       "      <th>0</th>\n",
       "      <td>!Якутск Орджоникидзе, 56 фран</td>\n",
       "      <td>0</td>\n",
       "    </tr>\n",
       "    <tr>\n",
       "      <th>1</th>\n",
       "      <td>!Якутск ТЦ \"Центральный\" фран</td>\n",
       "      <td>1</td>\n",
       "    </tr>\n",
       "    <tr>\n",
       "      <th>2</th>\n",
       "      <td>Адыгея ТЦ \"Мега\"</td>\n",
       "      <td>2</td>\n",
       "    </tr>\n",
       "    <tr>\n",
       "      <th>3</th>\n",
       "      <td>Балашиха ТРК \"Октябрь-Киномир\"</td>\n",
       "      <td>3</td>\n",
       "    </tr>\n",
       "    <tr>\n",
       "      <th>4</th>\n",
       "      <td>Волжский ТЦ \"Волга Молл\"</td>\n",
       "      <td>4</td>\n",
       "    </tr>\n",
       "  </tbody>\n",
       "</table>\n",
       "</div>"
      ],
      "text/plain": [
       "                        shop_name  shop_id\n",
       "0   !Якутск Орджоникидзе, 56 фран        0\n",
       "1   !Якутск ТЦ \"Центральный\" фран        1\n",
       "2                Адыгея ТЦ \"Мега\"        2\n",
       "3  Балашиха ТРК \"Октябрь-Киномир\"        3\n",
       "4        Волжский ТЦ \"Волга Молл\"        4"
      ]
     },
     "execution_count": 3,
     "metadata": {},
     "output_type": "execute_result"
    }
   ],
   "source": [
    "shops.head()"
   ]
  },
  {
   "cell_type": "markdown",
   "metadata": {},
   "source": [
    "We found some typos in `shop_name`. We should replace shops with typos with shops without typos in `sales_train`, `test` (if it is the case)."
   ]
  },
  {
   "cell_type": "code",
   "execution_count": 4,
   "metadata": {
    "ExecuteTime": {
     "end_time": "2020-08-26T14:17:25.561161Z",
     "start_time": "2020-08-26T14:17:25.555665Z"
    }
   },
   "outputs": [],
   "source": [
    "map_typos = {0: 57, 1: 58, 10: 11, 39: 40}"
   ]
  },
  {
   "cell_type": "markdown",
   "metadata": {},
   "source": [
    "Visualize mapping."
   ]
  },
  {
   "cell_type": "code",
   "execution_count": 5,
   "metadata": {
    "ExecuteTime": {
     "end_time": "2020-08-26T14:17:25.578524Z",
     "start_time": "2020-08-26T14:17:25.564284Z"
    }
   },
   "outputs": [
    {
     "name": "stdout",
     "output_type": "stream",
     "text": [
      "'!Якутск Орджоникидзе, 56 фран' ---> 'Якутск Орджоникидзе, 56'\n",
      "'!Якутск ТЦ \"Центральный\" фран' ---> 'Якутск ТЦ \"Центральный\"'\n",
      "'Жуковский ул. Чкалова 39м?' ---> 'Жуковский ул. Чкалова 39м²'\n",
      "'РостовНаДону ТРК \"Мегацентр Горизонт\"' ---> 'РостовНаДону ТРК \"Мегацентр Горизонт\" Островной'\n"
     ]
    }
   ],
   "source": [
    "shops_list = shops.shop_name.to_list()\n",
    "for from_id, to_id in map_typos.items():\n",
    "    print(f\"'{shops_list[from_id]}' ---> '{shops_list[to_id]}'\")"
   ]
  },
  {
   "cell_type": "markdown",
   "metadata": {},
   "source": [
    "Check datasets"
   ]
  },
  {
   "cell_type": "code",
   "execution_count": 6,
   "metadata": {
    "ExecuteTime": {
     "end_time": "2020-08-26T14:17:25.661633Z",
     "start_time": "2020-08-26T14:17:25.581213Z"
    }
   },
   "outputs": [
    {
     "name": "stdout",
     "output_type": "stream",
     "text": [
      "Typos records with id=0 in train: 9857\n",
      "Corrected records wit id=57 in train: 117428\n",
      "Typos records with id=1 in train: 5678\n",
      "Corrected records wit id=58 in train: 71441\n",
      "Typos records with id=10 in train: 21397\n",
      "Corrected records wit id=11 in train: 499\n",
      "Typos records with id=39 in train: 13440\n",
      "Corrected records wit id=40 in train: 4257\n"
     ]
    }
   ],
   "source": [
    "for from_id, to_id in map_typos.items():\n",
    "    print(f'Typos records with id={from_id} in train: '\n",
    "          f'{sales_train.shop_id.isin([from_id]).sum()}')\n",
    "    print(f'Corrected records wit id={to_id} in train: '\n",
    "          f'{sales_train.shop_id.isin([to_id]).sum()}')"
   ]
  },
  {
   "cell_type": "code",
   "execution_count": 7,
   "metadata": {
    "ExecuteTime": {
     "end_time": "2020-08-26T14:17:25.700536Z",
     "start_time": "2020-08-26T14:17:25.668766Z"
    }
   },
   "outputs": [
    {
     "name": "stdout",
     "output_type": "stream",
     "text": [
      "Typos records with id=0 in test: 0\n",
      "Corrected records wit id=57 in test: 5100\n",
      "Typos records with id=1 in test: 0\n",
      "Corrected records wit id=58 in test: 5100\n",
      "Typos records with id=10 in test: 5100\n",
      "Corrected records wit id=11 in test: 0\n",
      "Typos records with id=39 in test: 5100\n",
      "Corrected records wit id=40 in test: 0\n"
     ]
    }
   ],
   "source": [
    "for from_id, to_id in map_typos.items():\n",
    "    print(f'Typos records with id={from_id} in test: '\n",
    "          f'{test.shop_id.isin([from_id]).sum()}')\n",
    "    print(f'Corrected records wit id={to_id} in test: '\n",
    "          f'{test.shop_id.isin([to_id]).sum()}')"
   ]
  },
  {
   "cell_type": "markdown",
   "metadata": {},
   "source": [
    "As we can see, in test there is just one possible variant from two. We have to select one of them. We select corrected variants in all cases.\n",
    "\n",
    "**If we've made a mistake here, we will check it in the future (run without mapping)**"
   ]
  },
  {
   "cell_type": "code",
   "execution_count": 8,
   "metadata": {
    "ExecuteTime": {
     "end_time": "2020-08-26T14:17:25.837662Z",
     "start_time": "2020-08-26T14:17:25.705563Z"
    }
   },
   "outputs": [
    {
     "name": "stderr",
     "output_type": "stream",
     "text": [
      "<ipython-input-8-913109016405>:1: SettingWithCopyWarning: \n",
      "A value is trying to be set on a copy of a slice from a DataFrame\n",
      "\n",
      "See the caveats in the documentation: https://pandas.pydata.org/pandas-docs/stable/user_guide/indexing.html#returning-a-view-versus-a-copy\n",
      "  sales_train.shop_id[sales_train.shop_id.isin(map_typos.keys())] = sales_train.shop_id[\n"
     ]
    }
   ],
   "source": [
    "sales_train.shop_id[sales_train.shop_id.isin(map_typos.keys())] = sales_train.shop_id[\n",
    "    sales_train.shop_id.isin(map_typos.keys())\n",
    "].map(map_typos)"
   ]
  },
  {
   "cell_type": "code",
   "execution_count": 9,
   "metadata": {
    "ExecuteTime": {
     "end_time": "2020-08-26T14:17:25.870110Z",
     "start_time": "2020-08-26T14:17:25.848129Z"
    }
   },
   "outputs": [],
   "source": [
    "test.shop_id[test.shop_id.isin(map_typos.keys())] = test.shop_id[\n",
    "    test.shop_id.isin(map_typos.keys())\n",
    "].map(map_typos)"
   ]
  },
  {
   "cell_type": "markdown",
   "metadata": {},
   "source": [
    "Check online shops. Are they used in test dataset? If not we can just remove them to avoid dealing with Nans for some new features."
   ]
  },
  {
   "cell_type": "code",
   "execution_count": 10,
   "metadata": {
    "ExecuteTime": {
     "end_time": "2020-08-26T14:17:25.886804Z",
     "start_time": "2020-08-26T14:17:25.872517Z"
    }
   },
   "outputs": [
    {
     "data": {
      "text/html": [
       "<div>\n",
       "<style scoped>\n",
       "    .dataframe tbody tr th:only-of-type {\n",
       "        vertical-align: middle;\n",
       "    }\n",
       "\n",
       "    .dataframe tbody tr th {\n",
       "        vertical-align: top;\n",
       "    }\n",
       "\n",
       "    .dataframe thead th {\n",
       "        text-align: right;\n",
       "    }\n",
       "</style>\n",
       "<table border=\"1\" class=\"dataframe\">\n",
       "  <thead>\n",
       "    <tr style=\"text-align: right;\">\n",
       "      <th></th>\n",
       "      <th>shop_name</th>\n",
       "      <th>shop_id</th>\n",
       "    </tr>\n",
       "  </thead>\n",
       "  <tbody>\n",
       "    <tr>\n",
       "      <th>9</th>\n",
       "      <td>Выездная Торговля</td>\n",
       "      <td>9</td>\n",
       "    </tr>\n",
       "    <tr>\n",
       "      <th>12</th>\n",
       "      <td>Интернет-магазин ЧС</td>\n",
       "      <td>12</td>\n",
       "    </tr>\n",
       "    <tr>\n",
       "      <th>55</th>\n",
       "      <td>Цифровой склад 1С-Онлайн</td>\n",
       "      <td>55</td>\n",
       "    </tr>\n",
       "  </tbody>\n",
       "</table>\n",
       "</div>"
      ],
      "text/plain": [
       "                   shop_name  shop_id\n",
       "9          Выездная Торговля        9\n",
       "12       Интернет-магазин ЧС       12\n",
       "55  Цифровой склад 1С-Онлайн       55"
      ]
     },
     "execution_count": 10,
     "metadata": {},
     "output_type": "execute_result"
    }
   ],
   "source": [
    "suspicious_shops = [9, 12, 55]\n",
    "shops[shops.shop_id.isin(suspicious_shops)]"
   ]
  },
  {
   "cell_type": "code",
   "execution_count": 11,
   "metadata": {
    "ExecuteTime": {
     "end_time": "2020-08-26T14:17:25.930750Z",
     "start_time": "2020-08-26T14:17:25.890196Z"
    }
   },
   "outputs": [
    {
     "name": "stdout",
     "output_type": "stream",
     "text": [
      "Records 'Выездная Торговля' in train: 3751\n",
      "Records 'Интернет-магазин ЧС' in train: 34694\n",
      "Records 'Цифровой склад 1С-Онлайн' in train: 34769\n"
     ]
    }
   ],
   "source": [
    "for shop in suspicious_shops:\n",
    "    shop_name = shops[shops.shop_id == shop].shop_name.item()\n",
    "    print(f\"Records '{shop_name}' in train: \"\n",
    "          f\"{(sales_train.shop_id == shop).sum()}\")"
   ]
  },
  {
   "cell_type": "code",
   "execution_count": 12,
   "metadata": {
    "ExecuteTime": {
     "end_time": "2020-08-26T14:17:25.953007Z",
     "start_time": "2020-08-26T14:17:25.936127Z"
    }
   },
   "outputs": [
    {
     "name": "stdout",
     "output_type": "stream",
     "text": [
      "Records 'Выездная Торговля' in train: 0\n",
      "Records 'Интернет-магазин ЧС' in train: 5100\n",
      "Records 'Цифровой склад 1С-Онлайн' in train: 5100\n"
     ]
    }
   ],
   "source": [
    "for shop in suspicious_shops:\n",
    "    shop_name = shops[shops.shop_id == shop].shop_name.item()\n",
    "    print(f\"Records '{shop_name}' in train: \"\n",
    "          f\"{(test.shop_id == shop).sum()}\")"
   ]
  },
  {
   "cell_type": "markdown",
   "metadata": {},
   "source": [
    "In this case we can remove `Выездная торговля`."
   ]
  },
  {
   "cell_type": "code",
   "execution_count": 13,
   "metadata": {
    "ExecuteTime": {
     "end_time": "2020-08-26T14:17:25.961802Z",
     "start_time": "2020-08-26T14:17:25.955984Z"
    }
   },
   "outputs": [
    {
     "data": {
      "text/plain": [
       "(2935849, 6)"
      ]
     },
     "execution_count": 13,
     "metadata": {},
     "output_type": "execute_result"
    }
   ],
   "source": [
    "sales_train.shape"
   ]
  },
  {
   "cell_type": "code",
   "execution_count": 14,
   "metadata": {
    "ExecuteTime": {
     "end_time": "2020-08-26T14:17:26.115116Z",
     "start_time": "2020-08-26T14:17:25.965017Z"
    }
   },
   "outputs": [],
   "source": [
    "sales_train = sales_train[sales_train.shop_id != 9]"
   ]
  },
  {
   "cell_type": "markdown",
   "metadata": {},
   "source": [
    "### Items"
   ]
  },
  {
   "cell_type": "code",
   "execution_count": 15,
   "metadata": {
    "ExecuteTime": {
     "end_time": "2020-08-26T14:17:26.134276Z",
     "start_time": "2020-08-26T14:17:26.121526Z"
    }
   },
   "outputs": [
    {
     "data": {
      "text/html": [
       "<div>\n",
       "<style scoped>\n",
       "    .dataframe tbody tr th:only-of-type {\n",
       "        vertical-align: middle;\n",
       "    }\n",
       "\n",
       "    .dataframe tbody tr th {\n",
       "        vertical-align: top;\n",
       "    }\n",
       "\n",
       "    .dataframe thead th {\n",
       "        text-align: right;\n",
       "    }\n",
       "</style>\n",
       "<table border=\"1\" class=\"dataframe\">\n",
       "  <thead>\n",
       "    <tr style=\"text-align: right;\">\n",
       "      <th></th>\n",
       "      <th>item_name</th>\n",
       "      <th>item_id</th>\n",
       "      <th>item_category_id</th>\n",
       "    </tr>\n",
       "  </thead>\n",
       "  <tbody>\n",
       "    <tr>\n",
       "      <th>0</th>\n",
       "      <td>! ВО ВЛАСТИ НАВАЖДЕНИЯ (ПЛАСТ.)         D</td>\n",
       "      <td>0</td>\n",
       "      <td>40</td>\n",
       "    </tr>\n",
       "    <tr>\n",
       "      <th>1</th>\n",
       "      <td>!ABBYY FineReader 12 Professional Edition Full...</td>\n",
       "      <td>1</td>\n",
       "      <td>76</td>\n",
       "    </tr>\n",
       "    <tr>\n",
       "      <th>2</th>\n",
       "      <td>***В ЛУЧАХ СЛАВЫ   (UNV)                    D</td>\n",
       "      <td>2</td>\n",
       "      <td>40</td>\n",
       "    </tr>\n",
       "    <tr>\n",
       "      <th>3</th>\n",
       "      <td>***ГОЛУБАЯ ВОЛНА  (Univ)                      D</td>\n",
       "      <td>3</td>\n",
       "      <td>40</td>\n",
       "    </tr>\n",
       "    <tr>\n",
       "      <th>4</th>\n",
       "      <td>***КОРОБКА (СТЕКЛО)                       D</td>\n",
       "      <td>4</td>\n",
       "      <td>40</td>\n",
       "    </tr>\n",
       "  </tbody>\n",
       "</table>\n",
       "</div>"
      ],
      "text/plain": [
       "                                           item_name  item_id  \\\n",
       "0          ! ВО ВЛАСТИ НАВАЖДЕНИЯ (ПЛАСТ.)         D        0   \n",
       "1  !ABBYY FineReader 12 Professional Edition Full...        1   \n",
       "2      ***В ЛУЧАХ СЛАВЫ   (UNV)                    D        2   \n",
       "3    ***ГОЛУБАЯ ВОЛНА  (Univ)                      D        3   \n",
       "4        ***КОРОБКА (СТЕКЛО)                       D        4   \n",
       "\n",
       "   item_category_id  \n",
       "0                40  \n",
       "1                76  \n",
       "2                40  \n",
       "3                40  \n",
       "4                40  "
      ]
     },
     "execution_count": 15,
     "metadata": {},
     "output_type": "execute_result"
    }
   ],
   "source": [
    "items.head()"
   ]
  },
  {
   "cell_type": "markdown",
   "metadata": {},
   "source": [
    "We found typos with `!`, `*`, `/`, `D`."
   ]
  },
  {
   "cell_type": "markdown",
   "metadata": {},
   "source": [
    "#### Correct `!`"
   ]
  },
  {
   "cell_type": "code",
   "execution_count": 16,
   "metadata": {
    "ExecuteTime": {
     "end_time": "2020-08-26T14:17:26.168528Z",
     "start_time": "2020-08-26T14:17:26.137234Z"
    }
   },
   "outputs": [
    {
     "data": {
      "text/plain": [
       "['! ВО ВЛАСТИ НАВАЖДЕНИЯ (ПЛАСТ.)         D',\n",
       " '!ABBYY FineReader 12 Professional Edition Full [PC, Цифровая версия]']"
      ]
     },
     "execution_count": 16,
     "metadata": {},
     "output_type": "execute_result"
    }
   ],
   "source": [
    "first_character = items.item_name.apply(lambda x: x[0])\n",
    "typos_list = items[first_character == '!'].item_name.to_list()\n",
    "typos_list"
   ]
  },
  {
   "cell_type": "markdown",
   "metadata": {},
   "source": [
    "There was no duplicates, thus just delete redundant `!`."
   ]
  },
  {
   "cell_type": "code",
   "execution_count": 17,
   "metadata": {
    "ExecuteTime": {
     "end_time": "2020-08-26T14:17:26.196044Z",
     "start_time": "2020-08-26T14:17:26.170919Z"
    }
   },
   "outputs": [
    {
     "name": "stderr",
     "output_type": "stream",
     "text": [
      "<ipython-input-17-3585e36035b3>:5: SettingWithCopyWarning: \n",
      "A value is trying to be set on a copy of a slice from a DataFrame\n",
      "\n",
      "See the caveats in the documentation: https://pandas.pydata.org/pandas-docs/stable/user_guide/indexing.html#returning-a-view-versus-a-copy\n",
      "  items.item_name[items.item_name.isin(map_typos.keys())] = items.item_name[\n"
     ]
    }
   ],
   "source": [
    "map_typos = {}\n",
    "for typo in typos_list:\n",
    "    map_typos[typo] = typo.strip('!').strip()\n",
    "    \n",
    "items.item_name[items.item_name.isin(map_typos.keys())] = items.item_name[\n",
    "    items.item_name.isin(map_typos.keys())\n",
    "].map(map_typos)"
   ]
  },
  {
   "cell_type": "markdown",
   "metadata": {},
   "source": [
    "#### Correct `*`"
   ]
  },
  {
   "cell_type": "code",
   "execution_count": 18,
   "metadata": {
    "ExecuteTime": {
     "end_time": "2020-08-26T14:17:26.212594Z",
     "start_time": "2020-08-26T14:17:26.199138Z"
    }
   },
   "outputs": [
    {
     "data": {
      "text/plain": [
       "['***В ЛУЧАХ СЛАВЫ   (UNV)                    D',\n",
       " '***ГОЛУБАЯ ВОЛНА  (Univ)                      D',\n",
       " '***КОРОБКА (СТЕКЛО)                       D',\n",
       " '***НОВЫЕ АМЕРИКАНСКИЕ ГРАФФИТИ  (UNI)             D',\n",
       " '***УДАР ПО ВОРОТАМ (UNI)               D',\n",
       " '***УДАР ПО ВОРОТАМ-2 (UNI)               D',\n",
       " '***ЧАЙ С МУССОЛИНИ                     D',\n",
       " '***ШУГАРЛЭНДСКИЙ ЭКСПРЕСС (UNI)             D',\n",
       " '*ЗА ГРАНЬЮ СМЕРТИ                       D',\n",
       " '*ЛИНИЯ СМЕРТИ                           D',\n",
       " '*МИХЕЙ И ДЖУМАНДЖИ  Сука любовь',\n",
       " '*СПАСАЯ ЭМИЛИ                           D',\n",
       " '*ЧОКНУТЫЙ ПРОФЕССОР /МАГИЯ/             D']"
      ]
     },
     "execution_count": 18,
     "metadata": {},
     "output_type": "execute_result"
    }
   ],
   "source": [
    "typos_list = items[first_character == '*'].item_name.to_list()\n",
    "typos_list"
   ]
  },
  {
   "cell_type": "markdown",
   "metadata": {},
   "source": [
    "There was duplicate problem with `*МИХЕЙ И ДЖУМАНДЖИ  Сука любовь`. In all other cases we should just remove `*`."
   ]
  },
  {
   "cell_type": "code",
   "execution_count": 19,
   "metadata": {
    "ExecuteTime": {
     "end_time": "2020-08-26T14:17:26.236926Z",
     "start_time": "2020-08-26T14:17:26.215780Z"
    }
   },
   "outputs": [
    {
     "name": "stderr",
     "output_type": "stream",
     "text": [
      "<ipython-input-19-3fa1c6e4f692>:6: SettingWithCopyWarning: \n",
      "A value is trying to be set on a copy of a slice from a DataFrame\n",
      "\n",
      "See the caveats in the documentation: https://pandas.pydata.org/pandas-docs/stable/user_guide/indexing.html#returning-a-view-versus-a-copy\n",
      "  items.item_name[items.item_name.isin(map_typos.keys())] = items.item_name[\n"
     ]
    }
   ],
   "source": [
    "map_typos = {}\n",
    "for typo in typos_list:\n",
    "    if typo[:3] != '*МИ':\n",
    "        map_typos[typo] = typo.strip('*').strip()\n",
    "    \n",
    "items.item_name[items.item_name.isin(map_typos.keys())] = items.item_name[\n",
    "    items.item_name.isin(map_typos.keys())\n",
    "].map(map_typos)"
   ]
  },
  {
   "cell_type": "markdown",
   "metadata": {
    "ExecuteTime": {
     "end_time": "2020-08-25T08:56:04.212137Z",
     "start_time": "2020-08-25T08:56:04.205594Z"
    }
   },
   "source": [
    "Case with duplicate we should process separately. Check how many records with both typo and corrected."
   ]
  },
  {
   "cell_type": "code",
   "execution_count": 20,
   "metadata": {
    "ExecuteTime": {
     "end_time": "2020-08-26T14:17:26.278225Z",
     "start_time": "2020-08-26T14:17:26.239555Z"
    }
   },
   "outputs": [
    {
     "data": {
      "text/html": [
       "<div>\n",
       "<style scoped>\n",
       "    .dataframe tbody tr th:only-of-type {\n",
       "        vertical-align: middle;\n",
       "    }\n",
       "\n",
       "    .dataframe tbody tr th {\n",
       "        vertical-align: top;\n",
       "    }\n",
       "\n",
       "    .dataframe thead th {\n",
       "        text-align: right;\n",
       "    }\n",
       "</style>\n",
       "<table border=\"1\" class=\"dataframe\">\n",
       "  <thead>\n",
       "    <tr style=\"text-align: right;\">\n",
       "      <th></th>\n",
       "      <th>item_name</th>\n",
       "      <th>item_id</th>\n",
       "      <th>item_category_id</th>\n",
       "    </tr>\n",
       "  </thead>\n",
       "  <tbody>\n",
       "    <tr>\n",
       "      <th>12</th>\n",
       "      <td>*МИХЕЙ И ДЖУМАНДЖИ  Сука любовь</td>\n",
       "      <td>12</td>\n",
       "      <td>55</td>\n",
       "    </tr>\n",
       "    <tr>\n",
       "      <th>14690</th>\n",
       "      <td>МИХЕЙ И ДЖУМАНДЖИ  Сука любовь</td>\n",
       "      <td>14690</td>\n",
       "      <td>55</td>\n",
       "    </tr>\n",
       "    <tr>\n",
       "      <th>14691</th>\n",
       "      <td>МИХЕЙ И ДЖУМАНДЖИ  Сука любовь  LP</td>\n",
       "      <td>14691</td>\n",
       "      <td>58</td>\n",
       "    </tr>\n",
       "  </tbody>\n",
       "</table>\n",
       "</div>"
      ],
      "text/plain": [
       "                                item_name  item_id  item_category_id\n",
       "12        *МИХЕЙ И ДЖУМАНДЖИ  Сука любовь       12                55\n",
       "14690      МИХЕЙ И ДЖУМАНДЖИ  Сука любовь    14690                55\n",
       "14691  МИХЕЙ И ДЖУМАНДЖИ  Сука любовь  LP    14691                58"
      ]
     },
     "execution_count": 20,
     "metadata": {},
     "output_type": "execute_result"
    }
   ],
   "source": [
    "items[items.item_name.str.contains('МИХЕЙ')]"
   ]
  },
  {
   "cell_type": "code",
   "execution_count": 21,
   "metadata": {
    "ExecuteTime": {
     "end_time": "2020-08-26T14:17:26.286593Z",
     "start_time": "2020-08-26T14:17:26.280912Z"
    }
   },
   "outputs": [],
   "source": [
    "map_typos = {12: 14690}"
   ]
  },
  {
   "cell_type": "code",
   "execution_count": 22,
   "metadata": {
    "ExecuteTime": {
     "end_time": "2020-08-26T14:17:26.324633Z",
     "start_time": "2020-08-26T14:17:26.291584Z"
    }
   },
   "outputs": [
    {
     "name": "stdout",
     "output_type": "stream",
     "text": [
      "Typos records with id=12 in train: 1\n",
      "Corrected records wit id=14690 in train: 427\n"
     ]
    }
   ],
   "source": [
    "for from_id, to_id in map_typos.items():\n",
    "    print(f'Typos records with id={from_id} in train: '\n",
    "          f'{sales_train.item_id.isin([from_id]).sum()}')\n",
    "    print(f'Corrected records wit id={to_id} in train: '\n",
    "          f'{sales_train.item_id.isin([to_id]).sum()}')"
   ]
  },
  {
   "cell_type": "code",
   "execution_count": 23,
   "metadata": {
    "ExecuteTime": {
     "end_time": "2020-08-26T14:17:26.361223Z",
     "start_time": "2020-08-26T14:17:26.339173Z"
    }
   },
   "outputs": [
    {
     "name": "stdout",
     "output_type": "stream",
     "text": [
      "Typos records with id=12 in test: 0\n",
      "Corrected records wit id=14690 in test: 42\n"
     ]
    }
   ],
   "source": [
    "for from_id, to_id in map_typos.items():\n",
    "    print(f'Typos records with id={from_id} in test: '\n",
    "          f'{test.item_id.isin([from_id]).sum()}')\n",
    "    print(f'Corrected records wit id={to_id} in test: '\n",
    "          f'{test.item_id.isin([to_id]).sum()}')"
   ]
  },
  {
   "cell_type": "markdown",
   "metadata": {},
   "source": [
    "We can see, that we can make mapping without problems."
   ]
  },
  {
   "cell_type": "code",
   "execution_count": 24,
   "metadata": {
    "ExecuteTime": {
     "end_time": "2020-08-26T14:17:26.619562Z",
     "start_time": "2020-08-26T14:17:26.372360Z"
    }
   },
   "outputs": [],
   "source": [
    "sales_train.item_id[sales_train.item_id.isin(map_typos.keys())] = sales_train.item_id[\n",
    "    sales_train.item_id.isin(map_typos.keys())\n",
    "].map(map_typos)"
   ]
  },
  {
   "cell_type": "code",
   "execution_count": 25,
   "metadata": {
    "ExecuteTime": {
     "end_time": "2020-08-26T14:17:26.644745Z",
     "start_time": "2020-08-26T14:17:26.621863Z"
    }
   },
   "outputs": [
    {
     "name": "stdout",
     "output_type": "stream",
     "text": [
      "Typos records with id=12 in train: 0\n",
      "Corrected records wit id=14690 in train: 428\n"
     ]
    }
   ],
   "source": [
    "for from_id, to_id in map_typos.items():\n",
    "    print(f'Typos records with id={from_id} in train: '\n",
    "          f'{sales_train.item_id.isin([from_id]).sum()}')\n",
    "    print(f'Corrected records wit id={to_id} in train: '\n",
    "          f'{sales_train.item_id.isin([to_id]).sum()}')"
   ]
  },
  {
   "cell_type": "markdown",
   "metadata": {},
   "source": [
    "#### Correct `/`"
   ]
  },
  {
   "cell_type": "code",
   "execution_count": 26,
   "metadata": {
    "ExecuteTime": {
     "end_time": "2020-08-26T14:17:26.665394Z",
     "start_time": "2020-08-26T14:17:26.647611Z"
    }
   },
   "outputs": [
    {
     "data": {
      "text/plain": [
       "['//АДРЕНАЛИН: ОДИН ПРОТИВ ВСЕХ (Регион)',\n",
       " '//МОНГОЛ С.Бодров (Регион)',\n",
       " '//НЕ ОСТАВЛЯЮЩИЙ СЛЕДА (Регион)',\n",
       " '/БОМБА ДЛЯ НЕВЕСТЫ /2DVD/               D',\n",
       " '/ЗОЛОТАЯ КОЛЛЕКЦИЯ м/ф-72',\n",
       " '/ОДНАЖДЫ В КИТАЕ-2',\n",
       " '/ПОСЛЕДНИЙ ШАНС',\n",
       " '/ПРОКЛЯТЬЕ ЭЛЬ ЧАРРО',\n",
       " '/СЕВЕР И ЮГ /Ч.2/',\n",
       " '/СМЕРТЕЛЬНЫЙ РАСКЛАД',\n",
       " '/ТЫ  - ТРУП',\n",
       " '/УМНОЖАЮЩИЙ ПЕЧАЛЬ т.2 (сер.3-4)']"
      ]
     },
     "execution_count": 26,
     "metadata": {},
     "output_type": "execute_result"
    }
   ],
   "source": [
    "typos_list = items[first_character == '/'].item_name.to_list()\n",
    "typos_list"
   ]
  },
  {
   "cell_type": "markdown",
   "metadata": {},
   "source": [
    "There was no duplicates problem."
   ]
  },
  {
   "cell_type": "code",
   "execution_count": 27,
   "metadata": {
    "ExecuteTime": {
     "end_time": "2020-08-26T14:17:26.686993Z",
     "start_time": "2020-08-26T14:17:26.667644Z"
    }
   },
   "outputs": [
    {
     "name": "stderr",
     "output_type": "stream",
     "text": [
      "<ipython-input-27-57fb3087080e>:5: SettingWithCopyWarning: \n",
      "A value is trying to be set on a copy of a slice from a DataFrame\n",
      "\n",
      "See the caveats in the documentation: https://pandas.pydata.org/pandas-docs/stable/user_guide/indexing.html#returning-a-view-versus-a-copy\n",
      "  items.item_name[items.item_name.isin(map_typos.keys())] = items.item_name[\n"
     ]
    }
   ],
   "source": [
    "map_typos = {}\n",
    "for typo in typos_list:\n",
    "    map_typos[typo] = typo.strip('/')\n",
    "    \n",
    "items.item_name[items.item_name.isin(map_typos.keys())] = items.item_name[\n",
    "    items.item_name.isin(map_typos.keys())\n",
    "].map(map_typos)"
   ]
  },
  {
   "cell_type": "markdown",
   "metadata": {},
   "source": [
    "#### Correct `D`"
   ]
  },
  {
   "cell_type": "code",
   "execution_count": 28,
   "metadata": {
    "ExecuteTime": {
     "end_time": "2020-08-26T14:17:26.715889Z",
     "start_time": "2020-08-26T14:17:26.689174Z"
    }
   },
   "outputs": [
    {
     "data": {
      "text/plain": [
       "['ВО ВЛАСТИ НАВАЖДЕНИЯ (ПЛАСТ.)         D',\n",
       " 'В ЛУЧАХ СЛАВЫ   (UNV)                    D',\n",
       " 'ГОЛУБАЯ ВОЛНА  (Univ)                      D',\n",
       " 'КОРОБКА (СТЕКЛО)                       D',\n",
       " 'НОВЫЕ АМЕРИКАНСКИЕ ГРАФФИТИ  (UNI)             D',\n",
       " 'УДАР ПО ВОРОТАМ (UNI)               D',\n",
       " 'УДАР ПО ВОРОТАМ-2 (UNI)               D',\n",
       " 'ЧАЙ С МУССОЛИНИ                     D',\n",
       " 'ШУГАРЛЭНДСКИЙ ЭКСПРЕСС (UNI)             D',\n",
       " 'ЗА ГРАНЬЮ СМЕРТИ                       D',\n",
       " 'ЛИНИЯ СМЕРТИ                           D',\n",
       " 'СПАСАЯ ЭМИЛИ                           D',\n",
       " 'ЧОКНУТЫЙ ПРОФЕССОР /МАГИЯ/             D',\n",
       " 'БОМБА ДЛЯ НЕВЕСТЫ /2DVD/               D']"
      ]
     },
     "execution_count": 28,
     "metadata": {},
     "output_type": "execute_result"
    }
   ],
   "source": [
    "typos_list = items[items.item_name.str.endswith('    D')].item_name.to_list()\n",
    "typos_list"
   ]
  },
  {
   "cell_type": "markdown",
   "metadata": {},
   "source": [
    "There was no duplicates problem (it was already processed cases)."
   ]
  },
  {
   "cell_type": "code",
   "execution_count": 29,
   "metadata": {
    "ExecuteTime": {
     "end_time": "2020-08-26T14:17:26.741072Z",
     "start_time": "2020-08-26T14:17:26.720212Z"
    }
   },
   "outputs": [
    {
     "name": "stderr",
     "output_type": "stream",
     "text": [
      "<ipython-input-29-e0db57958d99>:5: SettingWithCopyWarning: \n",
      "A value is trying to be set on a copy of a slice from a DataFrame\n",
      "\n",
      "See the caveats in the documentation: https://pandas.pydata.org/pandas-docs/stable/user_guide/indexing.html#returning-a-view-versus-a-copy\n",
      "  items.item_name[items.item_name.isin(map_typos.keys())] = items.item_name[\n"
     ]
    }
   ],
   "source": [
    "map_typos = {}\n",
    "for typo in typos_list:\n",
    "    map_typos[typo] = typo.strip('    D')\n",
    "    \n",
    "items.item_name[items.item_name.isin(map_typos.keys())] = items.item_name[\n",
    "    items.item_name.isin(map_typos.keys())\n",
    "].map(map_typos)"
   ]
  },
  {
   "cell_type": "markdown",
   "metadata": {},
   "source": [
    "### Sales"
   ]
  },
  {
   "cell_type": "code",
   "execution_count": 30,
   "metadata": {
    "ExecuteTime": {
     "end_time": "2020-08-26T14:17:26.765563Z",
     "start_time": "2020-08-26T14:17:26.744076Z"
    }
   },
   "outputs": [
    {
     "data": {
      "text/html": [
       "<div>\n",
       "<style scoped>\n",
       "    .dataframe tbody tr th:only-of-type {\n",
       "        vertical-align: middle;\n",
       "    }\n",
       "\n",
       "    .dataframe tbody tr th {\n",
       "        vertical-align: top;\n",
       "    }\n",
       "\n",
       "    .dataframe thead th {\n",
       "        text-align: right;\n",
       "    }\n",
       "</style>\n",
       "<table border=\"1\" class=\"dataframe\">\n",
       "  <thead>\n",
       "    <tr style=\"text-align: right;\">\n",
       "      <th></th>\n",
       "      <th>date</th>\n",
       "      <th>date_block_num</th>\n",
       "      <th>shop_id</th>\n",
       "      <th>item_id</th>\n",
       "      <th>item_price</th>\n",
       "      <th>item_cnt_day</th>\n",
       "    </tr>\n",
       "  </thead>\n",
       "  <tbody>\n",
       "    <tr>\n",
       "      <th>0</th>\n",
       "      <td>02.01.2013</td>\n",
       "      <td>0</td>\n",
       "      <td>59</td>\n",
       "      <td>22154</td>\n",
       "      <td>999.00</td>\n",
       "      <td>1.0</td>\n",
       "    </tr>\n",
       "    <tr>\n",
       "      <th>1</th>\n",
       "      <td>03.01.2013</td>\n",
       "      <td>0</td>\n",
       "      <td>25</td>\n",
       "      <td>2552</td>\n",
       "      <td>899.00</td>\n",
       "      <td>1.0</td>\n",
       "    </tr>\n",
       "    <tr>\n",
       "      <th>2</th>\n",
       "      <td>05.01.2013</td>\n",
       "      <td>0</td>\n",
       "      <td>25</td>\n",
       "      <td>2552</td>\n",
       "      <td>899.00</td>\n",
       "      <td>-1.0</td>\n",
       "    </tr>\n",
       "    <tr>\n",
       "      <th>3</th>\n",
       "      <td>06.01.2013</td>\n",
       "      <td>0</td>\n",
       "      <td>25</td>\n",
       "      <td>2554</td>\n",
       "      <td>1709.05</td>\n",
       "      <td>1.0</td>\n",
       "    </tr>\n",
       "    <tr>\n",
       "      <th>4</th>\n",
       "      <td>15.01.2013</td>\n",
       "      <td>0</td>\n",
       "      <td>25</td>\n",
       "      <td>2555</td>\n",
       "      <td>1099.00</td>\n",
       "      <td>1.0</td>\n",
       "    </tr>\n",
       "  </tbody>\n",
       "</table>\n",
       "</div>"
      ],
      "text/plain": [
       "         date  date_block_num  shop_id  item_id  item_price  item_cnt_day\n",
       "0  02.01.2013               0       59    22154      999.00           1.0\n",
       "1  03.01.2013               0       25     2552      899.00           1.0\n",
       "2  05.01.2013               0       25     2552      899.00          -1.0\n",
       "3  06.01.2013               0       25     2554     1709.05           1.0\n",
       "4  15.01.2013               0       25     2555     1099.00           1.0"
      ]
     },
     "execution_count": 30,
     "metadata": {},
     "output_type": "execute_result"
    }
   ],
   "source": [
    "sales_train.head()"
   ]
  },
  {
   "cell_type": "markdown",
   "metadata": {},
   "source": [
    "In EDA we have found entry with negativa price. "
   ]
  },
  {
   "cell_type": "code",
   "execution_count": 31,
   "metadata": {
    "ExecuteTime": {
     "end_time": "2020-08-26T14:17:26.788456Z",
     "start_time": "2020-08-26T14:17:26.768972Z"
    }
   },
   "outputs": [
    {
     "data": {
      "text/html": [
       "<div>\n",
       "<style scoped>\n",
       "    .dataframe tbody tr th:only-of-type {\n",
       "        vertical-align: middle;\n",
       "    }\n",
       "\n",
       "    .dataframe tbody tr th {\n",
       "        vertical-align: top;\n",
       "    }\n",
       "\n",
       "    .dataframe thead th {\n",
       "        text-align: right;\n",
       "    }\n",
       "</style>\n",
       "<table border=\"1\" class=\"dataframe\">\n",
       "  <thead>\n",
       "    <tr style=\"text-align: right;\">\n",
       "      <th></th>\n",
       "      <th>date</th>\n",
       "      <th>date_block_num</th>\n",
       "      <th>shop_id</th>\n",
       "      <th>item_id</th>\n",
       "      <th>item_price</th>\n",
       "      <th>item_cnt_day</th>\n",
       "    </tr>\n",
       "  </thead>\n",
       "  <tbody>\n",
       "    <tr>\n",
       "      <th>484683</th>\n",
       "      <td>15.05.2013</td>\n",
       "      <td>4</td>\n",
       "      <td>32</td>\n",
       "      <td>2973</td>\n",
       "      <td>-1.0</td>\n",
       "      <td>1.0</td>\n",
       "    </tr>\n",
       "  </tbody>\n",
       "</table>\n",
       "</div>"
      ],
      "text/plain": [
       "              date  date_block_num  shop_id  item_id  item_price  item_cnt_day\n",
       "484683  15.05.2013               4       32     2973        -1.0           1.0"
      ]
     },
     "execution_count": 31,
     "metadata": {},
     "output_type": "execute_result"
    }
   ],
   "source": [
    "sales_train[sales_train.item_price <= 1e-9]"
   ]
  },
  {
   "cell_type": "markdown",
   "metadata": {},
   "source": [
    "Look at another entries with this `shop_id` and `item_id`."
   ]
  },
  {
   "cell_type": "code",
   "execution_count": 32,
   "metadata": {
    "ExecuteTime": {
     "end_time": "2020-08-26T14:17:26.863698Z",
     "start_time": "2020-08-26T14:17:26.792351Z"
    }
   },
   "outputs": [
    {
     "data": {
      "text/html": [
       "<div>\n",
       "<style scoped>\n",
       "    .dataframe tbody tr th:only-of-type {\n",
       "        vertical-align: middle;\n",
       "    }\n",
       "\n",
       "    .dataframe tbody tr th {\n",
       "        vertical-align: top;\n",
       "    }\n",
       "\n",
       "    .dataframe thead th {\n",
       "        text-align: right;\n",
       "    }\n",
       "</style>\n",
       "<table border=\"1\" class=\"dataframe\">\n",
       "  <thead>\n",
       "    <tr style=\"text-align: right;\">\n",
       "      <th></th>\n",
       "      <th>date</th>\n",
       "      <th>date_block_num</th>\n",
       "      <th>shop_id</th>\n",
       "      <th>item_id</th>\n",
       "      <th>item_price</th>\n",
       "      <th>item_cnt_day</th>\n",
       "    </tr>\n",
       "  </thead>\n",
       "  <tbody>\n",
       "    <tr>\n",
       "      <th>67427</th>\n",
       "      <td>29.01.2013</td>\n",
       "      <td>0</td>\n",
       "      <td>32</td>\n",
       "      <td>2973</td>\n",
       "      <td>2499.0</td>\n",
       "      <td>1.0</td>\n",
       "    </tr>\n",
       "    <tr>\n",
       "      <th>67428</th>\n",
       "      <td>25.01.2013</td>\n",
       "      <td>0</td>\n",
       "      <td>32</td>\n",
       "      <td>2973</td>\n",
       "      <td>2499.0</td>\n",
       "      <td>1.0</td>\n",
       "    </tr>\n",
       "    <tr>\n",
       "      <th>67429</th>\n",
       "      <td>22.01.2013</td>\n",
       "      <td>0</td>\n",
       "      <td>32</td>\n",
       "      <td>2973</td>\n",
       "      <td>2499.0</td>\n",
       "      <td>1.0</td>\n",
       "    </tr>\n",
       "    <tr>\n",
       "      <th>67430</th>\n",
       "      <td>21.01.2013</td>\n",
       "      <td>0</td>\n",
       "      <td>32</td>\n",
       "      <td>2973</td>\n",
       "      <td>2499.0</td>\n",
       "      <td>1.0</td>\n",
       "    </tr>\n",
       "    <tr>\n",
       "      <th>67431</th>\n",
       "      <td>18.01.2013</td>\n",
       "      <td>0</td>\n",
       "      <td>32</td>\n",
       "      <td>2973</td>\n",
       "      <td>2499.0</td>\n",
       "      <td>1.0</td>\n",
       "    </tr>\n",
       "    <tr>\n",
       "      <th>67432</th>\n",
       "      <td>17.01.2013</td>\n",
       "      <td>0</td>\n",
       "      <td>32</td>\n",
       "      <td>2973</td>\n",
       "      <td>2499.0</td>\n",
       "      <td>1.0</td>\n",
       "    </tr>\n",
       "    <tr>\n",
       "      <th>67433</th>\n",
       "      <td>15.01.2013</td>\n",
       "      <td>0</td>\n",
       "      <td>32</td>\n",
       "      <td>2973</td>\n",
       "      <td>2499.0</td>\n",
       "      <td>3.0</td>\n",
       "    </tr>\n",
       "    <tr>\n",
       "      <th>187844</th>\n",
       "      <td>05.02.2013</td>\n",
       "      <td>1</td>\n",
       "      <td>32</td>\n",
       "      <td>2973</td>\n",
       "      <td>2499.0</td>\n",
       "      <td>1.0</td>\n",
       "    </tr>\n",
       "    <tr>\n",
       "      <th>187845</th>\n",
       "      <td>14.02.2013</td>\n",
       "      <td>1</td>\n",
       "      <td>32</td>\n",
       "      <td>2973</td>\n",
       "      <td>2499.0</td>\n",
       "      <td>1.0</td>\n",
       "    </tr>\n",
       "    <tr>\n",
       "      <th>484682</th>\n",
       "      <td>23.05.2013</td>\n",
       "      <td>4</td>\n",
       "      <td>32</td>\n",
       "      <td>2973</td>\n",
       "      <td>1249.0</td>\n",
       "      <td>1.0</td>\n",
       "    </tr>\n",
       "    <tr>\n",
       "      <th>484683</th>\n",
       "      <td>15.05.2013</td>\n",
       "      <td>4</td>\n",
       "      <td>32</td>\n",
       "      <td>2973</td>\n",
       "      <td>-1.0</td>\n",
       "      <td>1.0</td>\n",
       "    </tr>\n",
       "    <tr>\n",
       "      <th>484684</th>\n",
       "      <td>06.05.2013</td>\n",
       "      <td>4</td>\n",
       "      <td>32</td>\n",
       "      <td>2973</td>\n",
       "      <td>2499.0</td>\n",
       "      <td>1.0</td>\n",
       "    </tr>\n",
       "    <tr>\n",
       "      <th>555026</th>\n",
       "      <td>05.06.2013</td>\n",
       "      <td>5</td>\n",
       "      <td>32</td>\n",
       "      <td>2973</td>\n",
       "      <td>1249.5</td>\n",
       "      <td>1.0</td>\n",
       "    </tr>\n",
       "  </tbody>\n",
       "</table>\n",
       "</div>"
      ],
      "text/plain": [
       "              date  date_block_num  shop_id  item_id  item_price  item_cnt_day\n",
       "67427   29.01.2013               0       32     2973      2499.0           1.0\n",
       "67428   25.01.2013               0       32     2973      2499.0           1.0\n",
       "67429   22.01.2013               0       32     2973      2499.0           1.0\n",
       "67430   21.01.2013               0       32     2973      2499.0           1.0\n",
       "67431   18.01.2013               0       32     2973      2499.0           1.0\n",
       "67432   17.01.2013               0       32     2973      2499.0           1.0\n",
       "67433   15.01.2013               0       32     2973      2499.0           3.0\n",
       "187844  05.02.2013               1       32     2973      2499.0           1.0\n",
       "187845  14.02.2013               1       32     2973      2499.0           1.0\n",
       "484682  23.05.2013               4       32     2973      1249.0           1.0\n",
       "484683  15.05.2013               4       32     2973        -1.0           1.0\n",
       "484684  06.05.2013               4       32     2973      2499.0           1.0\n",
       "555026  05.06.2013               5       32     2973      1249.5           1.0"
      ]
     },
     "execution_count": 32,
     "metadata": {},
     "output_type": "execute_result"
    }
   ],
   "source": [
    "sales_train[(sales_train.shop_id == 32) & (sales_train.item_id == 2973)]"
   ]
  },
  {
   "cell_type": "markdown",
   "metadata": {},
   "source": [
    "It obviously look like a mistake. Let's remove this row from the dataset."
   ]
  },
  {
   "cell_type": "code",
   "execution_count": 33,
   "metadata": {
    "ExecuteTime": {
     "end_time": "2020-08-26T14:17:27.035939Z",
     "start_time": "2020-08-26T14:17:26.867258Z"
    }
   },
   "outputs": [],
   "source": [
    "sales_train = sales_train[sales_train.item_price > 0]"
   ]
  },
  {
   "cell_type": "markdown",
   "metadata": {},
   "source": [
    "## Creating new features"
   ]
  },
  {
   "cell_type": "markdown",
   "metadata": {},
   "source": [
    "In this step I will add new features according to `1.0-db-EDA.ipynb`."
   ]
  },
  {
   "cell_type": "markdown",
   "metadata": {},
   "source": [
    "### Item categories"
   ]
  },
  {
   "cell_type": "code",
   "execution_count": 34,
   "metadata": {
    "ExecuteTime": {
     "end_time": "2020-08-26T14:17:27.047592Z",
     "start_time": "2020-08-26T14:17:27.037815Z"
    }
   },
   "outputs": [
    {
     "data": {
      "text/html": [
       "<div>\n",
       "<style scoped>\n",
       "    .dataframe tbody tr th:only-of-type {\n",
       "        vertical-align: middle;\n",
       "    }\n",
       "\n",
       "    .dataframe tbody tr th {\n",
       "        vertical-align: top;\n",
       "    }\n",
       "\n",
       "    .dataframe thead th {\n",
       "        text-align: right;\n",
       "    }\n",
       "</style>\n",
       "<table border=\"1\" class=\"dataframe\">\n",
       "  <thead>\n",
       "    <tr style=\"text-align: right;\">\n",
       "      <th></th>\n",
       "      <th>item_category_name</th>\n",
       "      <th>item_category_id</th>\n",
       "    </tr>\n",
       "  </thead>\n",
       "  <tbody>\n",
       "    <tr>\n",
       "      <th>0</th>\n",
       "      <td>PC - Гарнитуры/Наушники</td>\n",
       "      <td>0</td>\n",
       "    </tr>\n",
       "    <tr>\n",
       "      <th>1</th>\n",
       "      <td>Аксессуары - PS2</td>\n",
       "      <td>1</td>\n",
       "    </tr>\n",
       "    <tr>\n",
       "      <th>2</th>\n",
       "      <td>Аксессуары - PS3</td>\n",
       "      <td>2</td>\n",
       "    </tr>\n",
       "    <tr>\n",
       "      <th>3</th>\n",
       "      <td>Аксессуары - PS4</td>\n",
       "      <td>3</td>\n",
       "    </tr>\n",
       "    <tr>\n",
       "      <th>4</th>\n",
       "      <td>Аксессуары - PSP</td>\n",
       "      <td>4</td>\n",
       "    </tr>\n",
       "  </tbody>\n",
       "</table>\n",
       "</div>"
      ],
      "text/plain": [
       "        item_category_name  item_category_id\n",
       "0  PC - Гарнитуры/Наушники                 0\n",
       "1         Аксессуары - PS2                 1\n",
       "2         Аксессуары - PS3                 2\n",
       "3         Аксессуары - PS4                 3\n",
       "4         Аксессуары - PSP                 4"
      ]
     },
     "execution_count": 34,
     "metadata": {},
     "output_type": "execute_result"
    }
   ],
   "source": [
    "item_categories.head()"
   ]
  },
  {
   "cell_type": "markdown",
   "metadata": {},
   "source": [
    "#### Adding category and subcategory"
   ]
  },
  {
   "cell_type": "markdown",
   "metadata": {},
   "source": [
    "We will split `item_category_name` by delimiter and treat parts as category and subcategory. If there is no delimiter, then it will be both: category and subcategory."
   ]
  },
  {
   "cell_type": "code",
   "execution_count": 35,
   "metadata": {
    "ExecuteTime": {
     "end_time": "2020-08-26T14:17:27.063714Z",
     "start_time": "2020-08-26T14:17:27.050080Z"
    }
   },
   "outputs": [
    {
     "data": {
      "text/plain": [
       "['PC - Гарнитуры/Наушники',\n",
       " 'Аксессуары - PS2',\n",
       " 'Аксессуары - PS3',\n",
       " 'Аксессуары - PS4',\n",
       " 'Аксессуары - PSP',\n",
       " 'Аксессуары - PSVita',\n",
       " 'Аксессуары - XBOX 360',\n",
       " 'Аксессуары - XBOX ONE',\n",
       " 'Билеты (Цифра)',\n",
       " 'Доставка товара']"
      ]
     },
     "execution_count": 35,
     "metadata": {},
     "output_type": "execute_result"
    }
   ],
   "source": [
    "item_categories.item_category_name.to_list()[:10]"
   ]
  },
  {
   "cell_type": "code",
   "execution_count": 36,
   "metadata": {
    "ExecuteTime": {
     "end_time": "2020-08-26T14:17:27.079081Z",
     "start_time": "2020-08-26T14:17:27.066285Z"
    }
   },
   "outputs": [],
   "source": [
    "item_categories = item_categories.rename(columns={'item_category_name': 'item_full_category_name'})\n",
    "item_categories['item_category_name'] = item_categories.item_full_category_name.apply(\n",
    "    lambda x: x.split(' - ')[0]\n",
    ")\n",
    "item_categories['item_subcategory_name'] = item_categories.item_full_category_name.apply(\n",
    "    lambda x: x.split(' - ')[-1]\n",
    ")"
   ]
  },
  {
   "cell_type": "markdown",
   "metadata": {},
   "source": [
    "#### Saving new dataset"
   ]
  },
  {
   "cell_type": "code",
   "execution_count": 37,
   "metadata": {
    "ExecuteTime": {
     "end_time": "2020-08-26T14:17:27.098166Z",
     "start_time": "2020-08-26T14:17:27.081559Z"
    }
   },
   "outputs": [],
   "source": [
    "item_categories.to_csv('../data/processed/item_categories.csv', index=False)"
   ]
  },
  {
   "cell_type": "markdown",
   "metadata": {},
   "source": [
    "### Shops"
   ]
  },
  {
   "cell_type": "code",
   "execution_count": 38,
   "metadata": {
    "ExecuteTime": {
     "end_time": "2020-08-26T14:17:27.112759Z",
     "start_time": "2020-08-26T14:17:27.100533Z"
    }
   },
   "outputs": [
    {
     "data": {
      "text/html": [
       "<div>\n",
       "<style scoped>\n",
       "    .dataframe tbody tr th:only-of-type {\n",
       "        vertical-align: middle;\n",
       "    }\n",
       "\n",
       "    .dataframe tbody tr th {\n",
       "        vertical-align: top;\n",
       "    }\n",
       "\n",
       "    .dataframe thead th {\n",
       "        text-align: right;\n",
       "    }\n",
       "</style>\n",
       "<table border=\"1\" class=\"dataframe\">\n",
       "  <thead>\n",
       "    <tr style=\"text-align: right;\">\n",
       "      <th></th>\n",
       "      <th>shop_name</th>\n",
       "      <th>shop_id</th>\n",
       "    </tr>\n",
       "  </thead>\n",
       "  <tbody>\n",
       "    <tr>\n",
       "      <th>0</th>\n",
       "      <td>!Якутск Орджоникидзе, 56 фран</td>\n",
       "      <td>0</td>\n",
       "    </tr>\n",
       "    <tr>\n",
       "      <th>1</th>\n",
       "      <td>!Якутск ТЦ \"Центральный\" фран</td>\n",
       "      <td>1</td>\n",
       "    </tr>\n",
       "    <tr>\n",
       "      <th>2</th>\n",
       "      <td>Адыгея ТЦ \"Мега\"</td>\n",
       "      <td>2</td>\n",
       "    </tr>\n",
       "    <tr>\n",
       "      <th>3</th>\n",
       "      <td>Балашиха ТРК \"Октябрь-Киномир\"</td>\n",
       "      <td>3</td>\n",
       "    </tr>\n",
       "    <tr>\n",
       "      <th>4</th>\n",
       "      <td>Волжский ТЦ \"Волга Молл\"</td>\n",
       "      <td>4</td>\n",
       "    </tr>\n",
       "  </tbody>\n",
       "</table>\n",
       "</div>"
      ],
      "text/plain": [
       "                        shop_name  shop_id\n",
       "0   !Якутск Орджоникидзе, 56 фран        0\n",
       "1   !Якутск ТЦ \"Центральный\" фран        1\n",
       "2                Адыгея ТЦ \"Мега\"        2\n",
       "3  Балашиха ТРК \"Октябрь-Киномир\"        3\n",
       "4        Волжский ТЦ \"Волга Молл\"        4"
      ]
     },
     "execution_count": 38,
     "metadata": {},
     "output_type": "execute_result"
    }
   ],
   "source": [
    "shops.head()"
   ]
  },
  {
   "cell_type": "markdown",
   "metadata": {},
   "source": [
    "#### Adding city"
   ]
  },
  {
   "cell_type": "code",
   "execution_count": 39,
   "metadata": {
    "ExecuteTime": {
     "end_time": "2020-08-26T14:17:27.121490Z",
     "start_time": "2020-08-26T14:17:27.116713Z"
    }
   },
   "outputs": [],
   "source": [
    "shops['city'] = shops.shop_name.apply(lambda x: x.strip('!').split()[0])"
   ]
  },
  {
   "cell_type": "markdown",
   "metadata": {},
   "source": [
    "Delete city for `Выездная Торговля`.\n",
    "\n",
    "Set city for `Интернет-магазин ЧС`, `Цифровой склад 1С-Онлайн` to `Online`."
   ]
  },
  {
   "cell_type": "code",
   "execution_count": 40,
   "metadata": {
    "ExecuteTime": {
     "end_time": "2020-08-26T14:17:27.143635Z",
     "start_time": "2020-08-26T14:17:27.125618Z"
    }
   },
   "outputs": [
    {
     "name": "stderr",
     "output_type": "stream",
     "text": [
      "<ipython-input-40-e7b125f1051c>:1: SettingWithCopyWarning: \n",
      "A value is trying to be set on a copy of a slice from a DataFrame\n",
      "\n",
      "See the caveats in the documentation: https://pandas.pydata.org/pandas-docs/stable/user_guide/indexing.html#returning-a-view-versus-a-copy\n",
      "  shops.city[shops.shop_name == 'Выездная Торговля'] = None\n",
      "<ipython-input-40-e7b125f1051c>:2: SettingWithCopyWarning: \n",
      "A value is trying to be set on a copy of a slice from a DataFrame\n",
      "\n",
      "See the caveats in the documentation: https://pandas.pydata.org/pandas-docs/stable/user_guide/indexing.html#returning-a-view-versus-a-copy\n",
      "  shops.city[shops.shop_name.isin(['Интернет-магазин ЧС',\n"
     ]
    }
   ],
   "source": [
    "shops.city[shops.shop_name == 'Выездная Торговля'] = None\n",
    "shops.city[shops.shop_name.isin(['Интернет-магазин ЧС', \n",
    "                                 'Цифровой склад 1С-Онлайн'])] = 'Online'"
   ]
  },
  {
   "cell_type": "markdown",
   "metadata": {},
   "source": [
    "Add number of residents in a city."
   ]
  },
  {
   "cell_type": "code",
   "execution_count": 41,
   "metadata": {
    "ExecuteTime": {
     "end_time": "2020-08-26T14:17:27.166231Z",
     "start_time": "2020-08-26T14:17:27.146240Z"
    }
   },
   "outputs": [
    {
     "data": {
      "text/html": [
       "<div>\n",
       "<style scoped>\n",
       "    .dataframe tbody tr th:only-of-type {\n",
       "        vertical-align: middle;\n",
       "    }\n",
       "\n",
       "    .dataframe tbody tr th {\n",
       "        vertical-align: top;\n",
       "    }\n",
       "\n",
       "    .dataframe thead th {\n",
       "        text-align: right;\n",
       "    }\n",
       "</style>\n",
       "<table border=\"1\" class=\"dataframe\">\n",
       "  <thead>\n",
       "    <tr style=\"text-align: right;\">\n",
       "      <th></th>\n",
       "      <th>num_residents</th>\n",
       "    </tr>\n",
       "    <tr>\n",
       "      <th>city</th>\n",
       "      <th></th>\n",
       "    </tr>\n",
       "  </thead>\n",
       "  <tbody>\n",
       "    <tr>\n",
       "      <th>Якутск</th>\n",
       "      <td>322987</td>\n",
       "    </tr>\n",
       "    <tr>\n",
       "      <th>Адыгея</th>\n",
       "      <td>463088</td>\n",
       "    </tr>\n",
       "    <tr>\n",
       "      <th>Балашиха</th>\n",
       "      <td>507366</td>\n",
       "    </tr>\n",
       "    <tr>\n",
       "      <th>Волжский</th>\n",
       "      <td>323906</td>\n",
       "    </tr>\n",
       "    <tr>\n",
       "      <th>Вологда</th>\n",
       "      <td>310302</td>\n",
       "    </tr>\n",
       "  </tbody>\n",
       "</table>\n",
       "</div>"
      ],
      "text/plain": [
       "          num_residents\n",
       "city                   \n",
       "Якутск           322987\n",
       "Адыгея           463088\n",
       "Балашиха         507366\n",
       "Волжский         323906\n",
       "Вологда          310302"
      ]
     },
     "execution_count": 41,
     "metadata": {},
     "output_type": "execute_result"
    }
   ],
   "source": [
    "num_residents = pd.read_csv('../data/external/num_residents.csv', index_col=0)\n",
    "num_residents.head()"
   ]
  },
  {
   "cell_type": "code",
   "execution_count": 42,
   "metadata": {
    "ExecuteTime": {
     "end_time": "2020-08-26T14:17:27.179500Z",
     "start_time": "2020-08-26T14:17:27.169107Z"
    }
   },
   "outputs": [],
   "source": [
    "shops['num_residents'] = shops.city.map(num_residents.num_residents)"
   ]
  },
  {
   "cell_type": "markdown",
   "metadata": {},
   "source": [
    "#### Adding coordinates of a shop"
   ]
  },
  {
   "cell_type": "markdown",
   "metadata": {},
   "source": [
    "To be added."
   ]
  },
  {
   "cell_type": "markdown",
   "metadata": {},
   "source": [
    "#### Saving new dataset"
   ]
  },
  {
   "cell_type": "code",
   "execution_count": 43,
   "metadata": {
    "ExecuteTime": {
     "end_time": "2020-08-26T14:17:27.190737Z",
     "start_time": "2020-08-26T14:17:27.183353Z"
    }
   },
   "outputs": [],
   "source": [
    "shops.to_csv('../data/processed/shops.csv', index=False)"
   ]
  },
  {
   "cell_type": "markdown",
   "metadata": {},
   "source": [
    "### Items"
   ]
  },
  {
   "cell_type": "code",
   "execution_count": 44,
   "metadata": {
    "ExecuteTime": {
     "end_time": "2020-08-26T14:17:27.208258Z",
     "start_time": "2020-08-26T14:17:27.194108Z"
    }
   },
   "outputs": [
    {
     "data": {
      "text/html": [
       "<div>\n",
       "<style scoped>\n",
       "    .dataframe tbody tr th:only-of-type {\n",
       "        vertical-align: middle;\n",
       "    }\n",
       "\n",
       "    .dataframe tbody tr th {\n",
       "        vertical-align: top;\n",
       "    }\n",
       "\n",
       "    .dataframe thead th {\n",
       "        text-align: right;\n",
       "    }\n",
       "</style>\n",
       "<table border=\"1\" class=\"dataframe\">\n",
       "  <thead>\n",
       "    <tr style=\"text-align: right;\">\n",
       "      <th></th>\n",
       "      <th>item_name</th>\n",
       "      <th>item_id</th>\n",
       "      <th>item_category_id</th>\n",
       "    </tr>\n",
       "  </thead>\n",
       "  <tbody>\n",
       "    <tr>\n",
       "      <th>0</th>\n",
       "      <td>ВО ВЛАСТИ НАВАЖДЕНИЯ (ПЛАСТ.)</td>\n",
       "      <td>0</td>\n",
       "      <td>40</td>\n",
       "    </tr>\n",
       "    <tr>\n",
       "      <th>1</th>\n",
       "      <td>ABBYY FineReader 12 Professional Edition Full ...</td>\n",
       "      <td>1</td>\n",
       "      <td>76</td>\n",
       "    </tr>\n",
       "    <tr>\n",
       "      <th>2</th>\n",
       "      <td>В ЛУЧАХ СЛАВЫ   (UNV)</td>\n",
       "      <td>2</td>\n",
       "      <td>40</td>\n",
       "    </tr>\n",
       "    <tr>\n",
       "      <th>3</th>\n",
       "      <td>ГОЛУБАЯ ВОЛНА  (Univ)</td>\n",
       "      <td>3</td>\n",
       "      <td>40</td>\n",
       "    </tr>\n",
       "    <tr>\n",
       "      <th>4</th>\n",
       "      <td>КОРОБКА (СТЕКЛО)</td>\n",
       "      <td>4</td>\n",
       "      <td>40</td>\n",
       "    </tr>\n",
       "  </tbody>\n",
       "</table>\n",
       "</div>"
      ],
      "text/plain": [
       "                                           item_name  item_id  \\\n",
       "0                      ВО ВЛАСТИ НАВАЖДЕНИЯ (ПЛАСТ.)        0   \n",
       "1  ABBYY FineReader 12 Professional Edition Full ...        1   \n",
       "2                              В ЛУЧАХ СЛАВЫ   (UNV)        2   \n",
       "3                              ГОЛУБАЯ ВОЛНА  (Univ)        3   \n",
       "4                                   КОРОБКА (СТЕКЛО)        4   \n",
       "\n",
       "   item_category_id  \n",
       "0                40  \n",
       "1                76  \n",
       "2                40  \n",
       "3                40  \n",
       "4                40  "
      ]
     },
     "execution_count": 44,
     "metadata": {},
     "output_type": "execute_result"
    }
   ],
   "source": [
    "items.head()"
   ]
  },
  {
   "cell_type": "markdown",
   "metadata": {},
   "source": [
    "#### Addint text features"
   ]
  },
  {
   "cell_type": "markdown",
   "metadata": {},
   "source": [
    "To be added in experiments."
   ]
  },
  {
   "cell_type": "markdown",
   "metadata": {},
   "source": [
    "#### Saving new dataset"
   ]
  },
  {
   "cell_type": "code",
   "execution_count": 45,
   "metadata": {
    "ExecuteTime": {
     "end_time": "2020-08-26T14:17:27.300639Z",
     "start_time": "2020-08-26T14:17:27.210753Z"
    }
   },
   "outputs": [],
   "source": [
    "items.to_csv('../data/processed/items.csv', index=False)"
   ]
  },
  {
   "cell_type": "markdown",
   "metadata": {},
   "source": [
    "### Sales"
   ]
  },
  {
   "cell_type": "code",
   "execution_count": 46,
   "metadata": {
    "ExecuteTime": {
     "end_time": "2020-08-26T14:17:27.330460Z",
     "start_time": "2020-08-26T14:17:27.303451Z"
    }
   },
   "outputs": [
    {
     "data": {
      "text/html": [
       "<div>\n",
       "<style scoped>\n",
       "    .dataframe tbody tr th:only-of-type {\n",
       "        vertical-align: middle;\n",
       "    }\n",
       "\n",
       "    .dataframe tbody tr th {\n",
       "        vertical-align: top;\n",
       "    }\n",
       "\n",
       "    .dataframe thead th {\n",
       "        text-align: right;\n",
       "    }\n",
       "</style>\n",
       "<table border=\"1\" class=\"dataframe\">\n",
       "  <thead>\n",
       "    <tr style=\"text-align: right;\">\n",
       "      <th></th>\n",
       "      <th>date</th>\n",
       "      <th>date_block_num</th>\n",
       "      <th>shop_id</th>\n",
       "      <th>item_id</th>\n",
       "      <th>item_price</th>\n",
       "      <th>item_cnt_day</th>\n",
       "    </tr>\n",
       "  </thead>\n",
       "  <tbody>\n",
       "    <tr>\n",
       "      <th>0</th>\n",
       "      <td>02.01.2013</td>\n",
       "      <td>0</td>\n",
       "      <td>59</td>\n",
       "      <td>22154</td>\n",
       "      <td>999.00</td>\n",
       "      <td>1.0</td>\n",
       "    </tr>\n",
       "    <tr>\n",
       "      <th>1</th>\n",
       "      <td>03.01.2013</td>\n",
       "      <td>0</td>\n",
       "      <td>25</td>\n",
       "      <td>2552</td>\n",
       "      <td>899.00</td>\n",
       "      <td>1.0</td>\n",
       "    </tr>\n",
       "    <tr>\n",
       "      <th>2</th>\n",
       "      <td>05.01.2013</td>\n",
       "      <td>0</td>\n",
       "      <td>25</td>\n",
       "      <td>2552</td>\n",
       "      <td>899.00</td>\n",
       "      <td>-1.0</td>\n",
       "    </tr>\n",
       "    <tr>\n",
       "      <th>3</th>\n",
       "      <td>06.01.2013</td>\n",
       "      <td>0</td>\n",
       "      <td>25</td>\n",
       "      <td>2554</td>\n",
       "      <td>1709.05</td>\n",
       "      <td>1.0</td>\n",
       "    </tr>\n",
       "    <tr>\n",
       "      <th>4</th>\n",
       "      <td>15.01.2013</td>\n",
       "      <td>0</td>\n",
       "      <td>25</td>\n",
       "      <td>2555</td>\n",
       "      <td>1099.00</td>\n",
       "      <td>1.0</td>\n",
       "    </tr>\n",
       "  </tbody>\n",
       "</table>\n",
       "</div>"
      ],
      "text/plain": [
       "         date  date_block_num  shop_id  item_id  item_price  item_cnt_day\n",
       "0  02.01.2013               0       59    22154      999.00           1.0\n",
       "1  03.01.2013               0       25     2552      899.00           1.0\n",
       "2  05.01.2013               0       25     2552      899.00          -1.0\n",
       "3  06.01.2013               0       25     2554     1709.05           1.0\n",
       "4  15.01.2013               0       25     2555     1099.00           1.0"
      ]
     },
     "execution_count": 46,
     "metadata": {},
     "output_type": "execute_result"
    }
   ],
   "source": [
    "sales_train.head()"
   ]
  },
  {
   "cell_type": "markdown",
   "metadata": {},
   "source": [
    "#### Adding date features"
   ]
  },
  {
   "cell_type": "markdown",
   "metadata": {},
   "source": [
    "We also will process a part of test dataset here."
   ]
  },
  {
   "cell_type": "code",
   "execution_count": 47,
   "metadata": {
    "ExecuteTime": {
     "end_time": "2020-08-26T14:17:27.844084Z",
     "start_time": "2020-08-26T14:17:27.333983Z"
    }
   },
   "outputs": [],
   "source": [
    "sales_train.date = pd.to_datetime(sales_train.date, format='%d.%m.%Y')\n",
    "test_date = pd.DataFrame({'date': pd.date_range('2015-11-1', '2015-11-30', freq='D')})"
   ]
  },
  {
   "cell_type": "code",
   "execution_count": 48,
   "metadata": {
    "ExecuteTime": {
     "end_time": "2020-08-26T14:17:28.944914Z",
     "start_time": "2020-08-26T14:17:27.846424Z"
    }
   },
   "outputs": [],
   "source": [
    "for df in [sales_train, test_date]:\n",
    "    df['day'] = df.date.dt.day\n",
    "    df['month'] = df.date.dt.month\n",
    "    df['year'] = df.date.dt.year\n",
    "    df['weekday'] = df.date.dt.weekday"
   ]
  },
  {
   "cell_type": "markdown",
   "metadata": {},
   "source": [
    "Add holiday features."
   ]
  },
  {
   "cell_type": "code",
   "execution_count": 49,
   "metadata": {
    "ExecuteTime": {
     "end_time": "2020-08-26T14:17:28.953821Z",
     "start_time": "2020-08-26T14:17:28.946675Z"
    }
   },
   "outputs": [],
   "source": [
    "def days_since_holiday(datetimes):\n",
    "    \"\"\"Assign to each date days since last holiday.\"\"\"\n",
    "    ru_holidays = holidays.Russia()\n",
    "    days_since_holiday = np.zeros(datetimes.shape[0])\n",
    "    for i, current_datetime in tqdm(enumerate(datetimes.values), \n",
    "                                    total=datetimes.size):\n",
    "        last_holiday = current_datetime\n",
    "        while not last_holiday in ru_holidays:\n",
    "            last_holiday = last_holiday - datetime.timedelta(days=1)\n",
    "        days_since_holiday[i] = (current_datetime - last_holiday).days\n",
    "    return days_since_holiday"
   ]
  },
  {
   "cell_type": "code",
   "execution_count": 50,
   "metadata": {
    "ExecuteTime": {
     "end_time": "2020-08-26T14:22:01.990571Z",
     "start_time": "2020-08-26T14:17:28.957359Z"
    }
   },
   "outputs": [
    {
     "data": {
      "application/vnd.jupyter.widget-view+json": {
       "model_id": "f664ba05a5da4d3c891755fe8bc1f818",
       "version_major": 2,
       "version_minor": 0
      },
      "text/plain": [
       "HBox(children=(FloatProgress(value=0.0, max=2932097.0), HTML(value='')))"
      ]
     },
     "metadata": {},
     "output_type": "display_data"
    },
    {
     "name": "stdout",
     "output_type": "stream",
     "text": [
      "\n"
     ]
    },
    {
     "data": {
      "application/vnd.jupyter.widget-view+json": {
       "model_id": "0f2681e763a14eccbbdb07ee7af153eb",
       "version_major": 2,
       "version_minor": 0
      },
      "text/plain": [
       "HBox(children=(FloatProgress(value=0.0, max=30.0), HTML(value='')))"
      ]
     },
     "metadata": {},
     "output_type": "display_data"
    },
    {
     "name": "stdout",
     "output_type": "stream",
     "text": [
      "\n"
     ]
    }
   ],
   "source": [
    "russian_holidays = holidays.Russia()\n",
    "\n",
    "for df in [sales_train, test_date]:\n",
    "    df['is_holiday'] = df.date.apply(\n",
    "        lambda x: x in russian_holidays\n",
    "    )\n",
    "    df['not_working_day'] = ((df['weekday'].isin([5, 6])) \n",
    "                             | (df['is_holiday']))\n",
    "    df['days_since_holiday'] = days_since_holiday(\n",
    "        df.date.dt.date\n",
    "    ).astype(int)"
   ]
  },
  {
   "cell_type": "markdown",
   "metadata": {},
   "source": [
    "#### Adding price features"
   ]
  },
  {
   "cell_type": "markdown",
   "metadata": {},
   "source": [
    "We will device price on \"even\" and \"non even\" parts. Even part is a price, derived from first digit, non-even -- residual."
   ]
  },
  {
   "cell_type": "code",
   "execution_count": 51,
   "metadata": {
    "ExecuteTime": {
     "end_time": "2020-08-26T14:22:04.662535Z",
     "start_time": "2020-08-26T14:22:01.992442Z"
    }
   },
   "outputs": [],
   "source": [
    "sales_train['item_non_even_price'] = sales_train.item_price.apply(\n",
    "    lambda x: float(str(x)[1:])\n",
    ")\n",
    "sales_train['item_even_price'] = (sales_train.item_price \n",
    "                                  - sales_train['item_non_even_price'])\n",
    "sales_train['fraction_non_even_price'] = (\n",
    "    sales_train['item_non_even_price'] / sales_train['item_price']\n",
    ")"
   ]
  },
  {
   "cell_type": "markdown",
   "metadata": {},
   "source": [
    "#### Saving new dataset"
   ]
  },
  {
   "cell_type": "code",
   "execution_count": 52,
   "metadata": {
    "ExecuteTime": {
     "end_time": "2020-08-26T14:22:57.090607Z",
     "start_time": "2020-08-26T14:22:04.667249Z"
    }
   },
   "outputs": [],
   "source": [
    "sales_train.to_csv('../data/processed/sales_train.csv', index=False)"
   ]
  },
  {
   "cell_type": "markdown",
   "metadata": {},
   "source": [
    "## Aggregating"
   ]
  },
  {
   "cell_type": "markdown",
   "metadata": {},
   "source": [
    "Aggregate all features in one table by months. Just copy creating grid from `Programming_assignment_week_4`."
   ]
  },
  {
   "cell_type": "code",
   "execution_count": 53,
   "metadata": {
    "ExecuteTime": {
     "end_time": "2020-08-26T14:22:57.106178Z",
     "start_time": "2020-08-26T14:22:57.094531Z"
    }
   },
   "outputs": [],
   "source": [
    "def downcast_dtypes(df):\n",
    "    '''\n",
    "    Changes column types in the dataframe: \n",
    "        `float64` type to `float32`\n",
    "        `int64`   type to `int32`\n",
    "    '''\n",
    "    \n",
    "    # Select columns to downcast\n",
    "    float_cols = [c for c in df if df[c].dtype == 'float64']\n",
    "    int_cols =   [c for c in df if df[c].dtype == 'int64']\n",
    "    \n",
    "    # Downcast\n",
    "    df[float_cols] = df[float_cols].astype(np.float32)\n",
    "    df[int_cols]   = df[int_cols].astype(np.int32)\n",
    "    \n",
    "    return df"
   ]
  },
  {
   "cell_type": "code",
   "execution_count": 54,
   "metadata": {
    "ExecuteTime": {
     "end_time": "2020-08-26T14:23:13.638818Z",
     "start_time": "2020-08-26T14:22:57.109357Z"
    }
   },
   "outputs": [],
   "source": [
    "# Create \"grid\" with columns\n",
    "index_cols = ['shop_id', 'item_id', 'date_block_num']\n",
    "\n",
    "# For every month we create a grid from all shops/items combinations from that month\n",
    "grid = [] \n",
    "for block_num in sales_train['date_block_num'].unique():\n",
    "    cur_shops = sales_train.loc[\n",
    "        sales_train['date_block_num'] == block_num, 'shop_id'\n",
    "    ].unique()\n",
    "    cur_items = sales_train.loc[\n",
    "        sales_train['date_block_num'] == block_num, 'item_id'\n",
    "    ].unique()\n",
    "    grid.append(\n",
    "        np.array(\n",
    "            list(product(*[cur_shops, cur_items, [block_num]])), \n",
    "            dtype='int32'\n",
    "        )\n",
    "    )\n",
    "\n",
    "# Turn the grid into a dataframe\n",
    "grid = pd.DataFrame(np.vstack(grid), columns = index_cols,dtype=np.int32)"
   ]
  },
  {
   "cell_type": "code",
   "execution_count": 55,
   "metadata": {
    "ExecuteTime": {
     "end_time": "2020-08-26T14:23:35.820036Z",
     "start_time": "2020-08-26T14:23:13.642361Z"
    }
   },
   "outputs": [],
   "source": [
    "# Groupby data to get shop-item-month aggregates\n",
    "gb = sales_train.groupby(index_cols, as_index=False).agg(\n",
    "    {'item_cnt_day': 'sum'})\n",
    "gb = gb.rename(columns={'item_cnt_day': 'target'})\n",
    "# Join it to the grid\n",
    "train = pd.merge(grid, gb, how='left', on=index_cols).fillna(0)\n",
    "\n",
    "# Same as above but with shop-month aggregates\n",
    "gb = sales_train.groupby(['shop_id', 'date_block_num'], as_index=False).agg(\n",
    "    {'item_cnt_day': 'sum'}\n",
    ")\n",
    "gb = gb.rename(columns={'item_cnt_day': 'target_shop'})\n",
    "train = pd.merge(train, gb, how='left', on=['shop_id', 'date_block_num']).fillna(0)\n",
    "\n",
    "# Same as above but with item-month aggregates\n",
    "gb = sales_train.groupby(['item_id', 'date_block_num'], as_index=False).agg(\n",
    "    {'item_cnt_day': 'sum'}\n",
    ")\n",
    "gb = gb.rename(columns={'item_cnt_day': 'target_item'})\n",
    "train = pd.merge(train, gb, how='left', on=['item_id', 'date_block_num']).fillna(0)\n",
    "\n",
    "# Add num of num of days in a month, month, year\n",
    "gb = sales_train.groupby('date_block_num', as_index=False).agg(\n",
    "    {'date': 'nunique', 'month': 'first', 'year': 'first'}\n",
    ")\n",
    "gb = gb.rename(columns={'date': 'num_days'})\n",
    "train = pd.merge(train, gb, how='left', on='date_block_num').fillna(0)\n",
    "\n",
    "# Add num of holidays, num of not working days, longest sequence without holidays\n",
    "gb = sales_train[['date', 'date_block_num', 'is_holiday', 'not_working_day', \n",
    "                  'days_since_holiday']].drop_duplicates().groupby(\n",
    "    'date_block_num', as_index=True\n",
    ").agg(\n",
    "    {'is_holiday': 'sum', 'not_working_day': 'sum', \n",
    "     'days_since_holiday': 'max'}\n",
    ")\n",
    "gb = gb.rename(columns={\n",
    "    'is_holiday': 'num_holidays', \n",
    "    'not_working_day': 'num_not_working_days', \n",
    "    'days_since_holiday': 'longest_sequence_without_holidays'\n",
    "})\n",
    "train = pd.merge(train, gb, how='left', on='date_block_num').fillna(0)\n",
    "\n",
    "# Add mean/std of price in a month (we will then make it lug feature)\n",
    "gb = sales_train.groupby(['item_id', 'date_block_num'], as_index=False).agg(\n",
    "    {'item_price': ['mean', 'std', 'nunique'], \n",
    "     'fraction_non_even_price': ['mean']}\n",
    ")\n",
    "gb.columns = [\n",
    "    'item_id', 'date_block_num', \n",
    "    'price_mean', 'price_std', 'price_nunique', 'fraction_non_even_mean',\n",
    "]\n",
    "train = pd.merge(train, gb, how='left', on=['item_id', 'date_block_num']).fillna(0)\n",
    "\n",
    "train = downcast_dtypes(train)\n",
    "del grid, gb\n",
    "gc.collect();"
   ]
  },
  {
   "cell_type": "markdown",
   "metadata": {},
   "source": [
    "Before calculating lag features let's join train and test dataset. We add redundant `target, target_shop`, `target_item`, `price_xxx`, `fraction_xxx` just to process united dataset."
   ]
  },
  {
   "cell_type": "code",
   "execution_count": 56,
   "metadata": {
    "ExecuteTime": {
     "end_time": "2020-08-26T14:23:35.840171Z",
     "start_time": "2020-08-26T14:23:35.822343Z"
    }
   },
   "outputs": [],
   "source": [
    "test = test.drop(columns=['ID'])\n",
    "test['date_block_num'] = train.date_block_num.max() + 1"
   ]
  },
  {
   "cell_type": "code",
   "execution_count": 57,
   "metadata": {
    "ExecuteTime": {
     "end_time": "2020-08-26T14:23:35.857016Z",
     "start_time": "2020-08-26T14:23:35.842901Z"
    }
   },
   "outputs": [],
   "source": [
    "test['num_days'] = test_date.shape[0]\n",
    "test['month'] = test_date.month[0]\n",
    "test['year'] = test_date.year[0]\n",
    "test['num_holidays'] = test_date.is_holiday.sum()\n",
    "test['num_not_working_days'] = test_date.not_working_day.sum()\n",
    "test['longest_sequence_without_holidays'] = test_date.days_since_holiday.max()"
   ]
  },
  {
   "cell_type": "code",
   "execution_count": 58,
   "metadata": {
    "ExecuteTime": {
     "end_time": "2020-08-26T14:23:35.873959Z",
     "start_time": "2020-08-26T14:23:35.858907Z"
    }
   },
   "outputs": [],
   "source": [
    "for column in train.columns.difference(test.columns):\n",
    "    test[column] = 0"
   ]
  },
  {
   "cell_type": "code",
   "execution_count": 59,
   "metadata": {
    "ExecuteTime": {
     "end_time": "2020-08-26T14:23:37.325178Z",
     "start_time": "2020-08-26T14:23:35.876202Z"
    }
   },
   "outputs": [
    {
     "data": {
      "text/plain": [
       "80"
      ]
     },
     "execution_count": 59,
     "metadata": {},
     "output_type": "execute_result"
    }
   ],
   "source": [
    "all_data = pd.concat([train, test])\n",
    "del train\n",
    "gc.collect()"
   ]
  },
  {
   "cell_type": "code",
   "execution_count": 60,
   "metadata": {
    "ExecuteTime": {
     "end_time": "2020-08-26T14:23:37.333268Z",
     "start_time": "2020-08-26T14:23:37.328324Z"
    }
   },
   "outputs": [],
   "source": [
    "# all_data.to_csv('../data/interim/all_data.csv', index=False)"
   ]
  },
  {
   "cell_type": "markdown",
   "metadata": {},
   "source": [
    "After creating a grid, we can calculate lag features. We will use lags from [1, 2, 3, 4, 6] months ago."
   ]
  },
  {
   "cell_type": "code",
   "execution_count": 61,
   "metadata": {
    "ExecuteTime": {
     "end_time": "2020-08-26T14:23:37.339175Z",
     "start_time": "2020-08-26T14:23:37.335832Z"
    }
   },
   "outputs": [],
   "source": [
    "#all_data = pd.read_csv('../data/interim/all_data.csv')\n",
    "#index_cols = ['shop_id', 'item_id', 'date_block_num']\n",
    "#gc.collect()"
   ]
  },
  {
   "cell_type": "code",
   "execution_count": 62,
   "metadata": {
    "ExecuteTime": {
     "end_time": "2020-08-26T14:27:18.769183Z",
     "start_time": "2020-08-26T14:23:37.341133Z"
    }
   },
   "outputs": [
    {
     "data": {
      "application/vnd.jupyter.widget-view+json": {
       "model_id": "176f9f99822049ba8291edd2521cc876",
       "version_major": 2,
       "version_minor": 0
      },
      "text/plain": [
       "HBox(children=(FloatProgress(value=0.0, max=5.0), HTML(value='')))"
      ]
     },
     "metadata": {},
     "output_type": "display_data"
    },
    {
     "name": "stdout",
     "output_type": "stream",
     "text": [
      "\n"
     ]
    }
   ],
   "source": [
    "# List of columns that we will use to create lags\n",
    "cols_to_rename = list(all_data.columns.difference(\n",
    "    index_cols \n",
    "    + ['month', 'year', 'num_days', 'num_holidays', 'num_not_working_days', \n",
    "       'longest_sequence_without_holidays']\n",
    "))\n",
    "\n",
    "shift_range = [1, 2, 3, 4, 6]\n",
    "\n",
    "for month_shift in tqdm(shift_range):\n",
    "    train_shift = all_data[index_cols + cols_to_rename].copy()\n",
    "    \n",
    "    train_shift['date_block_num'] = train_shift['date_block_num'] + month_shift\n",
    "    \n",
    "    foo = lambda x: '{}_lag_{}'.format(x, month_shift) if x in cols_to_rename else x\n",
    "    train_shift = train_shift.rename(columns=foo)\n",
    "\n",
    "    all_data = pd.merge(all_data, train_shift, on=index_cols, how='left').fillna(0)\n",
    "    \n",
    "    del train_shift\n",
    "    gc.collect()"
   ]
  },
  {
   "cell_type": "markdown",
   "metadata": {},
   "source": [
    "Remove earliest months with no info about lags, remove target columns."
   ]
  },
  {
   "cell_type": "code",
   "execution_count": 63,
   "metadata": {
    "ExecuteTime": {
     "end_time": "2020-08-26T14:27:42.984575Z",
     "start_time": "2020-08-26T14:27:18.773802Z"
    }
   },
   "outputs": [],
   "source": [
    "# Don't use old data from year 2013\n",
    "all_data = all_data[all_data['date_block_num'] >= 12] \n",
    "\n",
    "# List of all lagged features\n",
    "fit_cols = [\n",
    "    col for col in all_data.columns \n",
    "    if col.split('_')[-1] in [str(item) for item in shift_range]\n",
    "] \n",
    "# We will drop these at fitting stage\n",
    "to_drop_cols = (\n",
    "    list(\n",
    "        set(list(all_data.columns)) \n",
    "        - (set(fit_cols)|set(all_data.columns.difference(cols_to_rename)))\n",
    "    ) \n",
    "    + ['date_block_num']\n",
    ")\n",
    "all_data = all_data.drop(to_drop_cols, axis=1)"
   ]
  },
  {
   "cell_type": "markdown",
   "metadata": {},
   "source": [
    "Join items with items_categories."
   ]
  },
  {
   "cell_type": "code",
   "execution_count": 64,
   "metadata": {
    "ExecuteTime": {
     "end_time": "2020-08-26T14:27:43.021152Z",
     "start_time": "2020-08-26T14:27:42.994267Z"
    }
   },
   "outputs": [
    {
     "data": {
      "text/html": [
       "<div>\n",
       "<style scoped>\n",
       "    .dataframe tbody tr th:only-of-type {\n",
       "        vertical-align: middle;\n",
       "    }\n",
       "\n",
       "    .dataframe tbody tr th {\n",
       "        vertical-align: top;\n",
       "    }\n",
       "\n",
       "    .dataframe thead th {\n",
       "        text-align: right;\n",
       "    }\n",
       "</style>\n",
       "<table border=\"1\" class=\"dataframe\">\n",
       "  <thead>\n",
       "    <tr style=\"text-align: right;\">\n",
       "      <th></th>\n",
       "      <th>item_name</th>\n",
       "      <th>item_id</th>\n",
       "      <th>item_category_id</th>\n",
       "    </tr>\n",
       "  </thead>\n",
       "  <tbody>\n",
       "    <tr>\n",
       "      <th>0</th>\n",
       "      <td>ВО ВЛАСТИ НАВАЖДЕНИЯ (ПЛАСТ.)</td>\n",
       "      <td>0</td>\n",
       "      <td>40</td>\n",
       "    </tr>\n",
       "    <tr>\n",
       "      <th>1</th>\n",
       "      <td>ABBYY FineReader 12 Professional Edition Full ...</td>\n",
       "      <td>1</td>\n",
       "      <td>76</td>\n",
       "    </tr>\n",
       "    <tr>\n",
       "      <th>2</th>\n",
       "      <td>В ЛУЧАХ СЛАВЫ   (UNV)</td>\n",
       "      <td>2</td>\n",
       "      <td>40</td>\n",
       "    </tr>\n",
       "    <tr>\n",
       "      <th>3</th>\n",
       "      <td>ГОЛУБАЯ ВОЛНА  (Univ)</td>\n",
       "      <td>3</td>\n",
       "      <td>40</td>\n",
       "    </tr>\n",
       "    <tr>\n",
       "      <th>4</th>\n",
       "      <td>КОРОБКА (СТЕКЛО)</td>\n",
       "      <td>4</td>\n",
       "      <td>40</td>\n",
       "    </tr>\n",
       "  </tbody>\n",
       "</table>\n",
       "</div>"
      ],
      "text/plain": [
       "                                           item_name  item_id  \\\n",
       "0                      ВО ВЛАСТИ НАВАЖДЕНИЯ (ПЛАСТ.)        0   \n",
       "1  ABBYY FineReader 12 Professional Edition Full ...        1   \n",
       "2                              В ЛУЧАХ СЛАВЫ   (UNV)        2   \n",
       "3                              ГОЛУБАЯ ВОЛНА  (Univ)        3   \n",
       "4                                   КОРОБКА (СТЕКЛО)        4   \n",
       "\n",
       "   item_category_id  \n",
       "0                40  \n",
       "1                76  \n",
       "2                40  \n",
       "3                40  \n",
       "4                40  "
      ]
     },
     "execution_count": 64,
     "metadata": {},
     "output_type": "execute_result"
    }
   ],
   "source": [
    "items.head()"
   ]
  },
  {
   "cell_type": "code",
   "execution_count": 65,
   "metadata": {
    "ExecuteTime": {
     "end_time": "2020-08-26T14:27:43.040762Z",
     "start_time": "2020-08-26T14:27:43.024051Z"
    }
   },
   "outputs": [
    {
     "data": {
      "text/html": [
       "<div>\n",
       "<style scoped>\n",
       "    .dataframe tbody tr th:only-of-type {\n",
       "        vertical-align: middle;\n",
       "    }\n",
       "\n",
       "    .dataframe tbody tr th {\n",
       "        vertical-align: top;\n",
       "    }\n",
       "\n",
       "    .dataframe thead th {\n",
       "        text-align: right;\n",
       "    }\n",
       "</style>\n",
       "<table border=\"1\" class=\"dataframe\">\n",
       "  <thead>\n",
       "    <tr style=\"text-align: right;\">\n",
       "      <th></th>\n",
       "      <th>item_full_category_name</th>\n",
       "      <th>item_category_id</th>\n",
       "      <th>item_category_name</th>\n",
       "      <th>item_subcategory_name</th>\n",
       "    </tr>\n",
       "  </thead>\n",
       "  <tbody>\n",
       "    <tr>\n",
       "      <th>0</th>\n",
       "      <td>PC - Гарнитуры/Наушники</td>\n",
       "      <td>0</td>\n",
       "      <td>PC</td>\n",
       "      <td>Гарнитуры/Наушники</td>\n",
       "    </tr>\n",
       "    <tr>\n",
       "      <th>1</th>\n",
       "      <td>Аксессуары - PS2</td>\n",
       "      <td>1</td>\n",
       "      <td>Аксессуары</td>\n",
       "      <td>PS2</td>\n",
       "    </tr>\n",
       "    <tr>\n",
       "      <th>2</th>\n",
       "      <td>Аксессуары - PS3</td>\n",
       "      <td>2</td>\n",
       "      <td>Аксессуары</td>\n",
       "      <td>PS3</td>\n",
       "    </tr>\n",
       "    <tr>\n",
       "      <th>3</th>\n",
       "      <td>Аксессуары - PS4</td>\n",
       "      <td>3</td>\n",
       "      <td>Аксессуары</td>\n",
       "      <td>PS4</td>\n",
       "    </tr>\n",
       "    <tr>\n",
       "      <th>4</th>\n",
       "      <td>Аксессуары - PSP</td>\n",
       "      <td>4</td>\n",
       "      <td>Аксессуары</td>\n",
       "      <td>PSP</td>\n",
       "    </tr>\n",
       "  </tbody>\n",
       "</table>\n",
       "</div>"
      ],
      "text/plain": [
       "   item_full_category_name  item_category_id item_category_name  \\\n",
       "0  PC - Гарнитуры/Наушники                 0                 PC   \n",
       "1         Аксессуары - PS2                 1         Аксессуары   \n",
       "2         Аксессуары - PS3                 2         Аксессуары   \n",
       "3         Аксессуары - PS4                 3         Аксессуары   \n",
       "4         Аксессуары - PSP                 4         Аксессуары   \n",
       "\n",
       "  item_subcategory_name  \n",
       "0    Гарнитуры/Наушники  \n",
       "1                   PS2  \n",
       "2                   PS3  \n",
       "3                   PS4  \n",
       "4                   PSP  "
      ]
     },
     "execution_count": 65,
     "metadata": {},
     "output_type": "execute_result"
    }
   ],
   "source": [
    "item_categories.head()"
   ]
  },
  {
   "cell_type": "code",
   "execution_count": 66,
   "metadata": {
    "ExecuteTime": {
     "end_time": "2020-08-26T14:27:43.103196Z",
     "start_time": "2020-08-26T14:27:43.042849Z"
    }
   },
   "outputs": [],
   "source": [
    "items_with_categories = pd.merge(\n",
    "    items, \n",
    "    item_categories, \n",
    "    how='left', on='item_category_id'\n",
    ").drop(columns=['item_category_id'])"
   ]
  },
  {
   "cell_type": "markdown",
   "metadata": {},
   "source": [
    "Join train with items."
   ]
  },
  {
   "cell_type": "code",
   "execution_count": 67,
   "metadata": {
    "ExecuteTime": {
     "end_time": "2020-08-26T14:27:53.311845Z",
     "start_time": "2020-08-26T14:27:43.105983Z"
    }
   },
   "outputs": [],
   "source": [
    "all_data = pd.merge(\n",
    "    all_data,\n",
    "    items_with_categories,\n",
    "    how='left', on='item_id'\n",
    ").drop(columns=['item_id'])\n",
    "gc.collect();"
   ]
  },
  {
   "cell_type": "markdown",
   "metadata": {},
   "source": [
    "Join train with shops."
   ]
  },
  {
   "cell_type": "code",
   "execution_count": 68,
   "metadata": {
    "ExecuteTime": {
     "end_time": "2020-08-26T14:28:05.023075Z",
     "start_time": "2020-08-26T14:27:53.320005Z"
    }
   },
   "outputs": [],
   "source": [
    "all_data = pd.merge(\n",
    "    all_data,\n",
    "    shops,\n",
    "    how='left', on='shop_id'\n",
    ").drop(columns=['shop_id'])\n",
    "gc.collect();"
   ]
  },
  {
   "cell_type": "markdown",
   "metadata": {},
   "source": [
    "#### Saving new datasets"
   ]
  },
  {
   "cell_type": "code",
   "execution_count": 69,
   "metadata": {
    "ExecuteTime": {
     "end_time": "2020-08-26T14:28:05.047521Z",
     "start_time": "2020-08-26T14:28:05.025192Z"
    }
   },
   "outputs": [
    {
     "name": "stdout",
     "output_type": "stream",
     "text": [
      "<class 'pandas.core.frame.DataFrame'>\n",
      "Int64Index: 6546558 entries, 0 to 6546557\n",
      "Data columns (total 48 columns):\n",
      " #   Column                             Dtype  \n",
      "---  ------                             -----  \n",
      " 0   num_days                           int64  \n",
      " 1   month                              int64  \n",
      " 2   year                               int64  \n",
      " 3   num_holidays                       int64  \n",
      " 4   num_not_working_days               int64  \n",
      " 5   longest_sequence_without_holidays  int64  \n",
      " 6   fraction_non_even_mean_lag_1       float64\n",
      " 7   price_mean_lag_1                   float64\n",
      " 8   price_nunique_lag_1                float64\n",
      " 9   price_std_lag_1                    float64\n",
      " 10  target_lag_1                       float64\n",
      " 11  target_item_lag_1                  float64\n",
      " 12  target_shop_lag_1                  float64\n",
      " 13  fraction_non_even_mean_lag_2       float64\n",
      " 14  price_mean_lag_2                   float64\n",
      " 15  price_nunique_lag_2                float64\n",
      " 16  price_std_lag_2                    float64\n",
      " 17  target_lag_2                       float64\n",
      " 18  target_item_lag_2                  float64\n",
      " 19  target_shop_lag_2                  float64\n",
      " 20  fraction_non_even_mean_lag_3       float64\n",
      " 21  price_mean_lag_3                   float64\n",
      " 22  price_nunique_lag_3                float64\n",
      " 23  price_std_lag_3                    float64\n",
      " 24  target_lag_3                       float64\n",
      " 25  target_item_lag_3                  float64\n",
      " 26  target_shop_lag_3                  float64\n",
      " 27  fraction_non_even_mean_lag_4       float64\n",
      " 28  price_mean_lag_4                   float64\n",
      " 29  price_nunique_lag_4                float64\n",
      " 30  price_std_lag_4                    float64\n",
      " 31  target_lag_4                       float64\n",
      " 32  target_item_lag_4                  float64\n",
      " 33  target_shop_lag_4                  float64\n",
      " 34  fraction_non_even_mean_lag_6       float64\n",
      " 35  price_mean_lag_6                   float64\n",
      " 36  price_nunique_lag_6                float64\n",
      " 37  price_std_lag_6                    float64\n",
      " 38  target_lag_6                       float64\n",
      " 39  target_item_lag_6                  float64\n",
      " 40  target_shop_lag_6                  float64\n",
      " 41  item_name                          object \n",
      " 42  item_full_category_name            object \n",
      " 43  item_category_name                 object \n",
      " 44  item_subcategory_name              object \n",
      " 45  shop_name                          object \n",
      " 46  city                               object \n",
      " 47  num_residents                      float64\n",
      "dtypes: float64(36), int64(6), object(6)\n",
      "memory usage: 2.4+ GB\n"
     ]
    }
   ],
   "source": [
    "all_data.info()"
   ]
  },
  {
   "cell_type": "code",
   "execution_count": 73,
   "metadata": {
    "ExecuteTime": {
     "end_time": "2020-08-26T14:35:49.368613Z",
     "start_time": "2020-08-26T14:31:38.351536Z"
    }
   },
   "outputs": [],
   "source": [
    "all_data = downcast_dtypes(all_data)\n",
    "train = all_data.iloc[:-test.shape[0]]\n",
    "test = all_data.iloc[-test.shape[0]]\n",
    "train.to_csv('../data/processed/train.csv', index=False)\n",
    "test.to_csv('../data/processed/test.csv', index=False)"
   ]
  }
 ],
 "metadata": {
  "kernelspec": {
   "display_name": "Python 3",
   "language": "python",
   "name": "python3"
  },
  "language_info": {
   "codemirror_mode": {
    "name": "ipython",
    "version": 3
   },
   "file_extension": ".py",
   "mimetype": "text/x-python",
   "name": "python",
   "nbconvert_exporter": "python",
   "pygments_lexer": "ipython3",
   "version": "3.8.5"
  }
 },
 "nbformat": 4,
 "nbformat_minor": 4
}
