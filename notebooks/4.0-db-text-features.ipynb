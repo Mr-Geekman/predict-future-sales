{
 "cells": [
  {
   "cell_type": "code",
   "execution_count": 1,
   "metadata": {
    "ExecuteTime": {
     "end_time": "2020-09-04T08:40:00.740552Z",
     "start_time": "2020-09-04T08:39:58.523702Z"
    }
   },
   "outputs": [],
   "source": [
    "import sys\n",
    "import re\n",
    "\n",
    "sys.path.append('..')\n",
    "\n",
    "import numpy as np\n",
    "import pandas as pd\n",
    "import scipy.stats as sps\n",
    "\n",
    "import matplotlib.pyplot as plt\n",
    "import seaborn as sns\n",
    "from tqdm.notebook import tqdm\n",
    "\n",
    "from sklearn.feature_extraction.text import TfidfVectorizer\n",
    "from sklearn.decomposition import TruncatedSVD\n",
    "\n",
    "from nltk.stem.snowball import SnowballStemmer\n",
    "\n",
    "from src.utils.downcasting import downcast_dtypes\n",
    "\n",
    "sns.set(font_scale=1.2)\n",
    "%matplotlib inline"
   ]
  },
  {
   "cell_type": "code",
   "execution_count": 2,
   "metadata": {
    "ExecuteTime": {
     "end_time": "2020-09-04T08:40:00.747615Z",
     "start_time": "2020-09-04T08:40:00.743114Z"
    }
   },
   "outputs": [],
   "source": [
    "# I have found, that this setting is the best\n",
    "DO_CLEANING = True\n",
    "DO_STEMMING = True\n",
    "RES_DIM = 20\n",
    "\n",
    "random_state = 42"
   ]
  },
  {
   "cell_type": "code",
   "execution_count": 3,
   "metadata": {
    "ExecuteTime": {
     "end_time": "2020-09-04T08:40:00.758406Z",
     "start_time": "2020-09-04T08:40:00.752741Z"
    }
   },
   "outputs": [],
   "source": [
    "def correct_name(x):\n",
    "    \"\"\"Corrects string.\n",
    "    \n",
    "    :param x: string\n",
    "    \n",
    "    :returns: corrected string\n",
    "    \"\"\"\n",
    "    x = x.lower() # all letters lower case\n",
    "    x = x.partition('[')[0] # partition by square brackets\n",
    "    x = x.partition('(')[0] # partition by curly brackets\n",
    "    x = re.sub('[^A-Za-z0-9А-Яа-я]+', ' ', x) # remove special characters\n",
    "    x = x.replace('  ', ' ') # replace double spaces with single spaces\n",
    "    x = x.strip() # remove leading and trailing white space\n",
    "    return x"
   ]
  },
  {
   "cell_type": "markdown",
   "metadata": {},
   "source": [
    "# Text features"
   ]
  },
  {
   "cell_type": "markdown",
   "metadata": {},
   "source": [
    "As we found in 1.0-db-EDA.ipynb we can produce text features for items. It will be helpful, because there are a lot of items and we want to treat similar similarly."
   ]
  },
  {
   "cell_type": "markdown",
   "metadata": {},
   "source": [
    "## TFiDF + TruncatedSVD"
   ]
  },
  {
   "cell_type": "markdown",
   "metadata": {},
   "source": [
    "First approach is to use TFiDF + TruncatedSVD. We will use $50$ features and in the future we will be able to select just part of them.\n",
    "\n",
    "It will be difficult to find optimum hyperparameters because operation of learning TFiDF separately and merging it with train seems too complicated.\n",
    "\n",
    "May be will be better to find reasonable parameters for some model by hand (for example for random forest) and fix them."
   ]
  },
  {
   "cell_type": "code",
   "execution_count": 4,
   "metadata": {
    "ExecuteTime": {
     "end_time": "2020-09-04T08:40:00.820594Z",
     "start_time": "2020-09-04T08:40:00.762778Z"
    }
   },
   "outputs": [
    {
     "data": {
      "text/html": [
       "<div>\n",
       "<style scoped>\n",
       "    .dataframe tbody tr th:only-of-type {\n",
       "        vertical-align: middle;\n",
       "    }\n",
       "\n",
       "    .dataframe tbody tr th {\n",
       "        vertical-align: top;\n",
       "    }\n",
       "\n",
       "    .dataframe thead th {\n",
       "        text-align: right;\n",
       "    }\n",
       "</style>\n",
       "<table border=\"1\" class=\"dataframe\">\n",
       "  <thead>\n",
       "    <tr style=\"text-align: right;\">\n",
       "      <th></th>\n",
       "      <th>item_name</th>\n",
       "      <th>item_id</th>\n",
       "      <th>item_category_id</th>\n",
       "      <th>item_in_test</th>\n",
       "    </tr>\n",
       "  </thead>\n",
       "  <tbody>\n",
       "    <tr>\n",
       "      <th>0</th>\n",
       "      <td>ВО ВЛАСТИ НАВАЖДЕНИЯ (ПЛАСТ.)</td>\n",
       "      <td>0</td>\n",
       "      <td>40</td>\n",
       "      <td>False</td>\n",
       "    </tr>\n",
       "    <tr>\n",
       "      <th>1</th>\n",
       "      <td>ABBYY FineReader 12 Professional Edition Full ...</td>\n",
       "      <td>1</td>\n",
       "      <td>76</td>\n",
       "      <td>False</td>\n",
       "    </tr>\n",
       "    <tr>\n",
       "      <th>2</th>\n",
       "      <td>В ЛУЧАХ СЛАВЫ   (UNV)</td>\n",
       "      <td>2</td>\n",
       "      <td>40</td>\n",
       "      <td>False</td>\n",
       "    </tr>\n",
       "    <tr>\n",
       "      <th>3</th>\n",
       "      <td>ГОЛУБАЯ ВОЛНА  (Univ)</td>\n",
       "      <td>3</td>\n",
       "      <td>40</td>\n",
       "      <td>False</td>\n",
       "    </tr>\n",
       "    <tr>\n",
       "      <th>4</th>\n",
       "      <td>КОРОБКА (СТЕКЛО)</td>\n",
       "      <td>4</td>\n",
       "      <td>40</td>\n",
       "      <td>False</td>\n",
       "    </tr>\n",
       "  </tbody>\n",
       "</table>\n",
       "</div>"
      ],
      "text/plain": [
       "                                           item_name  item_id  \\\n",
       "0                      ВО ВЛАСТИ НАВАЖДЕНИЯ (ПЛАСТ.)        0   \n",
       "1  ABBYY FineReader 12 Professional Edition Full ...        1   \n",
       "2                              В ЛУЧАХ СЛАВЫ   (UNV)        2   \n",
       "3                              ГОЛУБАЯ ВОЛНА  (Univ)        3   \n",
       "4                                   КОРОБКА (СТЕКЛО)        4   \n",
       "\n",
       "   item_category_id  item_in_test  \n",
       "0                40         False  \n",
       "1                76         False  \n",
       "2                40         False  \n",
       "3                40         False  \n",
       "4                40         False  "
      ]
     },
     "execution_count": 4,
     "metadata": {},
     "output_type": "execute_result"
    }
   ],
   "source": [
    "items = pd.read_csv('../data/processed/items.csv')\n",
    "items.head()"
   ]
  },
  {
   "cell_type": "code",
   "execution_count": 5,
   "metadata": {
    "ExecuteTime": {
     "end_time": "2020-09-04T08:40:00.828191Z",
     "start_time": "2020-09-04T08:40:00.823381Z"
    }
   },
   "outputs": [],
   "source": [
    "names = items.item_name"
   ]
  },
  {
   "cell_type": "markdown",
   "metadata": {},
   "source": [
    "Let's clean item names."
   ]
  },
  {
   "cell_type": "code",
   "execution_count": 6,
   "metadata": {
    "ExecuteTime": {
     "end_time": "2020-09-04T08:40:01.042751Z",
     "start_time": "2020-09-04T08:40:00.831465Z"
    }
   },
   "outputs": [],
   "source": [
    "if DO_CLEANING:\n",
    "    names = names.apply(correct_name)"
   ]
  },
  {
   "cell_type": "markdown",
   "metadata": {},
   "source": [
    "Let's stem item names."
   ]
  },
  {
   "cell_type": "code",
   "execution_count": 7,
   "metadata": {
    "ExecuteTime": {
     "end_time": "2020-09-04T08:40:02.303106Z",
     "start_time": "2020-09-04T08:40:01.044788Z"
    }
   },
   "outputs": [],
   "source": [
    "if DO_STEMMING:\n",
    "    stemmer = SnowballStemmer('russian')\n",
    "    names = names.apply(lambda x: stemmer.stem(x))"
   ]
  },
  {
   "cell_type": "markdown",
   "metadata": {},
   "source": [
    "Make TFiDF transformation."
   ]
  },
  {
   "cell_type": "code",
   "execution_count": 8,
   "metadata": {
    "ExecuteTime": {
     "end_time": "2020-09-04T08:40:02.753090Z",
     "start_time": "2020-09-04T08:40:02.307166Z"
    }
   },
   "outputs": [],
   "source": [
    "transformer = TfidfVectorizer(ngram_range=(1, 1), max_df=1.0)\n",
    "tfidf_data = transformer.fit_transform(names)"
   ]
  },
  {
   "cell_type": "code",
   "execution_count": 9,
   "metadata": {
    "ExecuteTime": {
     "end_time": "2020-09-04T08:40:02.765205Z",
     "start_time": "2020-09-04T08:40:02.756321Z"
    }
   },
   "outputs": [
    {
     "data": {
      "text/plain": [
       "(22170, 18601)"
      ]
     },
     "execution_count": 9,
     "metadata": {},
     "output_type": "execute_result"
    }
   ],
   "source": [
    "tfidf_data.shape"
   ]
  },
  {
   "cell_type": "code",
   "execution_count": 10,
   "metadata": {
    "ExecuteTime": {
     "end_time": "2020-09-04T08:40:03.502692Z",
     "start_time": "2020-09-04T08:40:02.768993Z"
    }
   },
   "outputs": [],
   "source": [
    "svd = TruncatedSVD(n_components=RES_DIM, random_state=random_state)\n",
    "truncated_data = svd.fit_transform(tfidf_data)"
   ]
  },
  {
   "cell_type": "code",
   "execution_count": 11,
   "metadata": {
    "ExecuteTime": {
     "end_time": "2020-09-04T08:40:03.521516Z",
     "start_time": "2020-09-04T08:40:03.505813Z"
    }
   },
   "outputs": [
    {
     "data": {
      "text/plain": [
       "(22170, 20)"
      ]
     },
     "execution_count": 11,
     "metadata": {},
     "output_type": "execute_result"
    }
   ],
   "source": [
    "truncated_data.shape"
   ]
  },
  {
   "cell_type": "markdown",
   "metadata": {},
   "source": [
    "Save result on disc."
   ]
  },
  {
   "cell_type": "code",
   "execution_count": 12,
   "metadata": {
    "ExecuteTime": {
     "end_time": "2020-09-04T08:40:03.682898Z",
     "start_time": "2020-09-04T08:40:03.532506Z"
    }
   },
   "outputs": [],
   "source": [
    "columns = [f'item_name_tfidf_truncated-svd_{i+1}' for i in range(RES_DIM)]\n",
    "df = pd.DataFrame(truncated_data, columns=columns)\n",
    "\n",
    "df = downcast_dtypes(df, to_bytes=16)\n",
    "df.to_hdf('../data/processed/text/tfidf_truncated-svd.h5', 'table')"
   ]
  }
 ],
 "metadata": {
  "kernelspec": {
   "display_name": "Python 3",
   "language": "python",
   "name": "python3"
  },
  "language_info": {
   "codemirror_mode": {
    "name": "ipython",
    "version": 3
   },
   "file_extension": ".py",
   "mimetype": "text/x-python",
   "name": "python",
   "nbconvert_exporter": "python",
   "pygments_lexer": "ipython3",
   "version": "3.8.5"
  }
 },
 "nbformat": 4,
 "nbformat_minor": 4
}
